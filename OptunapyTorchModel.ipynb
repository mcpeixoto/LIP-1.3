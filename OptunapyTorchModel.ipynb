{
 "metadata": {
  "language_info": {
   "codemirror_mode": {
    "name": "ipython",
    "version": 3
   },
   "file_extension": ".py",
   "mimetype": "text/x-python",
   "name": "python",
   "nbconvert_exporter": "python",
   "pygments_lexer": "ipython3",
   "version": "3.8.5-final"
  },
  "orig_nbformat": 2,
  "kernelspec": {
   "name": "python3",
   "display_name": "Python 3.8.5 64-bit",
   "metadata": {
    "interpreter": {
     "hash": "916dbcbb3f70747c44a77c7bcd40155683ae19c65e1c03b4aa3499c5328201f1"
    }
   }
  }
 },
 "nbformat": 4,
 "nbformat_minor": 2,
 "cells": [
  {
   "cell_type": "code",
   "execution_count": 1,
   "metadata": {},
   "outputs": [],
   "source": [
    "import torch\n",
    "import torch.nn as nn\n",
    "import torch.nn.functional as F \n",
    "import torch.optim as optim \n",
    "import torchvision \n",
    "import torchvision.transforms as transforms\n",
    "from datetime import datetime\n",
    "import pandas as pd\n",
    "import optuna\n",
    "import os\n",
    "from os.path import join\n",
    "import timeit\n",
    "from tqdm import tqdm\n",
    "import numpy as np\n",
    "from sklearn.metrics import confusion_matrix\n",
    "from torch.utils.tensorboard import SummaryWriter\n",
    "torch.cuda.is_available() \n",
    "from sklearn.metrics import roc_auc_score\n",
    "#from tqdm.notebook import tqdm\n",
    "from tqdm.auto import tqdm\n",
    "import time"
   ]
  },
  {
   "cell_type": "code",
   "execution_count": 2,
   "metadata": {},
   "outputs": [],
   "source": [
    "device = torch.device('cuda' if torch.cuda.is_available() else 'cpu')"
   ]
  },
  {
   "cell_type": "code",
   "execution_count": 3,
   "metadata": {},
   "outputs": [],
   "source": [
    "def bce(y_preds, y_true, epsilon=np.finfo(np.float32).eps):\n",
    "    return - (1-y_true)* torch.log(1-y_preds+epsilon) - y_true * torch.log(y_preds+epsilon)"
   ]
  },
  {
   "cell_type": "code",
   "execution_count": 4,
   "metadata": {},
   "outputs": [],
   "source": [
    "def data_loader(data=\"train\", directory=join(os.getcwd(),'NormalizedData.h5')):\n",
    "    # Data types = train, validate, test\n",
    "    print(\"[+] Loading Data..\")\n",
    "    tic=timeit.default_timer()\n",
    "\n",
    "    df = pd.read_hdf(\n",
    "                    directory,\n",
    "                    key=data,\n",
    "                    )\n",
    "    \n",
    "    toc=timeit.default_timer()\n",
    "    print(\"[+] Data Loaded in\", int(toc-tic), \"seconds!\")\n",
    "\n",
    "    return df"
   ]
  },
  {
   "cell_type": "code",
   "execution_count": 5,
   "metadata": {},
   "outputs": [],
   "source": [
    "def create_batch(df, size=200, debug=False):\n",
    "    # Data types = train, validate, test\n",
    "\n",
    "    if debug:\n",
    "        print(\"[Info] Len(data) =\", len(df))\n",
    "        print(\"[Info] Len(data) / Batch Size =\", len(df)/size)\n",
    "\n",
    "    # Select the data size\n",
    "    # TODO: Estou a perder um pouco de dados no final\n",
    "    batch = iter([\n",
    "            # Big tuple\n",
    "            (\n",
    "                i+1, # Batch number\n",
    "                torch.tensor(df.iloc[x:x+size].drop(columns=['index','Name', 'Weights', 'Label']).values, dtype=torch.float32).to(device), # Features Removi MissingET_Eta porque tava cheio de NaA (???)\n",
    "                torch.tensor(df['Label'].iloc[x:x+size].values, dtype=torch.float32).to(device),\n",
    "\n",
    "                torch.tensor((\n",
    "                np.where(\n",
    "                    df['Label'].iloc[x:x+size] == 0,\n",
    "                    df['Weights'].iloc[x:x+size] / df['Weights'].iloc[x:x+size][df['Label'].iloc[x:x+size] == 0].sum(),\n",
    "                    df['Weights'].iloc[x:x+size] / df['Weights'].iloc[x:x+size][df['Label'].iloc[x:x+size] == 1].sum(),\n",
    "                )\n",
    "                * df['Label'].iloc[x:x+size].shape[0]\n",
    "                / 2\n",
    "                ), dtype=torch.float32).to(device),\n",
    "                df.iloc[x:x+size]['Name'] #Nome\n",
    "        ) \n",
    "        \n",
    "         for i,x in enumerate(list(filter(lambda x: (x%(size+1) == 0) , [x for x in range(len(df))])))]) # Para size = 100 -> 0, 101, 202, 303, .. , 909, 1010, 1111\n",
    "\n",
    "\n",
    "    del df\n",
    "\n",
    "    return batch"
   ]
  },
  {
   "cell_type": "code",
   "execution_count": 6,
   "metadata": {},
   "outputs": [],
   "source": [
    "def get_num_correct(preds, labels):\n",
    "    return preds.argmax(dim=1).eq(labels).sum().item()"
   ]
  },
  {
   "source": [
    "# Training Loop"
   ],
   "cell_type": "markdown",
   "metadata": {}
  },
  {
   "source": [
    "## Optuna Stuff"
   ],
   "cell_type": "markdown",
   "metadata": {}
  },
  {
   "cell_type": "code",
   "execution_count": 7,
   "metadata": {},
   "outputs": [
    {
     "output_type": "stream",
     "name": "stdout",
     "text": [
      "[+] Loading Data..\n",
      "[+] Data Loaded in 7 seconds!\n",
      "[+] Loading Data..\n",
      "[+] Data Loaded in 8 seconds!\n"
     ]
    }
   ],
   "source": [
    "## LOAD DATA\n",
    "\n",
    "#batch_number, features, target, weights, name \n",
    "train_data = data_loader(data='train')\n",
    "val_data = data_loader(data='validate')\n",
    "\n",
    "# Validation data prep.\n",
    "_, val_features, val_label, val_weights, _ = next(create_batch(val_data, size=val_data.shape[0]))\n",
    "del val_data\n"
   ]
  },
  {
   "cell_type": "code",
   "execution_count": 8,
   "metadata": {},
   "outputs": [],
   "source": [
    "def define_model(trial):\n",
    "    # We optimize the number of layers, hidden units and dropout ratio in each layer.\n",
    "    n_layers = trial.suggest_int(\"n_layers\", 1, 50)\n",
    "    layers = []\n",
    "\n",
    "    in_features = 68\n",
    "    for i in range(n_layers):\n",
    "        out_features = trial.suggest_int(\"n_units_l{}\".format(i), 5, 200)\n",
    "        layers.append(nn.Linear(in_features, out_features))\n",
    "        layers.append(nn.ReLU())\n",
    "        p = trial.suggest_float(\"dropout_l{}\".format(i), 0.1, 0.5)\n",
    "        layers.append(nn.Dropout(p))\n",
    "\n",
    "        in_features = out_features\n",
    "\n",
    "    # Ultima layer\n",
    "    layers.append(nn.Linear(in_features, 1))\n",
    "    layers.append(nn.Sigmoid())\n",
    "\n",
    "    return nn.Sequential(*layers)"
   ]
  },
  {
   "cell_type": "code",
   "execution_count": 9,
   "metadata": {
    "tags": []
   },
   "outputs": [],
   "source": [
    "name=datetime.now().strftime(\"%d-%m-%Y_%H-%M-%S\")\n",
    "\n",
    "def objective(trial):\n",
    "    print(\"[+] Starting training..\\n\")\n",
    "    \n",
    "    # Optuna Stuff\n",
    "    model = define_model(trial).to(device)\n",
    "    optimizer_name = trial.suggest_categorical(\"optimizer\", [\"SGD\", \"RMSprop\", \"AdamW\"])\n",
    "    lr = trial.suggest_float(\"lr\", 1e-5, 1e-1, log=True)\n",
    "    optimizer = getattr(optim, optimizer_name)(model.parameters(), lr=lr)\n",
    "    epochs = trial.suggest_int(\"n_epochs\", 5, 100)\n",
    "    batch_size = trial.suggest_int(\"batch_size\", 100, 1000)\n",
    "    early_stoping = trial.suggest_int(\"batch_size\", 1, 15)\n",
    "\n",
    "    # For early stopping\n",
    "    patience_count = 0\n",
    "    best_roc = 0\n",
    "    \n",
    "    tic=timeit.default_timer()\n",
    "\n",
    "    for epoch in tqdm(range(epochs)):\n",
    "        model.train()\n",
    "\n",
    "        for batch in create_batch(train_data, size=batch_size):\n",
    "            # batch -> (batch_number, Features, Label, Weights, Nome)\n",
    "\n",
    "            preds = model(batch[1]) # Passar a batch pela network\n",
    "\n",
    "            ## Loss\n",
    "            loss = bce(preds.squeeze(1), batch[2])\n",
    "            loss = (batch[3] * loss) / batch[3].sum()\n",
    "            loss = torch.mean(loss, dtype=torch.float32)\n",
    "\n",
    "\n",
    "            optimizer.zero_grad() # Resetar gradientes\n",
    "            loss.backward() # Calcular os gradientes\n",
    "            optimizer.step()\n",
    "\n",
    "\n",
    "        # No final de cada epoca calcular o rocauc da validation para o optuna\n",
    "        model.eval()\n",
    "        with torch.no_grad():\n",
    "            ROC_SCORE = roc_auc_score(val_label.cpu() , model(val_features).squeeze(1).cpu(), sample_weight=val_weights.cpu())\n",
    "        trial.report(ROC_SCORE, epoch)\n",
    "\n",
    "        # Ver se guarda o melhor model\n",
    "        if ROC_SCORE > best_roc:\n",
    "            #name = \"\"\n",
    "            #for key, value in trial.params.items():\n",
    "            #    name += \"{}_{}_\".format(key, int(value))\n",
    "            name = str(ROC_SCORE) + \".model\"\n",
    "            best_roc = ROC_SCORE\n",
    "            \n",
    "            torch.save(model.state_dict(), join(os.getcwd(),\"models_optuna\",name))\n",
    "            # Reset patience_count for early stop \n",
    "            patience_count = 0\n",
    "        else:\n",
    "            patience_count += 1\n",
    "\n",
    "    # Final do treino\n",
    "    toc=timeit.default_timer()\n",
    "\n",
    "    print(\"\\n[+] Training completed in\", int((toc-tic)/60), \"minutes!\")\n",
    "    return best_roc\n"
   ]
  },
  {
   "cell_type": "code",
   "execution_count": 10,
   "metadata": {
    "tags": [
     "outputPrepend"
    ]
   },
   "outputs": [
    {
     "output_type": "stream",
     "name": "stderr",
     "text": [
      "er': 'AdamW', 'lr': 0.06941862262406515, 'n_epochs': 33, 'batch_size': 679}. Best is trial 6 with value: 0.9672167229471519.\u001b[0m\n",
      "\n",
      "[+] Training completed in 4 minutes!\n",
      "[+] Starting training..\n",
      "\n",
      "100%|██████████| 99/99 [2:29:46<00:00, 90.77s/it]\n",
      "\u001b[32m[I 2021-02-17 05:46:04,803]\u001b[0m Trial 11 finished with value: 0.9618489594600244 and parameters: {'n_layers': 14, 'n_units_l0': 191, 'dropout_l0': 0.23505313894196497, 'n_units_l1': 19, 'dropout_l1': 0.2734547605698957, 'n_units_l2': 199, 'dropout_l2': 0.12550077390772285, 'n_units_l3': 5, 'dropout_l3': 0.2638709504075912, 'n_units_l4': 6, 'dropout_l4': 0.11628730828519157, 'n_units_l5': 184, 'dropout_l5': 0.44618186436228946, 'n_units_l6': 71, 'dropout_l6': 0.49834520118236975, 'n_units_l7': 196, 'dropout_l7': 0.40376061192386786, 'n_units_l8': 5, 'dropout_l8': 0.34901476611609683, 'n_units_l9': 198, 'dropout_l9': 0.10438578195505474, 'n_units_l10': 9, 'dropout_l10': 0.3981512408739467, 'n_units_l11': 12, 'dropout_l11': 0.49069818288339406, 'n_units_l12': 7, 'dropout_l12': 0.11223220893948643, 'n_units_l13': 133, 'dropout_l13': 0.10290123682734229, 'optimizer': 'RMSprop', 'lr': 0.00010349354568693687, 'n_epochs': 99, 'batch_size': 114}. Best is trial 6 with value: 0.9672167229471519.\u001b[0m\n",
      "\n",
      "[+] Training completed in 149 minutes!\n",
      "[+] Starting training..\n",
      "\n",
      "100%|██████████| 97/97 [3:01:30<00:00, 112.28s/it]\n",
      "\u001b[32m[I 2021-02-17 08:47:37,982]\u001b[0m Trial 12 finished with value: 0.5001252488164958 and parameters: {'n_layers': 19, 'n_units_l0': 195, 'dropout_l0': 0.2290131761639158, 'n_units_l1': 62, 'dropout_l1': 0.3399619071030636, 'n_units_l2': 199, 'dropout_l2': 0.1005443745341993, 'n_units_l3': 96, 'dropout_l3': 0.278018477978888, 'n_units_l4': 9, 'dropout_l4': 0.235842772561005, 'n_units_l5': 199, 'dropout_l5': 0.40756024497733695, 'n_units_l6': 50, 'dropout_l6': 0.4913834038369405, 'n_units_l7': 199, 'dropout_l7': 0.3574246856972328, 'n_units_l8': 58, 'dropout_l8': 0.2906681836699736, 'n_units_l9': 200, 'dropout_l9': 0.1074381397361352, 'n_units_l10': 8, 'dropout_l10': 0.39312989570144496, 'n_units_l11': 5, 'dropout_l11': 0.4627216596708555, 'n_units_l12': 13, 'dropout_l12': 0.1113376319762009, 'n_units_l13': 128, 'dropout_l13': 0.10392864679434216, 'n_units_l14': 180, 'dropout_l14': 0.3342345032015644, 'n_units_l15': 66, 'dropout_l15': 0.3219796906926811, 'n_units_l16': 22, 'dropout_l16': 0.10248993553240843, 'n_units_l17': 141, 'dropout_l17': 0.13623746145602705, 'n_units_l18': 8, 'dropout_l18': 0.2530394667351664, 'optimizer': 'AdamW', 'lr': 0.00013030168255911322, 'n_epochs': 97, 'batch_size': 133}. Best is trial 6 with value: 0.9672167229471519.\u001b[0m\n",
      "\n",
      "[+] Training completed in 181 minutes!\n",
      "[+] Starting training..\n",
      "\n",
      "100%|██████████| 34/34 [08:03<00:00, 14.22s/it]\n",
      "\u001b[32m[I 2021-02-17 08:55:42,625]\u001b[0m Trial 13 finished with value: 0.9643228387187995 and parameters: {'n_layers': 7, 'n_units_l0': 169, 'dropout_l0': 0.18742159700653988, 'n_units_l1': 5, 'dropout_l1': 0.292611059419693, 'n_units_l2': 194, 'dropout_l2': 0.14016815817655942, 'n_units_l3': 5, 'dropout_l3': 0.2803033574310204, 'n_units_l4': 5, 'dropout_l4': 0.49207508538833844, 'n_units_l5': 198, 'dropout_l5': 0.39307692410064066, 'n_units_l6': 79, 'dropout_l6': 0.41768127690166157, 'optimizer': 'AdamW', 'lr': 6.74540414582565e-05, 'n_epochs': 34, 'batch_size': 630}. Best is trial 6 with value: 0.9672167229471519.\u001b[0m\n",
      "\n",
      "[+] Training completed in 8 minutes!\n",
      "[+] Starting training..\n",
      "\n",
      "100%|██████████| 35/35 [04:40<00:00,  8.01s/it]\n",
      "\u001b[32m[I 2021-02-17 09:00:23,414]\u001b[0m Trial 14 finished with value: 0.964957793454765 and parameters: {'n_layers': 1, 'n_units_l0': 163, 'dropout_l0': 0.16296396703186522, 'optimizer': 'AdamW', 'lr': 8.161888007519548e-05, 'n_epochs': 35, 'batch_size': 689}. Best is trial 6 with value: 0.9672167229471519.\u001b[0m\n",
      "\n",
      "[+] Training completed in 4 minutes!\n",
      "[+] Starting training..\n",
      "\n",
      "100%|██████████| 34/34 [04:08<00:00,  7.32s/it]\n",
      "\u001b[32m[I 2021-02-17 09:04:32,631]\u001b[0m Trial 15 finished with value: 0.9689917563213079 and parameters: {'n_layers': 1, 'n_units_l0': 163, 'dropout_l0': 0.10281702410329377, 'optimizer': 'AdamW', 'lr': 0.0031349157457728734, 'n_epochs': 34, 'batch_size': 764}. Best is trial 15 with value: 0.9689917563213079.\u001b[0m\n",
      "\n",
      "[+] Training completed in 4 minutes!\n",
      "[+] Starting training..\n",
      "\n",
      "100%|██████████| 27/27 [10:30<00:00, 23.35s/it]\n",
      "\u001b[32m[I 2021-02-17 09:15:05,800]\u001b[0m Trial 16 finished with value: 0.5 and parameters: {'n_layers': 24, 'n_units_l0': 169, 'dropout_l0': 0.4854430038244314, 'n_units_l1': 100, 'dropout_l1': 0.45734564579591946, 'n_units_l2': 6, 'dropout_l2': 0.499724387052328, 'n_units_l3': 141, 'dropout_l3': 0.35327722667804207, 'n_units_l4': 47, 'dropout_l4': 0.381171465338804, 'n_units_l5': 163, 'dropout_l5': 0.15433990917328477, 'n_units_l6': 200, 'dropout_l6': 0.3569138172121994, 'n_units_l7': 152, 'dropout_l7': 0.23773917830154825, 'n_units_l8': 151, 'dropout_l8': 0.21952310128678892, 'n_units_l9': 157, 'dropout_l9': 0.4503491622792568, 'n_units_l10': 64, 'dropout_l10': 0.19190153415454914, 'n_units_l11': 190, 'dropout_l11': 0.39274922659510364, 'n_units_l12': 109, 'dropout_l12': 0.18640407527618297, 'n_units_l13': 89, 'dropout_l13': 0.20236799210487433, 'n_units_l14': 63, 'dropout_l14': 0.2701910897415906, 'n_units_l15': 21, 'dropout_l15': 0.3837403495154075, 'n_units_l16': 10, 'dropout_l16': 0.10994248144390159, 'n_units_l17': 8, 'dropout_l17': 0.4977869920794699, 'n_units_l18': 199, 'dropout_l18': 0.19424721914182946, 'n_units_l19': 16, 'dropout_l19': 0.46480388374244924, 'n_units_l20': 199, 'dropout_l20': 0.17573104388406385, 'n_units_l21': 30, 'dropout_l21': 0.36761198533095246, 'n_units_l22': 200, 'dropout_l22': 0.49829535450873563, 'n_units_l23': 170, 'dropout_l23': 0.11564465060960696, 'optimizer': 'AdamW', 'lr': 0.004358149949951589, 'n_epochs': 27, 'batch_size': 836}. Best is trial 15 with value: 0.9689917563213079.\u001b[0m\n",
      "\n",
      "[+] Training completed in 10 minutes!\n",
      "[+] Starting training..\n",
      "\n",
      "100%|██████████| 6/6 [01:04<00:00, 10.78s/it]\n",
      "\u001b[32m[I 2021-02-17 09:16:11,391]\u001b[0m Trial 17 finished with value: 0.7443222056958051 and parameters: {'n_layers': 6, 'n_units_l0': 133, 'dropout_l0': 0.11464121735274274, 'n_units_l1': 128, 'dropout_l1': 0.36453459142016653, 'n_units_l2': 5, 'dropout_l2': 0.21598161757643614, 'n_units_l3': 90, 'dropout_l3': 0.1100547449862336, 'n_units_l4': 193, 'dropout_l4': 0.315100243313321, 'n_units_l5': 150, 'dropout_l5': 0.19997732994317075, 'optimizer': 'AdamW', 'lr': 0.023042869484900506, 'n_epochs': 6, 'batch_size': 793}. Best is trial 15 with value: 0.9689917563213079.\u001b[0m\n",
      "\n",
      "[+] Training completed in 1 minutes!\n",
      "[+] Starting training..\n",
      "\n",
      "100%|██████████| 43/43 [27:39<00:00, 38.58s/it]\n",
      "\u001b[32m[I 2021-02-17 09:43:53,898]\u001b[0m Trial 18 finished with value: 0.5 and parameters: {'n_layers': 27, 'n_units_l0': 91, 'dropout_l0': 0.4028577473418202, 'n_units_l1': 66, 'dropout_l1': 0.4953259203247312, 'n_units_l2': 71, 'dropout_l2': 0.2541259079862682, 'n_units_l3': 163, 'dropout_l3': 0.33213432004654186, 'n_units_l4': 39, 'dropout_l4': 0.4969884063456132, 'n_units_l5': 141, 'dropout_l5': 0.10031806261291354, 'n_units_l6': 127, 'dropout_l6': 0.3560253712624754, 'n_units_l7': 117, 'dropout_l7': 0.23945867577401853, 'n_units_l8': 148, 'dropout_l8': 0.23485813002586545, 'n_units_l9': 166, 'dropout_l9': 0.3885500155674111, 'n_units_l10': 34, 'dropout_l10': 0.3519567495018836, 'n_units_l11': 152, 'dropout_l11': 0.26294960942554035, 'n_units_l12': 95, 'dropout_l12': 0.17879245275578629, 'n_units_l13': 159, 'dropout_l13': 0.24510743579426655, 'n_units_l14': 50, 'dropout_l14': 0.34805836873686674, 'n_units_l15': 73, 'dropout_l15': 0.25856743061814913, 'n_units_l16': 44, 'dropout_l16': 0.18861265308756237, 'n_units_l17': 132, 'dropout_l17': 0.3618597715740536, 'n_units_l18': 18, 'dropout_l18': 0.4880932189238877, 'n_units_l19': 50, 'dropout_l19': 0.34494533145247375, 'n_units_l20': 195, 'dropout_l20': 0.3855563416065009, 'n_units_l21': 48, 'dropout_l21': 0.2338254102688074, 'n_units_l22': 191, 'dropout_l22': 0.4992147813810326, 'n_units_l23': 144, 'dropout_l23': 0.23377009629603668, 'n_units_l24': 198, 'dropout_l24': 0.4783750989627979, 'n_units_l25': 110, 'dropout_l25': 0.4963042092337231, 'n_units_l26': 10, 'dropout_l26': 0.49219300779729763, 'optimizer': 'AdamW', 'lr': 0.002914907184372546, 'n_epochs': 43, 'batch_size': 539}. Best is trial 15 with value: 0.9689917563213079.\u001b[0m\n",
      "\n",
      "[+] Training completed in 27 minutes!\n",
      "[+] Starting training..\n",
      "\n",
      "100%|██████████| 6/6 [01:37<00:00, 16.21s/it]\n",
      "\u001b[32m[I 2021-02-17 09:45:32,626]\u001b[0m Trial 19 finished with value: 0.5 and parameters: {'n_layers': 12, 'n_units_l0': 177, 'dropout_l0': 0.28035543122255535, 'n_units_l1': 67, 'dropout_l1': 0.4049717930213269, 'n_units_l2': 19, 'dropout_l2': 0.17835308738386593, 'n_units_l3': 200, 'dropout_l3': 0.22465765665619097, 'n_units_l4': 34, 'dropout_l4': 0.42803697761783727, 'n_units_l5': 45, 'dropout_l5': 0.3535040124906374, 'n_units_l6': 181, 'dropout_l6': 0.10226952056189345, 'n_units_l7': 183, 'dropout_l7': 0.2970905917065243, 'n_units_l8': 72, 'dropout_l8': 0.282600939530282, 'n_units_l9': 127, 'dropout_l9': 0.20226635712799718, 'n_units_l10': 89, 'dropout_l10': 0.4270747987130866, 'n_units_l11': 144, 'dropout_l11': 0.43811582840813357, 'optimizer': 'AdamW', 'lr': 0.010009417743089253, 'n_epochs': 6, 'batch_size': 747}. Best is trial 15 with value: 0.9689917563213079.\u001b[0m\n",
      "\n",
      "[+] Training completed in 1 minutes!\n",
      "[+] Starting training..\n",
      "\n",
      "100%|██████████| 23/23 [03:13<00:00,  8.40s/it]\n",
      "\u001b[32m[I 2021-02-17 09:48:46,408]\u001b[0m Trial 20 finished with value: 0.9709901762980346 and parameters: {'n_layers': 5, 'n_units_l0': 151, 'dropout_l0': 0.1725420843479329, 'n_units_l1': 125, 'dropout_l1': 0.4449998788054639, 'n_units_l2': 111, 'dropout_l2': 0.3021672483901724, 'n_units_l3': 119, 'dropout_l3': 0.24081642279250165, 'n_units_l4': 92, 'dropout_l4': 0.18816003999999936, 'optimizer': 'AdamW', 'lr': 0.0005310127122994285, 'n_epochs': 23, 'batch_size': 993}. Best is trial 20 with value: 0.9709901762980346.\u001b[0m\n",
      "\n",
      "[+] Training completed in 3 minutes!\n",
      "[+] Starting training..\n",
      "\n",
      "100%|██████████| 25/25 [03:01<00:00,  7.26s/it]\n",
      "\u001b[32m[I 2021-02-17 09:51:48,365]\u001b[0m Trial 21 finished with value: 0.9711957856024203 and parameters: {'n_layers': 3, 'n_units_l0': 153, 'dropout_l0': 0.16573858646888934, 'n_units_l1': 121, 'dropout_l1': 0.4485851955287431, 'n_units_l2': 118, 'dropout_l2': 0.3066578797303722, 'optimizer': 'AdamW', 'lr': 0.0006036912599232531, 'n_epochs': 25, 'batch_size': 974}. Best is trial 21 with value: 0.9711957856024203.\u001b[0m\n",
      "\n",
      "[+] Training completed in 3 minutes!\n",
      "[+] Starting training..\n",
      "\n",
      "100%|██████████| 19/19 [01:52<00:00,  5.90s/it]\n",
      "\u001b[32m[I 2021-02-17 09:53:40,892]\u001b[0m Trial 22 finished with value: 0.9693804484240228 and parameters: {'n_layers': 1, 'n_units_l0': 154, 'dropout_l0': 0.1002083622959865, 'optimizer': 'AdamW', 'lr': 0.0006105658268359943, 'n_epochs': 19, 'batch_size': 984}. Best is trial 21 with value: 0.9711957856024203.\u001b[0m\n",
      "\n",
      "[+] Training completed in 1 minutes!\n",
      "[+] Starting training..\n",
      "\n",
      "100%|██████████| 19/19 [02:50<00:00,  8.97s/it]\n",
      "\u001b[32m[I 2021-02-17 09:56:32,002]\u001b[0m Trial 23 finished with value: 0.9709791460784817 and parameters: {'n_layers': 6, 'n_units_l0': 127, 'dropout_l0': 0.1766939436102213, 'n_units_l1': 122, 'dropout_l1': 0.34626638665923404, 'n_units_l2': 116, 'dropout_l2': 0.30855077761932886, 'n_units_l3': 62, 'dropout_l3': 0.10548333809779903, 'n_units_l4': 98, 'dropout_l4': 0.1814255811825708, 'n_units_l5': 43, 'dropout_l5': 0.26183970396702383, 'optimizer': 'AdamW', 'lr': 0.0005799839705775937, 'n_epochs': 19, 'batch_size': 996}. Best is trial 21 with value: 0.9711957856024203.\u001b[0m\n",
      "\n",
      "[+] Training completed in 2 minutes!\n",
      "[+] Starting training..\n",
      "\n",
      "100%|██████████| 12/12 [01:58<00:00,  9.85s/it]\n",
      "\u001b[32m[I 2021-02-17 09:58:31,241]\u001b[0m Trial 24 finished with value: 0.9697472699875808 and parameters: {'n_layers': 6, 'n_units_l0': 126, 'dropout_l0': 0.16206122560793434, 'n_units_l1': 125, 'dropout_l1': 0.3409903252991985, 'n_units_l2': 116, 'dropout_l2': 0.31042520604375967, 'n_units_l3': 64, 'dropout_l3': 0.10068200923445667, 'n_units_l4': 100, 'dropout_l4': 0.1859372289094582, 'n_units_l5': 44, 'dropout_l5': 0.2619421155589039, 'optimizer': 'AdamW', 'lr': 0.00028849518663562427, 'n_epochs': 12, 'batch_size': 890}. Best is trial 21 with value: 0.9711957856024203.\u001b[0m\n",
      "\n",
      "[+] Training completed in 1 minutes!\n",
      "[+] Starting training..\n",
      "\n",
      "100%|██████████| 44/44 [06:50<00:00,  9.32s/it]\n",
      "\u001b[32m[I 2021-02-17 10:05:22,396]\u001b[0m Trial 25 finished with value: 0.9709073371924895 and parameters: {'n_layers': 6, 'n_units_l0': 90, 'dropout_l0': 0.16715476868233073, 'n_units_l1': 120, 'dropout_l1': 0.4389064379436744, 'n_units_l2': 112, 'dropout_l2': 0.2671336536913108, 'n_units_l3': 116, 'dropout_l3': 0.22732921807704304, 'n_units_l4': 78, 'dropout_l4': 0.17527362888865244, 'n_units_l5': 37, 'dropout_l5': 0.1539645892427805, 'optimizer': 'AdamW', 'lr': 0.0013190049521645472, 'n_epochs': 44, 'batch_size': 942}. Best is trial 21 with value: 0.9711957856024203.\u001b[0m\n",
      "\n",
      "[+] Training completed in 6 minutes!\n",
      "[+] Starting training..\n",
      "\n",
      "100%|██████████| 25/25 [03:34<00:00,  8.59s/it]\n",
      "\u001b[32m[I 2021-02-17 10:08:58,449]\u001b[0m Trial 26 finished with value: 0.5 and parameters: {'n_layers': 10, 'n_units_l0': 131, 'dropout_l0': 0.14947275729115142, 'n_units_l1': 145, 'dropout_l1': 0.49790978388884516, 'n_units_l2': 172, 'dropout_l2': 0.3250516869054567, 'n_units_l3': 32, 'dropout_l3': 0.12358910439411216, 'n_units_l4': 62, 'dropout_l4': 0.23326832608033632, 'n_units_l5': 64, 'dropout_l5': 0.35635929354398455, 'n_units_l6': 28, 'dropout_l6': 0.14574903001049938, 'n_units_l7': 103, 'dropout_l7': 0.11301494738649567, 'n_units_l8': 28, 'dropout_l8': 0.49435777473195863, 'n_units_l9': 5, 'dropout_l9': 0.49585732944449445, 'optimizer': 'SGD', 'lr': 0.00028416088680785533, 'n_epochs': 25, 'batch_size': 991}. Best is trial 21 with value: 0.9711957856024203.\u001b[0m\n",
      "\n",
      "[+] Training completed in 3 minutes!\n",
      "[+] Starting training..\n",
      "\n",
      "100%|██████████| 12/12 [01:25<00:00,  7.12s/it]\n",
      "\u001b[32m[I 2021-02-17 10:10:24,553]\u001b[0m Trial 27 finished with value: 0.9700131587829054 and parameters: {'n_layers': 3, 'n_units_l0': 100, 'dropout_l0': 0.192081476875135, 'n_units_l1': 111, 'dropout_l1': 0.38650917142796914, 'n_units_l2': 89, 'dropout_l2': 0.28777370080492715, 'optimizer': 'AdamW', 'lr': 0.0005777011754182156, 'n_epochs': 12, 'batch_size': 987}. Best is trial 21 with value: 0.9711957856024203.\u001b[0m\n",
      "\n",
      "[+] Training completed in 1 minutes!\n",
      "[+] Starting training..\n",
      "\n",
      "100%|██████████| 41/41 [14:49<00:00, 21.70s/it]\n",
      "\u001b[32m[I 2021-02-17 10:25:16,964]\u001b[0m Trial 28 finished with value: 0.5000270391862804 and parameters: {'n_layers': 22, 'n_units_l0': 146, 'dropout_l0': 0.18116662683012838, 'n_units_l1': 91, 'dropout_l1': 0.3315805619528237, 'n_units_l2': 118, 'dropout_l2': 0.4502843098992405, 'n_units_l3': 71, 'dropout_l3': 0.22380247626480154, 'n_units_l4': 100, 'dropout_l4': 0.16236190630822708, 'n_units_l5': 15, 'dropout_l5': 0.24837780500549378, 'n_units_l6': 44, 'dropout_l6': 0.1181720602768783, 'n_units_l7': 128, 'dropout_l7': 0.1992348581357467, 'n_units_l8': 65, 'dropout_l8': 0.35535772614979444, 'n_units_l9': 69, 'dropout_l9': 0.39458110576053157, 'n_units_l10': 189, 'dropout_l10': 0.10105144423543927, 'n_units_l11': 37, 'dropout_l11': 0.3064063199856446, 'n_units_l12': 127, 'dropout_l12': 0.2487733974737235, 'n_units_l13': 8, 'dropout_l13': 0.4968130144739926, 'n_units_l14': 197, 'dropout_l14': 0.49363015938687127, 'n_units_l15': 93, 'dropout_l15': 0.4961317796728465, 'n_units_l16': 193, 'dropout_l16': 0.3982781272407515, 'n_units_l17': 10, 'dropout_l17': 0.20246810950530958, 'n_units_l18': 192, 'dropout_l18': 0.33330146850872294, 'n_units_l19': 193, 'dropout_l19': 0.2506006693682254, 'n_units_l20': 128, 'dropout_l20': 0.12499098315952134, 'n_units_l21': 60, 'dropout_l21': 0.406682748246708, 'optimizer': 'AdamW', 'lr': 0.0014777477187622409, 'n_epochs': 41, 'batch_size': 845}. Best is trial 21 with value: 0.9711957856024203.\u001b[0m\n",
      "\n",
      "[+] Training completed in 14 minutes!\n",
      "[+] Starting training..\n",
      "\n",
      "100%|██████████| 60/60 [11:56<00:00, 11.94s/it]\n",
      "\u001b[32m[I 2021-02-17 10:37:14,496]\u001b[0m Trial 29 finished with value: 0.9717733916004746 and parameters: {'n_layers': 9, 'n_units_l0': 148, 'dropout_l0': 0.274068151546813, 'n_units_l1': 138, 'dropout_l1': 0.46660548954043557, 'n_units_l2': 124, 'dropout_l2': 0.22277876682042724, 'n_units_l3': 115, 'dropout_l3': 0.33199534467468134, 'n_units_l4': 105, 'dropout_l4': 0.22583995048049071, 'n_units_l5': 70, 'dropout_l5': 0.19330051056853384, 'n_units_l6': 80, 'dropout_l6': 0.2672883114949663, 'n_units_l7': 84, 'dropout_l7': 0.41963790247828603, 'n_units_l8': 127, 'dropout_l8': 0.48937098352813396, 'optimizer': 'AdamW', 'lr': 0.00023047064403312553, 'n_epochs': 60, 'batch_size': 893}. Best is trial 29 with value: 0.9717733916004746.\u001b[0m\n",
      "\n",
      "[+] Training completed in 11 minutes!\n",
      "[+] Starting training..\n",
      "\n",
      "100%|██████████| 63/63 [12:56<00:00, 12.32s/it]\n",
      "\u001b[32m[I 2021-02-17 10:50:12,244]\u001b[0m Trial 30 finished with value: 0.9693304751988896 and parameters: {'n_layers': 10, 'n_units_l0': 149, 'dropout_l0': 0.2932197704000087, 'n_units_l1': 144, 'dropout_l1': 0.46361746232322304, 'n_units_l2': 171, 'dropout_l2': 0.22781319726633842, 'n_units_l3': 114, 'dropout_l3': 0.3322633958363975, 'n_units_l4': 200, 'dropout_l4': 0.26155696131665984, 'n_units_l5': 134, 'dropout_l5': 0.17635223430927308, 'n_units_l6': 81, 'dropout_l6': 0.26421710263329556, 'n_units_l7': 83, 'dropout_l7': 0.4119774825205973, 'n_units_l8': 120, 'dropout_l8': 0.4853899020602652, 'n_units_l9': 15, 'dropout_l9': 0.4957987983144332, 'optimizer': 'AdamW', 'lr': 4.914191732535373e-05, 'n_epochs': 63, 'batch_size': 924}. Best is trial 29 with value: 0.9717733916004746.\u001b[0m\n",
      "\n",
      "[+] Training completed in 12 minutes!\n",
      "[+] Starting training..\n",
      "\n",
      "100%|██████████| 78/78 [14:06<00:00, 10.85s/it]\n",
      "\u001b[32m[I 2021-02-17 11:04:20,187]\u001b[0m Trial 31 finished with value: 0.972008961436109 and parameters: {'n_layers': 9, 'n_units_l0': 121, 'dropout_l0': 0.24951969108997804, 'n_units_l1': 164, 'dropout_l1': 0.4164702772706052, 'n_units_l2': 130, 'dropout_l2': 0.34382459231190765, 'n_units_l3': 103, 'dropout_l3': 0.32336653192587167, 'n_units_l4': 113, 'dropout_l4': 0.21536700411323847, 'n_units_l5': 61, 'dropout_l5': 0.2715282451544035, 'n_units_l6': 107, 'dropout_l6': 0.17820887026727894, 'n_units_l7': 43, 'dropout_l7': 0.49904142775260274, 'n_units_l8': 158, 'dropout_l8': 0.416015650151419, 'optimizer': 'AdamW', 'lr': 0.00018437867357979658, 'n_epochs': 78, 'batch_size': 998}. Best is trial 31 with value: 0.972008961436109.\u001b[0m\n",
      "\n",
      "[+] Training completed in 14 minutes!\n",
      "[+] Starting training..\n",
      "\n",
      "100%|██████████| 84/84 [24:48<00:00, 17.72s/it]\n",
      "\u001b[32m[I 2021-02-17 11:29:10,599]\u001b[0m Trial 32 finished with value: 0.9717326744677032 and parameters: {'n_layers': 17, 'n_units_l0': 118, 'dropout_l0': 0.25747407187295446, 'n_units_l1': 167, 'dropout_l1': 0.41950543393087114, 'n_units_l2': 128, 'dropout_l2': 0.3413221740866214, 'n_units_l3': 102, 'dropout_l3': 0.3152341188127282, 'n_units_l4': 115, 'dropout_l4': 0.21971778520267787, 'n_units_l5': 63, 'dropout_l5': 0.19348992718548455, 'n_units_l6': 103, 'dropout_l6': 0.17491825803107128, 'n_units_l7': 39, 'dropout_l7': 0.4237641080799997, 'n_units_l8': 166, 'dropout_l8': 0.3996377332867389, 'n_units_l9': 179, 'dropout_l9': 0.44805807795360975, 'n_units_l10': 119, 'dropout_l10': 0.1615348111649409, 'n_units_l11': 196, 'dropout_l11': 0.16907580359410654, 'n_units_l12': 132, 'dropout_l12': 0.4955373823790151, 'n_units_l13': 56, 'dropout_l13': 0.15438895828897398, 'n_units_l14': 161, 'dropout_l14': 0.20585437858603825, 'n_units_l15': 11, 'dropout_l15': 0.41131674122792194, 'n_units_l16': 49, 'dropout_l16': 0.18296791399879558, 'optimizer': 'AdamW', 'lr': 0.00021163261921342599, 'n_epochs': 84, 'batch_size': 879}. Best is trial 31 with value: 0.972008961436109.\u001b[0m\n",
      "\n",
      "[+] Training completed in 24 minutes!\n",
      "[+] Starting training..\n",
      "\n",
      " 32%|███▏      | 25/79 [05:58<12:53, 14.33s/it]\n"
     ]
    },
    {
     "output_type": "error",
     "ename": "KeyboardInterrupt",
     "evalue": "",
     "traceback": [
      "\u001b[0;31m---------------------------------------------------------------------------\u001b[0m",
      "\u001b[0;31mKeyboardInterrupt\u001b[0m                         Traceback (most recent call last)",
      "\u001b[0;32m<ipython-input-10-9536da38e2ff>\u001b[0m in \u001b[0;36m<module>\u001b[0;34m\u001b[0m\n\u001b[1;32m      1\u001b[0m \u001b[0mstudy\u001b[0m \u001b[0;34m=\u001b[0m \u001b[0moptuna\u001b[0m\u001b[0;34m.\u001b[0m\u001b[0mcreate_study\u001b[0m\u001b[0;34m(\u001b[0m\u001b[0mstudy_name\u001b[0m\u001b[0;34m=\u001b[0m\u001b[0;34m\"Optimizing The Neural Network\"\u001b[0m\u001b[0;34m,\u001b[0m\u001b[0mdirection\u001b[0m\u001b[0;34m=\u001b[0m\u001b[0;34m\"maximize\"\u001b[0m\u001b[0;34m,\u001b[0m \u001b[0mstorage\u001b[0m\u001b[0;34m=\u001b[0m\u001b[0;34m\"sqlite:///example.db\"\u001b[0m\u001b[0;34m)\u001b[0m\u001b[0;34m\u001b[0m\u001b[0;34m\u001b[0m\u001b[0m\n\u001b[0;32m----> 2\u001b[0;31m \u001b[0mstudy\u001b[0m\u001b[0;34m.\u001b[0m\u001b[0moptimize\u001b[0m\u001b[0;34m(\u001b[0m\u001b[0mobjective\u001b[0m\u001b[0;34m,\u001b[0m \u001b[0mn_trials\u001b[0m\u001b[0;34m=\u001b[0m\u001b[0;36m50\u001b[0m\u001b[0;34m)\u001b[0m\u001b[0;34m\u001b[0m\u001b[0;34m\u001b[0m\u001b[0m\n\u001b[0m\u001b[1;32m      3\u001b[0m \u001b[0;34m\u001b[0m\u001b[0m\n\u001b[1;32m      4\u001b[0m \u001b[0mpruned_trials\u001b[0m \u001b[0;34m=\u001b[0m \u001b[0;34m[\u001b[0m\u001b[0mt\u001b[0m \u001b[0;32mfor\u001b[0m \u001b[0mt\u001b[0m \u001b[0;32min\u001b[0m \u001b[0mstudy\u001b[0m\u001b[0;34m.\u001b[0m\u001b[0mtrials\u001b[0m \u001b[0;32mif\u001b[0m \u001b[0mt\u001b[0m\u001b[0;34m.\u001b[0m\u001b[0mstate\u001b[0m \u001b[0;34m==\u001b[0m \u001b[0moptuna\u001b[0m\u001b[0;34m.\u001b[0m\u001b[0mtrial\u001b[0m\u001b[0;34m.\u001b[0m\u001b[0mTrialState\u001b[0m\u001b[0;34m.\u001b[0m\u001b[0mPRUNED\u001b[0m\u001b[0;34m]\u001b[0m\u001b[0;34m\u001b[0m\u001b[0;34m\u001b[0m\u001b[0m\n\u001b[1;32m      5\u001b[0m \u001b[0mcomplete_trials\u001b[0m \u001b[0;34m=\u001b[0m \u001b[0;34m[\u001b[0m\u001b[0mt\u001b[0m \u001b[0;32mfor\u001b[0m \u001b[0mt\u001b[0m \u001b[0;32min\u001b[0m \u001b[0mstudy\u001b[0m\u001b[0;34m.\u001b[0m\u001b[0mtrials\u001b[0m \u001b[0;32mif\u001b[0m \u001b[0mt\u001b[0m\u001b[0;34m.\u001b[0m\u001b[0mstate\u001b[0m \u001b[0;34m==\u001b[0m \u001b[0moptuna\u001b[0m\u001b[0;34m.\u001b[0m\u001b[0mtrial\u001b[0m\u001b[0;34m.\u001b[0m\u001b[0mTrialState\u001b[0m\u001b[0;34m.\u001b[0m\u001b[0mCOMPLETE\u001b[0m\u001b[0;34m]\u001b[0m\u001b[0;34m\u001b[0m\u001b[0;34m\u001b[0m\u001b[0m\n",
      "\u001b[0;32m~/.local/lib/python3.8/site-packages/optuna/study.py\u001b[0m in \u001b[0;36moptimize\u001b[0;34m(self, func, n_trials, timeout, n_jobs, catch, callbacks, gc_after_trial, show_progress_bar)\u001b[0m\n\u001b[1;32m    374\u001b[0m                 \u001b[0mIf\u001b[0m \u001b[0mnested\u001b[0m \u001b[0minvocation\u001b[0m \u001b[0mof\u001b[0m \u001b[0mthis\u001b[0m \u001b[0mmethod\u001b[0m \u001b[0moccurs\u001b[0m\u001b[0;34m.\u001b[0m\u001b[0;34m\u001b[0m\u001b[0;34m\u001b[0m\u001b[0m\n\u001b[1;32m    375\u001b[0m         \"\"\"\n\u001b[0;32m--> 376\u001b[0;31m         _optimize(\n\u001b[0m\u001b[1;32m    377\u001b[0m             \u001b[0mstudy\u001b[0m\u001b[0;34m=\u001b[0m\u001b[0mself\u001b[0m\u001b[0;34m,\u001b[0m\u001b[0;34m\u001b[0m\u001b[0;34m\u001b[0m\u001b[0m\n\u001b[1;32m    378\u001b[0m             \u001b[0mfunc\u001b[0m\u001b[0;34m=\u001b[0m\u001b[0mfunc\u001b[0m\u001b[0;34m,\u001b[0m\u001b[0;34m\u001b[0m\u001b[0;34m\u001b[0m\u001b[0m\n",
      "\u001b[0;32m~/.local/lib/python3.8/site-packages/optuna/_optimize.py\u001b[0m in \u001b[0;36m_optimize\u001b[0;34m(study, func, n_trials, timeout, n_jobs, catch, callbacks, gc_after_trial, show_progress_bar)\u001b[0m\n\u001b[1;32m     61\u001b[0m     \u001b[0;32mtry\u001b[0m\u001b[0;34m:\u001b[0m\u001b[0;34m\u001b[0m\u001b[0;34m\u001b[0m\u001b[0m\n\u001b[1;32m     62\u001b[0m         \u001b[0;32mif\u001b[0m \u001b[0mn_jobs\u001b[0m \u001b[0;34m==\u001b[0m \u001b[0;36m1\u001b[0m\u001b[0;34m:\u001b[0m\u001b[0;34m\u001b[0m\u001b[0;34m\u001b[0m\u001b[0m\n\u001b[0;32m---> 63\u001b[0;31m             _optimize_sequential(\n\u001b[0m\u001b[1;32m     64\u001b[0m                 \u001b[0mstudy\u001b[0m\u001b[0;34m,\u001b[0m\u001b[0;34m\u001b[0m\u001b[0;34m\u001b[0m\u001b[0m\n\u001b[1;32m     65\u001b[0m                 \u001b[0mfunc\u001b[0m\u001b[0;34m,\u001b[0m\u001b[0;34m\u001b[0m\u001b[0;34m\u001b[0m\u001b[0m\n",
      "\u001b[0;32m~/.local/lib/python3.8/site-packages/optuna/_optimize.py\u001b[0m in \u001b[0;36m_optimize_sequential\u001b[0;34m(study, func, n_trials, timeout, catch, callbacks, gc_after_trial, reseed_sampler_rng, time_start, progress_bar)\u001b[0m\n\u001b[1;32m    162\u001b[0m \u001b[0;34m\u001b[0m\u001b[0m\n\u001b[1;32m    163\u001b[0m         \u001b[0;32mtry\u001b[0m\u001b[0;34m:\u001b[0m\u001b[0;34m\u001b[0m\u001b[0;34m\u001b[0m\u001b[0m\n\u001b[0;32m--> 164\u001b[0;31m             \u001b[0mtrial\u001b[0m \u001b[0;34m=\u001b[0m \u001b[0m_run_trial\u001b[0m\u001b[0;34m(\u001b[0m\u001b[0mstudy\u001b[0m\u001b[0;34m,\u001b[0m \u001b[0mfunc\u001b[0m\u001b[0;34m,\u001b[0m \u001b[0mcatch\u001b[0m\u001b[0;34m)\u001b[0m\u001b[0;34m\u001b[0m\u001b[0;34m\u001b[0m\u001b[0m\n\u001b[0m\u001b[1;32m    165\u001b[0m         \u001b[0;32mexcept\u001b[0m \u001b[0mException\u001b[0m\u001b[0;34m:\u001b[0m\u001b[0;34m\u001b[0m\u001b[0;34m\u001b[0m\u001b[0m\n\u001b[1;32m    166\u001b[0m             \u001b[0;32mraise\u001b[0m\u001b[0;34m\u001b[0m\u001b[0;34m\u001b[0m\u001b[0m\n",
      "\u001b[0;32m~/.local/lib/python3.8/site-packages/optuna/_optimize.py\u001b[0m in \u001b[0;36m_run_trial\u001b[0;34m(study, func, catch)\u001b[0m\n\u001b[1;32m    209\u001b[0m \u001b[0;34m\u001b[0m\u001b[0m\n\u001b[1;32m    210\u001b[0m     \u001b[0;32mtry\u001b[0m\u001b[0;34m:\u001b[0m\u001b[0;34m\u001b[0m\u001b[0;34m\u001b[0m\u001b[0m\n\u001b[0;32m--> 211\u001b[0;31m         \u001b[0mvalue_or_values\u001b[0m \u001b[0;34m=\u001b[0m \u001b[0mfunc\u001b[0m\u001b[0;34m(\u001b[0m\u001b[0mtrial\u001b[0m\u001b[0;34m)\u001b[0m\u001b[0;34m\u001b[0m\u001b[0;34m\u001b[0m\u001b[0m\n\u001b[0m\u001b[1;32m    212\u001b[0m     \u001b[0;32mexcept\u001b[0m \u001b[0mexceptions\u001b[0m\u001b[0;34m.\u001b[0m\u001b[0mTrialPruned\u001b[0m \u001b[0;32mas\u001b[0m \u001b[0me\u001b[0m\u001b[0;34m:\u001b[0m\u001b[0;34m\u001b[0m\u001b[0;34m\u001b[0m\u001b[0m\n\u001b[1;32m    213\u001b[0m         \u001b[0;31m# TODO(mamu): Handle multi-objective cases.\u001b[0m\u001b[0;34m\u001b[0m\u001b[0;34m\u001b[0m\u001b[0;34m\u001b[0m\u001b[0m\n",
      "\u001b[0;32m<ipython-input-9-cee6e2bd5b58>\u001b[0m in \u001b[0;36mobjective\u001b[0;34m(trial)\u001b[0m\n\u001b[1;32m     41\u001b[0m         \u001b[0mmodel\u001b[0m\u001b[0;34m.\u001b[0m\u001b[0meval\u001b[0m\u001b[0;34m(\u001b[0m\u001b[0;34m)\u001b[0m\u001b[0;34m\u001b[0m\u001b[0;34m\u001b[0m\u001b[0m\n\u001b[1;32m     42\u001b[0m         \u001b[0;32mwith\u001b[0m \u001b[0mtorch\u001b[0m\u001b[0;34m.\u001b[0m\u001b[0mno_grad\u001b[0m\u001b[0;34m(\u001b[0m\u001b[0;34m)\u001b[0m\u001b[0;34m:\u001b[0m\u001b[0;34m\u001b[0m\u001b[0;34m\u001b[0m\u001b[0m\n\u001b[0;32m---> 43\u001b[0;31m             \u001b[0mROC_SCORE\u001b[0m \u001b[0;34m=\u001b[0m \u001b[0mroc_auc_score\u001b[0m\u001b[0;34m(\u001b[0m\u001b[0mval_label\u001b[0m\u001b[0;34m.\u001b[0m\u001b[0mcpu\u001b[0m\u001b[0;34m(\u001b[0m\u001b[0;34m)\u001b[0m \u001b[0;34m,\u001b[0m \u001b[0mmodel\u001b[0m\u001b[0;34m(\u001b[0m\u001b[0mval_features\u001b[0m\u001b[0;34m)\u001b[0m\u001b[0;34m.\u001b[0m\u001b[0msqueeze\u001b[0m\u001b[0;34m(\u001b[0m\u001b[0;36m1\u001b[0m\u001b[0;34m)\u001b[0m\u001b[0;34m.\u001b[0m\u001b[0mcpu\u001b[0m\u001b[0;34m(\u001b[0m\u001b[0;34m)\u001b[0m\u001b[0;34m,\u001b[0m \u001b[0msample_weight\u001b[0m\u001b[0;34m=\u001b[0m\u001b[0mval_weights\u001b[0m\u001b[0;34m.\u001b[0m\u001b[0mcpu\u001b[0m\u001b[0;34m(\u001b[0m\u001b[0;34m)\u001b[0m\u001b[0;34m)\u001b[0m\u001b[0;34m\u001b[0m\u001b[0;34m\u001b[0m\u001b[0m\n\u001b[0m\u001b[1;32m     44\u001b[0m         \u001b[0mtrial\u001b[0m\u001b[0;34m.\u001b[0m\u001b[0mreport\u001b[0m\u001b[0;34m(\u001b[0m\u001b[0mROC_SCORE\u001b[0m\u001b[0;34m,\u001b[0m \u001b[0mepoch\u001b[0m\u001b[0;34m)\u001b[0m\u001b[0;34m\u001b[0m\u001b[0;34m\u001b[0m\u001b[0m\n\u001b[1;32m     45\u001b[0m \u001b[0;34m\u001b[0m\u001b[0m\n",
      "\u001b[0;31mKeyboardInterrupt\u001b[0m: "
     ]
    }
   ],
   "source": [
    "    study = optuna.create_study(study_name=\"Optimizing The Neural Network\",direction=\"maximize\", storage=\"sqlite:///example.db\")\n",
    "    study.optimize(objective, n_trials=50)\n",
    "\n",
    "    pruned_trials = [t for t in study.trials if t.state == optuna.trial.TrialState.PRUNED]\n",
    "    complete_trials = [t for t in study.trials if t.state == optuna.trial.TrialState.COMPLETE]\n",
    "\n",
    "    print(\"Study statistics: \")\n",
    "    print(\"  Number of finished trials: \", len(study.trials))\n",
    "    print(\"  Number of pruned trials: \", len(pruned_trials))\n",
    "    print(\"  Number of complete trials: \", len(complete_trials))\n",
    "\n",
    "    print(\"Best trial:\")\n",
    "    trial = study.best_trial\n",
    "\n",
    "    print(\"  Value: \", trial.value)\n",
    "\n",
    "    print(\"  Params: \")\n",
    "    for key, value in trial.params.items():\n",
    "        print(\"    {}: {}\".format(key, value))"
   ]
  },
  {
   "cell_type": "code",
   "execution_count": 11,
   "metadata": {},
   "outputs": [],
   "source": [
    "trial = study.best_trial"
   ]
  },
  {
   "cell_type": "code",
   "execution_count": 12,
   "metadata": {},
   "outputs": [
    {
     "output_type": "execute_result",
     "data": {
      "text/plain": [
       "['study.pkl']"
      ]
     },
     "metadata": {},
     "execution_count": 12
    }
   ],
   "source": [
    "import joblib\n",
    "joblib.dump(study, \"study.pkl\")"
   ]
  },
  {
   "source": [
    "# Optuna graphs"
   ],
   "cell_type": "markdown",
   "metadata": {}
  },
  {
   "cell_type": "code",
   "execution_count": 13,
   "metadata": {},
   "outputs": [],
   "source": [
    "import joblib\n",
    "study = joblib.load(\"study.pkl\")"
   ]
  },
  {
   "cell_type": "code",
   "execution_count": 14,
   "metadata": {},
   "outputs": [
    {
     "output_type": "display_data",
     "data": {
      "application/vnd.plotly.v1+json": {
       "config": {
        "plotlyServerURL": "https://plot.ly"
       },
       "data": [
        {
         "cliponaxis": false,
         "hovertemplate": [
          "dropout_l0 (UniformDistribution): 0.006578774117503733<extra></extra>",
          "lr (LogUniformDistribution): 0.01421272884146478<extra></extra>",
          "n_epochs (IntUniformDistribution): 0.021551689242702964<extra></extra>",
          "n_units_l0 (IntUniformDistribution): 0.023426825752432427<extra></extra>",
          "batch_size (IntUniformDistribution): 0.036242173782868294<extra></extra>",
          "optimizer (CategoricalDistribution): 0.10076532238135992<extra></extra>",
          "n_layers (IntUniformDistribution): 0.797222485881668<extra></extra>"
         ],
         "marker": {
          "color": [
           "rgb(8,48,107)",
           "rgb(8,48,107)",
           "rgb(8,81,156)",
           "rgb(8,81,156)",
           "rgb(8,81,156)",
           "rgb(66,146,198)",
           "rgb(8,81,156)"
          ]
         },
         "orientation": "h",
         "text": [
          "0.006578774117503733",
          "0.01421272884146478",
          "0.021551689242702964",
          "0.023426825752432427",
          "0.036242173782868294",
          "0.10076532238135992",
          "0.797222485881668"
         ],
         "textposition": "outside",
         "texttemplate": "%{text:.2f}",
         "type": "bar",
         "x": [
          0.006578774117503733,
          0.01421272884146478,
          0.021551689242702964,
          0.023426825752432427,
          0.036242173782868294,
          0.10076532238135992,
          0.797222485881668
         ],
         "y": [
          "dropout_l0",
          "lr",
          "n_epochs",
          "n_units_l0",
          "batch_size",
          "optimizer",
          "n_layers"
         ]
        }
       ],
       "layout": {
        "showlegend": false,
        "template": {
         "data": {
          "bar": [
           {
            "error_x": {
             "color": "#2a3f5f"
            },
            "error_y": {
             "color": "#2a3f5f"
            },
            "marker": {
             "line": {
              "color": "#E5ECF6",
              "width": 0.5
             }
            },
            "type": "bar"
           }
          ],
          "barpolar": [
           {
            "marker": {
             "line": {
              "color": "#E5ECF6",
              "width": 0.5
             }
            },
            "type": "barpolar"
           }
          ],
          "carpet": [
           {
            "aaxis": {
             "endlinecolor": "#2a3f5f",
             "gridcolor": "white",
             "linecolor": "white",
             "minorgridcolor": "white",
             "startlinecolor": "#2a3f5f"
            },
            "baxis": {
             "endlinecolor": "#2a3f5f",
             "gridcolor": "white",
             "linecolor": "white",
             "minorgridcolor": "white",
             "startlinecolor": "#2a3f5f"
            },
            "type": "carpet"
           }
          ],
          "choropleth": [
           {
            "colorbar": {
             "outlinewidth": 0,
             "ticks": ""
            },
            "type": "choropleth"
           }
          ],
          "contour": [
           {
            "colorbar": {
             "outlinewidth": 0,
             "ticks": ""
            },
            "colorscale": [
             [
              0,
              "#0d0887"
             ],
             [
              0.1111111111111111,
              "#46039f"
             ],
             [
              0.2222222222222222,
              "#7201a8"
             ],
             [
              0.3333333333333333,
              "#9c179e"
             ],
             [
              0.4444444444444444,
              "#bd3786"
             ],
             [
              0.5555555555555556,
              "#d8576b"
             ],
             [
              0.6666666666666666,
              "#ed7953"
             ],
             [
              0.7777777777777778,
              "#fb9f3a"
             ],
             [
              0.8888888888888888,
              "#fdca26"
             ],
             [
              1,
              "#f0f921"
             ]
            ],
            "type": "contour"
           }
          ],
          "contourcarpet": [
           {
            "colorbar": {
             "outlinewidth": 0,
             "ticks": ""
            },
            "type": "contourcarpet"
           }
          ],
          "heatmap": [
           {
            "colorbar": {
             "outlinewidth": 0,
             "ticks": ""
            },
            "colorscale": [
             [
              0,
              "#0d0887"
             ],
             [
              0.1111111111111111,
              "#46039f"
             ],
             [
              0.2222222222222222,
              "#7201a8"
             ],
             [
              0.3333333333333333,
              "#9c179e"
             ],
             [
              0.4444444444444444,
              "#bd3786"
             ],
             [
              0.5555555555555556,
              "#d8576b"
             ],
             [
              0.6666666666666666,
              "#ed7953"
             ],
             [
              0.7777777777777778,
              "#fb9f3a"
             ],
             [
              0.8888888888888888,
              "#fdca26"
             ],
             [
              1,
              "#f0f921"
             ]
            ],
            "type": "heatmap"
           }
          ],
          "heatmapgl": [
           {
            "colorbar": {
             "outlinewidth": 0,
             "ticks": ""
            },
            "colorscale": [
             [
              0,
              "#0d0887"
             ],
             [
              0.1111111111111111,
              "#46039f"
             ],
             [
              0.2222222222222222,
              "#7201a8"
             ],
             [
              0.3333333333333333,
              "#9c179e"
             ],
             [
              0.4444444444444444,
              "#bd3786"
             ],
             [
              0.5555555555555556,
              "#d8576b"
             ],
             [
              0.6666666666666666,
              "#ed7953"
             ],
             [
              0.7777777777777778,
              "#fb9f3a"
             ],
             [
              0.8888888888888888,
              "#fdca26"
             ],
             [
              1,
              "#f0f921"
             ]
            ],
            "type": "heatmapgl"
           }
          ],
          "histogram": [
           {
            "marker": {
             "colorbar": {
              "outlinewidth": 0,
              "ticks": ""
             }
            },
            "type": "histogram"
           }
          ],
          "histogram2d": [
           {
            "colorbar": {
             "outlinewidth": 0,
             "ticks": ""
            },
            "colorscale": [
             [
              0,
              "#0d0887"
             ],
             [
              0.1111111111111111,
              "#46039f"
             ],
             [
              0.2222222222222222,
              "#7201a8"
             ],
             [
              0.3333333333333333,
              "#9c179e"
             ],
             [
              0.4444444444444444,
              "#bd3786"
             ],
             [
              0.5555555555555556,
              "#d8576b"
             ],
             [
              0.6666666666666666,
              "#ed7953"
             ],
             [
              0.7777777777777778,
              "#fb9f3a"
             ],
             [
              0.8888888888888888,
              "#fdca26"
             ],
             [
              1,
              "#f0f921"
             ]
            ],
            "type": "histogram2d"
           }
          ],
          "histogram2dcontour": [
           {
            "colorbar": {
             "outlinewidth": 0,
             "ticks": ""
            },
            "colorscale": [
             [
              0,
              "#0d0887"
             ],
             [
              0.1111111111111111,
              "#46039f"
             ],
             [
              0.2222222222222222,
              "#7201a8"
             ],
             [
              0.3333333333333333,
              "#9c179e"
             ],
             [
              0.4444444444444444,
              "#bd3786"
             ],
             [
              0.5555555555555556,
              "#d8576b"
             ],
             [
              0.6666666666666666,
              "#ed7953"
             ],
             [
              0.7777777777777778,
              "#fb9f3a"
             ],
             [
              0.8888888888888888,
              "#fdca26"
             ],
             [
              1,
              "#f0f921"
             ]
            ],
            "type": "histogram2dcontour"
           }
          ],
          "mesh3d": [
           {
            "colorbar": {
             "outlinewidth": 0,
             "ticks": ""
            },
            "type": "mesh3d"
           }
          ],
          "parcoords": [
           {
            "line": {
             "colorbar": {
              "outlinewidth": 0,
              "ticks": ""
             }
            },
            "type": "parcoords"
           }
          ],
          "pie": [
           {
            "automargin": true,
            "type": "pie"
           }
          ],
          "scatter": [
           {
            "marker": {
             "colorbar": {
              "outlinewidth": 0,
              "ticks": ""
             }
            },
            "type": "scatter"
           }
          ],
          "scatter3d": [
           {
            "line": {
             "colorbar": {
              "outlinewidth": 0,
              "ticks": ""
             }
            },
            "marker": {
             "colorbar": {
              "outlinewidth": 0,
              "ticks": ""
             }
            },
            "type": "scatter3d"
           }
          ],
          "scattercarpet": [
           {
            "marker": {
             "colorbar": {
              "outlinewidth": 0,
              "ticks": ""
             }
            },
            "type": "scattercarpet"
           }
          ],
          "scattergeo": [
           {
            "marker": {
             "colorbar": {
              "outlinewidth": 0,
              "ticks": ""
             }
            },
            "type": "scattergeo"
           }
          ],
          "scattergl": [
           {
            "marker": {
             "colorbar": {
              "outlinewidth": 0,
              "ticks": ""
             }
            },
            "type": "scattergl"
           }
          ],
          "scattermapbox": [
           {
            "marker": {
             "colorbar": {
              "outlinewidth": 0,
              "ticks": ""
             }
            },
            "type": "scattermapbox"
           }
          ],
          "scatterpolar": [
           {
            "marker": {
             "colorbar": {
              "outlinewidth": 0,
              "ticks": ""
             }
            },
            "type": "scatterpolar"
           }
          ],
          "scatterpolargl": [
           {
            "marker": {
             "colorbar": {
              "outlinewidth": 0,
              "ticks": ""
             }
            },
            "type": "scatterpolargl"
           }
          ],
          "scatterternary": [
           {
            "marker": {
             "colorbar": {
              "outlinewidth": 0,
              "ticks": ""
             }
            },
            "type": "scatterternary"
           }
          ],
          "surface": [
           {
            "colorbar": {
             "outlinewidth": 0,
             "ticks": ""
            },
            "colorscale": [
             [
              0,
              "#0d0887"
             ],
             [
              0.1111111111111111,
              "#46039f"
             ],
             [
              0.2222222222222222,
              "#7201a8"
             ],
             [
              0.3333333333333333,
              "#9c179e"
             ],
             [
              0.4444444444444444,
              "#bd3786"
             ],
             [
              0.5555555555555556,
              "#d8576b"
             ],
             [
              0.6666666666666666,
              "#ed7953"
             ],
             [
              0.7777777777777778,
              "#fb9f3a"
             ],
             [
              0.8888888888888888,
              "#fdca26"
             ],
             [
              1,
              "#f0f921"
             ]
            ],
            "type": "surface"
           }
          ],
          "table": [
           {
            "cells": {
             "fill": {
              "color": "#EBF0F8"
             },
             "line": {
              "color": "white"
             }
            },
            "header": {
             "fill": {
              "color": "#C8D4E3"
             },
             "line": {
              "color": "white"
             }
            },
            "type": "table"
           }
          ]
         },
         "layout": {
          "annotationdefaults": {
           "arrowcolor": "#2a3f5f",
           "arrowhead": 0,
           "arrowwidth": 1
          },
          "autotypenumbers": "strict",
          "coloraxis": {
           "colorbar": {
            "outlinewidth": 0,
            "ticks": ""
           }
          },
          "colorscale": {
           "diverging": [
            [
             0,
             "#8e0152"
            ],
            [
             0.1,
             "#c51b7d"
            ],
            [
             0.2,
             "#de77ae"
            ],
            [
             0.3,
             "#f1b6da"
            ],
            [
             0.4,
             "#fde0ef"
            ],
            [
             0.5,
             "#f7f7f7"
            ],
            [
             0.6,
             "#e6f5d0"
            ],
            [
             0.7,
             "#b8e186"
            ],
            [
             0.8,
             "#7fbc41"
            ],
            [
             0.9,
             "#4d9221"
            ],
            [
             1,
             "#276419"
            ]
           ],
           "sequential": [
            [
             0,
             "#0d0887"
            ],
            [
             0.1111111111111111,
             "#46039f"
            ],
            [
             0.2222222222222222,
             "#7201a8"
            ],
            [
             0.3333333333333333,
             "#9c179e"
            ],
            [
             0.4444444444444444,
             "#bd3786"
            ],
            [
             0.5555555555555556,
             "#d8576b"
            ],
            [
             0.6666666666666666,
             "#ed7953"
            ],
            [
             0.7777777777777778,
             "#fb9f3a"
            ],
            [
             0.8888888888888888,
             "#fdca26"
            ],
            [
             1,
             "#f0f921"
            ]
           ],
           "sequentialminus": [
            [
             0,
             "#0d0887"
            ],
            [
             0.1111111111111111,
             "#46039f"
            ],
            [
             0.2222222222222222,
             "#7201a8"
            ],
            [
             0.3333333333333333,
             "#9c179e"
            ],
            [
             0.4444444444444444,
             "#bd3786"
            ],
            [
             0.5555555555555556,
             "#d8576b"
            ],
            [
             0.6666666666666666,
             "#ed7953"
            ],
            [
             0.7777777777777778,
             "#fb9f3a"
            ],
            [
             0.8888888888888888,
             "#fdca26"
            ],
            [
             1,
             "#f0f921"
            ]
           ]
          },
          "colorway": [
           "#636efa",
           "#EF553B",
           "#00cc96",
           "#ab63fa",
           "#FFA15A",
           "#19d3f3",
           "#FF6692",
           "#B6E880",
           "#FF97FF",
           "#FECB52"
          ],
          "font": {
           "color": "#2a3f5f"
          },
          "geo": {
           "bgcolor": "white",
           "lakecolor": "white",
           "landcolor": "#E5ECF6",
           "showlakes": true,
           "showland": true,
           "subunitcolor": "white"
          },
          "hoverlabel": {
           "align": "left"
          },
          "hovermode": "closest",
          "mapbox": {
           "style": "light"
          },
          "paper_bgcolor": "white",
          "plot_bgcolor": "#E5ECF6",
          "polar": {
           "angularaxis": {
            "gridcolor": "white",
            "linecolor": "white",
            "ticks": ""
           },
           "bgcolor": "#E5ECF6",
           "radialaxis": {
            "gridcolor": "white",
            "linecolor": "white",
            "ticks": ""
           }
          },
          "scene": {
           "xaxis": {
            "backgroundcolor": "#E5ECF6",
            "gridcolor": "white",
            "gridwidth": 2,
            "linecolor": "white",
            "showbackground": true,
            "ticks": "",
            "zerolinecolor": "white"
           },
           "yaxis": {
            "backgroundcolor": "#E5ECF6",
            "gridcolor": "white",
            "gridwidth": 2,
            "linecolor": "white",
            "showbackground": true,
            "ticks": "",
            "zerolinecolor": "white"
           },
           "zaxis": {
            "backgroundcolor": "#E5ECF6",
            "gridcolor": "white",
            "gridwidth": 2,
            "linecolor": "white",
            "showbackground": true,
            "ticks": "",
            "zerolinecolor": "white"
           }
          },
          "shapedefaults": {
           "line": {
            "color": "#2a3f5f"
           }
          },
          "ternary": {
           "aaxis": {
            "gridcolor": "white",
            "linecolor": "white",
            "ticks": ""
           },
           "baxis": {
            "gridcolor": "white",
            "linecolor": "white",
            "ticks": ""
           },
           "bgcolor": "#E5ECF6",
           "caxis": {
            "gridcolor": "white",
            "linecolor": "white",
            "ticks": ""
           }
          },
          "title": {
           "x": 0.05
          },
          "xaxis": {
           "automargin": true,
           "gridcolor": "white",
           "linecolor": "white",
           "ticks": "",
           "title": {
            "standoff": 15
           },
           "zerolinecolor": "white",
           "zerolinewidth": 2
          },
          "yaxis": {
           "automargin": true,
           "gridcolor": "white",
           "linecolor": "white",
           "ticks": "",
           "title": {
            "standoff": 15
           },
           "zerolinecolor": "white",
           "zerolinewidth": 2
          }
         }
        },
        "title": {
         "text": "Hyperparameter Importances"
        },
        "xaxis": {
         "title": {
          "text": "Importance for Objective Value"
         }
        },
        "yaxis": {
         "title": {
          "text": "Hyperparameter"
         }
        }
       }
      }
     },
     "metadata": {}
    }
   ],
   "source": [
    "optuna.visualization.plot_param_importances(study)"
   ]
  },
  {
   "cell_type": "code",
   "execution_count": 16,
   "metadata": {},
   "outputs": [
    {
     "output_type": "display_data",
     "data": {
      "application/vnd.plotly.v1+json": {
       "config": {
        "plotlyServerURL": "https://plot.ly"
       },
       "data": [
        {
         "marker": {
          "maxdisplayed": 10
         },
         "mode": "lines+markers",
         "name": "Trial0",
         "type": "scatter",
         "x": [
          0,
          1,
          2,
          3,
          4,
          5,
          6,
          7,
          8,
          9,
          10,
          11,
          12,
          13,
          14,
          15,
          16,
          17,
          18,
          19,
          20,
          21,
          22,
          23,
          24,
          25,
          26,
          27,
          28,
          29,
          30,
          31,
          32,
          33,
          34,
          35,
          36,
          37,
          38,
          39,
          40,
          41,
          42,
          43,
          44,
          45,
          46,
          47,
          48,
          49,
          50,
          51,
          52,
          53,
          54,
          55,
          56,
          57,
          58,
          59,
          60,
          61,
          62,
          63,
          64,
          65,
          66,
          67,
          68,
          69,
          70,
          71,
          72
         ],
         "y": [
          0.8806030724239192,
          0.9103819064377195,
          0.9219465767599874,
          0.9275392924386328,
          0.9320451232356,
          0.93556175661237,
          0.9384166909422464,
          0.9406114892568567,
          0.942748318598166,
          0.9443873746387308,
          0.9456967117717159,
          0.9468030196017423,
          0.9478208827832691,
          0.9487931972690995,
          0.949457757019148,
          0.9500395430869244,
          0.9505574505495924,
          0.9511767481103084,
          0.9517510121437261,
          0.9519267263689557,
          0.9525163841392641,
          0.952725260850634,
          0.9531282976436424,
          0.953496390237622,
          0.9537013356648112,
          0.9539593042010724,
          0.9542495742999448,
          0.9544379570053934,
          0.9548750475572458,
          0.955128044376325,
          0.9551732866559162,
          0.9554589573386907,
          0.9555963948733329,
          0.9556203948860578,
          0.9557717867737026,
          0.9561250431590975,
          0.9562786511924011,
          0.9563482024127115,
          0.9564893426943004,
          0.9566403703929554,
          0.9568189474364255,
          0.9569925693425915,
          0.9572362131501215,
          0.9572193370560902,
          0.9574406419506143,
          0.9576780374261713,
          0.9577995891754555,
          0.957856543153859,
          0.9578574687581214,
          0.9581663137258436,
          0.9583711070894549,
          0.9585115858879767,
          0.9585010974571442,
          0.9586420588545284,
          0.9586968333383802,
          0.9586610509987117,
          0.9588278996278491,
          0.959036501250897,
          0.9591164268752063,
          0.9591993470855429,
          0.9594855004485242,
          0.9595500028755677,
          0.9597397493913663,
          0.9598583891416046,
          0.9598420307302158,
          0.9598947759440506,
          0.9600414219487655,
          0.9602909156764953,
          0.9602327889799489,
          0.9603910558941373,
          0.9604710950493726,
          0.9605491950129841,
          0.9606944219601637
         ]
        },
        {
         "marker": {
          "maxdisplayed": 10
         },
         "mode": "lines+markers",
         "name": "Trial1",
         "type": "scatter",
         "x": [
          0,
          1,
          2,
          3,
          4,
          5,
          6,
          7,
          8,
          9,
          10,
          11,
          12,
          13,
          14,
          15,
          16,
          17,
          18,
          19,
          20,
          21,
          22,
          23,
          24,
          25,
          26,
          27,
          28,
          29,
          30,
          31,
          32,
          33,
          34,
          35,
          36,
          37,
          38,
          39,
          40,
          41,
          42,
          43,
          44,
          45,
          46,
          47,
          48,
          49,
          50,
          51
         ],
         "y": [
          0.4370555730199301,
          0.45575722061089136,
          0.46959016313293145,
          0.4797087617080784,
          0.4871111576075719,
          0.4925602188775106,
          0.49927785911664707,
          0.5080911724480973,
          0.5229744831519724,
          0.49864744556221957,
          0.43133916776396186,
          0.44174952270432877,
          0.4604136813226448,
          0.4159324600399887,
          0.41453546868905755,
          0.4369839422740815,
          0.4571057168960392,
          0.47114918916987786,
          0.48042861367221334,
          0.48721029948793126,
          0.4929828365657922,
          0.49852537850818535,
          0.507422851972183,
          0.5221404753303684,
          0.510920031302823,
          0.43104353293731684,
          0.4156530271861387,
          0.43830449118400283,
          0.46816954039298225,
          0.4962298380418139,
          0.48932604086235565,
          0.42419349765612185,
          0.41344940299312893,
          0.4345086131884015,
          0.4538852355895722,
          0.4679223964364507,
          0.4786294042951526,
          0.4865016767943682,
          0.49150074736813676,
          0.497671137691488,
          0.506996850253295,
          0.5210611737558976,
          0.5159245557820956,
          0.4451596558476756,
          0.4393300666737201,
          0.46103861147771086,
          0.422502390852641,
          0.41150511154178193,
          0.4321746328293588,
          0.4531598502237764,
          0.4685656515779608,
          0.479783371735681
         ]
        },
        {
         "marker": {
          "maxdisplayed": 10
         },
         "mode": "lines+markers",
         "name": "Trial2",
         "type": "scatter",
         "x": [
          0,
          1,
          2,
          3,
          4,
          5,
          6,
          7,
          8,
          9,
          10,
          11,
          12,
          13,
          14,
          15,
          16,
          17,
          18,
          19,
          20,
          21,
          22,
          23,
          24,
          25,
          26,
          27,
          28,
          29,
          30,
          31,
          32,
          33,
          34,
          35,
          36,
          37,
          38,
          39,
          40,
          41,
          42,
          43,
          44,
          45,
          46,
          47,
          48,
          49,
          50,
          51,
          52,
          53,
          54,
          55,
          56,
          57,
          58,
          59,
          60,
          61,
          62,
          63,
          64,
          65,
          66,
          67
         ],
         "y": [
          0.5,
          0.5,
          0.5,
          0.5,
          0.5,
          0.5,
          0.5,
          0.5,
          0.5,
          0.5152487792185354,
          0.5,
          0.5,
          0.5,
          0.5,
          0.5,
          0.5,
          0.5,
          0.5,
          0.5,
          0.5,
          0.5,
          0.5,
          0.5,
          0.5,
          0.5,
          0.5,
          0.5,
          0.5,
          0.5,
          0.5,
          0.5,
          0.5,
          0.5,
          0.5,
          0.5,
          0.5,
          0.5,
          0.5,
          0.5,
          0.5048002585706843,
          0.5,
          0.5,
          0.5,
          0.5,
          0.5,
          0.5,
          0.5,
          0.5,
          0.5120953350167189,
          0.5,
          0.5,
          0.5,
          0.5,
          0.5,
          0.5,
          0.5,
          0.5,
          0.5,
          0.5,
          0.5,
          0.5,
          0.5,
          0.5,
          0.5,
          0.5,
          0.5,
          0.5,
          0.5
         ]
        },
        {
         "marker": {
          "maxdisplayed": 10
         },
         "mode": "lines+markers",
         "name": "Trial3",
         "type": "scatter",
         "x": [
          0,
          1,
          2,
          3,
          4,
          5,
          6,
          7,
          8,
          9,
          10,
          11
         ],
         "y": [
          0.5,
          0.5,
          0.5,
          0.5,
          0.5,
          0.5,
          0.5,
          0.5,
          0.5,
          0.5,
          0.5,
          0.5
         ]
        },
        {
         "marker": {
          "maxdisplayed": 10
         },
         "mode": "lines+markers",
         "name": "Trial4",
         "type": "scatter",
         "x": [
          0,
          1,
          2,
          3,
          4,
          5,
          6,
          7,
          8,
          9,
          10,
          11,
          12,
          13,
          14,
          15,
          16,
          17,
          18,
          19,
          20,
          21,
          22,
          23,
          24,
          25,
          26,
          27,
          28,
          29,
          30,
          31,
          32,
          33,
          34,
          35,
          36,
          37,
          38,
          39,
          40,
          41,
          42,
          43,
          44,
          45,
          46,
          47,
          48
         ],
         "y": [
          0.5,
          0.5,
          0.5,
          0.5,
          0.5,
          0.5,
          0.5,
          0.5,
          0.5,
          0.5,
          0.5,
          0.5,
          0.5,
          0.5,
          0.5,
          0.5,
          0.5,
          0.5,
          0.5,
          0.5,
          0.5,
          0.5,
          0.5,
          0.5,
          0.5,
          0.5,
          0.5,
          0.5,
          0.5,
          0.5,
          0.5,
          0.5,
          0.5,
          0.5,
          0.5,
          0.5,
          0.5,
          0.5,
          0.5,
          0.5,
          0.5,
          0.5,
          0.5,
          0.5,
          0.5,
          0.5,
          0.5,
          0.5,
          0.5
         ]
        },
        {
         "marker": {
          "maxdisplayed": 10
         },
         "mode": "lines+markers",
         "name": "Trial5",
         "type": "scatter",
         "x": [
          0,
          1,
          2,
          3,
          4,
          5,
          6,
          7,
          8,
          9,
          10,
          11,
          12,
          13,
          14,
          15,
          16,
          17,
          18,
          19
         ],
         "y": [
          0.5,
          0.5,
          0.5,
          0.5,
          0.5,
          0.5,
          0.5,
          0.5,
          0.5,
          0.5,
          0.5,
          0.5,
          0.5,
          0.5,
          0.5,
          0.5,
          0.5,
          0.5,
          0.5,
          0.5
         ]
        },
        {
         "marker": {
          "maxdisplayed": 10
         },
         "mode": "lines+markers",
         "name": "Trial6",
         "type": "scatter",
         "x": [
          0,
          1,
          2,
          3,
          4,
          5,
          6,
          7,
          8,
          9,
          10,
          11,
          12,
          13,
          14,
          15,
          16,
          17,
          18,
          19,
          20,
          21,
          22,
          23,
          24,
          25,
          26
         ],
         "y": [
          0.7515774603604664,
          0.9415585857662863,
          0.9502046532311064,
          0.9538105299933141,
          0.9556602537584825,
          0.9573980262305022,
          0.9582623293544855,
          0.9591950987647818,
          0.9601189159623496,
          0.9605972917724929,
          0.9615602873471253,
          0.9622824733184374,
          0.9626863134592378,
          0.9632237199918978,
          0.9638518021631703,
          0.9644191138654125,
          0.964919515516576,
          0.9653842536365926,
          0.9655668404856804,
          0.9656704706339235,
          0.9647812001630617,
          0.9638810519720016,
          0.9669984662122195,
          0.965549174484173,
          0.9672167229471519,
          0.9662539353601777,
          0.9649955010134058
         ]
        },
        {
         "marker": {
          "maxdisplayed": 10
         },
         "mode": "lines+markers",
         "name": "Trial7",
         "type": "scatter",
         "x": [
          0,
          1,
          2,
          3,
          4,
          5,
          6,
          7,
          8,
          9,
          10,
          11,
          12,
          13,
          14,
          15,
          16,
          17,
          18,
          19,
          20,
          21,
          22,
          23,
          24,
          25,
          26,
          27,
          28,
          29,
          30,
          31,
          32,
          33,
          34,
          35,
          36,
          37,
          38,
          39,
          40,
          41,
          42,
          43,
          44,
          45,
          46,
          47,
          48,
          49,
          50,
          51,
          52,
          53,
          54,
          55,
          56,
          57,
          58,
          59,
          60,
          61,
          62,
          63,
          64,
          65,
          66,
          67,
          68,
          69,
          70,
          71,
          72,
          73,
          74,
          75,
          76,
          77,
          78,
          79,
          80,
          81,
          82,
          83
         ],
         "y": [
          0.5,
          0.5,
          0.5,
          0.5,
          0.5,
          0.5,
          0.5,
          0.5,
          0.5,
          0.5,
          0.5,
          0.5,
          0.5,
          0.5,
          0.5,
          0.5,
          0.5,
          0.5,
          0.5,
          0.5,
          0.5,
          0.5,
          0.5,
          0.5,
          0.5,
          0.5,
          0.5,
          0.5,
          0.5,
          0.5,
          0.5,
          0.5,
          0.5,
          0.5,
          0.5,
          0.5,
          0.5,
          0.5,
          0.5,
          0.5,
          0.5,
          0.5,
          0.5,
          0.5,
          0.5,
          0.5,
          0.5,
          0.5,
          0.5,
          0.5,
          0.5,
          0.5,
          0.5,
          0.5,
          0.5,
          0.5,
          0.5,
          0.5,
          0.5,
          0.5,
          0.5,
          0.5,
          0.5,
          0.5,
          0.5,
          0.5,
          0.5,
          0.5,
          0.5,
          0.5,
          0.5,
          0.5,
          0.5,
          0.5,
          0.5,
          0.5,
          0.5,
          0.5,
          0.5,
          0.5,
          0.5001545200503654,
          0.5,
          0.5,
          0.5
         ]
        },
        {
         "marker": {
          "maxdisplayed": 10
         },
         "mode": "lines+markers",
         "name": "Trial8",
         "type": "scatter",
         "x": [
          0,
          1,
          2,
          3,
          4,
          5,
          6,
          7,
          8,
          9,
          10,
          11,
          12,
          13,
          14,
          15,
          16,
          17
         ],
         "y": [
          0.5,
          0.5,
          0.5,
          0.5,
          0.5,
          0.5,
          0.5,
          0.5,
          0.5,
          0.5,
          0.5,
          0.5,
          0.5,
          0.5,
          0.5,
          0.5,
          0.5,
          0.5
         ]
        },
        {
         "marker": {
          "maxdisplayed": 10
         },
         "mode": "lines+markers",
         "name": "Trial9",
         "type": "scatter",
         "x": [
          0,
          1,
          2,
          3,
          4,
          5,
          6,
          7,
          8,
          9,
          10,
          11,
          12,
          13,
          14,
          15,
          16,
          17,
          18,
          19,
          20,
          21,
          22,
          23,
          24,
          25,
          26,
          27,
          28,
          29,
          30,
          31,
          32,
          33,
          34,
          35,
          36,
          37,
          38,
          39,
          40,
          41,
          42,
          43,
          44,
          45,
          46,
          47,
          48,
          49,
          50,
          51,
          52,
          53,
          54,
          55,
          56,
          57
         ],
         "y": [
          0.5,
          0.5,
          0.5,
          0.5,
          0.5,
          0.5,
          0.5,
          0.5,
          0.5,
          0.5,
          0.5,
          0.5,
          0.5,
          0.5,
          0.5,
          0.5000026730744942,
          0.5,
          0.5,
          0.5,
          0.5,
          0.5,
          0.5,
          0.5,
          0.5,
          0.5,
          0.5,
          0.5,
          0.5,
          0.5,
          0.5,
          0.5,
          0.5,
          0.5,
          0.5,
          0.5,
          0.5,
          0.5,
          0.5,
          0.5,
          0.5,
          0.5,
          0.5,
          0.5,
          0.5,
          0.5,
          0.5,
          0.5,
          0.5,
          0.5,
          0.5,
          0.5,
          0.5,
          0.5,
          0.5,
          0.5,
          0.5,
          0.5,
          0.5
         ]
        },
        {
         "marker": {
          "maxdisplayed": 10
         },
         "mode": "lines+markers",
         "name": "Trial10",
         "type": "scatter",
         "x": [
          0,
          1,
          2,
          3,
          4,
          5,
          6,
          7,
          8,
          9,
          10,
          11,
          12,
          13,
          14,
          15,
          16,
          17,
          18,
          19,
          20,
          21,
          22,
          23,
          24,
          25,
          26,
          27,
          28,
          29,
          30,
          31,
          32
         ],
         "y": [
          0.9246120123291673,
          0.9255942329695903,
          0.8826674093178023,
          0.861870474460298,
          0.9190769474188727,
          0.8924341225637343,
          0.9094998257581769,
          0.9129199543965911,
          0.8866768053811592,
          0.9214209035489861,
          0.9198914709597977,
          0.9155020714396995,
          0.9170329623851363,
          0.9154804478589175,
          0.8791860805989314,
          0.9143817991354064,
          0.9315242524571459,
          0.9251233027230897,
          0.9250068097844185,
          0.9169842913884173,
          0.8877767956793594,
          0.9131257899165328,
          0.9146967859834115,
          0.9126554843478103,
          0.9158882268279175,
          0.9210072460755315,
          0.9264089634862764,
          0.922918351996531,
          0.9230036362938503,
          0.9279531079572215,
          0.9234208243512321,
          0.912447166128332,
          0.8911255223126967
         ]
        },
        {
         "marker": {
          "maxdisplayed": 10
         },
         "mode": "lines+markers",
         "name": "Trial11",
         "type": "scatter",
         "x": [
          0,
          1,
          2,
          3,
          4,
          5,
          6,
          7,
          8,
          9,
          10,
          11,
          12,
          13,
          14,
          15,
          16,
          17,
          18,
          19,
          20,
          21,
          22,
          23,
          24,
          25,
          26,
          27,
          28,
          29,
          30,
          31,
          32,
          33,
          34,
          35,
          36,
          37,
          38,
          39,
          40,
          41,
          42,
          43,
          44,
          45,
          46,
          47,
          48,
          49,
          50,
          51,
          52,
          53,
          54,
          55,
          56,
          57,
          58,
          59,
          60,
          61,
          62,
          63,
          64,
          65,
          66,
          67,
          68,
          69,
          70,
          71,
          72,
          73,
          74,
          75,
          76,
          77,
          78,
          79,
          80,
          81,
          82,
          83,
          84,
          85,
          86,
          87,
          88,
          89,
          90,
          91,
          92,
          93,
          94,
          95,
          96,
          97,
          98
         ],
         "y": [
          0.9369068051987198,
          0.9430302575111866,
          0.9458860606590379,
          0.9468068893097269,
          0.9476894655645451,
          0.9510478095923285,
          0.9515005159654992,
          0.9529273479735643,
          0.953162983721917,
          0.9541962655733768,
          0.9546979101065822,
          0.9546989264280622,
          0.9554302493359558,
          0.9563877255215162,
          0.9574424409493931,
          0.9583770942932248,
          0.9580030927249925,
          0.9583662151097601,
          0.9583830629114443,
          0.9593023824566358,
          0.9594687609822,
          0.9598162687308062,
          0.9599239651685422,
          0.9600435709279354,
          0.959732011917771,
          0.9597998671786859,
          0.9586203077239567,
          0.9598204511757136,
          0.9593770331111448,
          0.9594780614535757,
          0.9598155792134403,
          0.9596729741188178,
          0.9591452580192167,
          0.9594808563118207,
          0.9600367093114054,
          0.9597332533992612,
          0.9594234779539553,
          0.9601997732290725,
          0.9596145549945012,
          0.9599432525665973,
          0.9591621256238103,
          0.9603445132956873,
          0.959557883911116,
          0.9598299972177885,
          0.9591370892467409,
          0.9588157199901228,
          0.9592343304781773,
          0.959427239688001,
          0.9588172422040055,
          0.9589505867809923,
          0.9595908396260722,
          0.958875724418225,
          0.9593962344588467,
          0.9590453085810235,
          0.9595155483280381,
          0.9596412573897821,
          0.9598959982515074,
          0.9593271267435091,
          0.9588649265601693,
          0.9600693715188396,
          0.960479723439937,
          0.9597697054939314,
          0.9601113910228548,
          0.9602496174172518,
          0.9602494922276562,
          0.9607686199817038,
          0.9608507473549753,
          0.9607325366429768,
          0.961080882995305,
          0.9611488932512576,
          0.9604852439736515,
          0.9610702710174303,
          0.9604623681624671,
          0.9608509599394185,
          0.9610383608998271,
          0.960640301215739,
          0.9607000333226592,
          0.9605707867400513,
          0.9602381329081005,
          0.960727904831472,
          0.9605321380752875,
          0.9608515672292575,
          0.9607588156275281,
          0.9618489594600244,
          0.9604385704080587,
          0.9607393030443435,
          0.9606684149064757,
          0.9606005341824957,
          0.9609388565886646,
          0.9604059030704025,
          0.9603772164078098,
          0.9597136841223252,
          0.9597788641935255,
          0.9593359020793876,
          0.9604109494674216,
          0.960655993551689,
          0.9595593848718245,
          0.9603049492526817,
          0.9612025669689668
         ]
        },
        {
         "marker": {
          "maxdisplayed": 10
         },
         "mode": "lines+markers",
         "name": "Trial12",
         "type": "scatter",
         "x": [
          0,
          1,
          2,
          3,
          4,
          5,
          6,
          7,
          8,
          9,
          10,
          11,
          12,
          13,
          14,
          15,
          16,
          17,
          18,
          19,
          20,
          21,
          22,
          23,
          24,
          25,
          26,
          27,
          28,
          29,
          30,
          31,
          32,
          33,
          34,
          35,
          36,
          37,
          38,
          39,
          40,
          41,
          42,
          43,
          44,
          45,
          46,
          47,
          48,
          49,
          50,
          51,
          52,
          53,
          54,
          55,
          56,
          57,
          58,
          59,
          60,
          61,
          62,
          63,
          64,
          65,
          66,
          67,
          68,
          69,
          70,
          71,
          72,
          73,
          74,
          75,
          76,
          77,
          78,
          79,
          80,
          81,
          82,
          83,
          84,
          85,
          86,
          87,
          88,
          89,
          90,
          91,
          92,
          93,
          94,
          95,
          96
         ],
         "y": [
          0.5001251968189694,
          0.5,
          0.5,
          0.5,
          0.5,
          0.5,
          0.50002287566379,
          0.5,
          0.5001252488164958,
          0.5,
          0.5,
          0.5,
          0.5,
          0.5,
          0.5,
          0.5,
          0.5,
          0.5,
          0.5,
          0.5,
          0.5,
          0.5,
          0.5,
          0.5,
          0.5,
          0.5,
          0.5,
          0.5,
          0.5,
          0.5,
          0.5,
          0.5,
          0.5,
          0.5,
          0.5,
          0.5,
          0.5,
          0.5,
          0.5,
          0.5,
          0.5,
          0.5,
          0.5,
          0.5,
          0.5,
          0.5,
          0.5,
          0.5,
          0.5,
          0.5,
          0.5,
          0.5,
          0.5,
          0.5,
          0.5,
          0.5,
          0.5,
          0.5,
          0.5,
          0.5,
          0.5,
          0.5,
          0.5,
          0.5,
          0.5,
          0.5,
          0.5,
          0.5,
          0.5,
          0.5,
          0.5,
          0.5,
          0.5,
          0.5,
          0.5,
          0.5,
          0.5,
          0.5,
          0.5,
          0.5,
          0.5,
          0.5,
          0.5,
          0.5,
          0.5,
          0.5,
          0.5,
          0.5,
          0.5,
          0.5,
          0.5,
          0.5,
          0.5,
          0.5,
          0.5,
          0.5,
          0.5
         ]
        },
        {
         "marker": {
          "maxdisplayed": 10
         },
         "mode": "lines+markers",
         "name": "Trial13",
         "type": "scatter",
         "x": [
          0,
          1,
          2,
          3,
          4,
          5,
          6,
          7,
          8,
          9,
          10,
          11,
          12,
          13,
          14,
          15,
          16,
          17,
          18,
          19,
          20,
          21,
          22,
          23,
          24,
          25,
          26,
          27,
          28,
          29,
          30,
          31,
          32,
          33
         ],
         "y": [
          0.9303946155981804,
          0.9409613518294941,
          0.9471024876714201,
          0.9503655703459102,
          0.9523415874726773,
          0.9540073118064251,
          0.9553015426414493,
          0.9561774062610328,
          0.9571586091073236,
          0.957358926228729,
          0.9583056350592574,
          0.9585030290815651,
          0.9589173560085428,
          0.9593847665080378,
          0.9598119406529119,
          0.9602599652229247,
          0.9605146761496908,
          0.9607606055697573,
          0.9609518923066928,
          0.9613678312612424,
          0.9615115976947158,
          0.9619139658939544,
          0.9621062710266285,
          0.9624269198842649,
          0.9625737075894769,
          0.9627899337638354,
          0.9630647366287483,
          0.9632004230279818,
          0.963499651556441,
          0.9637133606325854,
          0.963886753284487,
          0.9640277225121479,
          0.9639681837185108,
          0.9643228387187995
         ]
        },
        {
         "marker": {
          "maxdisplayed": 10
         },
         "mode": "lines+markers",
         "name": "Trial14",
         "type": "scatter",
         "x": [
          0,
          1,
          2,
          3,
          4,
          5,
          6,
          7,
          8,
          9,
          10,
          11,
          12,
          13,
          14,
          15,
          16,
          17,
          18,
          19,
          20,
          21,
          22,
          23,
          24,
          25,
          26,
          27,
          28,
          29,
          30,
          31,
          32,
          33,
          34
         ],
         "y": [
          0.9258432707678506,
          0.9405978362527995,
          0.9473564046356624,
          0.9509894353967296,
          0.9533995931053622,
          0.9550040845024921,
          0.9562536019770838,
          0.9571133380401253,
          0.9578828408394596,
          0.9584761487130646,
          0.9591028242581274,
          0.9595897131224326,
          0.9599784538953181,
          0.9604772501295895,
          0.9608154811147277,
          0.9611535602329355,
          0.9614559860288127,
          0.9617620087039768,
          0.9620595186236781,
          0.9622891701517029,
          0.9624862441466028,
          0.9627148663957902,
          0.9630020543783993,
          0.9631298509528206,
          0.9633176084836802,
          0.9635228112375593,
          0.9637449301458445,
          0.963897463142816,
          0.9640952060251365,
          0.9642613655070286,
          0.9644150490633058,
          0.9645869696280379,
          0.9647214384848634,
          0.9648044227540203,
          0.964957793454765
         ]
        },
        {
         "marker": {
          "maxdisplayed": 10
         },
         "mode": "lines+markers",
         "name": "Trial15",
         "type": "scatter",
         "x": [
          0,
          1,
          2,
          3,
          4,
          5,
          6,
          7,
          8,
          9,
          10,
          11,
          12,
          13,
          14,
          15,
          16,
          17,
          18,
          19,
          20,
          21,
          22,
          23,
          24,
          25,
          26,
          27,
          28,
          29,
          30,
          31,
          32,
          33
         ],
         "y": [
          0.9584862977804294,
          0.9620195683888255,
          0.9647000424095907,
          0.9655834194453805,
          0.966524495778003,
          0.9661890009168246,
          0.9666352190857619,
          0.967616730615368,
          0.9677301005484084,
          0.9677157289058945,
          0.9680370854670992,
          0.968042384263892,
          0.9678525264938326,
          0.9681969788161734,
          0.9684304154162513,
          0.9685449594575261,
          0.9684675229223321,
          0.9683460023917635,
          0.9682011993667785,
          0.9683137995134502,
          0.9687161961909538,
          0.9687709401213929,
          0.968311248263041,
          0.9659149209743952,
          0.9685995570942367,
          0.9687414761195033,
          0.9674920709574006,
          0.9689917563213079,
          0.968558811610636,
          0.9686619347429094,
          0.968054570752182,
          0.9687563644891732,
          0.9685914274731638,
          0.9686257673050656
         ]
        },
        {
         "marker": {
          "maxdisplayed": 10
         },
         "mode": "lines+markers",
         "name": "Trial16",
         "type": "scatter",
         "x": [
          0,
          1,
          2,
          3,
          4,
          5,
          6,
          7,
          8,
          9,
          10,
          11,
          12,
          13,
          14,
          15,
          16,
          17,
          18,
          19,
          20,
          21,
          22,
          23,
          24,
          25,
          26
         ],
         "y": [
          0.5,
          0.5,
          0.5,
          0.5,
          0.5,
          0.5,
          0.5,
          0.5,
          0.5,
          0.5,
          0.5,
          0.5,
          0.5,
          0.5,
          0.5,
          0.5,
          0.5,
          0.5,
          0.5,
          0.5,
          0.5,
          0.5,
          0.5,
          0.5,
          0.5,
          0.5,
          0.5
         ]
        },
        {
         "marker": {
          "maxdisplayed": 10
         },
         "mode": "lines+markers",
         "name": "Trial17",
         "type": "scatter",
         "x": [
          0,
          1,
          2,
          3,
          4,
          5
         ],
         "y": [
          0.7078087050233325,
          0.5,
          0.5221246878919961,
          0.7443222056958051,
          0.7057140650340598,
          0.6743583812120316
         ]
        },
        {
         "marker": {
          "maxdisplayed": 10
         },
         "mode": "lines+markers",
         "name": "Trial18",
         "type": "scatter",
         "x": [
          0,
          1,
          2,
          3,
          4,
          5,
          6,
          7,
          8,
          9,
          10,
          11,
          12,
          13,
          14,
          15,
          16,
          17,
          18,
          19,
          20,
          21,
          22,
          23,
          24,
          25,
          26,
          27,
          28,
          29,
          30,
          31,
          32,
          33,
          34,
          35,
          36,
          37,
          38,
          39,
          40,
          41,
          42
         ],
         "y": [
          0.5,
          0.5,
          0.5,
          0.5,
          0.5,
          0.5,
          0.5,
          0.5,
          0.5,
          0.5,
          0.5,
          0.5,
          0.5,
          0.5,
          0.5,
          0.5,
          0.5,
          0.5,
          0.5,
          0.5,
          0.5,
          0.5,
          0.5,
          0.5,
          0.5,
          0.5,
          0.5,
          0.5,
          0.5,
          0.5,
          0.5,
          0.5,
          0.5,
          0.5,
          0.5,
          0.5,
          0.5,
          0.5,
          0.5,
          0.5,
          0.5,
          0.5,
          0.5
         ]
        },
        {
         "marker": {
          "maxdisplayed": 10
         },
         "mode": "lines+markers",
         "name": "Trial19",
         "type": "scatter",
         "x": [
          0,
          1,
          2,
          3,
          4,
          5
         ],
         "y": [
          0.5,
          0.5,
          0.5,
          0.5,
          0.5,
          0.5
         ]
        },
        {
         "marker": {
          "maxdisplayed": 10
         },
         "mode": "lines+markers",
         "name": "Trial20",
         "type": "scatter",
         "x": [
          0,
          1,
          2,
          3,
          4,
          5,
          6,
          7,
          8,
          9,
          10,
          11,
          12,
          13,
          14,
          15,
          16,
          17,
          18,
          19,
          20,
          21,
          22
         ],
         "y": [
          0.9560856958755968,
          0.9604801084525308,
          0.9633210238009042,
          0.965489583443899,
          0.9666897350750508,
          0.9675758121599953,
          0.9682580272910557,
          0.9689393485821585,
          0.9692889275108614,
          0.9692308899319984,
          0.9697132234598401,
          0.9697677910639927,
          0.9699479253094634,
          0.9701463441532705,
          0.9703469436234246,
          0.9704548297793689,
          0.9704635585191546,
          0.9706634385341095,
          0.9707068949141672,
          0.970932126835795,
          0.9708676818449484,
          0.9709901762980346,
          0.9709561552670098
         ]
        },
        {
         "marker": {
          "maxdisplayed": 10
         },
         "mode": "lines+markers",
         "name": "Trial21",
         "type": "scatter",
         "x": [
          0,
          1,
          2,
          3,
          4,
          5,
          6,
          7,
          8,
          9,
          10,
          11,
          12,
          13,
          14,
          15,
          16,
          17,
          18,
          19,
          20,
          21,
          22,
          23,
          24
         ],
         "y": [
          0.9561851476153501,
          0.9601470943754268,
          0.9625653964469109,
          0.9643125979957899,
          0.9660322986919072,
          0.96726787348665,
          0.9681156517334969,
          0.9686672906894962,
          0.9689737886152714,
          0.9694513418050299,
          0.969267757699218,
          0.9698855446818767,
          0.9700067736906909,
          0.970240599902848,
          0.9702900676790978,
          0.9703837679363153,
          0.9709107976916129,
          0.9710209820380556,
          0.9707733360862596,
          0.97068003367834,
          0.9708420158773372,
          0.97107647871948,
          0.9710907657026798,
          0.9708973879187303,
          0.9711957856024203
         ]
        },
        {
         "marker": {
          "maxdisplayed": 10
         },
         "mode": "lines+markers",
         "name": "Trial22",
         "type": "scatter",
         "x": [
          0,
          1,
          2,
          3,
          4,
          5,
          6,
          7,
          8,
          9,
          10,
          11,
          12,
          13,
          14,
          15,
          16,
          17,
          18
         ],
         "y": [
          0.9540844402338571,
          0.9583574114284341,
          0.9605228694447634,
          0.9620710789140582,
          0.9631683731043539,
          0.963863623678576,
          0.9647423714002062,
          0.965408950547038,
          0.9660898413958767,
          0.9667655621670004,
          0.9672173021859845,
          0.9675263315547891,
          0.9680424811014637,
          0.9681897497902276,
          0.9685623063307951,
          0.9687851440242158,
          0.969206130863718,
          0.9691842170160232,
          0.9693804484240228
         ]
        },
        {
         "marker": {
          "maxdisplayed": 10
         },
         "mode": "lines+markers",
         "name": "Trial23",
         "type": "scatter",
         "x": [
          0,
          1,
          2,
          3,
          4,
          5,
          6,
          7,
          8,
          9,
          10,
          11,
          12,
          13,
          14,
          15,
          16,
          17,
          18
         ],
         "y": [
          0.956496657402946,
          0.960994902745861,
          0.9641794321707735,
          0.965801684363433,
          0.9674570863503927,
          0.9680147262456215,
          0.9686864898581091,
          0.9690995317088267,
          0.9694490250666087,
          0.9698014617349561,
          0.9699711733898689,
          0.969862953293075,
          0.970235266351539,
          0.9703015584928282,
          0.9704667598794013,
          0.9705747472754186,
          0.970656168556422,
          0.9709034612504015,
          0.9709791460784817
         ]
        },
        {
         "marker": {
          "maxdisplayed": 10
         },
         "mode": "lines+markers",
         "name": "Trial24",
         "type": "scatter",
         "x": [
          0,
          1,
          2,
          3,
          4,
          5,
          6,
          7,
          8,
          9,
          10,
          11
         ],
         "y": [
          0.9530435570386796,
          0.9584078226359041,
          0.9608121741669844,
          0.9624790339567512,
          0.9646678909413497,
          0.9662694084418962,
          0.9670543932433485,
          0.9678568555962267,
          0.9686141285096102,
          0.9690533438562752,
          0.9693627647998778,
          0.9697472699875808
         ]
        },
        {
         "marker": {
          "maxdisplayed": 10
         },
         "mode": "lines+markers",
         "name": "Trial25",
         "type": "scatter",
         "x": [
          0,
          1,
          2,
          3,
          4,
          5,
          6,
          7,
          8,
          9,
          10,
          11,
          12,
          13,
          14,
          15,
          16,
          17,
          18,
          19,
          20,
          21,
          22,
          23,
          24,
          25,
          26,
          27,
          28,
          29,
          30,
          31,
          32,
          33,
          34,
          35,
          36,
          37,
          38,
          39,
          40,
          41,
          42,
          43
         ],
         "y": [
          0.9578163366738404,
          0.9618763002424455,
          0.9643320692149302,
          0.9658402606783832,
          0.9669971070421595,
          0.9669690760584262,
          0.9672404719239958,
          0.9680506439013435,
          0.9690156492126198,
          0.9684488815976747,
          0.9691435847755085,
          0.9693400229172929,
          0.9689513619225474,
          0.9695638875561897,
          0.9694935485490747,
          0.9696698495235282,
          0.9701352061860449,
          0.9693078922771416,
          0.9700223642461714,
          0.9702153336352467,
          0.9701542547729427,
          0.9701314973265178,
          0.970008433984405,
          0.9705018689104228,
          0.9699866091012674,
          0.970327071946849,
          0.9705080416319373,
          0.9704491681311316,
          0.970478711107087,
          0.9704285665291503,
          0.9702554577517007,
          0.9704115602764246,
          0.9701398594353828,
          0.9706545881030763,
          0.970586266736245,
          0.970686967474795,
          0.9706755480999973,
          0.970632914945794,
          0.970599001046854,
          0.970833708762102,
          0.9707045541273457,
          0.9706137278733397,
          0.9709073371924895,
          0.9708156494217323
         ]
        },
        {
         "marker": {
          "maxdisplayed": 10
         },
         "mode": "lines+markers",
         "name": "Trial26",
         "type": "scatter",
         "x": [
          0,
          1,
          2,
          3,
          4,
          5,
          6,
          7,
          8,
          9,
          10,
          11,
          12,
          13,
          14,
          15,
          16,
          17,
          18,
          19,
          20,
          21,
          22,
          23,
          24
         ],
         "y": [
          0.5,
          0.5,
          0.5,
          0.5,
          0.5,
          0.5,
          0.5,
          0.5,
          0.5,
          0.5,
          0.5,
          0.5,
          0.5,
          0.5,
          0.5,
          0.5,
          0.5,
          0.5,
          0.5,
          0.5,
          0.5,
          0.5,
          0.5,
          0.5,
          0.5
         ]
        },
        {
         "marker": {
          "maxdisplayed": 10
         },
         "mode": "lines+markers",
         "name": "Trial27",
         "type": "scatter",
         "x": [
          0,
          1,
          2,
          3,
          4,
          5,
          6,
          7,
          8,
          9,
          10,
          11
         ],
         "y": [
          0.9551432964056705,
          0.9607717822176551,
          0.9629570054005091,
          0.9651762041420793,
          0.9666048025819396,
          0.9678925886242368,
          0.9686903176208631,
          0.968890798480704,
          0.9693919559905549,
          0.9697582241684773,
          0.9699322250228394,
          0.9700131587829054
         ]
        },
        {
         "marker": {
          "maxdisplayed": 10
         },
         "mode": "lines+markers",
         "name": "Trial28",
         "type": "scatter",
         "x": [
          0,
          1,
          2,
          3,
          4,
          5,
          6,
          7,
          8,
          9,
          10,
          11,
          12,
          13,
          14,
          15,
          16,
          17,
          18,
          19,
          20,
          21,
          22,
          23,
          24,
          25,
          26,
          27,
          28,
          29,
          30,
          31,
          32,
          33,
          34,
          35,
          36,
          37,
          38,
          39,
          40
         ],
         "y": [
          0.5000270391862804,
          0.5,
          0.5,
          0.5,
          0.5,
          0.5,
          0.5,
          0.5,
          0.5,
          0.5,
          0.5,
          0.5,
          0.5,
          0.5,
          0.5,
          0.5,
          0.5,
          0.5,
          0.5,
          0.5,
          0.5,
          0.5,
          0.5,
          0.5,
          0.5,
          0.5,
          0.5,
          0.5,
          0.5,
          0.5,
          0.5,
          0.5,
          0.5,
          0.5,
          0.5,
          0.5,
          0.5,
          0.5,
          0.5,
          0.5,
          0.5
         ]
        },
        {
         "marker": {
          "maxdisplayed": 10
         },
         "mode": "lines+markers",
         "name": "Trial29",
         "type": "scatter",
         "x": [
          0,
          1,
          2,
          3,
          4,
          5,
          6,
          7,
          8,
          9,
          10,
          11,
          12,
          13,
          14,
          15,
          16,
          17,
          18,
          19,
          20,
          21,
          22,
          23,
          24,
          25,
          26,
          27,
          28,
          29,
          30,
          31,
          32,
          33,
          34,
          35,
          36,
          37,
          38,
          39,
          40,
          41,
          42,
          43,
          44,
          45,
          46,
          47,
          48,
          49,
          50,
          51,
          52,
          53,
          54,
          55,
          56,
          57,
          58,
          59
         ],
         "y": [
          0.9496159819477428,
          0.9555548378670766,
          0.9586945739830445,
          0.9608073276132817,
          0.9623254477052621,
          0.9634641975563472,
          0.9645562271137615,
          0.9657942354452901,
          0.9667554609071372,
          0.9674432140926245,
          0.9679927317555697,
          0.9684180182878855,
          0.968802579520086,
          0.9690446091511125,
          0.9694114288197874,
          0.9697219963438819,
          0.9698848905059452,
          0.9699644740481128,
          0.9701310054206329,
          0.9703713090601301,
          0.9703433989792192,
          0.9704744220828724,
          0.9706253806350363,
          0.9706970684304536,
          0.9708987890362079,
          0.9707256167555444,
          0.9706809466990151,
          0.9709950618059715,
          0.9709429860437627,
          0.9708890780887853,
          0.9711646967184536,
          0.9712256054058186,
          0.9710624866181111,
          0.9713018024083566,
          0.9712696095452324,
          0.9712766523968412,
          0.9714606572114939,
          0.9714038348892109,
          0.971268464819124,
          0.9713725160941168,
          0.9714095906143135,
          0.9716950336150819,
          0.9715618917291289,
          0.971656993657106,
          0.9714648733774576,
          0.9715202886517728,
          0.9716050997714374,
          0.9715557965202608,
          0.971460654251607,
          0.9716959058519928,
          0.9717182123255724,
          0.9715123262558741,
          0.9714563848059853,
          0.9713953076339202,
          0.9715048901702672,
          0.971625307737513,
          0.9717011054272444,
          0.9717733916004746,
          0.9717366450134083,
          0.9716148636037774
         ]
        },
        {
         "marker": {
          "maxdisplayed": 10
         },
         "mode": "lines+markers",
         "name": "Trial30",
         "type": "scatter",
         "x": [
          0,
          1,
          2,
          3,
          4,
          5,
          6,
          7,
          8,
          9,
          10,
          11,
          12,
          13,
          14,
          15,
          16,
          17,
          18,
          19,
          20,
          21,
          22,
          23,
          24,
          25,
          26,
          27,
          28,
          29,
          30,
          31,
          32,
          33,
          34,
          35,
          36,
          37,
          38,
          39,
          40,
          41,
          42,
          43,
          44,
          45,
          46,
          47,
          48,
          49,
          50,
          51,
          52,
          53,
          54,
          55,
          56,
          57,
          58,
          59,
          60,
          61,
          62
         ],
         "y": [
          0.9256558691911166,
          0.9383481387030572,
          0.9438184150972546,
          0.9475050995660043,
          0.9499010846380891,
          0.9517470025290033,
          0.953049932246185,
          0.9543984652797165,
          0.9552788521096537,
          0.9559994582850241,
          0.9568418094518485,
          0.9573887076698361,
          0.9581161012143151,
          0.9585500582249614,
          0.959003071600426,
          0.9595183224272277,
          0.9598949687289945,
          0.9602366988612525,
          0.9605908948233096,
          0.9609165467624439,
          0.9612998355668595,
          0.9615826999572158,
          0.9618829059223485,
          0.9620951017196729,
          0.9623636757443236,
          0.9627168716753428,
          0.9630228551712827,
          0.9632273383677673,
          0.9635858370947132,
          0.9637410956430924,
          0.964119514222109,
          0.9643021389069298,
          0.9646096189211317,
          0.9648768535343153,
          0.9651170014516597,
          0.9654071675666974,
          0.965602783194669,
          0.9658701567060287,
          0.9660425165288943,
          0.9662811811928631,
          0.9664536465680691,
          0.9667009378742893,
          0.9668838995336893,
          0.9669766142146292,
          0.9673525635721059,
          0.9674575973323949,
          0.9676315189999125,
          0.9677629890959204,
          0.9678512911073647,
          0.968050224568183,
          0.9681054844399811,
          0.9682578498966288,
          0.9683907551312201,
          0.9684363112127858,
          0.9686713604911364,
          0.9687570123094411,
          0.9688432050343885,
          0.9689471527274739,
          0.969057699857736,
          0.9690637895662607,
          0.9690764776410999,
          0.9692487716926464,
          0.9693304751988896
         ]
        },
        {
         "marker": {
          "maxdisplayed": 10
         },
         "mode": "lines+markers",
         "name": "Trial31",
         "type": "scatter",
         "x": [
          0,
          1,
          2,
          3,
          4,
          5,
          6,
          7,
          8,
          9,
          10,
          11,
          12,
          13,
          14,
          15,
          16,
          17,
          18,
          19,
          20,
          21,
          22,
          23,
          24,
          25,
          26,
          27,
          28,
          29,
          30,
          31,
          32,
          33,
          34,
          35,
          36,
          37,
          38,
          39,
          40,
          41,
          42,
          43,
          44,
          45,
          46,
          47,
          48,
          49,
          50,
          51,
          52,
          53,
          54,
          55,
          56,
          57,
          58,
          59,
          60,
          61,
          62,
          63,
          64,
          65,
          66,
          67,
          68,
          69,
          70,
          71,
          72,
          73,
          74,
          75,
          76,
          77
         ],
         "y": [
          0.9469695475354982,
          0.9543583249273438,
          0.9571756710519193,
          0.9590457363118685,
          0.9604323511230285,
          0.9614819169142224,
          0.9626656932494821,
          0.963563022202532,
          0.9647935499756415,
          0.9653890307489401,
          0.9659657296330717,
          0.9670506661040257,
          0.9674025227858393,
          0.9678245509243221,
          0.968320086519591,
          0.9686677338153205,
          0.9688885435203092,
          0.9691864702840016,
          0.9694372207287268,
          0.9694187122091241,
          0.9698049402797995,
          0.9699815701956819,
          0.9698623443992029,
          0.9702818878359132,
          0.9703822013532005,
          0.9703794198329837,
          0.9703423151567719,
          0.9705736482832232,
          0.9705178796652356,
          0.9706734810883055,
          0.9708017077189511,
          0.9710427782357024,
          0.9708700858286494,
          0.9711871431332592,
          0.9710503203706616,
          0.9710790714826312,
          0.9712065895247632,
          0.9711159807317363,
          0.9712687148948018,
          0.9712561896032798,
          0.9711281185109203,
          0.971238552913371,
          0.9714903543848115,
          0.9713884900981749,
          0.9713396100317822,
          0.9715516121984793,
          0.9714296337049582,
          0.9716308575488545,
          0.9716182891094013,
          0.9717135913688354,
          0.9717286570270919,
          0.9716301748556737,
          0.9717073966033695,
          0.9716614262619868,
          0.9717914530364489,
          0.9716941468529201,
          0.9718306386541089,
          0.9717835203925232,
          0.9718227652505429,
          0.9718692873792639,
          0.9716831484369146,
          0.9717555207426869,
          0.9719587624948728,
          0.9719106714853805,
          0.9717149711943179,
          0.9718290975596489,
          0.9717531085985183,
          0.9719697699294055,
          0.9718556998756752,
          0.9718113865377285,
          0.9717733612154641,
          0.972008961436109,
          0.9716635463804202,
          0.9718720980788734,
          0.971909713261691,
          0.9719814332916616,
          0.9717501499934321,
          0.9716545361497313
         ]
        },
        {
         "marker": {
          "maxdisplayed": 10
         },
         "mode": "lines+markers",
         "name": "Trial32",
         "type": "scatter",
         "x": [
          0,
          1,
          2,
          3,
          4,
          5,
          6,
          7,
          8,
          9,
          10,
          11,
          12,
          13,
          14,
          15,
          16,
          17,
          18,
          19,
          20,
          21,
          22,
          23,
          24,
          25,
          26,
          27,
          28,
          29,
          30,
          31,
          32,
          33,
          34,
          35,
          36,
          37,
          38,
          39,
          40,
          41,
          42,
          43,
          44,
          45,
          46,
          47,
          48,
          49,
          50,
          51,
          52,
          53,
          54,
          55,
          56,
          57,
          58,
          59,
          60,
          61,
          62,
          63,
          64,
          65,
          66,
          67,
          68,
          69,
          70,
          71,
          72,
          73,
          74,
          75,
          76,
          77,
          78,
          79,
          80,
          81,
          82,
          83
         ],
         "y": [
          0.7270031853981086,
          0.9382582573729296,
          0.9521137648722169,
          0.9560835699154129,
          0.9581116329835889,
          0.9598345746537694,
          0.9609148267316548,
          0.9620982799086245,
          0.9630952070419924,
          0.9638972517508824,
          0.964742247480454,
          0.9656716280998502,
          0.9663924485118688,
          0.9669032689956287,
          0.9677115256576752,
          0.9681222997325111,
          0.9682789309007468,
          0.96873003358496,
          0.968954509848795,
          0.9692575231087591,
          0.969488585835803,
          0.9696082401969984,
          0.9697973600213632,
          0.9699702713225757,
          0.9700486183454574,
          0.9701919314230438,
          0.9705523423993148,
          0.9705048106317191,
          0.97047687702132,
          0.970641520254891,
          0.9707703470428162,
          0.9708556388851479,
          0.9709130514770125,
          0.9709562642880779,
          0.971012063135165,
          0.9711327044573312,
          0.9711176763162025,
          0.9712598916149209,
          0.9712036115734305,
          0.971153738478476,
          0.9711666231959756,
          0.9712486453988128,
          0.9710683249495488,
          0.9713122360068429,
          0.9712689440925475,
          0.9712513125809517,
          0.9711518538820472,
          0.9712693385297002,
          0.9711986600747025,
          0.9712141441288513,
          0.971326268544859,
          0.9715486386106039,
          0.9713259942949173,
          0.9714700527434555,
          0.971369651257238,
          0.9714752983791981,
          0.9713371098804339,
          0.9715319492748735,
          0.9714539149023939,
          0.9714226366603084,
          0.971327111257762,
          0.9716170302190811,
          0.9715655473648275,
          0.9714618052391362,
          0.9714969295753345,
          0.9715522010353839,
          0.9713427436633997,
          0.971480632294866,
          0.9714316430748299,
          0.9715221351057278,
          0.9714794614671605,
          0.9714562892194696,
          0.9715787981895757,
          0.9715274827880344,
          0.9714690535611266,
          0.971496178934083,
          0.9715241496189507,
          0.971313001010302,
          0.9713582086541369,
          0.9716303643957376,
          0.9715829394456086,
          0.9714266944055789,
          0.9715197493933256,
          0.9717326744677032
         ]
        },
        {
         "marker": {
          "maxdisplayed": 10
         },
         "mode": "lines+markers",
         "name": "Trial33",
         "type": "scatter",
         "x": [
          0,
          1,
          2,
          3,
          4,
          5,
          6,
          7,
          8,
          9,
          10,
          11,
          12,
          13,
          14,
          15,
          16,
          17,
          18,
          19,
          20,
          21,
          22,
          23,
          24
         ],
         "y": [
          0.4135085777220422,
          0.4559108317088675,
          0.377050935085034,
          0.3875921912819511,
          0.4026678874228947,
          0.4348516050382806,
          0.4184212838827046,
          0.3784270790019395,
          0.4109885090202288,
          0.442430143941142,
          0.383205852671145,
          0.445657295135717,
          0.3976697941527789,
          0.38791833579156876,
          0.4367671643362675,
          0.40357839692398834,
          0.4215925695684612,
          0.3754766076569397,
          0.40789431425810607,
          0.42605240216280016,
          0.4288983725320493,
          0.37741856370832355,
          0.42040644406066835,
          0.4424491761472408,
          0.4085052992159581
         ]
        }
       ],
       "layout": {
        "showlegend": false,
        "template": {
         "data": {
          "bar": [
           {
            "error_x": {
             "color": "#2a3f5f"
            },
            "error_y": {
             "color": "#2a3f5f"
            },
            "marker": {
             "line": {
              "color": "#E5ECF6",
              "width": 0.5
             }
            },
            "type": "bar"
           }
          ],
          "barpolar": [
           {
            "marker": {
             "line": {
              "color": "#E5ECF6",
              "width": 0.5
             }
            },
            "type": "barpolar"
           }
          ],
          "carpet": [
           {
            "aaxis": {
             "endlinecolor": "#2a3f5f",
             "gridcolor": "white",
             "linecolor": "white",
             "minorgridcolor": "white",
             "startlinecolor": "#2a3f5f"
            },
            "baxis": {
             "endlinecolor": "#2a3f5f",
             "gridcolor": "white",
             "linecolor": "white",
             "minorgridcolor": "white",
             "startlinecolor": "#2a3f5f"
            },
            "type": "carpet"
           }
          ],
          "choropleth": [
           {
            "colorbar": {
             "outlinewidth": 0,
             "ticks": ""
            },
            "type": "choropleth"
           }
          ],
          "contour": [
           {
            "colorbar": {
             "outlinewidth": 0,
             "ticks": ""
            },
            "colorscale": [
             [
              0,
              "#0d0887"
             ],
             [
              0.1111111111111111,
              "#46039f"
             ],
             [
              0.2222222222222222,
              "#7201a8"
             ],
             [
              0.3333333333333333,
              "#9c179e"
             ],
             [
              0.4444444444444444,
              "#bd3786"
             ],
             [
              0.5555555555555556,
              "#d8576b"
             ],
             [
              0.6666666666666666,
              "#ed7953"
             ],
             [
              0.7777777777777778,
              "#fb9f3a"
             ],
             [
              0.8888888888888888,
              "#fdca26"
             ],
             [
              1,
              "#f0f921"
             ]
            ],
            "type": "contour"
           }
          ],
          "contourcarpet": [
           {
            "colorbar": {
             "outlinewidth": 0,
             "ticks": ""
            },
            "type": "contourcarpet"
           }
          ],
          "heatmap": [
           {
            "colorbar": {
             "outlinewidth": 0,
             "ticks": ""
            },
            "colorscale": [
             [
              0,
              "#0d0887"
             ],
             [
              0.1111111111111111,
              "#46039f"
             ],
             [
              0.2222222222222222,
              "#7201a8"
             ],
             [
              0.3333333333333333,
              "#9c179e"
             ],
             [
              0.4444444444444444,
              "#bd3786"
             ],
             [
              0.5555555555555556,
              "#d8576b"
             ],
             [
              0.6666666666666666,
              "#ed7953"
             ],
             [
              0.7777777777777778,
              "#fb9f3a"
             ],
             [
              0.8888888888888888,
              "#fdca26"
             ],
             [
              1,
              "#f0f921"
             ]
            ],
            "type": "heatmap"
           }
          ],
          "heatmapgl": [
           {
            "colorbar": {
             "outlinewidth": 0,
             "ticks": ""
            },
            "colorscale": [
             [
              0,
              "#0d0887"
             ],
             [
              0.1111111111111111,
              "#46039f"
             ],
             [
              0.2222222222222222,
              "#7201a8"
             ],
             [
              0.3333333333333333,
              "#9c179e"
             ],
             [
              0.4444444444444444,
              "#bd3786"
             ],
             [
              0.5555555555555556,
              "#d8576b"
             ],
             [
              0.6666666666666666,
              "#ed7953"
             ],
             [
              0.7777777777777778,
              "#fb9f3a"
             ],
             [
              0.8888888888888888,
              "#fdca26"
             ],
             [
              1,
              "#f0f921"
             ]
            ],
            "type": "heatmapgl"
           }
          ],
          "histogram": [
           {
            "marker": {
             "colorbar": {
              "outlinewidth": 0,
              "ticks": ""
             }
            },
            "type": "histogram"
           }
          ],
          "histogram2d": [
           {
            "colorbar": {
             "outlinewidth": 0,
             "ticks": ""
            },
            "colorscale": [
             [
              0,
              "#0d0887"
             ],
             [
              0.1111111111111111,
              "#46039f"
             ],
             [
              0.2222222222222222,
              "#7201a8"
             ],
             [
              0.3333333333333333,
              "#9c179e"
             ],
             [
              0.4444444444444444,
              "#bd3786"
             ],
             [
              0.5555555555555556,
              "#d8576b"
             ],
             [
              0.6666666666666666,
              "#ed7953"
             ],
             [
              0.7777777777777778,
              "#fb9f3a"
             ],
             [
              0.8888888888888888,
              "#fdca26"
             ],
             [
              1,
              "#f0f921"
             ]
            ],
            "type": "histogram2d"
           }
          ],
          "histogram2dcontour": [
           {
            "colorbar": {
             "outlinewidth": 0,
             "ticks": ""
            },
            "colorscale": [
             [
              0,
              "#0d0887"
             ],
             [
              0.1111111111111111,
              "#46039f"
             ],
             [
              0.2222222222222222,
              "#7201a8"
             ],
             [
              0.3333333333333333,
              "#9c179e"
             ],
             [
              0.4444444444444444,
              "#bd3786"
             ],
             [
              0.5555555555555556,
              "#d8576b"
             ],
             [
              0.6666666666666666,
              "#ed7953"
             ],
             [
              0.7777777777777778,
              "#fb9f3a"
             ],
             [
              0.8888888888888888,
              "#fdca26"
             ],
             [
              1,
              "#f0f921"
             ]
            ],
            "type": "histogram2dcontour"
           }
          ],
          "mesh3d": [
           {
            "colorbar": {
             "outlinewidth": 0,
             "ticks": ""
            },
            "type": "mesh3d"
           }
          ],
          "parcoords": [
           {
            "line": {
             "colorbar": {
              "outlinewidth": 0,
              "ticks": ""
             }
            },
            "type": "parcoords"
           }
          ],
          "pie": [
           {
            "automargin": true,
            "type": "pie"
           }
          ],
          "scatter": [
           {
            "marker": {
             "colorbar": {
              "outlinewidth": 0,
              "ticks": ""
             }
            },
            "type": "scatter"
           }
          ],
          "scatter3d": [
           {
            "line": {
             "colorbar": {
              "outlinewidth": 0,
              "ticks": ""
             }
            },
            "marker": {
             "colorbar": {
              "outlinewidth": 0,
              "ticks": ""
             }
            },
            "type": "scatter3d"
           }
          ],
          "scattercarpet": [
           {
            "marker": {
             "colorbar": {
              "outlinewidth": 0,
              "ticks": ""
             }
            },
            "type": "scattercarpet"
           }
          ],
          "scattergeo": [
           {
            "marker": {
             "colorbar": {
              "outlinewidth": 0,
              "ticks": ""
             }
            },
            "type": "scattergeo"
           }
          ],
          "scattergl": [
           {
            "marker": {
             "colorbar": {
              "outlinewidth": 0,
              "ticks": ""
             }
            },
            "type": "scattergl"
           }
          ],
          "scattermapbox": [
           {
            "marker": {
             "colorbar": {
              "outlinewidth": 0,
              "ticks": ""
             }
            },
            "type": "scattermapbox"
           }
          ],
          "scatterpolar": [
           {
            "marker": {
             "colorbar": {
              "outlinewidth": 0,
              "ticks": ""
             }
            },
            "type": "scatterpolar"
           }
          ],
          "scatterpolargl": [
           {
            "marker": {
             "colorbar": {
              "outlinewidth": 0,
              "ticks": ""
             }
            },
            "type": "scatterpolargl"
           }
          ],
          "scatterternary": [
           {
            "marker": {
             "colorbar": {
              "outlinewidth": 0,
              "ticks": ""
             }
            },
            "type": "scatterternary"
           }
          ],
          "surface": [
           {
            "colorbar": {
             "outlinewidth": 0,
             "ticks": ""
            },
            "colorscale": [
             [
              0,
              "#0d0887"
             ],
             [
              0.1111111111111111,
              "#46039f"
             ],
             [
              0.2222222222222222,
              "#7201a8"
             ],
             [
              0.3333333333333333,
              "#9c179e"
             ],
             [
              0.4444444444444444,
              "#bd3786"
             ],
             [
              0.5555555555555556,
              "#d8576b"
             ],
             [
              0.6666666666666666,
              "#ed7953"
             ],
             [
              0.7777777777777778,
              "#fb9f3a"
             ],
             [
              0.8888888888888888,
              "#fdca26"
             ],
             [
              1,
              "#f0f921"
             ]
            ],
            "type": "surface"
           }
          ],
          "table": [
           {
            "cells": {
             "fill": {
              "color": "#EBF0F8"
             },
             "line": {
              "color": "white"
             }
            },
            "header": {
             "fill": {
              "color": "#C8D4E3"
             },
             "line": {
              "color": "white"
             }
            },
            "type": "table"
           }
          ]
         },
         "layout": {
          "annotationdefaults": {
           "arrowcolor": "#2a3f5f",
           "arrowhead": 0,
           "arrowwidth": 1
          },
          "autotypenumbers": "strict",
          "coloraxis": {
           "colorbar": {
            "outlinewidth": 0,
            "ticks": ""
           }
          },
          "colorscale": {
           "diverging": [
            [
             0,
             "#8e0152"
            ],
            [
             0.1,
             "#c51b7d"
            ],
            [
             0.2,
             "#de77ae"
            ],
            [
             0.3,
             "#f1b6da"
            ],
            [
             0.4,
             "#fde0ef"
            ],
            [
             0.5,
             "#f7f7f7"
            ],
            [
             0.6,
             "#e6f5d0"
            ],
            [
             0.7,
             "#b8e186"
            ],
            [
             0.8,
             "#7fbc41"
            ],
            [
             0.9,
             "#4d9221"
            ],
            [
             1,
             "#276419"
            ]
           ],
           "sequential": [
            [
             0,
             "#0d0887"
            ],
            [
             0.1111111111111111,
             "#46039f"
            ],
            [
             0.2222222222222222,
             "#7201a8"
            ],
            [
             0.3333333333333333,
             "#9c179e"
            ],
            [
             0.4444444444444444,
             "#bd3786"
            ],
            [
             0.5555555555555556,
             "#d8576b"
            ],
            [
             0.6666666666666666,
             "#ed7953"
            ],
            [
             0.7777777777777778,
             "#fb9f3a"
            ],
            [
             0.8888888888888888,
             "#fdca26"
            ],
            [
             1,
             "#f0f921"
            ]
           ],
           "sequentialminus": [
            [
             0,
             "#0d0887"
            ],
            [
             0.1111111111111111,
             "#46039f"
            ],
            [
             0.2222222222222222,
             "#7201a8"
            ],
            [
             0.3333333333333333,
             "#9c179e"
            ],
            [
             0.4444444444444444,
             "#bd3786"
            ],
            [
             0.5555555555555556,
             "#d8576b"
            ],
            [
             0.6666666666666666,
             "#ed7953"
            ],
            [
             0.7777777777777778,
             "#fb9f3a"
            ],
            [
             0.8888888888888888,
             "#fdca26"
            ],
            [
             1,
             "#f0f921"
            ]
           ]
          },
          "colorway": [
           "#636efa",
           "#EF553B",
           "#00cc96",
           "#ab63fa",
           "#FFA15A",
           "#19d3f3",
           "#FF6692",
           "#B6E880",
           "#FF97FF",
           "#FECB52"
          ],
          "font": {
           "color": "#2a3f5f"
          },
          "geo": {
           "bgcolor": "white",
           "lakecolor": "white",
           "landcolor": "#E5ECF6",
           "showlakes": true,
           "showland": true,
           "subunitcolor": "white"
          },
          "hoverlabel": {
           "align": "left"
          },
          "hovermode": "closest",
          "mapbox": {
           "style": "light"
          },
          "paper_bgcolor": "white",
          "plot_bgcolor": "#E5ECF6",
          "polar": {
           "angularaxis": {
            "gridcolor": "white",
            "linecolor": "white",
            "ticks": ""
           },
           "bgcolor": "#E5ECF6",
           "radialaxis": {
            "gridcolor": "white",
            "linecolor": "white",
            "ticks": ""
           }
          },
          "scene": {
           "xaxis": {
            "backgroundcolor": "#E5ECF6",
            "gridcolor": "white",
            "gridwidth": 2,
            "linecolor": "white",
            "showbackground": true,
            "ticks": "",
            "zerolinecolor": "white"
           },
           "yaxis": {
            "backgroundcolor": "#E5ECF6",
            "gridcolor": "white",
            "gridwidth": 2,
            "linecolor": "white",
            "showbackground": true,
            "ticks": "",
            "zerolinecolor": "white"
           },
           "zaxis": {
            "backgroundcolor": "#E5ECF6",
            "gridcolor": "white",
            "gridwidth": 2,
            "linecolor": "white",
            "showbackground": true,
            "ticks": "",
            "zerolinecolor": "white"
           }
          },
          "shapedefaults": {
           "line": {
            "color": "#2a3f5f"
           }
          },
          "ternary": {
           "aaxis": {
            "gridcolor": "white",
            "linecolor": "white",
            "ticks": ""
           },
           "baxis": {
            "gridcolor": "white",
            "linecolor": "white",
            "ticks": ""
           },
           "bgcolor": "#E5ECF6",
           "caxis": {
            "gridcolor": "white",
            "linecolor": "white",
            "ticks": ""
           }
          },
          "title": {
           "x": 0.05
          },
          "xaxis": {
           "automargin": true,
           "gridcolor": "white",
           "linecolor": "white",
           "ticks": "",
           "title": {
            "standoff": 15
           },
           "zerolinecolor": "white",
           "zerolinewidth": 2
          },
          "yaxis": {
           "automargin": true,
           "gridcolor": "white",
           "linecolor": "white",
           "ticks": "",
           "title": {
            "standoff": 15
           },
           "zerolinecolor": "white",
           "zerolinewidth": 2
          }
         }
        },
        "title": {
         "text": "Intermediate Values Plot"
        },
        "xaxis": {
         "title": {
          "text": "Step"
         }
        },
        "yaxis": {
         "title": {
          "text": "Intermediate Value"
         }
        }
       }
      }
     },
     "metadata": {}
    }
   ],
   "source": [
    "optuna.visualization.plot_intermediate_values(study)"
   ]
  },
  {
   "cell_type": "code",
   "execution_count": 17,
   "metadata": {},
   "outputs": [
    {
     "output_type": "display_data",
     "data": {
      "application/vnd.plotly.v1+json": {
       "config": {
        "plotlyServerURL": "https://plot.ly"
       },
       "data": [
        {
         "mode": "markers",
         "name": "Objective Value",
         "type": "scatter",
         "x": [
          0,
          1,
          2,
          3,
          4,
          5,
          6,
          7,
          8,
          9,
          10,
          11,
          12,
          13,
          14,
          15,
          16,
          17,
          18,
          19,
          20,
          21,
          22,
          23,
          24,
          25,
          26,
          27,
          28,
          29,
          30,
          31,
          32
         ],
         "y": [
          0.9606944219601637,
          0.5229744831519724,
          0.5152487792185354,
          0.5,
          0.5,
          0.5,
          0.9672167229471519,
          0.5001545200503654,
          0.5,
          0.5000026730744942,
          0.9315242524571459,
          0.9618489594600244,
          0.5001252488164958,
          0.9643228387187995,
          0.964957793454765,
          0.9689917563213079,
          0.5,
          0.7443222056958051,
          0.5,
          0.5,
          0.9709901762980346,
          0.9711957856024203,
          0.9693804484240228,
          0.9709791460784817,
          0.9697472699875808,
          0.9709073371924895,
          0.5,
          0.9700131587829054,
          0.5000270391862804,
          0.9717733916004746,
          0.9693304751988896,
          0.972008961436109,
          0.9717326744677032
         ]
        },
        {
         "name": "Best Value",
         "type": "scatter",
         "x": [
          0,
          1,
          2,
          3,
          4,
          5,
          6,
          7,
          8,
          9,
          10,
          11,
          12,
          13,
          14,
          15,
          16,
          17,
          18,
          19,
          20,
          21,
          22,
          23,
          24,
          25,
          26,
          27,
          28,
          29,
          30,
          31,
          32
         ],
         "y": [
          0.9606944219601637,
          0.9606944219601637,
          0.9606944219601637,
          0.9606944219601637,
          0.9606944219601637,
          0.9606944219601637,
          0.9672167229471519,
          0.9672167229471519,
          0.9672167229471519,
          0.9672167229471519,
          0.9672167229471519,
          0.9672167229471519,
          0.9672167229471519,
          0.9672167229471519,
          0.9672167229471519,
          0.9689917563213079,
          0.9689917563213079,
          0.9689917563213079,
          0.9689917563213079,
          0.9689917563213079,
          0.9709901762980346,
          0.9711957856024203,
          0.9711957856024203,
          0.9711957856024203,
          0.9711957856024203,
          0.9711957856024203,
          0.9711957856024203,
          0.9711957856024203,
          0.9711957856024203,
          0.9717733916004746,
          0.9717733916004746,
          0.972008961436109,
          0.972008961436109
         ]
        }
       ],
       "layout": {
        "template": {
         "data": {
          "bar": [
           {
            "error_x": {
             "color": "#2a3f5f"
            },
            "error_y": {
             "color": "#2a3f5f"
            },
            "marker": {
             "line": {
              "color": "#E5ECF6",
              "width": 0.5
             }
            },
            "type": "bar"
           }
          ],
          "barpolar": [
           {
            "marker": {
             "line": {
              "color": "#E5ECF6",
              "width": 0.5
             }
            },
            "type": "barpolar"
           }
          ],
          "carpet": [
           {
            "aaxis": {
             "endlinecolor": "#2a3f5f",
             "gridcolor": "white",
             "linecolor": "white",
             "minorgridcolor": "white",
             "startlinecolor": "#2a3f5f"
            },
            "baxis": {
             "endlinecolor": "#2a3f5f",
             "gridcolor": "white",
             "linecolor": "white",
             "minorgridcolor": "white",
             "startlinecolor": "#2a3f5f"
            },
            "type": "carpet"
           }
          ],
          "choropleth": [
           {
            "colorbar": {
             "outlinewidth": 0,
             "ticks": ""
            },
            "type": "choropleth"
           }
          ],
          "contour": [
           {
            "colorbar": {
             "outlinewidth": 0,
             "ticks": ""
            },
            "colorscale": [
             [
              0,
              "#0d0887"
             ],
             [
              0.1111111111111111,
              "#46039f"
             ],
             [
              0.2222222222222222,
              "#7201a8"
             ],
             [
              0.3333333333333333,
              "#9c179e"
             ],
             [
              0.4444444444444444,
              "#bd3786"
             ],
             [
              0.5555555555555556,
              "#d8576b"
             ],
             [
              0.6666666666666666,
              "#ed7953"
             ],
             [
              0.7777777777777778,
              "#fb9f3a"
             ],
             [
              0.8888888888888888,
              "#fdca26"
             ],
             [
              1,
              "#f0f921"
             ]
            ],
            "type": "contour"
           }
          ],
          "contourcarpet": [
           {
            "colorbar": {
             "outlinewidth": 0,
             "ticks": ""
            },
            "type": "contourcarpet"
           }
          ],
          "heatmap": [
           {
            "colorbar": {
             "outlinewidth": 0,
             "ticks": ""
            },
            "colorscale": [
             [
              0,
              "#0d0887"
             ],
             [
              0.1111111111111111,
              "#46039f"
             ],
             [
              0.2222222222222222,
              "#7201a8"
             ],
             [
              0.3333333333333333,
              "#9c179e"
             ],
             [
              0.4444444444444444,
              "#bd3786"
             ],
             [
              0.5555555555555556,
              "#d8576b"
             ],
             [
              0.6666666666666666,
              "#ed7953"
             ],
             [
              0.7777777777777778,
              "#fb9f3a"
             ],
             [
              0.8888888888888888,
              "#fdca26"
             ],
             [
              1,
              "#f0f921"
             ]
            ],
            "type": "heatmap"
           }
          ],
          "heatmapgl": [
           {
            "colorbar": {
             "outlinewidth": 0,
             "ticks": ""
            },
            "colorscale": [
             [
              0,
              "#0d0887"
             ],
             [
              0.1111111111111111,
              "#46039f"
             ],
             [
              0.2222222222222222,
              "#7201a8"
             ],
             [
              0.3333333333333333,
              "#9c179e"
             ],
             [
              0.4444444444444444,
              "#bd3786"
             ],
             [
              0.5555555555555556,
              "#d8576b"
             ],
             [
              0.6666666666666666,
              "#ed7953"
             ],
             [
              0.7777777777777778,
              "#fb9f3a"
             ],
             [
              0.8888888888888888,
              "#fdca26"
             ],
             [
              1,
              "#f0f921"
             ]
            ],
            "type": "heatmapgl"
           }
          ],
          "histogram": [
           {
            "marker": {
             "colorbar": {
              "outlinewidth": 0,
              "ticks": ""
             }
            },
            "type": "histogram"
           }
          ],
          "histogram2d": [
           {
            "colorbar": {
             "outlinewidth": 0,
             "ticks": ""
            },
            "colorscale": [
             [
              0,
              "#0d0887"
             ],
             [
              0.1111111111111111,
              "#46039f"
             ],
             [
              0.2222222222222222,
              "#7201a8"
             ],
             [
              0.3333333333333333,
              "#9c179e"
             ],
             [
              0.4444444444444444,
              "#bd3786"
             ],
             [
              0.5555555555555556,
              "#d8576b"
             ],
             [
              0.6666666666666666,
              "#ed7953"
             ],
             [
              0.7777777777777778,
              "#fb9f3a"
             ],
             [
              0.8888888888888888,
              "#fdca26"
             ],
             [
              1,
              "#f0f921"
             ]
            ],
            "type": "histogram2d"
           }
          ],
          "histogram2dcontour": [
           {
            "colorbar": {
             "outlinewidth": 0,
             "ticks": ""
            },
            "colorscale": [
             [
              0,
              "#0d0887"
             ],
             [
              0.1111111111111111,
              "#46039f"
             ],
             [
              0.2222222222222222,
              "#7201a8"
             ],
             [
              0.3333333333333333,
              "#9c179e"
             ],
             [
              0.4444444444444444,
              "#bd3786"
             ],
             [
              0.5555555555555556,
              "#d8576b"
             ],
             [
              0.6666666666666666,
              "#ed7953"
             ],
             [
              0.7777777777777778,
              "#fb9f3a"
             ],
             [
              0.8888888888888888,
              "#fdca26"
             ],
             [
              1,
              "#f0f921"
             ]
            ],
            "type": "histogram2dcontour"
           }
          ],
          "mesh3d": [
           {
            "colorbar": {
             "outlinewidth": 0,
             "ticks": ""
            },
            "type": "mesh3d"
           }
          ],
          "parcoords": [
           {
            "line": {
             "colorbar": {
              "outlinewidth": 0,
              "ticks": ""
             }
            },
            "type": "parcoords"
           }
          ],
          "pie": [
           {
            "automargin": true,
            "type": "pie"
           }
          ],
          "scatter": [
           {
            "marker": {
             "colorbar": {
              "outlinewidth": 0,
              "ticks": ""
             }
            },
            "type": "scatter"
           }
          ],
          "scatter3d": [
           {
            "line": {
             "colorbar": {
              "outlinewidth": 0,
              "ticks": ""
             }
            },
            "marker": {
             "colorbar": {
              "outlinewidth": 0,
              "ticks": ""
             }
            },
            "type": "scatter3d"
           }
          ],
          "scattercarpet": [
           {
            "marker": {
             "colorbar": {
              "outlinewidth": 0,
              "ticks": ""
             }
            },
            "type": "scattercarpet"
           }
          ],
          "scattergeo": [
           {
            "marker": {
             "colorbar": {
              "outlinewidth": 0,
              "ticks": ""
             }
            },
            "type": "scattergeo"
           }
          ],
          "scattergl": [
           {
            "marker": {
             "colorbar": {
              "outlinewidth": 0,
              "ticks": ""
             }
            },
            "type": "scattergl"
           }
          ],
          "scattermapbox": [
           {
            "marker": {
             "colorbar": {
              "outlinewidth": 0,
              "ticks": ""
             }
            },
            "type": "scattermapbox"
           }
          ],
          "scatterpolar": [
           {
            "marker": {
             "colorbar": {
              "outlinewidth": 0,
              "ticks": ""
             }
            },
            "type": "scatterpolar"
           }
          ],
          "scatterpolargl": [
           {
            "marker": {
             "colorbar": {
              "outlinewidth": 0,
              "ticks": ""
             }
            },
            "type": "scatterpolargl"
           }
          ],
          "scatterternary": [
           {
            "marker": {
             "colorbar": {
              "outlinewidth": 0,
              "ticks": ""
             }
            },
            "type": "scatterternary"
           }
          ],
          "surface": [
           {
            "colorbar": {
             "outlinewidth": 0,
             "ticks": ""
            },
            "colorscale": [
             [
              0,
              "#0d0887"
             ],
             [
              0.1111111111111111,
              "#46039f"
             ],
             [
              0.2222222222222222,
              "#7201a8"
             ],
             [
              0.3333333333333333,
              "#9c179e"
             ],
             [
              0.4444444444444444,
              "#bd3786"
             ],
             [
              0.5555555555555556,
              "#d8576b"
             ],
             [
              0.6666666666666666,
              "#ed7953"
             ],
             [
              0.7777777777777778,
              "#fb9f3a"
             ],
             [
              0.8888888888888888,
              "#fdca26"
             ],
             [
              1,
              "#f0f921"
             ]
            ],
            "type": "surface"
           }
          ],
          "table": [
           {
            "cells": {
             "fill": {
              "color": "#EBF0F8"
             },
             "line": {
              "color": "white"
             }
            },
            "header": {
             "fill": {
              "color": "#C8D4E3"
             },
             "line": {
              "color": "white"
             }
            },
            "type": "table"
           }
          ]
         },
         "layout": {
          "annotationdefaults": {
           "arrowcolor": "#2a3f5f",
           "arrowhead": 0,
           "arrowwidth": 1
          },
          "autotypenumbers": "strict",
          "coloraxis": {
           "colorbar": {
            "outlinewidth": 0,
            "ticks": ""
           }
          },
          "colorscale": {
           "diverging": [
            [
             0,
             "#8e0152"
            ],
            [
             0.1,
             "#c51b7d"
            ],
            [
             0.2,
             "#de77ae"
            ],
            [
             0.3,
             "#f1b6da"
            ],
            [
             0.4,
             "#fde0ef"
            ],
            [
             0.5,
             "#f7f7f7"
            ],
            [
             0.6,
             "#e6f5d0"
            ],
            [
             0.7,
             "#b8e186"
            ],
            [
             0.8,
             "#7fbc41"
            ],
            [
             0.9,
             "#4d9221"
            ],
            [
             1,
             "#276419"
            ]
           ],
           "sequential": [
            [
             0,
             "#0d0887"
            ],
            [
             0.1111111111111111,
             "#46039f"
            ],
            [
             0.2222222222222222,
             "#7201a8"
            ],
            [
             0.3333333333333333,
             "#9c179e"
            ],
            [
             0.4444444444444444,
             "#bd3786"
            ],
            [
             0.5555555555555556,
             "#d8576b"
            ],
            [
             0.6666666666666666,
             "#ed7953"
            ],
            [
             0.7777777777777778,
             "#fb9f3a"
            ],
            [
             0.8888888888888888,
             "#fdca26"
            ],
            [
             1,
             "#f0f921"
            ]
           ],
           "sequentialminus": [
            [
             0,
             "#0d0887"
            ],
            [
             0.1111111111111111,
             "#46039f"
            ],
            [
             0.2222222222222222,
             "#7201a8"
            ],
            [
             0.3333333333333333,
             "#9c179e"
            ],
            [
             0.4444444444444444,
             "#bd3786"
            ],
            [
             0.5555555555555556,
             "#d8576b"
            ],
            [
             0.6666666666666666,
             "#ed7953"
            ],
            [
             0.7777777777777778,
             "#fb9f3a"
            ],
            [
             0.8888888888888888,
             "#fdca26"
            ],
            [
             1,
             "#f0f921"
            ]
           ]
          },
          "colorway": [
           "#636efa",
           "#EF553B",
           "#00cc96",
           "#ab63fa",
           "#FFA15A",
           "#19d3f3",
           "#FF6692",
           "#B6E880",
           "#FF97FF",
           "#FECB52"
          ],
          "font": {
           "color": "#2a3f5f"
          },
          "geo": {
           "bgcolor": "white",
           "lakecolor": "white",
           "landcolor": "#E5ECF6",
           "showlakes": true,
           "showland": true,
           "subunitcolor": "white"
          },
          "hoverlabel": {
           "align": "left"
          },
          "hovermode": "closest",
          "mapbox": {
           "style": "light"
          },
          "paper_bgcolor": "white",
          "plot_bgcolor": "#E5ECF6",
          "polar": {
           "angularaxis": {
            "gridcolor": "white",
            "linecolor": "white",
            "ticks": ""
           },
           "bgcolor": "#E5ECF6",
           "radialaxis": {
            "gridcolor": "white",
            "linecolor": "white",
            "ticks": ""
           }
          },
          "scene": {
           "xaxis": {
            "backgroundcolor": "#E5ECF6",
            "gridcolor": "white",
            "gridwidth": 2,
            "linecolor": "white",
            "showbackground": true,
            "ticks": "",
            "zerolinecolor": "white"
           },
           "yaxis": {
            "backgroundcolor": "#E5ECF6",
            "gridcolor": "white",
            "gridwidth": 2,
            "linecolor": "white",
            "showbackground": true,
            "ticks": "",
            "zerolinecolor": "white"
           },
           "zaxis": {
            "backgroundcolor": "#E5ECF6",
            "gridcolor": "white",
            "gridwidth": 2,
            "linecolor": "white",
            "showbackground": true,
            "ticks": "",
            "zerolinecolor": "white"
           }
          },
          "shapedefaults": {
           "line": {
            "color": "#2a3f5f"
           }
          },
          "ternary": {
           "aaxis": {
            "gridcolor": "white",
            "linecolor": "white",
            "ticks": ""
           },
           "baxis": {
            "gridcolor": "white",
            "linecolor": "white",
            "ticks": ""
           },
           "bgcolor": "#E5ECF6",
           "caxis": {
            "gridcolor": "white",
            "linecolor": "white",
            "ticks": ""
           }
          },
          "title": {
           "x": 0.05
          },
          "xaxis": {
           "automargin": true,
           "gridcolor": "white",
           "linecolor": "white",
           "ticks": "",
           "title": {
            "standoff": 15
           },
           "zerolinecolor": "white",
           "zerolinewidth": 2
          },
          "yaxis": {
           "automargin": true,
           "gridcolor": "white",
           "linecolor": "white",
           "ticks": "",
           "title": {
            "standoff": 15
           },
           "zerolinecolor": "white",
           "zerolinewidth": 2
          }
         }
        },
        "title": {
         "text": "Optimization History Plot"
        },
        "xaxis": {
         "title": {
          "text": "#Trials"
         }
        },
        "yaxis": {
         "title": {
          "text": "Objective Value"
         }
        }
       }
      }
     },
     "metadata": {}
    }
   ],
   "source": [
    "optuna.visualization.plot_optimization_history(study)"
   ]
  },
  {
   "cell_type": "code",
   "execution_count": 18,
   "metadata": {},
   "outputs": [
    {
     "output_type": "display_data",
     "data": {
      "application/vnd.plotly.v1+json": {
       "config": {
        "plotlyServerURL": "https://plot.ly"
       },
       "data": [
        {
         "dimensions": [
          {
           "label": "Objective Value",
           "range": [
            0.5,
            0.972008961436109
           ],
           "values": [
            0.9606944219601637,
            0.5229744831519724,
            0.5152487792185354,
            0.5,
            0.5,
            0.5,
            0.9672167229471519,
            0.5001545200503654,
            0.5,
            0.5000026730744942,
            0.9315242524571459,
            0.9618489594600244,
            0.5001252488164958,
            0.9643228387187995,
            0.964957793454765,
            0.9689917563213079,
            0.5,
            0.7443222056958051,
            0.5,
            0.5,
            0.9709901762980346,
            0.9711957856024203,
            0.9693804484240228,
            0.9709791460784817,
            0.9697472699875808,
            0.9709073371924895,
            0.5,
            0.9700131587829054,
            0.5000270391862804,
            0.9717733916004746,
            0.9693304751988896,
            0.972008961436109,
            0.9717326744677032
           ]
          },
          {
           "label": "batch_size",
           "range": [
            114,
            998
           ],
           "values": [
            246,
            560,
            369,
            926,
            760,
            961,
            681,
            870,
            338,
            491,
            679,
            114,
            133,
            630,
            689,
            764,
            836,
            793,
            539,
            747,
            993,
            974,
            984,
            996,
            890,
            942,
            991,
            987,
            845,
            893,
            924,
            998,
            879
           ]
          },
          {
           "label": "dropout_l0",
           "range": [
            0.1002083622959865,
            0.4854430038244314
           ],
           "values": [
            0.2689045745279558,
            0.36588156006153427,
            0.13291297731907395,
            0.3417685397652271,
            0.12723189841261173,
            0.3039897167506975,
            0.25345451553912857,
            0.21337120122574582,
            0.34071129421277646,
            0.43219868056076616,
            0.20766642456090262,
            0.23505313894196497,
            0.2290131761639158,
            0.18742159700653988,
            0.16296396703186522,
            0.10281702410329377,
            0.4854430038244314,
            0.11464121735274274,
            0.4028577473418202,
            0.28035543122255535,
            0.1725420843479329,
            0.16573858646888934,
            0.1002083622959865,
            0.1766939436102213,
            0.16206122560793434,
            0.16715476868233073,
            0.14947275729115142,
            0.192081476875135,
            0.18116662683012838,
            0.274068151546813,
            0.2932197704000087,
            0.24951969108997804,
            0.25747407187295446
           ]
          },
          {
           "label": "dropout_l1",
           "range": [
            0.14025034777089185,
            0.49790978388884516
           ],
           "values": [
            0.2365036196395466,
            0.27967968064949217,
            0.4234355688549588,
            0.188426445238707,
            0.16330743000869577,
            0.14025034777089185,
            0.45265605950464094,
            0.4835063858692016,
            0.38623415818113027,
            0.14629235500759555,
            0.2734547605698957,
            0.3399619071030636,
            0.292611059419693,
            0.45734564579591946,
            0.36453459142016653,
            0.4953259203247312,
            0.4049717930213269,
            0.4449998788054639,
            0.4485851955287431,
            0.34626638665923404,
            0.3409903252991985,
            0.4389064379436744,
            0.49790978388884516,
            0.38650917142796914,
            0.3315805619528237,
            0.46660548954043557,
            0.46361746232322304,
            0.4164702772706052,
            0.41950543393087114
           ]
          },
          {
           "label": "dropout_l10",
           "range": [
            0.10105144423543927,
            0.4982672743254183
           ],
           "values": [
            0.3728015826931078,
            0.4955307629135016,
            0.2380602508688251,
            0.2798557040755235,
            0.4982672743254183,
            0.44760620961989894,
            0.10832884399313142,
            0.29748712459389376,
            0.4547274953457695,
            0.3981512408739467,
            0.39312989570144496,
            0.19190153415454914,
            0.3519567495018836,
            0.4270747987130866,
            0.10105144423543927,
            0.1615348111649409
           ]
          },
          {
           "label": "dropout_l11",
           "range": [
            0.10021573252497583,
            0.49069818288339406
           ],
           "values": [
            0.4230280858833907,
            0.3579232745453941,
            0.1891168699264176,
            0.10781261917920548,
            0.3212254493146728,
            0.4187097973207059,
            0.10021573252497583,
            0.22794984055362413,
            0.13827946063770652,
            0.49069818288339406,
            0.4627216596708555,
            0.39274922659510364,
            0.26294960942554035,
            0.43811582840813357,
            0.3064063199856446,
            0.16907580359410654
           ]
          },
          {
           "label": "dropout_l12",
           "range": [
            0.1113376319762009,
            0.4955373823790151
           ],
           "values": [
            0.2316348446905736,
            0.42188986297049125,
            0.49078244515108926,
            0.4438970648832423,
            0.37619762573297155,
            0.14339920483747237,
            0.308224910679358,
            0.3302157525108059,
            0.28893251068549,
            0.11223220893948643,
            0.1113376319762009,
            0.18640407527618297,
            0.17879245275578629,
            0.2487733974737235,
            0.4955373823790151
           ]
          },
          {
           "label": "dropout_l13",
           "range": [
            0.10290123682734229,
            0.4968130144739926
           ],
           "values": [
            0.31797401924403934,
            0.41026776540285337,
            0.37659492410074236,
            0.4148740544125462,
            0.41848355778527335,
            0.3026808874636913,
            0.28015330270409755,
            0.47708365830452204,
            0.2049552635837737,
            0.10290123682734229,
            0.10392864679434216,
            0.20236799210487433,
            0.24510743579426655,
            0.4968130144739926,
            0.15438895828897398
           ]
          },
          {
           "label": "dropout_l14",
           "range": [
            0.12622703254819367,
            0.49363015938687127
           ],
           "values": [
            0.19232618658233683,
            0.15892495446885013,
            0.48780215971556273,
            0.13286041017873618,
            0.3831176466645012,
            0.31070400796045194,
            0.2587243593778593,
            0.12622703254819367,
            0.43945320742235794,
            0.3342345032015644,
            0.2701910897415906,
            0.34805836873686674,
            0.49363015938687127,
            0.20585437858603825
           ]
          },
          {
           "label": "dropout_l15",
           "range": [
            0.148967149003211,
            0.4961317796728465
           ],
           "values": [
            0.48075047463760345,
            0.16173582647104104,
            0.18942643935651501,
            0.44679195627782164,
            0.148967149003211,
            0.24054737038646198,
            0.1726589772304883,
            0.37795504127836177,
            0.3219796906926811,
            0.3837403495154075,
            0.25856743061814913,
            0.4961317796728465,
            0.41131674122792194
           ]
          },
          {
           "label": "dropout_l16",
           "range": [
            0.10248993553240843,
            0.48515192815599517
           ],
           "values": [
            0.24599216922643763,
            0.3148268380210045,
            0.48515192815599517,
            0.4730241358918429,
            0.3499822283736702,
            0.27254024944950017,
            0.4481146080170608,
            0.30215339086408843,
            0.10248993553240843,
            0.10994248144390159,
            0.18861265308756237,
            0.3982781272407515,
            0.18296791399879558
           ]
          },
          {
           "label": "dropout_l17",
           "range": [
            0.11232865022658425,
            0.4977869920794699
           ],
           "values": [
            0.2960324827287191,
            0.46792570202248385,
            0.3893514869283785,
            0.4251137781760218,
            0.26856223508820765,
            0.11232865022658425,
            0.18185577340229023,
            0.2693423684532482,
            0.13623746145602705,
            0.4977869920794699,
            0.3618597715740536,
            0.20246810950530958
           ]
          },
          {
           "label": "dropout_l18",
           "range": [
            0.1127110487548372,
            0.4880932189238877
           ],
           "values": [
            0.240406430879197,
            0.14295454661789297,
            0.424813521595952,
            0.3646967270760343,
            0.4139799434434046,
            0.1127110487548372,
            0.41609722766411406,
            0.2530394667351664,
            0.19424721914182946,
            0.4880932189238877,
            0.33330146850872294
           ]
          },
          {
           "label": "dropout_l19",
           "range": [
            0.10097702199348962,
            0.4680704486735284
           ],
           "values": [
            0.10723420942692133,
            0.4680704486735284,
            0.19392471109520848,
            0.10097702199348962,
            0.33389403734764955,
            0.15725871973664196,
            0.16636079888944194,
            0.46480388374244924,
            0.34494533145247375,
            0.2506006693682254
           ]
          },
          {
           "label": "dropout_l2",
           "range": [
            0.1005443745341993,
            0.499724387052328
           ],
           "values": [
            0.3250164206914887,
            0.4263356280864897,
            0.25943299143049936,
            0.3714512525344388,
            0.36557971460915384,
            0.38703195640737076,
            0.1821149333662119,
            0.3745042620745981,
            0.1771032142370871,
            0.4023994407039828,
            0.12550077390772285,
            0.1005443745341993,
            0.14016815817655942,
            0.499724387052328,
            0.21598161757643614,
            0.2541259079862682,
            0.17835308738386593,
            0.3021672483901724,
            0.3066578797303722,
            0.30855077761932886,
            0.31042520604375967,
            0.2671336536913108,
            0.3250516869054567,
            0.28777370080492715,
            0.4502843098992405,
            0.22277876682042724,
            0.22781319726633842,
            0.34382459231190765,
            0.3413221740866214
           ]
          },
          {
           "label": "dropout_l20",
           "range": [
            0.12499098315952134,
            0.4813725887708259
           ],
           "values": [
            0.16762587226071263,
            0.46385686651870794,
            0.4813725887708259,
            0.31935449208414546,
            0.2847183110141429,
            0.2906364917770077,
            0.43738569116687886,
            0.17573104388406385,
            0.3855563416065009,
            0.12499098315952134
           ]
          },
          {
           "label": "dropout_l21",
           "range": [
            0.11358982620936522,
            0.49033620624520513
           ],
           "values": [
            0.3295274789384768,
            0.46619382694771205,
            0.49033620624520513,
            0.20986494997101277,
            0.13497534365724118,
            0.11358982620936522,
            0.12739009319528752,
            0.36761198533095246,
            0.2338254102688074,
            0.406682748246708
           ]
          },
          {
           "label": "dropout_l22",
           "range": [
            0.13480481561282623,
            0.4992147813810326
           ],
           "values": [
            0.19973546880319948,
            0.30418715305622335,
            0.34850655945432313,
            0.15254716048600342,
            0.13480481561282623,
            0.1791865380323647,
            0.38948357918151444,
            0.49829535450873563,
            0.4992147813810326
           ]
          },
          {
           "label": "dropout_l23",
           "range": [
            0.10523481413533378,
            0.4827836007148463
           ],
           "values": [
            0.42627102717669674,
            0.24017185704057922,
            0.4827836007148463,
            0.39577414956319623,
            0.3968316818874713,
            0.10523481413533378,
            0.3896738620684197,
            0.11564465060960696,
            0.23377009629603668
           ]
          },
          {
           "label": "dropout_l24",
           "range": [
            0.1321548543013055,
            0.4783750989627979
           ],
           "values": [
            0.43526327695956324,
            0.18239775930746804,
            0.29827645903403777,
            0.1321548543013055,
            0.3776642221004598,
            0.155342651339947,
            0.335302393536722,
            0.4783750989627979
           ]
          },
          {
           "label": "dropout_l25",
           "range": [
            0.15216562986597082,
            0.4963042092337231
           ],
           "values": [
            0.4834109743879136,
            0.35711017305205517,
            0.16333631452275427,
            0.25511843611274654,
            0.3101643946015572,
            0.15216562986597082,
            0.23329231056670557,
            0.4963042092337231
           ]
          },
          {
           "label": "dropout_l26",
           "range": [
            0.12077845816622067,
            0.49219300779729763
           ],
           "values": [
            0.3473296027771847,
            0.12077845816622067,
            0.31567509991233944,
            0.1801555486544543,
            0.19611685124423295,
            0.42567016463016516,
            0.35657823630138563,
            0.49219300779729763
           ]
          },
          {
           "label": "dropout_l27",
           "range": [
            0.1512476014470567,
            0.49685473777917744
           ],
           "values": [
            0.21401482052900175,
            0.2188440176583015,
            0.1512476014470567,
            0.3422029617442185,
            0.32277367617959574,
            0.49685473777917744,
            0.4031661632036879
           ]
          },
          {
           "label": "dropout_l28",
           "range": [
            0.12752823446490658,
            0.39301378179185353
           ],
           "values": [
            0.20846015229188475,
            0.21673016344792084,
            0.39301378179185353,
            0.19182575316276107,
            0.12752823446490658,
            0.15573963773904095,
            0.13162017265220227
           ]
          },
          {
           "label": "dropout_l29",
           "range": [
            0.2182390364592227,
            0.4915591387777366
           ],
           "values": [
            0.35010706701623917,
            0.258834788187316,
            0.2182390364592227,
            0.4915591387777366,
            0.38464931528576907,
            0.4630560417913424,
            0.3063607590903437
           ]
          },
          {
           "label": "dropout_l3",
           "range": [
            0.10068200923445667,
            0.48009073003228575
           ],
           "values": [
            0.16930287213710382,
            0.16676534321160347,
            0.38723013415155705,
            0.1493345011253386,
            0.19106525808546998,
            0.4111018190733363,
            0.2828386621812591,
            0.3844906233969009,
            0.48009073003228575,
            0.44643906948257506,
            0.2638709504075912,
            0.278018477978888,
            0.2803033574310204,
            0.35327722667804207,
            0.1100547449862336,
            0.33213432004654186,
            0.22465765665619097,
            0.24081642279250165,
            0.10548333809779903,
            0.10068200923445667,
            0.22732921807704304,
            0.12358910439411216,
            0.22380247626480154,
            0.33199534467468134,
            0.3322633958363975,
            0.32336653192587167,
            0.3152341188127282
           ]
          },
          {
           "label": "dropout_l30",
           "range": [
            0.12465655857438912,
            0.4719575993774786
           ],
           "values": [
            0.20932843846796173,
            0.15762300792183093,
            0.24503266324868986,
            0.46640081545276146,
            0.4719575993774786,
            0.2237409944980998,
            0.12465655857438912
           ]
          },
          {
           "label": "dropout_l31",
           "range": [
            0.24299524417023055,
            0.48936044886741115
           ],
           "values": [
            0.48936044886741115,
            0.24299524417023055,
            0.2861881751447709,
            0.3628731720337166,
            0.4477467675441784,
            0.2801118759539307
           ]
          },
          {
           "label": "dropout_l32",
           "range": [
            0.159496453557905,
            0.3911063954195132
           ],
           "values": [
            0.3746116469734796,
            0.33279401316468427,
            0.159496453557905,
            0.3911063954195132,
            0.2923583211224078,
            0.2657134965714055
           ]
          },
          {
           "label": "dropout_l33",
           "range": [
            0.1276184930680353,
            0.4556869618066651
           ],
           "values": [
            0.419443956449845,
            0.2584396541934724,
            0.4556869618066651,
            0.1276184930680353,
            0.23865859960940894,
            0.40235651784440674
           ]
          },
          {
           "label": "dropout_l34",
           "range": [
            0.2872266732614879,
            0.43320199067160925
           ],
           "values": [
            0.2872266732614879,
            0.43320199067160925,
            0.41183584810114426,
            0.30921232695141915,
            0.37496973688596646,
            0.3587651753542894
           ]
          },
          {
           "label": "dropout_l35",
           "range": [
            0.1422073543755723,
            0.49410968945207756
           ],
           "values": [
            0.1422073543755723,
            0.424226130134957,
            0.3958279366020785,
            0.49410968945207756,
            0.3389010005496631
           ]
          },
          {
           "label": "dropout_l36",
           "range": [
            0.1485419003921488,
            0.48415345553850164
           ],
           "values": [
            0.48415345553850164,
            0.15329877234217637,
            0.1485419003921488,
            0.2276888047570077,
            0.1673473406040315
           ]
          },
          {
           "label": "dropout_l37",
           "range": [
            0.11435207405363333,
            0.4957146887097882
           ],
           "values": [
            0.21464301894626586,
            0.11435207405363333,
            0.21845764047922858,
            0.4873947854284605,
            0.4957146887097882
           ]
          },
          {
           "label": "dropout_l38",
           "range": [
            0.11979924719976168,
            0.3392576733637931
           ],
           "values": [
            0.18851300697723417,
            0.11979924719976168,
            0.23460200956183785,
            0.3392576733637931,
            0.21112012162975577
           ]
          },
          {
           "label": "dropout_l39",
           "range": [
            0.17635123309543133,
            0.44484157830627624
           ],
           "values": [
            0.22969876142071888,
            0.41053636804890614,
            0.44484157830627624,
            0.17635123309543133
           ]
          },
          {
           "label": "dropout_l4",
           "range": [
            0.11628730828519157,
            0.4969884063456132
           ],
           "values": [
            0.12429678410972018,
            0.19645819426869596,
            0.3762194256230741,
            0.30684002470204885,
            0.26553705035110875,
            0.4588394760893363,
            0.39409405256241037,
            0.42436066872930334,
            0.35766516546521965,
            0.13344024069078195,
            0.11628730828519157,
            0.235842772561005,
            0.49207508538833844,
            0.381171465338804,
            0.315100243313321,
            0.4969884063456132,
            0.42803697761783727,
            0.18816003999999936,
            0.1814255811825708,
            0.1859372289094582,
            0.17527362888865244,
            0.23326832608033632,
            0.16236190630822708,
            0.22583995048049071,
            0.26155696131665984,
            0.21536700411323847,
            0.21971778520267787
           ]
          },
          {
           "label": "dropout_l40",
           "range": [
            0.12184498394077825,
            0.3737990860038425
           ],
           "values": [
            0.2861641999975263,
            0.12184498394077825,
            0.28938232533648256,
            0.3737990860038425
           ]
          },
          {
           "label": "dropout_l41",
           "range": [
            0.25404880604017166,
            0.478766786048726
           ],
           "values": [
            0.39941089590921464,
            0.4737402384901658,
            0.478766786048726,
            0.25404880604017166
           ]
          },
          {
           "label": "dropout_l42",
           "range": [
            0.1442012920906407,
            0.31038646595627406
           ],
           "values": [
            0.14424498727174148,
            0.1442012920906407,
            0.31038646595627406
           ]
          },
          {
           "label": "dropout_l43",
           "range": [
            0.15676531490931922,
            0.4399798230260684
           ],
           "values": [
            0.2664316364136964,
            0.15676531490931922,
            0.4399798230260684
           ]
          },
          {
           "label": "dropout_l44",
           "range": [
            0.12522891460196323,
            0.4249428578514025
           ],
           "values": [
            0.4249428578514025,
            0.12522891460196323,
            0.16804107527091683
           ]
          },
          {
           "label": "dropout_l45",
           "range": [
            0.21391415204424719,
            0.46640343037544396
           ],
           "values": [
            0.21391415204424719,
            0.46640343037544396
           ]
          },
          {
           "label": "dropout_l46",
           "range": [
            0.16881342475844976,
            0.42611148520915165
           ],
           "values": [
            0.16881342475844976,
            0.42611148520915165
           ]
          },
          {
           "label": "dropout_l47",
           "range": [
            0.4668419895882536,
            0.4668419895882536
           ],
           "values": [
            0.4668419895882536
           ]
          },
          {
           "label": "dropout_l48",
           "range": [
            0.18401762066772612,
            0.18401762066772612
           ],
           "values": [
            0.18401762066772612
           ]
          },
          {
           "label": "dropout_l49",
           "range": [
            0.45323457602097716,
            0.45323457602097716
           ],
           "values": [
            0.45323457602097716
           ]
          },
          {
           "label": "dropout_l5",
           "range": [
            0.10031806261291354,
            0.48837805565267856
           ],
           "values": [
            0.4676810431850338,
            0.2300265998258833,
            0.11357600229461431,
            0.29080956348485365,
            0.21210222834488315,
            0.1263517763043762,
            0.10099114796194178,
            0.48837805565267856,
            0.3001963458794201,
            0.31383481073103703,
            0.44618186436228946,
            0.40756024497733695,
            0.39307692410064066,
            0.15433990917328477,
            0.19997732994317075,
            0.10031806261291354,
            0.3535040124906374,
            0.26183970396702383,
            0.2619421155589039,
            0.1539645892427805,
            0.35635929354398455,
            0.24837780500549378,
            0.19330051056853384,
            0.17635223430927308,
            0.2715282451544035,
            0.19348992718548455
           ]
          },
          {
           "label": "dropout_l6",
           "range": [
            0.10226952056189345,
            0.49834520118236975
           ],
           "values": [
            0.30528663989144755,
            0.1967173864796742,
            0.13947043643313095,
            0.22940063593282561,
            0.3064772733030362,
            0.2581293539329994,
            0.4804085694752911,
            0.4552311597092048,
            0.3905783686051739,
            0.20387940804609075,
            0.49834520118236975,
            0.4913834038369405,
            0.41768127690166157,
            0.3569138172121994,
            0.3560253712624754,
            0.10226952056189345,
            0.14574903001049938,
            0.1181720602768783,
            0.2672883114949663,
            0.26421710263329556,
            0.17820887026727894,
            0.17491825803107128
           ]
          },
          {
           "label": "dropout_l7",
           "range": [
            0.11301494738649567,
            0.49904142775260274
           ],
           "values": [
            0.4706978426277504,
            0.14780357210278053,
            0.1516194683230898,
            0.3426774734195235,
            0.29183273656139463,
            0.45071922296809475,
            0.3065262884560229,
            0.46796710534388064,
            0.23945974432694436,
            0.14151424840572346,
            0.40376061192386786,
            0.3574246856972328,
            0.23773917830154825,
            0.23945867577401853,
            0.2970905917065243,
            0.11301494738649567,
            0.1992348581357467,
            0.41963790247828603,
            0.4119774825205973,
            0.49904142775260274,
            0.4237641080799997
           ]
          },
          {
           "label": "dropout_l8",
           "range": [
            0.10158574213623127,
            0.49435777473195863
           ],
           "values": [
            0.41167291947851725,
            0.1374244123927545,
            0.4566340244065682,
            0.4246521382603933,
            0.2319178877396052,
            0.13802330172511296,
            0.20408896402937204,
            0.10158574213623127,
            0.3390626473503482,
            0.16194077463614198,
            0.34901476611609683,
            0.2906681836699736,
            0.21952310128678892,
            0.23485813002586545,
            0.282600939530282,
            0.49435777473195863,
            0.35535772614979444,
            0.48937098352813396,
            0.4853899020602652,
            0.416015650151419,
            0.3996377332867389
           ]
          },
          {
           "label": "dropout_l9",
           "range": [
            0.10438578195505474,
            0.49585732944449445
           ],
           "values": [
            0.27525735968777576,
            0.14093044418534287,
            0.23145321659075005,
            0.25480659151908347,
            0.2460400910560706,
            0.33903020190548916,
            0.2083353138848577,
            0.1755159929877217,
            0.2671920525415251,
            0.3007527496148553,
            0.10438578195505474,
            0.1074381397361352,
            0.4503491622792568,
            0.3885500155674111,
            0.20226635712799718,
            0.49585732944449445,
            0.39458110576053157,
            0.4957987983144332,
            0.44805807795360975
           ]
          },
          {
           "label": "lr",
           "range": [
            -4.966555242374658,
            -1.158524007672709
           ],
           "ticktext": [
            "1.08e-05",
            "0.0001",
            "0.001",
            "0.01",
            "0.0694"
           ],
           "tickvals": [
            -4.966555242374658,
            -4,
            -3,
            -2,
            -1.158524007672709
           ],
           "values": [
            -4.849046262346358,
            -4.733476382682445,
            -3.5080848177633,
            -3.170356588209254,
            -2.1165227521880885,
            -4.591845166435009,
            -3.972409370924022,
            -2.785898805450921,
            -4.675044418982311,
            -4.966555242374658,
            -1.158524007672709,
            -3.985086733878097,
            -3.885049976294933,
            -4.170992024784688,
            -4.088209368647527,
            -2.5037741268069893,
            -2.3606978311535087,
            -1.6374634400117847,
            -2.5353752693634886,
            -1.9995911850899233,
            -3.274895081902694,
            -3.2191851116975947,
            -3.214267506673253,
            -3.2365840091713696,
            -3.5398614283835577,
            -2.8797535739049622,
            -3.54643570055536,
            -3.238296748821534,
            -2.830399702410295,
            -3.637384384575175,
            -4.308547903053803,
            -3.7342893136633033,
            -3.6744173930990436
           ]
          },
          {
           "label": "n_epochs",
           "range": [
            6,
            99
           ],
           "values": [
            73,
            52,
            68,
            12,
            49,
            20,
            27,
            84,
            18,
            58,
            33,
            99,
            97,
            34,
            35,
            34,
            27,
            6,
            43,
            6,
            23,
            25,
            19,
            19,
            12,
            44,
            25,
            12,
            41,
            60,
            63,
            78,
            84
           ]
          },
          {
           "label": "n_layers",
           "range": [
            1,
            50
           ],
           "values": [
            10,
            18,
            31,
            35,
            50,
            47,
            15,
            42,
            45,
            39,
            1,
            14,
            19,
            7,
            1,
            1,
            24,
            6,
            27,
            12,
            5,
            3,
            1,
            6,
            6,
            6,
            10,
            3,
            22,
            9,
            10,
            9,
            17
           ]
          },
          {
           "label": "n_units_l0",
           "range": [
            21,
            197
           ],
           "values": [
            146,
            21,
            116,
            110,
            61,
            143,
            185,
            53,
            70,
            50,
            197,
            191,
            195,
            169,
            163,
            163,
            169,
            133,
            91,
            177,
            151,
            153,
            154,
            127,
            126,
            90,
            131,
            100,
            146,
            148,
            149,
            121,
            118
           ]
          },
          {
           "label": "n_units_l1",
           "range": [
            5,
            200
           ],
           "values": [
            5,
            194,
            198,
            41,
            147,
            200,
            78,
            160,
            100,
            178,
            19,
            62,
            5,
            100,
            128,
            66,
            67,
            125,
            121,
            122,
            125,
            120,
            145,
            111,
            91,
            138,
            144,
            164,
            167
           ]
          },
          {
           "label": "n_units_l10",
           "range": [
            8,
            198
           ],
           "values": [
            56,
            138,
            89,
            117,
            164,
            8,
            198,
            159,
            35,
            9,
            8,
            64,
            34,
            89,
            189,
            119
           ]
          },
          {
           "label": "n_units_l11",
           "range": [
            5,
            196
           ],
           "values": [
            181,
            152,
            128,
            115,
            45,
            115,
            90,
            68,
            71,
            12,
            5,
            190,
            152,
            144,
            37,
            196
           ]
          },
          {
           "label": "n_units_l12",
           "range": [
            7,
            195
           ],
           "values": [
            188,
            60,
            174,
            162,
            178,
            37,
            195,
            42,
            169,
            7,
            13,
            109,
            95,
            127,
            132
           ]
          },
          {
           "label": "n_units_l13",
           "range": [
            8,
            193
           ],
           "values": [
            133,
            37,
            175,
            193,
            174,
            133,
            8,
            48,
            84,
            133,
            128,
            89,
            159,
            8,
            56
           ]
          },
          {
           "label": "n_units_l14",
           "range": [
            20,
            197
           ],
           "values": [
            100,
            124,
            140,
            91,
            84,
            77,
            25,
            20,
            103,
            180,
            63,
            50,
            197,
            161
           ]
          },
          {
           "label": "n_units_l15",
           "range": [
            11,
            192
           ],
           "values": [
            155,
            192,
            62,
            183,
            131,
            179,
            28,
            114,
            66,
            21,
            73,
            93,
            11
           ]
          },
          {
           "label": "n_units_l16",
           "range": [
            10,
            193
           ],
           "values": [
            75,
            157,
            148,
            191,
            125,
            157,
            81,
            122,
            22,
            10,
            44,
            193,
            49
           ]
          },
          {
           "label": "n_units_l17",
           "range": [
            8,
            184
           ],
           "values": [
            184,
            92,
            35,
            95,
            169,
            76,
            54,
            183,
            141,
            8,
            132,
            10
           ]
          },
          {
           "label": "n_units_l18",
           "range": [
            8,
            199
           ],
           "values": [
            55,
            55,
            70,
            122,
            140,
            138,
            171,
            8,
            199,
            18,
            192
           ]
          },
          {
           "label": "n_units_l19",
           "range": [
            16,
            193
           ],
           "values": [
            164,
            17,
            134,
            96,
            103,
            126,
            166,
            16,
            50,
            193
           ]
          },
          {
           "label": "n_units_l2",
           "range": [
            5,
            199
           ],
           "values": [
            144,
            50,
            134,
            33,
            98,
            155,
            28,
            77,
            40,
            144,
            199,
            199,
            194,
            6,
            5,
            71,
            19,
            111,
            118,
            116,
            116,
            112,
            172,
            89,
            118,
            124,
            171,
            130,
            128
           ]
          },
          {
           "label": "n_units_l20",
           "range": [
            14,
            199
           ],
           "values": [
            86,
            160,
            32,
            142,
            80,
            25,
            14,
            199,
            195,
            128
           ]
          },
          {
           "label": "n_units_l21",
           "range": [
            30,
            185
           ],
           "values": [
            136,
            177,
            118,
            147,
            109,
            132,
            185,
            30,
            48,
            60
           ]
          },
          {
           "label": "n_units_l22",
           "range": [
            13,
            200
           ],
           "values": [
            49,
            145,
            13,
            135,
            107,
            93,
            103,
            200,
            191
           ]
          },
          {
           "label": "n_units_l23",
           "range": [
            7,
            191
           ],
           "values": [
            107,
            7,
            14,
            109,
            191,
            87,
            35,
            170,
            144
           ]
          },
          {
           "label": "n_units_l24",
           "range": [
            6,
            198
           ],
           "values": [
            14,
            146,
            15,
            6,
            97,
            116,
            92,
            198
           ]
          },
          {
           "label": "n_units_l25",
           "range": [
            52,
            196
           ],
           "values": [
            171,
            196,
            173,
            190,
            70,
            52,
            175,
            110
           ]
          },
          {
           "label": "n_units_l26",
           "range": [
            10,
            197
           ],
           "values": [
            25,
            162,
            197,
            90,
            105,
            172,
            97,
            10
           ]
          },
          {
           "label": "n_units_l27",
           "range": [
            16,
            118
           ],
           "values": [
            73,
            118,
            16,
            110,
            28,
            57,
            62
           ]
          },
          {
           "label": "n_units_l28",
           "range": [
            34,
            177
           ],
           "values": [
            39,
            81,
            150,
            169,
            177,
            128,
            34
           ]
          },
          {
           "label": "n_units_l29",
           "range": [
            62,
            151
           ],
           "values": [
            73,
            133,
            151,
            109,
            73,
            62,
            132
           ]
          },
          {
           "label": "n_units_l3",
           "range": [
            5,
            200
           ],
           "values": [
            46,
            141,
            173,
            120,
            75,
            181,
            145,
            141,
            35,
            182,
            5,
            96,
            5,
            141,
            90,
            163,
            200,
            119,
            62,
            64,
            116,
            32,
            71,
            115,
            114,
            103,
            102
           ]
          },
          {
           "label": "n_units_l30",
           "range": [
            15,
            119
           ],
           "values": [
            33,
            100,
            119,
            54,
            114,
            34,
            15
           ]
          },
          {
           "label": "n_units_l31",
           "range": [
            16,
            192
           ],
           "values": [
            192,
            55,
            32,
            16,
            132,
            160
           ]
          },
          {
           "label": "n_units_l32",
           "range": [
            12,
            192
           ],
           "values": [
            12,
            126,
            152,
            94,
            192,
            60
           ]
          },
          {
           "label": "n_units_l33",
           "range": [
            69,
            170
           ],
           "values": [
            138,
            118,
            69,
            147,
            170,
            101
           ]
          },
          {
           "label": "n_units_l34",
           "range": [
            6,
            174
           ],
           "values": [
            6,
            159,
            104,
            28,
            20,
            174
           ]
          },
          {
           "label": "n_units_l35",
           "range": [
            21,
            142
           ],
           "values": [
            85,
            21,
            142,
            58,
            117
           ]
          },
          {
           "label": "n_units_l36",
           "range": [
            13,
            167
           ],
           "values": [
            132,
            167,
            13,
            163,
            74
           ]
          },
          {
           "label": "n_units_l37",
           "range": [
            125,
            196
           ],
           "values": [
            178,
            125,
            196,
            133,
            194
           ]
          },
          {
           "label": "n_units_l38",
           "range": [
            13,
            166
           ],
           "values": [
            96,
            166,
            13,
            123,
            53
           ]
          },
          {
           "label": "n_units_l39",
           "range": [
            18,
            124
           ],
           "values": [
            71,
            124,
            18,
            85
           ]
          },
          {
           "label": "n_units_l4",
           "range": [
            5,
            200
           ],
           "values": [
            163,
            124,
            123,
            135,
            164,
            72,
            26,
            134,
            85,
            149,
            6,
            9,
            5,
            47,
            193,
            39,
            34,
            92,
            98,
            100,
            78,
            62,
            100,
            105,
            200,
            113,
            115
           ]
          },
          {
           "label": "n_units_l40",
           "range": [
            71,
            168
           ],
           "values": [
            168,
            71,
            107,
            155
           ]
          },
          {
           "label": "n_units_l41",
           "range": [
            57,
            139
           ],
           "values": [
            139,
            57,
            60,
            63
           ]
          },
          {
           "label": "n_units_l42",
           "range": [
            99,
            130
           ],
           "values": [
            99,
            102,
            130
           ]
          },
          {
           "label": "n_units_l43",
           "range": [
            31,
            189
           ],
           "values": [
            189,
            31,
            185
           ]
          },
          {
           "label": "n_units_l44",
           "range": [
            48,
            139
           ],
           "values": [
            89,
            48,
            139
           ]
          },
          {
           "label": "n_units_l45",
           "range": [
            40,
            193
           ],
           "values": [
            40,
            193
           ]
          },
          {
           "label": "n_units_l46",
           "range": [
            147,
            187
           ],
           "values": [
            187,
            147
           ]
          },
          {
           "label": "n_units_l47",
           "range": [
            153,
            153
           ],
           "values": [
            153
           ]
          },
          {
           "label": "n_units_l48",
           "range": [
            97,
            97
           ],
           "values": [
            97
           ]
          },
          {
           "label": "n_units_l49",
           "range": [
            146,
            146
           ],
           "values": [
            146
           ]
          },
          {
           "label": "n_units_l5",
           "range": [
            9,
            199
           ],
           "values": [
            85,
            108,
            98,
            9,
            103,
            115,
            192,
            22,
            68,
            87,
            184,
            199,
            198,
            163,
            150,
            141,
            45,
            43,
            44,
            37,
            64,
            15,
            70,
            134,
            61,
            63
           ]
          },
          {
           "label": "n_units_l6",
           "range": [
            5,
            200
           ],
           "values": [
            107,
            5,
            10,
            196,
            137,
            102,
            182,
            174,
            159,
            152,
            71,
            50,
            79,
            200,
            127,
            181,
            28,
            44,
            80,
            81,
            107,
            103
           ]
          },
          {
           "label": "n_units_l7",
           "range": [
            6,
            199
           ],
           "values": [
            59,
            61,
            15,
            142,
            6,
            30,
            163,
            17,
            71,
            151,
            196,
            199,
            152,
            117,
            183,
            103,
            128,
            84,
            83,
            43,
            39
           ]
          },
          {
           "label": "n_units_l8",
           "range": [
            5,
            197
           ],
           "values": [
            30,
            31,
            99,
            110,
            90,
            177,
            197,
            186,
            136,
            182,
            5,
            58,
            151,
            148,
            72,
            28,
            65,
            127,
            120,
            158,
            166
           ]
          },
          {
           "label": "n_units_l9",
           "range": [
            5,
            200
           ],
           "values": [
            91,
            105,
            90,
            153,
            46,
            27,
            159,
            119,
            94,
            53,
            198,
            200,
            157,
            166,
            127,
            5,
            69,
            15,
            179
           ]
          },
          {
           "label": "optimizer",
           "range": [
            0,
            2
           ],
           "ticktext": [
            [
             "RMSprop",
             0
            ],
            [
             "SGD",
             1
            ],
            [
             "AdamW",
             2
            ]
           ],
           "tickvals": [
            0,
            1,
            2
           ],
           "values": [
            0,
            1,
            1,
            0,
            2,
            0,
            2,
            1,
            2,
            0,
            2,
            0,
            2,
            2,
            2,
            2,
            2,
            2,
            2,
            2,
            2,
            2,
            2,
            2,
            2,
            2,
            1,
            2,
            2,
            2,
            2,
            2,
            2
           ]
          }
         ],
         "labelangle": 30,
         "labelside": "bottom",
         "line": {
          "color": [
           0.9606944219601637,
           0.5229744831519724,
           0.5152487792185354,
           0.5,
           0.5,
           0.5,
           0.9672167229471519,
           0.5001545200503654,
           0.5,
           0.5000026730744942,
           0.9315242524571459,
           0.9618489594600244,
           0.5001252488164958,
           0.9643228387187995,
           0.964957793454765,
           0.9689917563213079,
           0.5,
           0.7443222056958051,
           0.5,
           0.5,
           0.9709901762980346,
           0.9711957856024203,
           0.9693804484240228,
           0.9709791460784817,
           0.9697472699875808,
           0.9709073371924895,
           0.5,
           0.9700131587829054,
           0.5000270391862804,
           0.9717733916004746,
           0.9693304751988896,
           0.972008961436109,
           0.9717326744677032
          ],
          "colorbar": {
           "title": {
            "text": "Objective Value"
           }
          },
          "colorscale": [
           [
            0,
            "rgb(247,251,255)"
           ],
           [
            0.125,
            "rgb(222,235,247)"
           ],
           [
            0.25,
            "rgb(198,219,239)"
           ],
           [
            0.375,
            "rgb(158,202,225)"
           ],
           [
            0.5,
            "rgb(107,174,214)"
           ],
           [
            0.625,
            "rgb(66,146,198)"
           ],
           [
            0.75,
            "rgb(33,113,181)"
           ],
           [
            0.875,
            "rgb(8,81,156)"
           ],
           [
            1,
            "rgb(8,48,107)"
           ]
          ],
          "reversescale": false,
          "showscale": true
         },
         "type": "parcoords"
        }
       ],
       "layout": {
        "template": {
         "data": {
          "bar": [
           {
            "error_x": {
             "color": "#2a3f5f"
            },
            "error_y": {
             "color": "#2a3f5f"
            },
            "marker": {
             "line": {
              "color": "#E5ECF6",
              "width": 0.5
             }
            },
            "type": "bar"
           }
          ],
          "barpolar": [
           {
            "marker": {
             "line": {
              "color": "#E5ECF6",
              "width": 0.5
             }
            },
            "type": "barpolar"
           }
          ],
          "carpet": [
           {
            "aaxis": {
             "endlinecolor": "#2a3f5f",
             "gridcolor": "white",
             "linecolor": "white",
             "minorgridcolor": "white",
             "startlinecolor": "#2a3f5f"
            },
            "baxis": {
             "endlinecolor": "#2a3f5f",
             "gridcolor": "white",
             "linecolor": "white",
             "minorgridcolor": "white",
             "startlinecolor": "#2a3f5f"
            },
            "type": "carpet"
           }
          ],
          "choropleth": [
           {
            "colorbar": {
             "outlinewidth": 0,
             "ticks": ""
            },
            "type": "choropleth"
           }
          ],
          "contour": [
           {
            "colorbar": {
             "outlinewidth": 0,
             "ticks": ""
            },
            "colorscale": [
             [
              0,
              "#0d0887"
             ],
             [
              0.1111111111111111,
              "#46039f"
             ],
             [
              0.2222222222222222,
              "#7201a8"
             ],
             [
              0.3333333333333333,
              "#9c179e"
             ],
             [
              0.4444444444444444,
              "#bd3786"
             ],
             [
              0.5555555555555556,
              "#d8576b"
             ],
             [
              0.6666666666666666,
              "#ed7953"
             ],
             [
              0.7777777777777778,
              "#fb9f3a"
             ],
             [
              0.8888888888888888,
              "#fdca26"
             ],
             [
              1,
              "#f0f921"
             ]
            ],
            "type": "contour"
           }
          ],
          "contourcarpet": [
           {
            "colorbar": {
             "outlinewidth": 0,
             "ticks": ""
            },
            "type": "contourcarpet"
           }
          ],
          "heatmap": [
           {
            "colorbar": {
             "outlinewidth": 0,
             "ticks": ""
            },
            "colorscale": [
             [
              0,
              "#0d0887"
             ],
             [
              0.1111111111111111,
              "#46039f"
             ],
             [
              0.2222222222222222,
              "#7201a8"
             ],
             [
              0.3333333333333333,
              "#9c179e"
             ],
             [
              0.4444444444444444,
              "#bd3786"
             ],
             [
              0.5555555555555556,
              "#d8576b"
             ],
             [
              0.6666666666666666,
              "#ed7953"
             ],
             [
              0.7777777777777778,
              "#fb9f3a"
             ],
             [
              0.8888888888888888,
              "#fdca26"
             ],
             [
              1,
              "#f0f921"
             ]
            ],
            "type": "heatmap"
           }
          ],
          "heatmapgl": [
           {
            "colorbar": {
             "outlinewidth": 0,
             "ticks": ""
            },
            "colorscale": [
             [
              0,
              "#0d0887"
             ],
             [
              0.1111111111111111,
              "#46039f"
             ],
             [
              0.2222222222222222,
              "#7201a8"
             ],
             [
              0.3333333333333333,
              "#9c179e"
             ],
             [
              0.4444444444444444,
              "#bd3786"
             ],
             [
              0.5555555555555556,
              "#d8576b"
             ],
             [
              0.6666666666666666,
              "#ed7953"
             ],
             [
              0.7777777777777778,
              "#fb9f3a"
             ],
             [
              0.8888888888888888,
              "#fdca26"
             ],
             [
              1,
              "#f0f921"
             ]
            ],
            "type": "heatmapgl"
           }
          ],
          "histogram": [
           {
            "marker": {
             "colorbar": {
              "outlinewidth": 0,
              "ticks": ""
             }
            },
            "type": "histogram"
           }
          ],
          "histogram2d": [
           {
            "colorbar": {
             "outlinewidth": 0,
             "ticks": ""
            },
            "colorscale": [
             [
              0,
              "#0d0887"
             ],
             [
              0.1111111111111111,
              "#46039f"
             ],
             [
              0.2222222222222222,
              "#7201a8"
             ],
             [
              0.3333333333333333,
              "#9c179e"
             ],
             [
              0.4444444444444444,
              "#bd3786"
             ],
             [
              0.5555555555555556,
              "#d8576b"
             ],
             [
              0.6666666666666666,
              "#ed7953"
             ],
             [
              0.7777777777777778,
              "#fb9f3a"
             ],
             [
              0.8888888888888888,
              "#fdca26"
             ],
             [
              1,
              "#f0f921"
             ]
            ],
            "type": "histogram2d"
           }
          ],
          "histogram2dcontour": [
           {
            "colorbar": {
             "outlinewidth": 0,
             "ticks": ""
            },
            "colorscale": [
             [
              0,
              "#0d0887"
             ],
             [
              0.1111111111111111,
              "#46039f"
             ],
             [
              0.2222222222222222,
              "#7201a8"
             ],
             [
              0.3333333333333333,
              "#9c179e"
             ],
             [
              0.4444444444444444,
              "#bd3786"
             ],
             [
              0.5555555555555556,
              "#d8576b"
             ],
             [
              0.6666666666666666,
              "#ed7953"
             ],
             [
              0.7777777777777778,
              "#fb9f3a"
             ],
             [
              0.8888888888888888,
              "#fdca26"
             ],
             [
              1,
              "#f0f921"
             ]
            ],
            "type": "histogram2dcontour"
           }
          ],
          "mesh3d": [
           {
            "colorbar": {
             "outlinewidth": 0,
             "ticks": ""
            },
            "type": "mesh3d"
           }
          ],
          "parcoords": [
           {
            "line": {
             "colorbar": {
              "outlinewidth": 0,
              "ticks": ""
             }
            },
            "type": "parcoords"
           }
          ],
          "pie": [
           {
            "automargin": true,
            "type": "pie"
           }
          ],
          "scatter": [
           {
            "marker": {
             "colorbar": {
              "outlinewidth": 0,
              "ticks": ""
             }
            },
            "type": "scatter"
           }
          ],
          "scatter3d": [
           {
            "line": {
             "colorbar": {
              "outlinewidth": 0,
              "ticks": ""
             }
            },
            "marker": {
             "colorbar": {
              "outlinewidth": 0,
              "ticks": ""
             }
            },
            "type": "scatter3d"
           }
          ],
          "scattercarpet": [
           {
            "marker": {
             "colorbar": {
              "outlinewidth": 0,
              "ticks": ""
             }
            },
            "type": "scattercarpet"
           }
          ],
          "scattergeo": [
           {
            "marker": {
             "colorbar": {
              "outlinewidth": 0,
              "ticks": ""
             }
            },
            "type": "scattergeo"
           }
          ],
          "scattergl": [
           {
            "marker": {
             "colorbar": {
              "outlinewidth": 0,
              "ticks": ""
             }
            },
            "type": "scattergl"
           }
          ],
          "scattermapbox": [
           {
            "marker": {
             "colorbar": {
              "outlinewidth": 0,
              "ticks": ""
             }
            },
            "type": "scattermapbox"
           }
          ],
          "scatterpolar": [
           {
            "marker": {
             "colorbar": {
              "outlinewidth": 0,
              "ticks": ""
             }
            },
            "type": "scatterpolar"
           }
          ],
          "scatterpolargl": [
           {
            "marker": {
             "colorbar": {
              "outlinewidth": 0,
              "ticks": ""
             }
            },
            "type": "scatterpolargl"
           }
          ],
          "scatterternary": [
           {
            "marker": {
             "colorbar": {
              "outlinewidth": 0,
              "ticks": ""
             }
            },
            "type": "scatterternary"
           }
          ],
          "surface": [
           {
            "colorbar": {
             "outlinewidth": 0,
             "ticks": ""
            },
            "colorscale": [
             [
              0,
              "#0d0887"
             ],
             [
              0.1111111111111111,
              "#46039f"
             ],
             [
              0.2222222222222222,
              "#7201a8"
             ],
             [
              0.3333333333333333,
              "#9c179e"
             ],
             [
              0.4444444444444444,
              "#bd3786"
             ],
             [
              0.5555555555555556,
              "#d8576b"
             ],
             [
              0.6666666666666666,
              "#ed7953"
             ],
             [
              0.7777777777777778,
              "#fb9f3a"
             ],
             [
              0.8888888888888888,
              "#fdca26"
             ],
             [
              1,
              "#f0f921"
             ]
            ],
            "type": "surface"
           }
          ],
          "table": [
           {
            "cells": {
             "fill": {
              "color": "#EBF0F8"
             },
             "line": {
              "color": "white"
             }
            },
            "header": {
             "fill": {
              "color": "#C8D4E3"
             },
             "line": {
              "color": "white"
             }
            },
            "type": "table"
           }
          ]
         },
         "layout": {
          "annotationdefaults": {
           "arrowcolor": "#2a3f5f",
           "arrowhead": 0,
           "arrowwidth": 1
          },
          "autotypenumbers": "strict",
          "coloraxis": {
           "colorbar": {
            "outlinewidth": 0,
            "ticks": ""
           }
          },
          "colorscale": {
           "diverging": [
            [
             0,
             "#8e0152"
            ],
            [
             0.1,
             "#c51b7d"
            ],
            [
             0.2,
             "#de77ae"
            ],
            [
             0.3,
             "#f1b6da"
            ],
            [
             0.4,
             "#fde0ef"
            ],
            [
             0.5,
             "#f7f7f7"
            ],
            [
             0.6,
             "#e6f5d0"
            ],
            [
             0.7,
             "#b8e186"
            ],
            [
             0.8,
             "#7fbc41"
            ],
            [
             0.9,
             "#4d9221"
            ],
            [
             1,
             "#276419"
            ]
           ],
           "sequential": [
            [
             0,
             "#0d0887"
            ],
            [
             0.1111111111111111,
             "#46039f"
            ],
            [
             0.2222222222222222,
             "#7201a8"
            ],
            [
             0.3333333333333333,
             "#9c179e"
            ],
            [
             0.4444444444444444,
             "#bd3786"
            ],
            [
             0.5555555555555556,
             "#d8576b"
            ],
            [
             0.6666666666666666,
             "#ed7953"
            ],
            [
             0.7777777777777778,
             "#fb9f3a"
            ],
            [
             0.8888888888888888,
             "#fdca26"
            ],
            [
             1,
             "#f0f921"
            ]
           ],
           "sequentialminus": [
            [
             0,
             "#0d0887"
            ],
            [
             0.1111111111111111,
             "#46039f"
            ],
            [
             0.2222222222222222,
             "#7201a8"
            ],
            [
             0.3333333333333333,
             "#9c179e"
            ],
            [
             0.4444444444444444,
             "#bd3786"
            ],
            [
             0.5555555555555556,
             "#d8576b"
            ],
            [
             0.6666666666666666,
             "#ed7953"
            ],
            [
             0.7777777777777778,
             "#fb9f3a"
            ],
            [
             0.8888888888888888,
             "#fdca26"
            ],
            [
             1,
             "#f0f921"
            ]
           ]
          },
          "colorway": [
           "#636efa",
           "#EF553B",
           "#00cc96",
           "#ab63fa",
           "#FFA15A",
           "#19d3f3",
           "#FF6692",
           "#B6E880",
           "#FF97FF",
           "#FECB52"
          ],
          "font": {
           "color": "#2a3f5f"
          },
          "geo": {
           "bgcolor": "white",
           "lakecolor": "white",
           "landcolor": "#E5ECF6",
           "showlakes": true,
           "showland": true,
           "subunitcolor": "white"
          },
          "hoverlabel": {
           "align": "left"
          },
          "hovermode": "closest",
          "mapbox": {
           "style": "light"
          },
          "paper_bgcolor": "white",
          "plot_bgcolor": "#E5ECF6",
          "polar": {
           "angularaxis": {
            "gridcolor": "white",
            "linecolor": "white",
            "ticks": ""
           },
           "bgcolor": "#E5ECF6",
           "radialaxis": {
            "gridcolor": "white",
            "linecolor": "white",
            "ticks": ""
           }
          },
          "scene": {
           "xaxis": {
            "backgroundcolor": "#E5ECF6",
            "gridcolor": "white",
            "gridwidth": 2,
            "linecolor": "white",
            "showbackground": true,
            "ticks": "",
            "zerolinecolor": "white"
           },
           "yaxis": {
            "backgroundcolor": "#E5ECF6",
            "gridcolor": "white",
            "gridwidth": 2,
            "linecolor": "white",
            "showbackground": true,
            "ticks": "",
            "zerolinecolor": "white"
           },
           "zaxis": {
            "backgroundcolor": "#E5ECF6",
            "gridcolor": "white",
            "gridwidth": 2,
            "linecolor": "white",
            "showbackground": true,
            "ticks": "",
            "zerolinecolor": "white"
           }
          },
          "shapedefaults": {
           "line": {
            "color": "#2a3f5f"
           }
          },
          "ternary": {
           "aaxis": {
            "gridcolor": "white",
            "linecolor": "white",
            "ticks": ""
           },
           "baxis": {
            "gridcolor": "white",
            "linecolor": "white",
            "ticks": ""
           },
           "bgcolor": "#E5ECF6",
           "caxis": {
            "gridcolor": "white",
            "linecolor": "white",
            "ticks": ""
           }
          },
          "title": {
           "x": 0.05
          },
          "xaxis": {
           "automargin": true,
           "gridcolor": "white",
           "linecolor": "white",
           "ticks": "",
           "title": {
            "standoff": 15
           },
           "zerolinecolor": "white",
           "zerolinewidth": 2
          },
          "yaxis": {
           "automargin": true,
           "gridcolor": "white",
           "linecolor": "white",
           "ticks": "",
           "title": {
            "standoff": 15
           },
           "zerolinecolor": "white",
           "zerolinewidth": 2
          }
         }
        },
        "title": {
         "text": "Parallel Coordinate Plot"
        }
       }
      }
     },
     "metadata": {}
    }
   ],
   "source": [
    "optuna.visualization.plot_parallel_coordinate(study)"
   ]
  },
  {
   "source": [
    "# Testing the model out"
   ],
   "cell_type": "markdown",
   "metadata": {}
  },
  {
   "cell_type": "code",
   "execution_count": 19,
   "metadata": {},
   "outputs": [
    {
     "output_type": "execute_result",
     "data": {
      "text/plain": [
       "<torch.autograd.grad_mode.set_grad_enabled at 0x7fed6ba94220>"
      ]
     },
     "metadata": {},
     "execution_count": 19
    }
   ],
   "source": [
    "device = device = torch.device('cpu')\n",
    "torch.set_grad_enabled(False)"
   ]
  },
  {
   "cell_type": "code",
   "execution_count": 20,
   "metadata": {},
   "outputs": [],
   "source": [
    "\n",
    "trial = study.best_trial\n",
    "\n",
    "# Make the model with the best parameters found\n",
    "model = define_model(trial)"
   ]
  },
  {
   "cell_type": "code",
   "execution_count": 22,
   "metadata": {},
   "outputs": [
    {
     "output_type": "execute_result",
     "data": {
      "text/plain": [
       "<All keys matched successfully>"
      ]
     },
     "metadata": {},
     "execution_count": 22
    }
   ],
   "source": [
    "\"\"\" name = \"\"\n",
    "for key, value in trial.params.items():\n",
    "    name += \"{}_{}hhhsi9iu9_\".format(key, value) \"\"\"\n",
    "name = str(trial.value) + \".model\"\n",
    "\n",
    "# Load the already trained model\n",
    "model.load_state_dict(torch.load(join(os.getcwd(),\"models_optuna\",name)))"
   ]
  },
  {
   "cell_type": "code",
   "execution_count": 23,
   "metadata": {},
   "outputs": [
    {
     "output_type": "execute_result",
     "data": {
      "text/plain": [
       "Sequential(\n",
       "  (0): Linear(in_features=68, out_features=121, bias=True)\n",
       "  (1): ReLU()\n",
       "  (2): Dropout(p=0.24951969108997804, inplace=False)\n",
       "  (3): Linear(in_features=121, out_features=164, bias=True)\n",
       "  (4): ReLU()\n",
       "  (5): Dropout(p=0.4164702772706052, inplace=False)\n",
       "  (6): Linear(in_features=164, out_features=130, bias=True)\n",
       "  (7): ReLU()\n",
       "  (8): Dropout(p=0.34382459231190765, inplace=False)\n",
       "  (9): Linear(in_features=130, out_features=103, bias=True)\n",
       "  (10): ReLU()\n",
       "  (11): Dropout(p=0.32336653192587167, inplace=False)\n",
       "  (12): Linear(in_features=103, out_features=113, bias=True)\n",
       "  (13): ReLU()\n",
       "  (14): Dropout(p=0.21536700411323847, inplace=False)\n",
       "  (15): Linear(in_features=113, out_features=61, bias=True)\n",
       "  (16): ReLU()\n",
       "  (17): Dropout(p=0.2715282451544035, inplace=False)\n",
       "  (18): Linear(in_features=61, out_features=107, bias=True)\n",
       "  (19): ReLU()\n",
       "  (20): Dropout(p=0.17820887026727894, inplace=False)\n",
       "  (21): Linear(in_features=107, out_features=43, bias=True)\n",
       "  (22): ReLU()\n",
       "  (23): Dropout(p=0.49904142775260274, inplace=False)\n",
       "  (24): Linear(in_features=43, out_features=158, bias=True)\n",
       "  (25): ReLU()\n",
       "  (26): Dropout(p=0.416015650151419, inplace=False)\n",
       "  (27): Linear(in_features=158, out_features=1, bias=True)\n",
       "  (28): Sigmoid()\n",
       ")"
      ]
     },
     "metadata": {},
     "execution_count": 23
    }
   ],
   "source": [
    "model.eval()"
   ]
  },
  {
   "source": [
    "### Load Test Data"
   ],
   "cell_type": "markdown",
   "metadata": {}
  },
  {
   "cell_type": "code",
   "execution_count": 24,
   "metadata": {},
   "outputs": [
    {
     "output_type": "stream",
     "name": "stdout",
     "text": [
      "[+] Loading Data..\n",
      "[+] Data Loaded in 8 seconds!\n"
     ]
    },
    {
     "output_type": "execute_result",
     "data": {
      "text/plain": [
       "          Jet_Multi     Jet1_Mass      Jet1_Eta      Jet1_Phi       Jet1_PT  \\\n",
       "count  1.509872e+06  1.509872e+06  1.509872e+06  1.509872e+06  1.509872e+06   \n",
       "mean  -4.403962e-04 -3.169950e-04  1.919765e-03 -7.500912e-04 -2.182479e-03   \n",
       "std    9.997421e-01  9.999649e-01  1.001273e+00  9.997466e-01  9.951093e-01   \n",
       "min   -1.649581e+00 -1.384238e+00 -3.538465e+00 -1.732104e+00 -1.227972e+00   \n",
       "25%   -1.024832e+00 -5.923256e-01 -6.987161e-01 -8.670166e-01 -6.325989e-01   \n",
       "50%   -4.000820e-01 -2.591055e-01  1.524748e-03 -1.526841e-03 -2.186928e-01   \n",
       "75%    8.494175e-01  2.696276e-01  7.022158e-01  8.662250e-01  3.497483e-01   \n",
       "max    7.096915e+00  4.129075e+01  3.513001e+00  1.731554e+00  3.008994e+01   \n",
       "\n",
       "          Jet1_BTag     Jet2_Mass      Jet2_Eta      Jet2_Phi       Jet2_PT  \\\n",
       "count  1.509872e+06  1.509872e+06  1.509872e+06  1.509872e+06  1.509872e+06   \n",
       "mean  -2.956233e-04 -1.920912e-03 -1.473976e-04  5.886514e-05 -1.119410e-03   \n",
       "std    1.000060e+00  9.988197e-01  9.996049e-01  1.000510e+00  9.982385e-01   \n",
       "min   -1.222218e+00 -1.458502e+00 -3.168550e+00 -1.795324e+00 -1.484852e+00   \n",
       "25%   -1.222218e+00 -5.621344e-01 -6.583196e-01 -8.318531e-01 -6.321707e-01   \n",
       "50%    8.181844e-01 -1.839713e-01 -5.016521e-04  1.541433e-04 -1.812021e-01   \n",
       "75%    8.181844e-01  3.662726e-01  6.576045e-01  8.318921e-01  4.305953e-01   \n",
       "max    8.181844e-01  3.596933e+01  3.166699e+00  1.795633e+00  3.140511e+01   \n",
       "\n",
       "       ...     Muon1_Phi      Muon1_PT     Muon2_Eta     Muon2_Phi  \\\n",
       "count  ...  1.509872e+06  1.509872e+06  1.509872e+06  1.509872e+06   \n",
       "mean   ...  1.310890e-03 -3.390498e-03  1.056866e-03  2.244645e-04   \n",
       "std    ...  9.998913e-01  9.984771e-01  9.992862e-01  9.994316e-01   \n",
       "min    ... -1.999019e+00 -9.487765e-01 -3.067431e+00 -2.619935e+00   \n",
       "25%    ... -6.643602e-01 -9.487765e-01  6.259453e-04  2.053101e-04   \n",
       "50%    ...  7.188655e-04 -1.115985e-01  6.259453e-04  2.053101e-04   \n",
       "75%    ...  6.678170e-01  3.632169e-01  6.259453e-04  2.053101e-04   \n",
       "max    ...  2.000454e+00  3.957771e+01  3.068657e+00  2.620328e+00   \n",
       "\n",
       "           Muon2_PT  MissingET_MET  MissingET_Phi   ScalarHT_HT         Label  \\\n",
       "count  1.509872e+06   1.509872e+06   1.509872e+06  1.509872e+06  1.509872e+06   \n",
       "mean  -2.551370e-03  -9.862976e-04  -5.075757e-04 -1.545192e-03  4.409513e-02   \n",
       "std    9.930162e-01   9.968513e-01   9.988965e-01  9.976698e-01  2.053065e-01   \n",
       "min   -6.540112e-01  -1.136653e+00  -1.731221e+00 -1.597308e+00  0.000000e+00   \n",
       "25%   -6.540112e-01  -7.578464e-01  -8.644043e-01 -6.779826e-01  0.000000e+00   \n",
       "50%   -6.540112e-01  -2.311350e-01  -1.250374e-03 -2.020433e-01  0.000000e+00   \n",
       "75%    5.261358e-01   4.865845e-01   8.641697e-01  4.270109e-01  0.000000e+00   \n",
       "max    3.332523e+01   3.837758e+01   1.731338e+00  2.017072e+01  1.000000e+00   \n",
       "\n",
       "            Weights  \n",
       "count  1.509872e+06  \n",
       "mean   7.772088e-06  \n",
       "std    1.400269e-05  \n",
       "min    1.286454e-09  \n",
       "25%    1.811693e-07  \n",
       "50%    5.028781e-06  \n",
       "75%    7.089469e-06  \n",
       "max    8.083906e-05  \n",
       "\n",
       "[8 rows x 70 columns]"
      ],
      "text/html": "<div>\n<style scoped>\n    .dataframe tbody tr th:only-of-type {\n        vertical-align: middle;\n    }\n\n    .dataframe tbody tr th {\n        vertical-align: top;\n    }\n\n    .dataframe thead th {\n        text-align: right;\n    }\n</style>\n<table border=\"1\" class=\"dataframe\">\n  <thead>\n    <tr style=\"text-align: right;\">\n      <th></th>\n      <th>Jet_Multi</th>\n      <th>Jet1_Mass</th>\n      <th>Jet1_Eta</th>\n      <th>Jet1_Phi</th>\n      <th>Jet1_PT</th>\n      <th>Jet1_BTag</th>\n      <th>Jet2_Mass</th>\n      <th>Jet2_Eta</th>\n      <th>Jet2_Phi</th>\n      <th>Jet2_PT</th>\n      <th>...</th>\n      <th>Muon1_Phi</th>\n      <th>Muon1_PT</th>\n      <th>Muon2_Eta</th>\n      <th>Muon2_Phi</th>\n      <th>Muon2_PT</th>\n      <th>MissingET_MET</th>\n      <th>MissingET_Phi</th>\n      <th>ScalarHT_HT</th>\n      <th>Label</th>\n      <th>Weights</th>\n    </tr>\n  </thead>\n  <tbody>\n    <tr>\n      <th>count</th>\n      <td>1.509872e+06</td>\n      <td>1.509872e+06</td>\n      <td>1.509872e+06</td>\n      <td>1.509872e+06</td>\n      <td>1.509872e+06</td>\n      <td>1.509872e+06</td>\n      <td>1.509872e+06</td>\n      <td>1.509872e+06</td>\n      <td>1.509872e+06</td>\n      <td>1.509872e+06</td>\n      <td>...</td>\n      <td>1.509872e+06</td>\n      <td>1.509872e+06</td>\n      <td>1.509872e+06</td>\n      <td>1.509872e+06</td>\n      <td>1.509872e+06</td>\n      <td>1.509872e+06</td>\n      <td>1.509872e+06</td>\n      <td>1.509872e+06</td>\n      <td>1.509872e+06</td>\n      <td>1.509872e+06</td>\n    </tr>\n    <tr>\n      <th>mean</th>\n      <td>-4.403962e-04</td>\n      <td>-3.169950e-04</td>\n      <td>1.919765e-03</td>\n      <td>-7.500912e-04</td>\n      <td>-2.182479e-03</td>\n      <td>-2.956233e-04</td>\n      <td>-1.920912e-03</td>\n      <td>-1.473976e-04</td>\n      <td>5.886514e-05</td>\n      <td>-1.119410e-03</td>\n      <td>...</td>\n      <td>1.310890e-03</td>\n      <td>-3.390498e-03</td>\n      <td>1.056866e-03</td>\n      <td>2.244645e-04</td>\n      <td>-2.551370e-03</td>\n      <td>-9.862976e-04</td>\n      <td>-5.075757e-04</td>\n      <td>-1.545192e-03</td>\n      <td>4.409513e-02</td>\n      <td>7.772088e-06</td>\n    </tr>\n    <tr>\n      <th>std</th>\n      <td>9.997421e-01</td>\n      <td>9.999649e-01</td>\n      <td>1.001273e+00</td>\n      <td>9.997466e-01</td>\n      <td>9.951093e-01</td>\n      <td>1.000060e+00</td>\n      <td>9.988197e-01</td>\n      <td>9.996049e-01</td>\n      <td>1.000510e+00</td>\n      <td>9.982385e-01</td>\n      <td>...</td>\n      <td>9.998913e-01</td>\n      <td>9.984771e-01</td>\n      <td>9.992862e-01</td>\n      <td>9.994316e-01</td>\n      <td>9.930162e-01</td>\n      <td>9.968513e-01</td>\n      <td>9.988965e-01</td>\n      <td>9.976698e-01</td>\n      <td>2.053065e-01</td>\n      <td>1.400269e-05</td>\n    </tr>\n    <tr>\n      <th>min</th>\n      <td>-1.649581e+00</td>\n      <td>-1.384238e+00</td>\n      <td>-3.538465e+00</td>\n      <td>-1.732104e+00</td>\n      <td>-1.227972e+00</td>\n      <td>-1.222218e+00</td>\n      <td>-1.458502e+00</td>\n      <td>-3.168550e+00</td>\n      <td>-1.795324e+00</td>\n      <td>-1.484852e+00</td>\n      <td>...</td>\n      <td>-1.999019e+00</td>\n      <td>-9.487765e-01</td>\n      <td>-3.067431e+00</td>\n      <td>-2.619935e+00</td>\n      <td>-6.540112e-01</td>\n      <td>-1.136653e+00</td>\n      <td>-1.731221e+00</td>\n      <td>-1.597308e+00</td>\n      <td>0.000000e+00</td>\n      <td>1.286454e-09</td>\n    </tr>\n    <tr>\n      <th>25%</th>\n      <td>-1.024832e+00</td>\n      <td>-5.923256e-01</td>\n      <td>-6.987161e-01</td>\n      <td>-8.670166e-01</td>\n      <td>-6.325989e-01</td>\n      <td>-1.222218e+00</td>\n      <td>-5.621344e-01</td>\n      <td>-6.583196e-01</td>\n      <td>-8.318531e-01</td>\n      <td>-6.321707e-01</td>\n      <td>...</td>\n      <td>-6.643602e-01</td>\n      <td>-9.487765e-01</td>\n      <td>6.259453e-04</td>\n      <td>2.053101e-04</td>\n      <td>-6.540112e-01</td>\n      <td>-7.578464e-01</td>\n      <td>-8.644043e-01</td>\n      <td>-6.779826e-01</td>\n      <td>0.000000e+00</td>\n      <td>1.811693e-07</td>\n    </tr>\n    <tr>\n      <th>50%</th>\n      <td>-4.000820e-01</td>\n      <td>-2.591055e-01</td>\n      <td>1.524748e-03</td>\n      <td>-1.526841e-03</td>\n      <td>-2.186928e-01</td>\n      <td>8.181844e-01</td>\n      <td>-1.839713e-01</td>\n      <td>-5.016521e-04</td>\n      <td>1.541433e-04</td>\n      <td>-1.812021e-01</td>\n      <td>...</td>\n      <td>7.188655e-04</td>\n      <td>-1.115985e-01</td>\n      <td>6.259453e-04</td>\n      <td>2.053101e-04</td>\n      <td>-6.540112e-01</td>\n      <td>-2.311350e-01</td>\n      <td>-1.250374e-03</td>\n      <td>-2.020433e-01</td>\n      <td>0.000000e+00</td>\n      <td>5.028781e-06</td>\n    </tr>\n    <tr>\n      <th>75%</th>\n      <td>8.494175e-01</td>\n      <td>2.696276e-01</td>\n      <td>7.022158e-01</td>\n      <td>8.662250e-01</td>\n      <td>3.497483e-01</td>\n      <td>8.181844e-01</td>\n      <td>3.662726e-01</td>\n      <td>6.576045e-01</td>\n      <td>8.318921e-01</td>\n      <td>4.305953e-01</td>\n      <td>...</td>\n      <td>6.678170e-01</td>\n      <td>3.632169e-01</td>\n      <td>6.259453e-04</td>\n      <td>2.053101e-04</td>\n      <td>5.261358e-01</td>\n      <td>4.865845e-01</td>\n      <td>8.641697e-01</td>\n      <td>4.270109e-01</td>\n      <td>0.000000e+00</td>\n      <td>7.089469e-06</td>\n    </tr>\n    <tr>\n      <th>max</th>\n      <td>7.096915e+00</td>\n      <td>4.129075e+01</td>\n      <td>3.513001e+00</td>\n      <td>1.731554e+00</td>\n      <td>3.008994e+01</td>\n      <td>8.181844e-01</td>\n      <td>3.596933e+01</td>\n      <td>3.166699e+00</td>\n      <td>1.795633e+00</td>\n      <td>3.140511e+01</td>\n      <td>...</td>\n      <td>2.000454e+00</td>\n      <td>3.957771e+01</td>\n      <td>3.068657e+00</td>\n      <td>2.620328e+00</td>\n      <td>3.332523e+01</td>\n      <td>3.837758e+01</td>\n      <td>1.731338e+00</td>\n      <td>2.017072e+01</td>\n      <td>1.000000e+00</td>\n      <td>8.083906e-05</td>\n    </tr>\n  </tbody>\n</table>\n<p>8 rows × 70 columns</p>\n</div>"
     },
     "metadata": {},
     "execution_count": 24
    }
   ],
   "source": [
    "test_data = data_loader(data=\"test\").drop(columns=['index'])\n",
    "test_data.describe()"
   ]
  },
  {
   "cell_type": "code",
   "execution_count": 25,
   "metadata": {},
   "outputs": [],
   "source": [
    "test_label = torch.tensor(test_data['Label'].values, dtype=torch.float32).to(device)\n",
    "test_predictions = model(torch.tensor(test_data.drop(columns=['Label', 'Weights', 'Name']).values, dtype=torch.float32)).to(device)"
   ]
  },
  {
   "cell_type": "code",
   "execution_count": 26,
   "metadata": {},
   "outputs": [
    {
     "output_type": "execute_result",
     "data": {
      "text/plain": [
       "array([[1385393,   10052],\n",
       "       [  57901,   56526]])"
      ]
     },
     "metadata": {},
     "execution_count": 26
    }
   ],
   "source": [
    "confusion_matrix(test_predictions.round(), test_label)"
   ]
  },
  {
   "cell_type": "code",
   "execution_count": 27,
   "metadata": {},
   "outputs": [
    {
     "output_type": "display_data",
     "data": {
      "text/plain": "<Figure size 432x288 with 1 Axes>",
      "image/svg+xml": "<?xml version=\"1.0\" encoding=\"utf-8\" standalone=\"no\"?>\n<!DOCTYPE svg PUBLIC \"-//W3C//DTD SVG 1.1//EN\"\n  \"http://www.w3.org/Graphics/SVG/1.1/DTD/svg11.dtd\">\n<!-- Created with matplotlib (https://matplotlib.org/) -->\n<svg height=\"248.518125pt\" version=\"1.1\" viewBox=\"0 0 372.103125 248.518125\" width=\"372.103125pt\" xmlns=\"http://www.w3.org/2000/svg\" xmlns:xlink=\"http://www.w3.org/1999/xlink\">\n <metadata>\n  <rdf:RDF xmlns:cc=\"http://creativecommons.org/ns#\" xmlns:dc=\"http://purl.org/dc/elements/1.1/\" xmlns:rdf=\"http://www.w3.org/1999/02/22-rdf-syntax-ns#\">\n   <cc:Work>\n    <dc:type rdf:resource=\"http://purl.org/dc/dcmitype/StillImage\"/>\n    <dc:date>2021-02-17T11:37:49.309386</dc:date>\n    <dc:format>image/svg+xml</dc:format>\n    <dc:creator>\n     <cc:Agent>\n      <dc:title>Matplotlib v3.3.3, https://matplotlib.org/</dc:title>\n     </cc:Agent>\n    </dc:creator>\n   </cc:Work>\n  </rdf:RDF>\n </metadata>\n <defs>\n  <style type=\"text/css\">*{stroke-linecap:butt;stroke-linejoin:round;}</style>\n </defs>\n <g id=\"figure_1\">\n  <g id=\"patch_1\">\n   <path d=\"M 0 248.518125 \nL 372.103125 248.518125 \nL 372.103125 0 \nL 0 0 \nz\n\" style=\"fill:none;\"/>\n  </g>\n  <g id=\"axes_1\">\n   <g id=\"patch_2\">\n    <path d=\"M 30.103125 224.64 \nL 364.903125 224.64 \nL 364.903125 7.2 \nL 30.103125 7.2 \nz\n\" style=\"fill:#ffffff;\"/>\n   </g>\n   <g id=\"matplotlib.axis_1\">\n    <g id=\"xtick_1\">\n     <g id=\"line2d_1\">\n      <defs>\n       <path d=\"M 0 0 \nL 0 3.5 \n\" id=\"m5ef31ae434\" style=\"stroke:#000000;stroke-width:0.8;\"/>\n      </defs>\n      <g>\n       <use style=\"stroke:#000000;stroke-width:0.8;\" x=\"45.321307\" xlink:href=\"#m5ef31ae434\" y=\"224.64\"/>\n      </g>\n     </g>\n     <g id=\"text_1\">\n      <!-- 0.0 -->\n      <g transform=\"translate(37.369744 239.238437)scale(0.1 -0.1)\">\n       <defs>\n        <path d=\"M 31.78125 66.40625 \nQ 24.171875 66.40625 20.328125 58.90625 \nQ 16.5 51.421875 16.5 36.375 \nQ 16.5 21.390625 20.328125 13.890625 \nQ 24.171875 6.390625 31.78125 6.390625 \nQ 39.453125 6.390625 43.28125 13.890625 \nQ 47.125 21.390625 47.125 36.375 \nQ 47.125 51.421875 43.28125 58.90625 \nQ 39.453125 66.40625 31.78125 66.40625 \nz\nM 31.78125 74.21875 \nQ 44.046875 74.21875 50.515625 64.515625 \nQ 56.984375 54.828125 56.984375 36.375 \nQ 56.984375 17.96875 50.515625 8.265625 \nQ 44.046875 -1.421875 31.78125 -1.421875 \nQ 19.53125 -1.421875 13.0625 8.265625 \nQ 6.59375 17.96875 6.59375 36.375 \nQ 6.59375 54.828125 13.0625 64.515625 \nQ 19.53125 74.21875 31.78125 74.21875 \nz\n\" id=\"DejaVuSans-48\"/>\n        <path d=\"M 10.6875 12.40625 \nL 21 12.40625 \nL 21 0 \nL 10.6875 0 \nz\n\" id=\"DejaVuSans-46\"/>\n       </defs>\n       <use xlink:href=\"#DejaVuSans-48\"/>\n       <use x=\"63.623047\" xlink:href=\"#DejaVuSans-46\"/>\n       <use x=\"95.410156\" xlink:href=\"#DejaVuSans-48\"/>\n      </g>\n     </g>\n    </g>\n    <g id=\"xtick_2\">\n     <g id=\"line2d_2\">\n      <g>\n       <use style=\"stroke:#000000;stroke-width:0.8;\" x=\"106.194034\" xlink:href=\"#m5ef31ae434\" y=\"224.64\"/>\n      </g>\n     </g>\n     <g id=\"text_2\">\n      <!-- 0.2 -->\n      <g transform=\"translate(98.242472 239.238437)scale(0.1 -0.1)\">\n       <defs>\n        <path d=\"M 19.1875 8.296875 \nL 53.609375 8.296875 \nL 53.609375 0 \nL 7.328125 0 \nL 7.328125 8.296875 \nQ 12.9375 14.109375 22.625 23.890625 \nQ 32.328125 33.6875 34.8125 36.53125 \nQ 39.546875 41.84375 41.421875 45.53125 \nQ 43.3125 49.21875 43.3125 52.78125 \nQ 43.3125 58.59375 39.234375 62.25 \nQ 35.15625 65.921875 28.609375 65.921875 \nQ 23.96875 65.921875 18.8125 64.3125 \nQ 13.671875 62.703125 7.8125 59.421875 \nL 7.8125 69.390625 \nQ 13.765625 71.78125 18.9375 73 \nQ 24.125 74.21875 28.421875 74.21875 \nQ 39.75 74.21875 46.484375 68.546875 \nQ 53.21875 62.890625 53.21875 53.421875 \nQ 53.21875 48.921875 51.53125 44.890625 \nQ 49.859375 40.875 45.40625 35.40625 \nQ 44.1875 33.984375 37.640625 27.21875 \nQ 31.109375 20.453125 19.1875 8.296875 \nz\n\" id=\"DejaVuSans-50\"/>\n       </defs>\n       <use xlink:href=\"#DejaVuSans-48\"/>\n       <use x=\"63.623047\" xlink:href=\"#DejaVuSans-46\"/>\n       <use x=\"95.410156\" xlink:href=\"#DejaVuSans-50\"/>\n      </g>\n     </g>\n    </g>\n    <g id=\"xtick_3\">\n     <g id=\"line2d_3\">\n      <g>\n       <use style=\"stroke:#000000;stroke-width:0.8;\" x=\"167.066761\" xlink:href=\"#m5ef31ae434\" y=\"224.64\"/>\n      </g>\n     </g>\n     <g id=\"text_3\">\n      <!-- 0.4 -->\n      <g transform=\"translate(159.115199 239.238437)scale(0.1 -0.1)\">\n       <defs>\n        <path d=\"M 37.796875 64.3125 \nL 12.890625 25.390625 \nL 37.796875 25.390625 \nz\nM 35.203125 72.90625 \nL 47.609375 72.90625 \nL 47.609375 25.390625 \nL 58.015625 25.390625 \nL 58.015625 17.1875 \nL 47.609375 17.1875 \nL 47.609375 0 \nL 37.796875 0 \nL 37.796875 17.1875 \nL 4.890625 17.1875 \nL 4.890625 26.703125 \nz\n\" id=\"DejaVuSans-52\"/>\n       </defs>\n       <use xlink:href=\"#DejaVuSans-48\"/>\n       <use x=\"63.623047\" xlink:href=\"#DejaVuSans-46\"/>\n       <use x=\"95.410156\" xlink:href=\"#DejaVuSans-52\"/>\n      </g>\n     </g>\n    </g>\n    <g id=\"xtick_4\">\n     <g id=\"line2d_4\">\n      <g>\n       <use style=\"stroke:#000000;stroke-width:0.8;\" x=\"227.939489\" xlink:href=\"#m5ef31ae434\" y=\"224.64\"/>\n      </g>\n     </g>\n     <g id=\"text_4\">\n      <!-- 0.6 -->\n      <g transform=\"translate(219.987926 239.238437)scale(0.1 -0.1)\">\n       <defs>\n        <path d=\"M 33.015625 40.375 \nQ 26.375 40.375 22.484375 35.828125 \nQ 18.609375 31.296875 18.609375 23.390625 \nQ 18.609375 15.53125 22.484375 10.953125 \nQ 26.375 6.390625 33.015625 6.390625 \nQ 39.65625 6.390625 43.53125 10.953125 \nQ 47.40625 15.53125 47.40625 23.390625 \nQ 47.40625 31.296875 43.53125 35.828125 \nQ 39.65625 40.375 33.015625 40.375 \nz\nM 52.59375 71.296875 \nL 52.59375 62.3125 \nQ 48.875 64.0625 45.09375 64.984375 \nQ 41.3125 65.921875 37.59375 65.921875 \nQ 27.828125 65.921875 22.671875 59.328125 \nQ 17.53125 52.734375 16.796875 39.40625 \nQ 19.671875 43.65625 24.015625 45.921875 \nQ 28.375 48.1875 33.59375 48.1875 \nQ 44.578125 48.1875 50.953125 41.515625 \nQ 57.328125 34.859375 57.328125 23.390625 \nQ 57.328125 12.15625 50.6875 5.359375 \nQ 44.046875 -1.421875 33.015625 -1.421875 \nQ 20.359375 -1.421875 13.671875 8.265625 \nQ 6.984375 17.96875 6.984375 36.375 \nQ 6.984375 53.65625 15.1875 63.9375 \nQ 23.390625 74.21875 37.203125 74.21875 \nQ 40.921875 74.21875 44.703125 73.484375 \nQ 48.484375 72.75 52.59375 71.296875 \nz\n\" id=\"DejaVuSans-54\"/>\n       </defs>\n       <use xlink:href=\"#DejaVuSans-48\"/>\n       <use x=\"63.623047\" xlink:href=\"#DejaVuSans-46\"/>\n       <use x=\"95.410156\" xlink:href=\"#DejaVuSans-54\"/>\n      </g>\n     </g>\n    </g>\n    <g id=\"xtick_5\">\n     <g id=\"line2d_5\">\n      <g>\n       <use style=\"stroke:#000000;stroke-width:0.8;\" x=\"288.812216\" xlink:href=\"#m5ef31ae434\" y=\"224.64\"/>\n      </g>\n     </g>\n     <g id=\"text_5\">\n      <!-- 0.8 -->\n      <g transform=\"translate(280.860653 239.238437)scale(0.1 -0.1)\">\n       <defs>\n        <path d=\"M 31.78125 34.625 \nQ 24.75 34.625 20.71875 30.859375 \nQ 16.703125 27.09375 16.703125 20.515625 \nQ 16.703125 13.921875 20.71875 10.15625 \nQ 24.75 6.390625 31.78125 6.390625 \nQ 38.8125 6.390625 42.859375 10.171875 \nQ 46.921875 13.96875 46.921875 20.515625 \nQ 46.921875 27.09375 42.890625 30.859375 \nQ 38.875 34.625 31.78125 34.625 \nz\nM 21.921875 38.8125 \nQ 15.578125 40.375 12.03125 44.71875 \nQ 8.5 49.078125 8.5 55.328125 \nQ 8.5 64.0625 14.71875 69.140625 \nQ 20.953125 74.21875 31.78125 74.21875 \nQ 42.671875 74.21875 48.875 69.140625 \nQ 55.078125 64.0625 55.078125 55.328125 \nQ 55.078125 49.078125 51.53125 44.71875 \nQ 48 40.375 41.703125 38.8125 \nQ 48.828125 37.15625 52.796875 32.3125 \nQ 56.78125 27.484375 56.78125 20.515625 \nQ 56.78125 9.90625 50.3125 4.234375 \nQ 43.84375 -1.421875 31.78125 -1.421875 \nQ 19.734375 -1.421875 13.25 4.234375 \nQ 6.78125 9.90625 6.78125 20.515625 \nQ 6.78125 27.484375 10.78125 32.3125 \nQ 14.796875 37.15625 21.921875 38.8125 \nz\nM 18.3125 54.390625 \nQ 18.3125 48.734375 21.84375 45.5625 \nQ 25.390625 42.390625 31.78125 42.390625 \nQ 38.140625 42.390625 41.71875 45.5625 \nQ 45.3125 48.734375 45.3125 54.390625 \nQ 45.3125 60.0625 41.71875 63.234375 \nQ 38.140625 66.40625 31.78125 66.40625 \nQ 25.390625 66.40625 21.84375 63.234375 \nQ 18.3125 60.0625 18.3125 54.390625 \nz\n\" id=\"DejaVuSans-56\"/>\n       </defs>\n       <use xlink:href=\"#DejaVuSans-48\"/>\n       <use x=\"63.623047\" xlink:href=\"#DejaVuSans-46\"/>\n       <use x=\"95.410156\" xlink:href=\"#DejaVuSans-56\"/>\n      </g>\n     </g>\n    </g>\n    <g id=\"xtick_6\">\n     <g id=\"line2d_6\">\n      <g>\n       <use style=\"stroke:#000000;stroke-width:0.8;\" x=\"349.684943\" xlink:href=\"#m5ef31ae434\" y=\"224.64\"/>\n      </g>\n     </g>\n     <g id=\"text_6\">\n      <!-- 1.0 -->\n      <g transform=\"translate(341.733381 239.238437)scale(0.1 -0.1)\">\n       <defs>\n        <path d=\"M 12.40625 8.296875 \nL 28.515625 8.296875 \nL 28.515625 63.921875 \nL 10.984375 60.40625 \nL 10.984375 69.390625 \nL 28.421875 72.90625 \nL 38.28125 72.90625 \nL 38.28125 8.296875 \nL 54.390625 8.296875 \nL 54.390625 0 \nL 12.40625 0 \nz\n\" id=\"DejaVuSans-49\"/>\n       </defs>\n       <use xlink:href=\"#DejaVuSans-49\"/>\n       <use x=\"63.623047\" xlink:href=\"#DejaVuSans-46\"/>\n       <use x=\"95.410156\" xlink:href=\"#DejaVuSans-48\"/>\n      </g>\n     </g>\n    </g>\n   </g>\n   <g id=\"matplotlib.axis_2\">\n    <g id=\"ytick_1\">\n     <g id=\"line2d_7\">\n      <defs>\n       <path d=\"M 0 0 \nL -3.5 0 \n\" id=\"m94da2692e2\" style=\"stroke:#000000;stroke-width:0.8;\"/>\n      </defs>\n      <g>\n       <use style=\"stroke:#000000;stroke-width:0.8;\" x=\"30.103125\" xlink:href=\"#m94da2692e2\" y=\"214.756364\"/>\n      </g>\n     </g>\n     <g id=\"text_7\">\n      <!-- 0.0 -->\n      <g transform=\"translate(7.2 218.555582)scale(0.1 -0.1)\">\n       <use xlink:href=\"#DejaVuSans-48\"/>\n       <use x=\"63.623047\" xlink:href=\"#DejaVuSans-46\"/>\n       <use x=\"95.410156\" xlink:href=\"#DejaVuSans-48\"/>\n      </g>\n     </g>\n    </g>\n    <g id=\"ytick_2\">\n     <g id=\"line2d_8\">\n      <g>\n       <use style=\"stroke:#000000;stroke-width:0.8;\" x=\"30.103125\" xlink:href=\"#m94da2692e2\" y=\"175.221818\"/>\n      </g>\n     </g>\n     <g id=\"text_8\">\n      <!-- 0.2 -->\n      <g transform=\"translate(7.2 179.021037)scale(0.1 -0.1)\">\n       <use xlink:href=\"#DejaVuSans-48\"/>\n       <use x=\"63.623047\" xlink:href=\"#DejaVuSans-46\"/>\n       <use x=\"95.410156\" xlink:href=\"#DejaVuSans-50\"/>\n      </g>\n     </g>\n    </g>\n    <g id=\"ytick_3\">\n     <g id=\"line2d_9\">\n      <g>\n       <use style=\"stroke:#000000;stroke-width:0.8;\" x=\"30.103125\" xlink:href=\"#m94da2692e2\" y=\"135.687273\"/>\n      </g>\n     </g>\n     <g id=\"text_9\">\n      <!-- 0.4 -->\n      <g transform=\"translate(7.2 139.486491)scale(0.1 -0.1)\">\n       <use xlink:href=\"#DejaVuSans-48\"/>\n       <use x=\"63.623047\" xlink:href=\"#DejaVuSans-46\"/>\n       <use x=\"95.410156\" xlink:href=\"#DejaVuSans-52\"/>\n      </g>\n     </g>\n    </g>\n    <g id=\"ytick_4\">\n     <g id=\"line2d_10\">\n      <g>\n       <use style=\"stroke:#000000;stroke-width:0.8;\" x=\"30.103125\" xlink:href=\"#m94da2692e2\" y=\"96.152727\"/>\n      </g>\n     </g>\n     <g id=\"text_10\">\n      <!-- 0.6 -->\n      <g transform=\"translate(7.2 99.951946)scale(0.1 -0.1)\">\n       <use xlink:href=\"#DejaVuSans-48\"/>\n       <use x=\"63.623047\" xlink:href=\"#DejaVuSans-46\"/>\n       <use x=\"95.410156\" xlink:href=\"#DejaVuSans-54\"/>\n      </g>\n     </g>\n    </g>\n    <g id=\"ytick_5\">\n     <g id=\"line2d_11\">\n      <g>\n       <use style=\"stroke:#000000;stroke-width:0.8;\" x=\"30.103125\" xlink:href=\"#m94da2692e2\" y=\"56.618182\"/>\n      </g>\n     </g>\n     <g id=\"text_11\">\n      <!-- 0.8 -->\n      <g transform=\"translate(7.2 60.417401)scale(0.1 -0.1)\">\n       <use xlink:href=\"#DejaVuSans-48\"/>\n       <use x=\"63.623047\" xlink:href=\"#DejaVuSans-46\"/>\n       <use x=\"95.410156\" xlink:href=\"#DejaVuSans-56\"/>\n      </g>\n     </g>\n    </g>\n    <g id=\"ytick_6\">\n     <g id=\"line2d_12\">\n      <g>\n       <use style=\"stroke:#000000;stroke-width:0.8;\" x=\"30.103125\" xlink:href=\"#m94da2692e2\" y=\"17.083636\"/>\n      </g>\n     </g>\n     <g id=\"text_12\">\n      <!-- 1.0 -->\n      <g transform=\"translate(7.2 20.882855)scale(0.1 -0.1)\">\n       <use xlink:href=\"#DejaVuSans-49\"/>\n       <use x=\"63.623047\" xlink:href=\"#DejaVuSans-46\"/>\n       <use x=\"95.410156\" xlink:href=\"#DejaVuSans-48\"/>\n      </g>\n     </g>\n    </g>\n   </g>\n   <g id=\"line2d_13\">\n    <path clip-path=\"url(#pf3f2ac30e8)\" d=\"M 45.321307 214.756364 \nL 45.43153 130.486109 \nL 45.432886 130.411883 \nL 45.543477 111.816787 \nL 45.545065 111.709902 \nL 45.656154 102.455405 \nL 45.656894 102.34555 \nL 45.768001 97.1527 \nL 45.77082 97.045814 \nL 45.881784 93.298886 \nL 45.881795 93.298886 \nL 45.885253 93.189032 \nL 45.994307 90.13389 \nL 45.995556 90.13389 \nL 45.999514 90.032943 \nL 46.110143 87.476599 \nL 46.110338 87.476599 \nL 46.11453 87.366745 \nL 46.225551 84.843061 \nL 46.228925 84.736176 \nL 46.338833 83.132894 \nL 46.346433 83.028978 \nL 46.457534 81.642436 \nL 46.470117 81.535551 \nL 46.580572 80.143071 \nL 46.580599 80.143071 \nL 46.590686 80.039155 \nL 46.701421 78.44775 \nL 46.708333 78.340864 \nL 46.818009 77.126527 \nL 46.818461 77.126527 \nL 46.830212 77.016672 \nL 46.940541 75.805304 \nL 46.940578 75.805304 \nL 46.951503 75.698419 \nL 47.061634 74.564246 \nL 47.062023 74.564246 \nL 47.077483 74.45736 \nL 47.188126 73.450856 \nL 47.195078 73.341001 \nL 47.303724 72.426537 \nL 47.305017 72.426537 \nL 47.317713 72.319652 \nL 47.428688 71.497228 \nL 47.438362 71.387373 \nL 47.548304 70.707463 \nL 47.548435 70.707463 \nL 47.560185 70.597608 \nL 47.670925 69.899884 \nL 47.686007 69.79003 \nL 47.796588 69.044801 \nL 47.796776 69.044801 \nL 47.822251 68.934946 \nL 47.932096 68.311448 \nL 47.950169 68.201593 \nL 48.061098 67.456364 \nL 48.061129 67.456364 \nL 48.084763 67.34651 \nL 48.195678 66.720043 \nL 48.195687 66.720043 \nL 48.21719 66.610188 \nL 48.327127 66.093575 \nL 48.327131 66.093575 \nL 48.356167 65.989659 \nL 48.466513 65.481953 \nL 48.466805 65.481953 \nL 48.494688 65.372099 \nL 48.605303 64.852517 \nL 48.605622 64.852517 \nL 48.63381 64.742662 \nL 48.744881 64.270585 \nL 48.768645 64.16073 \nL 48.87959 63.653025 \nL 48.909307 63.54317 \nL 49.017662 63.068124 \nL 49.019256 63.068124 \nL 49.054903 62.958269 \nL 49.164581 62.518851 \nL 49.165714 62.518851 \nL 49.221614 62.408997 \nL 49.33218 61.948796 \nL 49.332548 61.948796 \nL 49.360628 61.84191 \nL 49.470395 61.438121 \nL 49.470767 61.438121 \nL 49.494086 61.328266 \nL 49.605007 60.903694 \nL 49.631995 60.796808 \nL 49.742946 60.425678 \nL 49.743086 60.425678 \nL 49.79257 60.315824 \nL 49.902899 60.012982 \nL 49.9029 60.012982 \nL 49.947397 59.903127 \nL 50.057937 59.632945 \nL 50.05844 59.632945 \nL 50.101769 59.52309 \nL 50.210051 59.270722 \nL 50.21213 59.270722 \nL 50.248518 59.160867 \nL 50.358334 58.914437 \nL 50.358518 58.914437 \nL 50.389439 58.804583 \nL 50.499528 58.451267 \nL 50.542509 58.344382 \nL 50.653146 57.973252 \nL 50.700306 57.863397 \nL 50.80887 57.527896 \nL 50.810534 57.527896 \nL 50.861045 57.418041 \nL 50.970663 57.043942 \nL 50.971313 57.043942 \nL 51.013135 56.934088 \nL 51.122812 56.583741 \nL 51.124244 56.583741 \nL 51.161933 56.473886 \nL 51.272155 56.271992 \nL 51.272294 56.271992 \nL 51.313217 56.162137 \nL 51.422192 55.912738 \nL 51.423638 55.912738 \nL 51.479272 55.802884 \nL 51.589383 55.603958 \nL 51.590154 55.603958 \nL 51.641192 55.494103 \nL 51.752031 55.265487 \nL 51.806487 55.155633 \nL 51.915441 54.927017 \nL 51.91707 54.927017 \nL 51.973348 54.817162 \nL 52.084259 54.60636 \nL 52.13306 54.496506 \nL 52.239562 54.26789 \nL 52.244046 54.26789 \nL 52.285705 54.158035 \nL 52.39517 53.95911 \nL 52.396816 53.95911 \nL 52.447883 53.852224 \nL 52.555023 53.629546 \nL 52.55882 53.629546 \nL 52.625119 53.519692 \nL 52.735795 53.294045 \nL 52.736077 53.294045 \nL 52.803167 53.18419 \nL 52.913557 53.00011 \nL 52.913782 53.00011 \nL 52.970616 52.890256 \nL 53.079186 52.685392 \nL 53.081682 52.685392 \nL 53.143692 52.575537 \nL 53.252833 52.38255 \nL 53.25359 52.38255 \nL 53.332528 52.272695 \nL 53.441572 52.070801 \nL 53.443503 52.070801 \nL 53.504073 51.960946 \nL 53.613586 51.785773 \nL 53.614089 51.785773 \nL 53.682899 51.675918 \nL 53.790885 51.468085 \nL 53.79199 51.468085 \nL 53.856245 51.358231 \nL 53.967262 51.174151 \nL 54.019526 51.064296 \nL 54.130563 50.853494 \nL 54.130568 50.853494 \nL 54.182554 50.749578 \nL 54.289935 50.547683 \nL 54.291899 50.547683 \nL 54.357783 50.437829 \nL 54.468221 50.274532 \nL 54.468225 50.274532 \nL 54.566608 50.164677 \nL 54.690509 49.950906 \nL 54.765628 49.841052 \nL 54.868474 49.704476 \nL 54.876725 49.704476 \nL 54.971269 49.594621 \nL 55.069874 49.446169 \nL 55.082322 49.446169 \nL 55.133521 49.336315 \nL 55.244414 49.223491 \nL 55.244607 49.223491 \nL 55.284211 49.113637 \nL 55.391315 48.941433 \nL 55.395211 48.941433 \nL 55.470399 48.831578 \nL 55.578924 48.665312 \nL 55.579927 48.665312 \nL 55.684888 48.555458 \nL 55.788514 48.448572 \nL 55.795539 48.448572 \nL 55.888847 48.341687 \nL 55.999522 48.130885 \nL 56.053067 48.02103 \nL 56.163616 47.893362 \nL 56.253276 47.783507 \nL 56.361248 47.640993 \nL 56.363622 47.640993 \nL 56.460814 47.531139 \nL 56.571112 47.388625 \nL 56.571494 47.388625 \nL 56.671526 47.27877 \nL 56.7689 47.142195 \nL 56.78155 47.142195 \nL 56.913153 47.03234 \nL 57.022224 46.883888 \nL 57.023686 46.883888 \nL 57.116961 46.774034 \nL 57.224923 46.640427 \nL 57.227249 46.640427 \nL 57.326487 46.530572 \nL 57.434905 46.385089 \nL 57.437429 46.385089 \nL 57.514662 46.275235 \nL 57.622901 46.147566 \nL 57.625769 46.147566 \nL 57.727021 46.037712 \nL 57.835431 45.907074 \nL 57.838056 45.907074 \nL 57.917762 45.79722 \nL 58.034269 45.67252 \nL 58.148045 45.562665 \nL 58.252623 45.437966 \nL 58.258141 45.437966 \nL 58.350904 45.328111 \nL 58.455717 45.206381 \nL 58.461496 45.206381 \nL 58.641526 45.096526 \nL 58.751261 44.977765 \nL 58.751445 44.977765 \nL 58.886707 44.86791 \nL 58.986056 44.74618 \nL 58.997723 44.74618 \nL 59.080209 44.636325 \nL 59.190337 44.502718 \nL 59.191177 44.502718 \nL 59.375749 44.392864 \nL 59.483361 44.277071 \nL 59.486055 44.277071 \nL 59.582058 44.170186 \nL 59.689195 44.048455 \nL 59.692003 44.048455 \nL 59.812653 43.938601 \nL 59.92134 43.822808 \nL 59.922798 43.822808 \nL 60.05699 43.712954 \nL 60.160247 43.594192 \nL 60.167987 43.594192 \nL 60.269432 43.484338 \nL 60.373289 43.401205 \nL 60.379769 43.401205 \nL 60.51463 43.29135 \nL 60.622488 43.175558 \nL 60.625649 43.175558 \nL 60.771631 43.065703 \nL 60.881022 42.946941 \nL 60.882727 42.946941 \nL 60.998209 42.837087 \nL 61.105741 42.712387 \nL 61.108373 42.712387 \nL 61.226252 42.602533 \nL 61.33158 42.510493 \nL 61.336252 42.510493 \nL 61.457393 42.400638 \nL 61.565096 42.299691 \nL 61.56775 42.299691 \nL 61.700922 42.189836 \nL 61.809101 42.097796 \nL 61.811423 42.097796 \nL 61.909628 41.987942 \nL 62.010409 41.889963 \nL 62.020726 41.889963 \nL 62.197954 41.780109 \nL 62.30339 41.702914 \nL 62.308794 41.702914 \nL 62.414132 41.593059 \nL 62.524855 41.501019 \nL 62.525232 41.501019 \nL 62.663698 41.391165 \nL 62.769129 41.290217 \nL 62.773612 41.290217 \nL 62.926208 41.180363 \nL 63.033387 41.123951 \nL 63.036609 41.123951 \nL 63.232461 41.014097 \nL 63.337851 40.930963 \nL 63.342182 40.930963 \nL 63.475667 40.821109 \nL 63.585927 40.764697 \nL 63.586643 40.764697 \nL 63.722001 40.654843 \nL 63.831718 40.6014 \nL 63.832971 40.6014 \nL 63.992889 40.491546 \nL 64.103691 40.420289 \nL 64.103835 40.420289 \nL 64.238805 40.310434 \nL 64.337252 40.251053 \nL 64.349464 40.251053 \nL 64.527406 40.141199 \nL 64.636365 40.069942 \nL 64.638008 40.069942 \nL 64.765497 39.960087 \nL 64.873553 39.853202 \nL 64.876449 39.853202 \nL 65.079183 39.743348 \nL 65.185751 39.686936 \nL 65.190248 39.686936 \nL 65.355052 39.577081 \nL 65.462547 39.502855 \nL 65.465415 39.502855 \nL 65.64678 39.393001 \nL 65.752663 39.324713 \nL 65.756639 39.324713 \nL 65.977425 39.214859 \nL 66.086444 39.167354 \nL 66.088446 39.167354 \nL 66.235756 39.057499 \nL 66.343811 38.977335 \nL 66.346275 38.977335 \nL 66.517965 38.867481 \nL 66.628047 38.790286 \nL 66.628067 38.790286 \nL 66.932715 38.680431 \nL 67.011668 38.62402 \nL 67.043336 38.62402 \nL 67.267573 38.514165 \nL 67.375545 38.442908 \nL 67.378429 38.442908 \nL 67.606643 38.333054 \nL 67.71075 38.246952 \nL 67.717412 38.246952 \nL 67.920174 38.137097 \nL 68.020005 38.0985 \nL 68.027947 38.0985 \nL 68.177186 37.988645 \nL 68.287208 37.917388 \nL 68.287953 37.917388 \nL 68.495081 37.807534 \nL 68.581627 37.754091 \nL 68.605496 37.754091 \nL 68.814176 37.644237 \nL 68.917868 37.581887 \nL 68.925237 37.581887 \nL 69.134877 37.472032 \nL 69.24559 37.403744 \nL 69.245594 37.403744 \nL 69.443381 37.29389 \nL 69.549934 37.234509 \nL 69.553072 37.234509 \nL 69.796791 37.124655 \nL 69.923092 37.032614 \nL 70.168926 36.92276 \nL 70.272294 36.893069 \nL 70.279904 36.893069 \nL 70.508024 36.783215 \nL 70.614438 36.729772 \nL 70.618437 36.729772 \nL 70.840252 36.619918 \nL 70.948183 36.572413 \nL 70.949997 36.572413 \nL 71.153807 36.462559 \nL 71.262613 36.394271 \nL 71.264126 36.394271 \nL 71.590868 36.284416 \nL 71.699133 36.230974 \nL 71.701745 36.230974 \nL 71.915787 36.121119 \nL 72.00789 36.0558 \nL 72.026579 36.0558 \nL 72.20755 35.945946 \nL 72.312189 35.886565 \nL 72.318501 35.886565 \nL 72.523607 35.776711 \nL 72.634286 35.705454 \nL 72.634421 35.705454 \nL 72.920543 35.595599 \nL 73.028052 35.557002 \nL 73.031227 35.557002 \nL 73.291444 35.447147 \nL 73.386314 35.381828 \nL 73.401584 35.381828 \nL 73.615493 35.271974 \nL 73.715401 35.215562 \nL 73.725416 35.215562 \nL 73.954423 35.105708 \nL 74.064535 35.043358 \nL 74.065484 35.043358 \nL 74.313673 34.933503 \nL 74.421985 34.877091 \nL 74.424517 34.877091 \nL 74.680832 34.767237 \nL 74.766183 34.719732 \nL 74.791834 34.719732 \nL 75.103921 34.609878 \nL 75.20762 34.574249 \nL 75.214742 34.574249 \nL 75.481921 34.464395 \nL 75.592375 34.413921 \nL 75.592936 34.413921 \nL 75.856051 34.304067 \nL 75.965802 34.23281 \nL 75.965986 34.23281 \nL 76.189776 34.125924 \nL 76.299134 34.087327 \nL 76.300754 34.087327 \nL 76.557308 33.977472 \nL 76.66795 33.959658 \nL 76.88667 33.849804 \nL 76.991563 33.814175 \nL 76.997669 33.814175 \nL 77.27489 33.704321 \nL 77.385725 33.639002 \nL 77.385909 33.639002 \nL 77.702876 33.529147 \nL 77.795918 33.514302 \nL 77.813802 33.514302 \nL 78.201629 33.404448 \nL 78.30482 33.353974 \nL 78.312281 33.353974 \nL 78.548899 33.24412 \nL 78.658865 33.208491 \nL 78.659951 33.208491 \nL 78.925093 33.098637 \nL 79.035898 33.063008 \nL 79.035907 33.063008 \nL 79.381476 32.953154 \nL 79.490404 32.911587 \nL 79.492297 32.911587 \nL 79.862009 32.801733 \nL 79.964368 32.760166 \nL 79.972836 32.760166 \nL 80.224572 32.650312 \nL 80.335331 32.614683 \nL 80.33566 32.614683 \nL 80.652076 32.507798 \nL 80.754431 32.466231 \nL 80.762973 32.466231 \nL 81.137813 32.356377 \nL 81.247856 32.305903 \nL 81.552999 32.196049 \nL 81.659006 32.16042 \nL 81.664006 32.16042 \nL 81.974404 32.050566 \nL 82.073961 32.003061 \nL 82.085503 32.003061 \nL 82.325428 31.893207 \nL 82.412461 31.845702 \nL 82.435915 31.845702 \nL 82.745881 31.735847 \nL 82.837083 31.688343 \nL 82.856934 31.688343 \nL 83.151508 31.578488 \nL 83.254375 31.539891 \nL 83.262487 31.539891 \nL 83.548408 31.430036 \nL 83.650288 31.394408 \nL 83.659275 31.394408 \nL 84.007195 31.284553 \nL 84.110594 31.245956 \nL 84.118251 31.245956 \nL 84.500751 31.136101 \nL 84.583284 31.094535 \nL 84.611639 31.094535 \nL 84.979947 30.98468 \nL 85.074503 30.952021 \nL 85.090745 30.952021 \nL 85.510084 30.842166 \nL 85.60801 30.788724 \nL 85.619938 30.788724 \nL 85.964787 30.678869 \nL 86.075892 30.637303 \nL 86.445958 30.527448 \nL 86.540802 30.49182 \nL 86.556419 30.49182 \nL 86.929413 30.381965 \nL 87.022926 30.361182 \nL 87.040261 30.361182 \nL 87.453476 30.251328 \nL 87.544025 30.221637 \nL 87.56449 30.221637 \nL 88.024673 30.111783 \nL 88.101231 30.08803 \nL 88.135346 30.08803 \nL 88.526791 29.978176 \nL 88.633275 29.942547 \nL 88.63726 29.942547 \nL 89.190904 29.832693 \nL 89.253223 29.808941 \nL 89.301057 29.808941 \nL 89.804188 29.699086 \nL 89.915027 29.672365 \nL 89.915037 29.672365 \nL 90.389754 29.56251 \nL 90.499915 29.526882 \nL 90.500113 29.526882 \nL 90.77088 29.417027 \nL 90.874956 29.390306 \nL 90.881404 29.390306 \nL 91.269236 29.280452 \nL 91.37796 29.25373 \nL 91.380343 29.25373 \nL 91.762513 29.143876 \nL 91.865397 29.108247 \nL 91.873102 29.108247 \nL 92.398653 28.998393 \nL 92.507538 28.97464 \nL 92.509724 28.97464 \nL 92.856374 28.864786 \nL 92.943671 28.846972 \nL 92.967079 28.846972 \nL 93.451029 28.737117 \nL 93.544828 28.710396 \nL 93.561168 28.710396 \nL 94.071777 28.600541 \nL 94.180555 28.558975 \nL 94.182317 28.558975 \nL 94.595875 28.44912 \nL 94.701329 28.434275 \nL 94.706266 28.434275 \nL 95.185521 28.324421 \nL 95.254362 28.303638 \nL 95.296573 28.303638 \nL 95.786777 28.193783 \nL 95.893099 28.175969 \nL 95.897392 28.175969 \nL 96.37072 28.066114 \nL 96.445769 28.042362 \nL 96.481526 28.042362 \nL 97.036222 27.932508 \nL 97.135586 27.905786 \nL 97.146227 27.905786 \nL 97.531486 27.795932 \nL 97.639504 27.742489 \nL 97.642448 27.742489 \nL 98.14484 27.632635 \nL 98.241821 27.599975 \nL 98.255563 27.599975 \nL 98.776347 27.490121 \nL 98.885152 27.46043 \nL 98.887199 27.46043 \nL 99.537776 27.350576 \nL 99.64724 27.314947 \nL 99.648433 27.314947 \nL 100.194015 27.205093 \nL 100.295962 27.178371 \nL 100.305116 27.178371 \nL 100.745508 27.068517 \nL 100.85538 27.041796 \nL 100.856492 27.041796 \nL 101.367034 26.931941 \nL 101.465055 26.917096 \nL 101.477999 26.917096 \nL 101.905999 26.807241 \nL 102.011319 26.792396 \nL 102.017044 26.792396 \nL 102.62267 26.682542 \nL 102.699226 26.661759 \nL 102.733293 26.661759 \nL 103.142898 26.551904 \nL 103.239716 26.510338 \nL 103.253264 26.510338 \nL 103.601976 26.400483 \nL 103.710653 26.376731 \nL 103.712199 26.376731 \nL 104.145981 26.266876 \nL 104.234067 26.249062 \nL 104.257038 26.249062 \nL 104.655051 26.139208 \nL 104.759401 26.115455 \nL 104.764053 26.115455 \nL 105.332751 26.005601 \nL 105.439576 25.981848 \nL 105.443822 25.981848 \nL 106.102314 25.871994 \nL 106.201425 25.836365 \nL 106.213121 25.836365 \nL 106.74636 25.726511 \nL 106.802364 25.708697 \nL 106.857286 25.708697 \nL 107.55859 25.598842 \nL 107.652371 25.57509 \nL 107.669239 25.57509 \nL 108.292694 25.465236 \nL 108.382459 25.441483 \nL 108.403231 25.441483 \nL 108.917182 25.331629 \nL 108.998621 25.304907 \nL 109.028032 25.304907 \nL 109.849394 25.195053 \nL 109.960226 25.165363 \nL 109.960429 25.165363 \nL 110.546699 25.055508 \nL 110.640637 25.016911 \nL 110.657809 25.016911 \nL 111.194437 24.907056 \nL 111.303689 24.880335 \nL 111.305487 24.880335 \nL 112.125316 24.77048 \nL 112.237316 24.752666 \nL 112.77766 24.642812 \nL 112.838688 24.627966 \nL 112.88847 24.627966 \nL 113.49627 24.518112 \nL 113.594303 24.49139 \nL 113.605491 24.49139 \nL 114.161228 24.381536 \nL 114.267644 24.363722 \nL 114.271769 24.363722 \nL 115.059969 24.253867 \nL 115.125154 24.241991 \nL 115.170555 24.241991 \nL 115.7838 24.132137 \nL 115.879175 24.108384 \nL 115.893887 24.108384 \nL 116.613095 23.99853 \nL 116.697757 23.977747 \nL 116.724083 23.977747 \nL 117.556796 23.867892 \nL 117.65815 23.835233 \nL 117.667515 23.835233 \nL 118.505271 23.725378 \nL 118.610701 23.695688 \nL 118.616237 23.695688 \nL 119.5674 23.585833 \nL 119.657571 23.576926 \nL 119.677319 23.576926 \nL 120.495704 23.467072 \nL 120.569254 23.455196 \nL 120.606685 23.455196 \nL 121.401672 23.345341 \nL 121.498907 23.324558 \nL 121.511364 23.324558 \nL 122.256754 23.214703 \nL 122.334983 23.196889 \nL 122.36759 23.196889 \nL 123.217993 23.087035 \nL 123.302519 23.060313 \nL 123.328927 23.060313 \nL 124.459533 22.950459 \nL 124.534444 22.938583 \nL 124.570559 22.938583 \nL 125.754635 22.828728 \nL 125.863568 22.816852 \nL 125.865678 22.816852 \nL 126.87412 22.706998 \nL 126.959565 22.680276 \nL 126.983483 22.680276 \nL 127.998987 22.570422 \nL 128.039581 22.561515 \nL 128.109611 22.561515 \nL 129.041453 22.45166 \nL 129.117372 22.430877 \nL 129.152418 22.430877 \nL 130.13132 22.321022 \nL 130.229114 22.300239 \nL 130.242314 22.300239 \nL 131.097895 22.190385 \nL 131.188851 22.181478 \nL 131.208797 22.181478 \nL 132.558112 22.071623 \nL 132.627179 22.065685 \nL 132.66912 22.065685 \nL 133.533598 21.955831 \nL 133.614822 21.938016 \nL 133.644644 21.938016 \nL 134.527401 21.828162 \nL 134.605 21.80441 \nL 134.63737 21.80441 \nL 135.607183 21.694555 \nL 135.704613 21.682679 \nL 135.716548 21.682679 \nL 136.935521 21.572824 \nL 136.997141 21.557979 \nL 137.044875 21.557979 \nL 138.322249 21.448125 \nL 138.397756 21.436249 \nL 138.432953 21.436249 \nL 139.427586 21.326394 \nL 139.537308 21.314518 \nL 140.848219 21.204664 \nL 140.956928 21.186849 \nL 140.958461 21.186849 \nL 141.971567 21.076995 \nL 142.082584 21.065119 \nL 143.54056 20.955264 \nL 143.585845 20.946357 \nL 143.651461 20.946357 \nL 145.070766 20.836503 \nL 145.151295 20.824626 \nL 145.181695 20.824626 \nL 146.449591 20.714772 \nL 146.542077 20.693989 \nL 146.560631 20.693989 \nL 148.055808 20.584134 \nL 148.16212 20.563351 \nL 148.165138 20.563351 \nL 149.639381 20.453496 \nL 149.726635 20.438651 \nL 149.750385 20.438651 \nL 151.22892 20.328797 \nL 151.255325 20.313952 \nL 151.339634 20.313952 \nL 153.380892 20.204097 \nL 153.442812 20.198159 \nL 153.491963 20.198159 \nL 154.967726 20.088305 \nL 155.061553 20.079397 \nL 155.077676 20.079397 \nL 156.516219 19.969543 \nL 156.54708 19.960636 \nL 156.627061 19.960636 \nL 158.121658 19.850781 \nL 158.189682 19.835936 \nL 158.232619 19.835936 \nL 160.048915 19.726082 \nL 160.085061 19.717175 \nL 160.159858 19.717175 \nL 162.190067 19.60732 \nL 162.26744 19.598413 \nL 162.301085 19.598413 \nL 164.060317 19.488559 \nL 164.060317 19.48559 \nL 164.171315 19.48559 \nL 165.863778 19.375735 \nL 165.863778 19.372766 \nL 165.974235 19.372766 \nL 168.798826 19.262912 \nL 168.891636 19.242128 \nL 168.909587 19.242128 \nL 171.334139 19.132274 \nL 171.444061 19.123367 \nL 171.44492 19.123367 \nL 173.410521 19.013512 \nL 173.496185 19.001636 \nL 173.520773 19.001636 \nL 175.743385 18.891782 \nL 175.775889 18.885843 \nL 175.854486 18.885843 \nL 178.54686 18.775989 \nL 178.647336 18.767082 \nL 178.657842 18.767082 \nL 182.186653 18.657227 \nL 182.277359 18.642382 \nL 182.297764 18.642382 \nL 185.122728 18.532528 \nL 185.168047 18.52659 \nL 185.233153 18.52659 \nL 189.401976 18.416735 \nL 189.496361 18.404859 \nL 189.513012 18.404859 \nL 192.593073 18.295005 \nL 192.691795 18.289066 \nL 192.702747 18.289066 \nL 196.69026 18.179212 \nL 196.777035 18.170305 \nL 196.801245 18.170305 \nL 201.870066 18.06045 \nL 201.948493 18.051543 \nL 201.981151 18.051543 \nL 205.860702 17.941689 \nL 205.860702 17.93872 \nL 205.970798 17.93872 \nL 212.977748 17.828865 \nL 212.977748 17.825896 \nL 213.088822 17.825896 \nL 217.909367 17.716042 \nL 217.995896 17.710104 \nL 218.020135 17.710104 \nL 225.491333 17.600249 \nL 225.491333 17.59728 \nL 225.601807 17.59728 \nL 232.007846 17.487426 \nL 232.118935 17.481488 \nL 247.45381 17.371633 \nL 247.489627 17.365695 \nL 247.563706 17.365695 \nL 266.717782 17.255841 \nL 266.717782 17.252872 \nL 266.827048 17.252872 \nL 290.964246 17.143017 \nL 290.964246 17.140048 \nL 291.075321 17.140048 \nL 349.684943 17.083636 \nL 349.684943 17.083636 \n\" style=\"fill:none;stroke:#1f77b4;stroke-linecap:square;stroke-width:1.5;\"/>\n   </g>\n   <g id=\"line2d_14\">\n    <path clip-path=\"url(#pf3f2ac30e8)\" d=\"M 45.321307 214.756364 \nL 349.684943 17.083636 \n\" style=\"fill:none;stroke:#000000;stroke-dasharray:5.55,2.4;stroke-dashoffset:0;stroke-width:1.5;\"/>\n   </g>\n   <g id=\"patch_3\">\n    <path d=\"M 30.103125 224.64 \nL 30.103125 7.2 \n\" style=\"fill:none;stroke:#000000;stroke-linecap:square;stroke-linejoin:miter;stroke-width:0.8;\"/>\n   </g>\n   <g id=\"patch_4\">\n    <path d=\"M 364.903125 224.64 \nL 364.903125 7.2 \n\" style=\"fill:none;stroke:#000000;stroke-linecap:square;stroke-linejoin:miter;stroke-width:0.8;\"/>\n   </g>\n   <g id=\"patch_5\">\n    <path d=\"M 30.103125 224.64 \nL 364.903125 224.64 \n\" style=\"fill:none;stroke:#000000;stroke-linecap:square;stroke-linejoin:miter;stroke-width:0.8;\"/>\n   </g>\n   <g id=\"patch_6\">\n    <path d=\"M 30.103125 7.2 \nL 364.903125 7.2 \n\" style=\"fill:none;stroke:#000000;stroke-linecap:square;stroke-linejoin:miter;stroke-width:0.8;\"/>\n   </g>\n  </g>\n </g>\n <defs>\n  <clipPath id=\"pf3f2ac30e8\">\n   <rect height=\"217.44\" width=\"334.8\" x=\"30.103125\" y=\"7.2\"/>\n  </clipPath>\n </defs>\n</svg>\n",
      "image/png": "[encoded data removed]"
     },
     "metadata": {
      "needs_background": "light"
     }
    }
   ],
   "source": [
    "from sklearn.metrics import roc_curve\n",
    "import matplotlib.pyplot as plt\n",
    "\n",
    "# fpr = False positive rate\n",
    "# tpr = True positive rate\n",
    "fpr, tpr, thr = roc_curve(test_label , test_predictions, sample_weight=test_data[\"Weights\"])\n",
    "plt.plot(fpr, tpr, label='ROC')\n",
    "plt.plot([0,1],[0,1], 'k--')\n",
    "plt.show()"
   ]
  },
  {
   "cell_type": "code",
   "execution_count": 28,
   "metadata": {},
   "outputs": [
    {
     "output_type": "execute_result",
     "data": {
      "text/plain": [
       "0.9716960011038662"
      ]
     },
     "metadata": {},
     "execution_count": 28
    }
   ],
   "source": [
    "from sklearn.metrics import roc_auc_score\n",
    "\n",
    "roc_auc_score(test_label , test_predictions, sample_weight=test_data[\"Weights\"])"
   ]
  },
  {
   "cell_type": "code",
   "execution_count": null,
   "metadata": {},
   "outputs": [],
   "source": []
  },
  {
   "cell_type": "code",
   "execution_count": 28,
   "metadata": {},
   "outputs": [],
   "source": [
    " "
   ]
  }
 ]
}