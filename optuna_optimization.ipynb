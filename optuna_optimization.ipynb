{
 "metadata": {
  "language_info": {
   "codemirror_mode": {
    "name": "ipython",
    "version": 3
   },
   "file_extension": ".py",
   "mimetype": "text/x-python",
   "name": "python",
   "nbconvert_exporter": "python",
   "pygments_lexer": "ipython3",
   "version": "3.9.2-final"
  },
  "orig_nbformat": 2,
  "kernelspec": {
   "name": "python39164bit5d5bde576e724ec7bfa2f7aa66f88a74",
   "display_name": "Python 3.9.1 64-bit",
   "language": "python"
  }
 },
 "nbformat": 4,
 "nbformat_minor": 2,
 "cells": [
  {
   "source": [
    "# THIS FILE IS STILL WIP"
   ],
   "cell_type": "markdown",
   "metadata": {}
  },
  {
   "cell_type": "code",
   "execution_count": 1,
   "metadata": {},
   "outputs": [
    {
     "output_type": "execute_result",
     "data": {
      "text/plain": [
       "device(type='cuda')"
      ]
     },
     "metadata": {},
     "execution_count": 1
    }
   ],
   "source": [
    "# Load all the modules and auxiliary functions\n",
    "from aux import *\n",
    "from architecture import *\n",
    "from engine import *"
   ]
  },
  {
   "source": [
    "# THIS FILE IS STILL WIP"
   ],
   "cell_type": "markdown",
   "metadata": {}
  },
  {
   "source": [
    "## Optuna Optimization"
   ],
   "cell_type": "markdown",
   "metadata": {}
  },
  {
   "cell_type": "code",
   "execution_count": 2,
   "metadata": {},
   "outputs": [
    {
     "output_type": "stream",
     "name": "stdout",
     "text": [
      "[+] Loading Data..\n",
      "[+] Data Loaded in 2 seconds!\n",
      "Training data - Only background\n",
      "[+] Loading Data..\n",
      "[+] Data Loaded in 3 seconds!\n"
     ]
    }
   ],
   "source": [
    "Engine = Engine()\n",
    "\n",
    "# Loading data\n",
    "Engine._load_data()"
   ]
  },
  {
   "cell_type": "code",
   "execution_count": 3,
   "metadata": {},
   "outputs": [
    {
     "output_type": "stream",
     "name": "stderr",
     "text": [
      "\u001b[32m[I 2021-03-12 23:12:11,458]\u001b[0m Using an existing study with name 'Optimizing Discriminators 3' instead of creating a new one.\u001b[0m\n",
      "[+] Starting training..\n",
      "\n",
      "  3%|▎         | 1/33 [02:58<1:35:13, 178.55s/it]\n",
      "\n",
      "Best Global Score found! ( 3.353081226348877 ) Saving..\n",
      "\n",
      "\n",
      "\"best\"_fake: 1.0 | \"best_real\": 0.8299999833106995 | Current ROC Score: 0.7615407314232976 | Score: 3.353081226348877 | Step: 13871\n",
      "  6%|▌         | 2/33 [05:26<1:22:54, 160.45s/it]\"best\"_fake: 1.0 | \"best_real\": 0.8299999833106995 | Current ROC Score: 0.7278681937930125 | Score: 3.285736322402954 | Step: 27742\n",
      "  6%|▌         | 2/33 [08:18<2:08:43, 249.13s/it]\n"
     ]
    },
    {
     "output_type": "error",
     "ename": "KeyboardInterrupt",
     "evalue": "",
     "traceback": [
      "\u001b[0;31m---------------------------------------------------------------------------\u001b[0m",
      "\u001b[0;31mKeyboardInterrupt\u001b[0m                         Traceback (most recent call last)",
      "\u001b[0;32m<ipython-input-3-3ab4aef7917a>\u001b[0m in \u001b[0;36m<module>\u001b[0;34m\u001b[0m\n\u001b[1;32m      4\u001b[0m \u001b[0;34m\u001b[0m\u001b[0m\n\u001b[1;32m      5\u001b[0m \u001b[0;31m# Optimization starts\u001b[0m\u001b[0;34m\u001b[0m\u001b[0;34m\u001b[0m\u001b[0;34m\u001b[0m\u001b[0m\n\u001b[0;32m----> 6\u001b[0;31m \u001b[0mEngine\u001b[0m\u001b[0;34m.\u001b[0m\u001b[0moptuna_optimization\u001b[0m\u001b[0;34m(\u001b[0m\u001b[0mstudy\u001b[0m\u001b[0;34m,\u001b[0m \u001b[0mtimeout\u001b[0m\u001b[0;34m=\u001b[0m\u001b[0;36m100\u001b[0m\u001b[0;34m)\u001b[0m\u001b[0;34m\u001b[0m\u001b[0;34m\u001b[0m\u001b[0m\n\u001b[0m",
      "\u001b[0;32m~/Desktop/ganLip2/engine.py\u001b[0m in \u001b[0;36moptuna_optimization\u001b[0;34m(self, study, n_trials, timeout)\u001b[0m\n\u001b[1;32m    238\u001b[0m         \u001b[0mprint\u001b[0m\u001b[0;34m(\u001b[0m\u001b[0;34m\"Best Global Score:\"\u001b[0m\u001b[0;34m,\u001b[0m \u001b[0mself\u001b[0m\u001b[0;34m.\u001b[0m\u001b[0mglobal_score\u001b[0m\u001b[0;34m)\u001b[0m\u001b[0;34m\u001b[0m\u001b[0;34m\u001b[0m\u001b[0m\n\u001b[1;32m    239\u001b[0m \u001b[0;34m\u001b[0m\u001b[0m\n\u001b[0;32m--> 240\u001b[0;31m         \u001b[0mwriter\u001b[0m\u001b[0;34m.\u001b[0m\u001b[0mflush\u001b[0m\u001b[0;34m(\u001b[0m\u001b[0;34m)\u001b[0m\u001b[0;34m\u001b[0m\u001b[0;34m\u001b[0m\u001b[0m\n\u001b[0m\u001b[1;32m    241\u001b[0m \u001b[0;34m\u001b[0m\u001b[0m\n\u001b[1;32m    242\u001b[0m         \u001b[0;32mreturn\u001b[0m \u001b[0mbest_score\u001b[0m\u001b[0;34m\u001b[0m\u001b[0;34m\u001b[0m\u001b[0m\n",
      "\u001b[0;32m~/.local/lib/python3.9/site-packages/optuna/study.py\u001b[0m in \u001b[0;36moptimize\u001b[0;34m(self, func, n_trials, timeout, n_jobs, catch, callbacks, gc_after_trial, show_progress_bar)\u001b[0m\n\u001b[1;32m    374\u001b[0m                 \u001b[0mIf\u001b[0m \u001b[0mnested\u001b[0m \u001b[0minvocation\u001b[0m \u001b[0mof\u001b[0m \u001b[0mthis\u001b[0m \u001b[0mmethod\u001b[0m \u001b[0moccurs\u001b[0m\u001b[0;34m.\u001b[0m\u001b[0;34m\u001b[0m\u001b[0;34m\u001b[0m\u001b[0m\n\u001b[1;32m    375\u001b[0m         \"\"\"\n\u001b[0;32m--> 376\u001b[0;31m         _optimize(\n\u001b[0m\u001b[1;32m    377\u001b[0m             \u001b[0mstudy\u001b[0m\u001b[0;34m=\u001b[0m\u001b[0mself\u001b[0m\u001b[0;34m,\u001b[0m\u001b[0;34m\u001b[0m\u001b[0;34m\u001b[0m\u001b[0m\n\u001b[1;32m    378\u001b[0m             \u001b[0mfunc\u001b[0m\u001b[0;34m=\u001b[0m\u001b[0mfunc\u001b[0m\u001b[0;34m,\u001b[0m\u001b[0;34m\u001b[0m\u001b[0;34m\u001b[0m\u001b[0m\n",
      "\u001b[0;32m~/.local/lib/python3.9/site-packages/optuna/_optimize.py\u001b[0m in \u001b[0;36m_optimize\u001b[0;34m(study, func, n_trials, timeout, n_jobs, catch, callbacks, gc_after_trial, show_progress_bar)\u001b[0m\n\u001b[1;32m     61\u001b[0m     \u001b[0;32mtry\u001b[0m\u001b[0;34m:\u001b[0m\u001b[0;34m\u001b[0m\u001b[0;34m\u001b[0m\u001b[0m\n\u001b[1;32m     62\u001b[0m         \u001b[0;32mif\u001b[0m \u001b[0mn_jobs\u001b[0m \u001b[0;34m==\u001b[0m \u001b[0;36m1\u001b[0m\u001b[0;34m:\u001b[0m\u001b[0;34m\u001b[0m\u001b[0;34m\u001b[0m\u001b[0m\n\u001b[0;32m---> 63\u001b[0;31m             _optimize_sequential(\n\u001b[0m\u001b[1;32m     64\u001b[0m                 \u001b[0mstudy\u001b[0m\u001b[0;34m,\u001b[0m\u001b[0;34m\u001b[0m\u001b[0;34m\u001b[0m\u001b[0m\n\u001b[1;32m     65\u001b[0m                 \u001b[0mfunc\u001b[0m\u001b[0;34m,\u001b[0m\u001b[0;34m\u001b[0m\u001b[0;34m\u001b[0m\u001b[0m\n",
      "\u001b[0;32m~/.local/lib/python3.9/site-packages/optuna/_optimize.py\u001b[0m in \u001b[0;36m_optimize_sequential\u001b[0;34m(study, func, n_trials, timeout, catch, callbacks, gc_after_trial, reseed_sampler_rng, time_start, progress_bar)\u001b[0m\n\u001b[1;32m    162\u001b[0m \u001b[0;34m\u001b[0m\u001b[0m\n\u001b[1;32m    163\u001b[0m         \u001b[0;32mtry\u001b[0m\u001b[0;34m:\u001b[0m\u001b[0;34m\u001b[0m\u001b[0;34m\u001b[0m\u001b[0m\n\u001b[0;32m--> 164\u001b[0;31m             \u001b[0mtrial\u001b[0m \u001b[0;34m=\u001b[0m \u001b[0m_run_trial\u001b[0m\u001b[0;34m(\u001b[0m\u001b[0mstudy\u001b[0m\u001b[0;34m,\u001b[0m \u001b[0mfunc\u001b[0m\u001b[0;34m,\u001b[0m \u001b[0mcatch\u001b[0m\u001b[0;34m)\u001b[0m\u001b[0;34m\u001b[0m\u001b[0;34m\u001b[0m\u001b[0m\n\u001b[0m\u001b[1;32m    165\u001b[0m         \u001b[0;32mexcept\u001b[0m \u001b[0mException\u001b[0m\u001b[0;34m:\u001b[0m\u001b[0;34m\u001b[0m\u001b[0;34m\u001b[0m\u001b[0m\n\u001b[1;32m    166\u001b[0m             \u001b[0;32mraise\u001b[0m\u001b[0;34m\u001b[0m\u001b[0;34m\u001b[0m\u001b[0m\n",
      "\u001b[0;32m~/.local/lib/python3.9/site-packages/optuna/_optimize.py\u001b[0m in \u001b[0;36m_run_trial\u001b[0;34m(study, func, catch)\u001b[0m\n\u001b[1;32m    209\u001b[0m \u001b[0;34m\u001b[0m\u001b[0m\n\u001b[1;32m    210\u001b[0m     \u001b[0;32mtry\u001b[0m\u001b[0;34m:\u001b[0m\u001b[0;34m\u001b[0m\u001b[0;34m\u001b[0m\u001b[0m\n\u001b[0;32m--> 211\u001b[0;31m         \u001b[0mvalue_or_values\u001b[0m \u001b[0;34m=\u001b[0m \u001b[0mfunc\u001b[0m\u001b[0;34m(\u001b[0m\u001b[0mtrial\u001b[0m\u001b[0;34m)\u001b[0m\u001b[0;34m\u001b[0m\u001b[0;34m\u001b[0m\u001b[0m\n\u001b[0m\u001b[1;32m    212\u001b[0m     \u001b[0;32mexcept\u001b[0m \u001b[0mexceptions\u001b[0m\u001b[0;34m.\u001b[0m\u001b[0mTrialPruned\u001b[0m \u001b[0;32mas\u001b[0m \u001b[0me\u001b[0m\u001b[0;34m:\u001b[0m\u001b[0;34m\u001b[0m\u001b[0;34m\u001b[0m\u001b[0m\n\u001b[1;32m    213\u001b[0m         \u001b[0;31m# TODO(mamu): Handle multi-objective cases.\u001b[0m\u001b[0;34m\u001b[0m\u001b[0;34m\u001b[0m\u001b[0;34m\u001b[0m\u001b[0m\n",
      "\u001b[0;32m~/Desktop/ganLip2/engine.py\u001b[0m in \u001b[0;36mtrain\u001b[0;34m(self, trial, FEATURES, global_score)\u001b[0m\n\u001b[1;32m    167\u001b[0m         \u001b[0;32mfor\u001b[0m \u001b[0mepoch\u001b[0m \u001b[0;32min\u001b[0m \u001b[0mtqdm\u001b[0m\u001b[0;34m(\u001b[0m\u001b[0mrange\u001b[0m\u001b[0;34m(\u001b[0m\u001b[0mNUM_EPOCHS\u001b[0m\u001b[0;34m)\u001b[0m\u001b[0;34m)\u001b[0m\u001b[0;34m:\u001b[0m\u001b[0;34m\u001b[0m\u001b[0;34m\u001b[0m\u001b[0m\n\u001b[1;32m    168\u001b[0m \u001b[0;34m\u001b[0m\u001b[0m\n\u001b[0;32m--> 169\u001b[0;31m             \u001b[0mself\u001b[0m\u001b[0;34m.\u001b[0m\u001b[0mdisc\u001b[0m \u001b[0;34m=\u001b[0m \u001b[0mself\u001b[0m\u001b[0;34m.\u001b[0m\u001b[0mdisc\u001b[0m\u001b[0;34m.\u001b[0m\u001b[0mtrain\u001b[0m\u001b[0;34m(\u001b[0m\u001b[0;34m)\u001b[0m\u001b[0;34m\u001b[0m\u001b[0;34m\u001b[0m\u001b[0m\n\u001b[0m\u001b[1;32m    170\u001b[0m \u001b[0;34m\u001b[0m\u001b[0m\n\u001b[1;32m    171\u001b[0m             \u001b[0;31m# Define batch_loader\u001b[0m\u001b[0;34m\u001b[0m\u001b[0;34m\u001b[0m\u001b[0;34m\u001b[0m\u001b[0m\n",
      "\u001b[0;32m~/Desktop/ganLip2/engine.py\u001b[0m in \u001b[0;36mtrain_discriminator\u001b[0;34m(self, real, fake, weights)\u001b[0m\n\u001b[1;32m     64\u001b[0m         \u001b[0;31m### Train Discriminator: max log(D(x)) + log(1 - D(G(z)))\u001b[0m\u001b[0;34m\u001b[0m\u001b[0;34m\u001b[0m\u001b[0;34m\u001b[0m\u001b[0m\n\u001b[1;32m     65\u001b[0m \u001b[0;34m\u001b[0m\u001b[0m\n\u001b[0;32m---> 66\u001b[0;31m         \u001b[0;31m# Zerar gradientes\u001b[0m\u001b[0;34m\u001b[0m\u001b[0;34m\u001b[0m\u001b[0;34m\u001b[0m\u001b[0m\n\u001b[0m\u001b[1;32m     67\u001b[0m         \u001b[0mself\u001b[0m\u001b[0;34m.\u001b[0m\u001b[0mdisc\u001b[0m\u001b[0;34m.\u001b[0m\u001b[0mzero_grad\u001b[0m\u001b[0;34m(\u001b[0m\u001b[0;34m)\u001b[0m\u001b[0;34m\u001b[0m\u001b[0;34m\u001b[0m\u001b[0m\n\u001b[1;32m     68\u001b[0m \u001b[0;34m\u001b[0m\u001b[0m\n",
      "\u001b[0;32m~/.local/lib/python3.9/site-packages/torch/nn/modules/module.py\u001b[0m in \u001b[0;36m_call_impl\u001b[0;34m(self, *input, **kwargs)\u001b[0m\n\u001b[1;32m    725\u001b[0m             \u001b[0mresult\u001b[0m \u001b[0;34m=\u001b[0m \u001b[0mself\u001b[0m\u001b[0;34m.\u001b[0m\u001b[0m_slow_forward\u001b[0m\u001b[0;34m(\u001b[0m\u001b[0;34m*\u001b[0m\u001b[0minput\u001b[0m\u001b[0;34m,\u001b[0m \u001b[0;34m**\u001b[0m\u001b[0mkwargs\u001b[0m\u001b[0;34m)\u001b[0m\u001b[0;34m\u001b[0m\u001b[0;34m\u001b[0m\u001b[0m\n\u001b[1;32m    726\u001b[0m         \u001b[0;32melse\u001b[0m\u001b[0;34m:\u001b[0m\u001b[0;34m\u001b[0m\u001b[0;34m\u001b[0m\u001b[0m\n\u001b[0;32m--> 727\u001b[0;31m             \u001b[0mresult\u001b[0m \u001b[0;34m=\u001b[0m \u001b[0mself\u001b[0m\u001b[0;34m.\u001b[0m\u001b[0mforward\u001b[0m\u001b[0;34m(\u001b[0m\u001b[0;34m*\u001b[0m\u001b[0minput\u001b[0m\u001b[0;34m,\u001b[0m \u001b[0;34m**\u001b[0m\u001b[0mkwargs\u001b[0m\u001b[0;34m)\u001b[0m\u001b[0;34m\u001b[0m\u001b[0;34m\u001b[0m\u001b[0m\n\u001b[0m\u001b[1;32m    728\u001b[0m         for hook in itertools.chain(\n\u001b[1;32m    729\u001b[0m                 \u001b[0m_global_forward_hooks\u001b[0m\u001b[0;34m.\u001b[0m\u001b[0mvalues\u001b[0m\u001b[0;34m(\u001b[0m\u001b[0;34m)\u001b[0m\u001b[0;34m,\u001b[0m\u001b[0;34m\u001b[0m\u001b[0;34m\u001b[0m\u001b[0m\n",
      "\u001b[0;32m~/.local/lib/python3.9/site-packages/torch/nn/modules/container.py\u001b[0m in \u001b[0;36mforward\u001b[0;34m(self, input)\u001b[0m\n\u001b[1;32m    115\u001b[0m     \u001b[0;32mdef\u001b[0m \u001b[0mforward\u001b[0m\u001b[0;34m(\u001b[0m\u001b[0mself\u001b[0m\u001b[0;34m,\u001b[0m \u001b[0minput\u001b[0m\u001b[0;34m)\u001b[0m\u001b[0;34m:\u001b[0m\u001b[0;34m\u001b[0m\u001b[0;34m\u001b[0m\u001b[0m\n\u001b[1;32m    116\u001b[0m         \u001b[0;32mfor\u001b[0m \u001b[0mmodule\u001b[0m \u001b[0;32min\u001b[0m \u001b[0mself\u001b[0m\u001b[0;34m:\u001b[0m\u001b[0;34m\u001b[0m\u001b[0;34m\u001b[0m\u001b[0m\n\u001b[0;32m--> 117\u001b[0;31m             \u001b[0minput\u001b[0m \u001b[0;34m=\u001b[0m \u001b[0mmodule\u001b[0m\u001b[0;34m(\u001b[0m\u001b[0minput\u001b[0m\u001b[0;34m)\u001b[0m\u001b[0;34m\u001b[0m\u001b[0;34m\u001b[0m\u001b[0m\n\u001b[0m\u001b[1;32m    118\u001b[0m         \u001b[0;32mreturn\u001b[0m \u001b[0minput\u001b[0m\u001b[0;34m\u001b[0m\u001b[0;34m\u001b[0m\u001b[0m\n\u001b[1;32m    119\u001b[0m \u001b[0;34m\u001b[0m\u001b[0m\n",
      "\u001b[0;32m~/.local/lib/python3.9/site-packages/torch/nn/modules/module.py\u001b[0m in \u001b[0;36m_call_impl\u001b[0;34m(self, *input, **kwargs)\u001b[0m\n\u001b[1;32m    725\u001b[0m             \u001b[0mresult\u001b[0m \u001b[0;34m=\u001b[0m \u001b[0mself\u001b[0m\u001b[0;34m.\u001b[0m\u001b[0m_slow_forward\u001b[0m\u001b[0;34m(\u001b[0m\u001b[0;34m*\u001b[0m\u001b[0minput\u001b[0m\u001b[0;34m,\u001b[0m \u001b[0;34m**\u001b[0m\u001b[0mkwargs\u001b[0m\u001b[0;34m)\u001b[0m\u001b[0;34m\u001b[0m\u001b[0;34m\u001b[0m\u001b[0m\n\u001b[1;32m    726\u001b[0m         \u001b[0;32melse\u001b[0m\u001b[0;34m:\u001b[0m\u001b[0;34m\u001b[0m\u001b[0;34m\u001b[0m\u001b[0m\n\u001b[0;32m--> 727\u001b[0;31m             \u001b[0mresult\u001b[0m \u001b[0;34m=\u001b[0m \u001b[0mself\u001b[0m\u001b[0;34m.\u001b[0m\u001b[0mforward\u001b[0m\u001b[0;34m(\u001b[0m\u001b[0;34m*\u001b[0m\u001b[0minput\u001b[0m\u001b[0;34m,\u001b[0m \u001b[0;34m**\u001b[0m\u001b[0mkwargs\u001b[0m\u001b[0;34m)\u001b[0m\u001b[0;34m\u001b[0m\u001b[0;34m\u001b[0m\u001b[0m\n\u001b[0m\u001b[1;32m    728\u001b[0m         for hook in itertools.chain(\n\u001b[1;32m    729\u001b[0m                 \u001b[0m_global_forward_hooks\u001b[0m\u001b[0;34m.\u001b[0m\u001b[0mvalues\u001b[0m\u001b[0;34m(\u001b[0m\u001b[0;34m)\u001b[0m\u001b[0;34m,\u001b[0m\u001b[0;34m\u001b[0m\u001b[0;34m\u001b[0m\u001b[0m\n",
      "\u001b[0;32m~/.local/lib/python3.9/site-packages/torch/nn/modules/activation.py\u001b[0m in \u001b[0;36mforward\u001b[0;34m(self, input)\u001b[0m\n\u001b[1;32m   1044\u001b[0m \u001b[0;34m\u001b[0m\u001b[0m\n\u001b[1;32m   1045\u001b[0m     \u001b[0;32mdef\u001b[0m \u001b[0mforward\u001b[0m\u001b[0;34m(\u001b[0m\u001b[0mself\u001b[0m\u001b[0;34m,\u001b[0m \u001b[0minput\u001b[0m\u001b[0;34m:\u001b[0m \u001b[0mTensor\u001b[0m\u001b[0;34m)\u001b[0m \u001b[0;34m->\u001b[0m \u001b[0mTensor\u001b[0m\u001b[0;34m:\u001b[0m\u001b[0;34m\u001b[0m\u001b[0;34m\u001b[0m\u001b[0m\n\u001b[0;32m-> 1046\u001b[0;31m         \u001b[0;32mreturn\u001b[0m \u001b[0mF\u001b[0m\u001b[0;34m.\u001b[0m\u001b[0mprelu\u001b[0m\u001b[0;34m(\u001b[0m\u001b[0minput\u001b[0m\u001b[0;34m,\u001b[0m \u001b[0mself\u001b[0m\u001b[0;34m.\u001b[0m\u001b[0mweight\u001b[0m\u001b[0;34m)\u001b[0m\u001b[0;34m\u001b[0m\u001b[0;34m\u001b[0m\u001b[0m\n\u001b[0m\u001b[1;32m   1047\u001b[0m \u001b[0;34m\u001b[0m\u001b[0m\n\u001b[1;32m   1048\u001b[0m     \u001b[0;32mdef\u001b[0m \u001b[0mextra_repr\u001b[0m\u001b[0;34m(\u001b[0m\u001b[0mself\u001b[0m\u001b[0;34m)\u001b[0m \u001b[0;34m->\u001b[0m \u001b[0mstr\u001b[0m\u001b[0;34m:\u001b[0m\u001b[0;34m\u001b[0m\u001b[0;34m\u001b[0m\u001b[0m\n",
      "\u001b[0;32m~/.local/lib/python3.9/site-packages/torch/nn/functional.py\u001b[0m in \u001b[0;36mprelu\u001b[0;34m(input, weight)\u001b[0m\n\u001b[1;32m   1331\u001b[0m         \u001b[0;32mif\u001b[0m \u001b[0mtype\u001b[0m\u001b[0;34m(\u001b[0m\u001b[0minput\u001b[0m\u001b[0;34m)\u001b[0m \u001b[0;32mis\u001b[0m \u001b[0;32mnot\u001b[0m \u001b[0mTensor\u001b[0m \u001b[0;32mand\u001b[0m \u001b[0mhas_torch_function\u001b[0m\u001b[0;34m(\u001b[0m\u001b[0;34m(\u001b[0m\u001b[0minput\u001b[0m\u001b[0;34m,\u001b[0m\u001b[0;34m)\u001b[0m\u001b[0;34m)\u001b[0m\u001b[0;34m:\u001b[0m\u001b[0;34m\u001b[0m\u001b[0;34m\u001b[0m\u001b[0m\n\u001b[1;32m   1332\u001b[0m             \u001b[0;32mreturn\u001b[0m \u001b[0mhandle_torch_function\u001b[0m\u001b[0;34m(\u001b[0m\u001b[0mprelu\u001b[0m\u001b[0;34m,\u001b[0m \u001b[0;34m(\u001b[0m\u001b[0minput\u001b[0m\u001b[0;34m,\u001b[0m\u001b[0;34m)\u001b[0m\u001b[0;34m,\u001b[0m \u001b[0minput\u001b[0m\u001b[0;34m,\u001b[0m \u001b[0mweight\u001b[0m\u001b[0;34m)\u001b[0m\u001b[0;34m\u001b[0m\u001b[0;34m\u001b[0m\u001b[0m\n\u001b[0;32m-> 1333\u001b[0;31m     \u001b[0;32mreturn\u001b[0m \u001b[0mtorch\u001b[0m\u001b[0;34m.\u001b[0m\u001b[0mprelu\u001b[0m\u001b[0;34m(\u001b[0m\u001b[0minput\u001b[0m\u001b[0;34m,\u001b[0m \u001b[0mweight\u001b[0m\u001b[0;34m)\u001b[0m\u001b[0;34m\u001b[0m\u001b[0;34m\u001b[0m\u001b[0m\n\u001b[0m\u001b[1;32m   1334\u001b[0m \u001b[0;34m\u001b[0m\u001b[0m\n\u001b[1;32m   1335\u001b[0m \u001b[0;34m\u001b[0m\u001b[0m\n",
      "\u001b[0;31mKeyboardInterrupt\u001b[0m: "
     ]
    }
   ],
   "source": [
    "# Define Study\n",
    "study = optuna.create_study(study_name=\"Optimizing Discriminators 3\", direction=\"maximize\", storage=\"sqlite:///optuna_optim.db\", load_if_exists=True)\n",
    "\n",
    "\n",
    "# Optimization starts\n",
    "Engine.optuna_optimization(study, timeout=100)"
   ]
  },
  {
   "source": [
    "## Optuna graphs"
   ],
   "cell_type": "markdown",
   "metadata": {}
  },
  {
   "cell_type": "code",
   "execution_count": 12,
   "metadata": {},
   "outputs": [
    {
     "output_type": "execute_result",
     "data": {
      "text/plain": [
       "3.554935932159424"
      ]
     },
     "metadata": {},
     "execution_count": 12
    }
   ],
   "source": [
    "study = optuna.load_study(study_name=\"Optimizing Discriminators 2\",storage=\"sqlite:///optuna_optim.db\")\n",
    "study.best_trial.value"
   ]
  },
  {
   "cell_type": "code",
   "execution_count": 13,
   "metadata": {},
   "outputs": [
    {
     "output_type": "display_data",
     "data": {
      "application/vnd.plotly.v1+json": {
       "config": {
        "plotlyServerURL": "https://plot.ly"
       },
       "data": [
        {
         "cliponaxis": false,
         "hovertemplate": [
          "activation_disc (CategoricalDistribution): 0.0041300683559203745<extra></extra>",
          "lr_gen (LogUniformDistribution): 0.004403475711599771<extra></extra>",
          "early_stoping (IntUniformDistribution): 0.00620590513614283<extra></extra>",
          "activation_gen (CategoricalDistribution): 0.010660601858146301<extra></extra>",
          "gen_activation_last (CategoricalDistribution): 0.011370565653637879<extra></extra>",
          "lr_disc (LogUniformDistribution): 0.018408259629430244<extra></extra>",
          "optimizer_disc (CategoricalDistribution): 0.020261164059321393<extra></extra>",
          "n_epochs (IntUniformDistribution): 0.02555809350179951<extra></extra>",
          "gen_n_units_l0 (IntUniformDistribution): 0.027619572548330074<extra></extra>",
          "NOISE_DIM (IntUniformDistribution): 0.02904953069803185<extra></extra>",
          "n_layers_gen (IntUniformDistribution): 0.03383780366411097<extra></extra>",
          "disc_n_units_l0 (IntUniformDistribution): 0.04185455365450827<extra></extra>",
          "gen_dropout_l0 (UniformDistribution): 0.06251563620513201<extra></extra>",
          "n_layers_disc (IntUniformDistribution): 0.12616559924091642<extra></extra>",
          "optimizer_gen (CategoricalDistribution): 0.129423706688703<extra></extra>",
          "disc_dropout_disc_l0 (UniformDistribution): 0.44853546339426925<extra></extra>"
         ],
         "marker": {
          "color": [
           "rgb(66,146,198)",
           "rgb(8,48,107)",
           "rgb(8,81,156)",
           "rgb(66,146,198)",
           "rgb(66,146,198)",
           "rgb(8,48,107)",
           "rgb(66,146,198)",
           "rgb(8,81,156)",
           "rgb(8,81,156)",
           "rgb(8,81,156)",
           "rgb(8,81,156)",
           "rgb(8,81,156)",
           "rgb(8,48,107)",
           "rgb(8,81,156)",
           "rgb(66,146,198)",
           "rgb(8,48,107)"
          ]
         },
         "orientation": "h",
         "text": [
          "0.0041300683559203745",
          "0.004403475711599771",
          "0.00620590513614283",
          "0.010660601858146301",
          "0.011370565653637879",
          "0.018408259629430244",
          "0.020261164059321393",
          "0.02555809350179951",
          "0.027619572548330074",
          "0.02904953069803185",
          "0.03383780366411097",
          "0.04185455365450827",
          "0.06251563620513201",
          "0.12616559924091642",
          "0.129423706688703",
          "0.44853546339426925"
         ],
         "textposition": "outside",
         "texttemplate": "%{text:.2f}",
         "type": "bar",
         "x": [
          0.0041300683559203745,
          0.004403475711599771,
          0.00620590513614283,
          0.010660601858146301,
          0.011370565653637879,
          0.018408259629430244,
          0.020261164059321393,
          0.02555809350179951,
          0.027619572548330074,
          0.02904953069803185,
          0.03383780366411097,
          0.04185455365450827,
          0.06251563620513201,
          0.12616559924091642,
          0.129423706688703,
          0.44853546339426925
         ],
         "y": [
          "activation_disc",
          "lr_gen",
          "early_stoping",
          "activation_gen",
          "gen_activation_last",
          "lr_disc",
          "optimizer_disc",
          "n_epochs",
          "gen_n_units_l0",
          "NOISE_DIM",
          "n_layers_gen",
          "disc_n_units_l0",
          "gen_dropout_l0",
          "n_layers_disc",
          "optimizer_gen",
          "disc_dropout_disc_l0"
         ]
        }
       ],
       "layout": {
        "showlegend": false,
        "template": {
         "data": {
          "bar": [
           {
            "error_x": {
             "color": "#2a3f5f"
            },
            "error_y": {
             "color": "#2a3f5f"
            },
            "marker": {
             "line": {
              "color": "#E5ECF6",
              "width": 0.5
             }
            },
            "type": "bar"
           }
          ],
          "barpolar": [
           {
            "marker": {
             "line": {
              "color": "#E5ECF6",
              "width": 0.5
             }
            },
            "type": "barpolar"
           }
          ],
          "carpet": [
           {
            "aaxis": {
             "endlinecolor": "#2a3f5f",
             "gridcolor": "white",
             "linecolor": "white",
             "minorgridcolor": "white",
             "startlinecolor": "#2a3f5f"
            },
            "baxis": {
             "endlinecolor": "#2a3f5f",
             "gridcolor": "white",
             "linecolor": "white",
             "minorgridcolor": "white",
             "startlinecolor": "#2a3f5f"
            },
            "type": "carpet"
           }
          ],
          "choropleth": [
           {
            "colorbar": {
             "outlinewidth": 0,
             "ticks": ""
            },
            "type": "choropleth"
           }
          ],
          "contour": [
           {
            "colorbar": {
             "outlinewidth": 0,
             "ticks": ""
            },
            "colorscale": [
             [
              0,
              "#0d0887"
             ],
             [
              0.1111111111111111,
              "#46039f"
             ],
             [
              0.2222222222222222,
              "#7201a8"
             ],
             [
              0.3333333333333333,
              "#9c179e"
             ],
             [
              0.4444444444444444,
              "#bd3786"
             ],
             [
              0.5555555555555556,
              "#d8576b"
             ],
             [
              0.6666666666666666,
              "#ed7953"
             ],
             [
              0.7777777777777778,
              "#fb9f3a"
             ],
             [
              0.8888888888888888,
              "#fdca26"
             ],
             [
              1,
              "#f0f921"
             ]
            ],
            "type": "contour"
           }
          ],
          "contourcarpet": [
           {
            "colorbar": {
             "outlinewidth": 0,
             "ticks": ""
            },
            "type": "contourcarpet"
           }
          ],
          "heatmap": [
           {
            "colorbar": {
             "outlinewidth": 0,
             "ticks": ""
            },
            "colorscale": [
             [
              0,
              "#0d0887"
             ],
             [
              0.1111111111111111,
              "#46039f"
             ],
             [
              0.2222222222222222,
              "#7201a8"
             ],
             [
              0.3333333333333333,
              "#9c179e"
             ],
             [
              0.4444444444444444,
              "#bd3786"
             ],
             [
              0.5555555555555556,
              "#d8576b"
             ],
             [
              0.6666666666666666,
              "#ed7953"
             ],
             [
              0.7777777777777778,
              "#fb9f3a"
             ],
             [
              0.8888888888888888,
              "#fdca26"
             ],
             [
              1,
              "#f0f921"
             ]
            ],
            "type": "heatmap"
           }
          ],
          "heatmapgl": [
           {
            "colorbar": {
             "outlinewidth": 0,
             "ticks": ""
            },
            "colorscale": [
             [
              0,
              "#0d0887"
             ],
             [
              0.1111111111111111,
              "#46039f"
             ],
             [
              0.2222222222222222,
              "#7201a8"
             ],
             [
              0.3333333333333333,
              "#9c179e"
             ],
             [
              0.4444444444444444,
              "#bd3786"
             ],
             [
              0.5555555555555556,
              "#d8576b"
             ],
             [
              0.6666666666666666,
              "#ed7953"
             ],
             [
              0.7777777777777778,
              "#fb9f3a"
             ],
             [
              0.8888888888888888,
              "#fdca26"
             ],
             [
              1,
              "#f0f921"
             ]
            ],
            "type": "heatmapgl"
           }
          ],
          "histogram": [
           {
            "marker": {
             "colorbar": {
              "outlinewidth": 0,
              "ticks": ""
             }
            },
            "type": "histogram"
           }
          ],
          "histogram2d": [
           {
            "colorbar": {
             "outlinewidth": 0,
             "ticks": ""
            },
            "colorscale": [
             [
              0,
              "#0d0887"
             ],
             [
              0.1111111111111111,
              "#46039f"
             ],
             [
              0.2222222222222222,
              "#7201a8"
             ],
             [
              0.3333333333333333,
              "#9c179e"
             ],
             [
              0.4444444444444444,
              "#bd3786"
             ],
             [
              0.5555555555555556,
              "#d8576b"
             ],
             [
              0.6666666666666666,
              "#ed7953"
             ],
             [
              0.7777777777777778,
              "#fb9f3a"
             ],
             [
              0.8888888888888888,
              "#fdca26"
             ],
             [
              1,
              "#f0f921"
             ]
            ],
            "type": "histogram2d"
           }
          ],
          "histogram2dcontour": [
           {
            "colorbar": {
             "outlinewidth": 0,
             "ticks": ""
            },
            "colorscale": [
             [
              0,
              "#0d0887"
             ],
             [
              0.1111111111111111,
              "#46039f"
             ],
             [
              0.2222222222222222,
              "#7201a8"
             ],
             [
              0.3333333333333333,
              "#9c179e"
             ],
             [
              0.4444444444444444,
              "#bd3786"
             ],
             [
              0.5555555555555556,
              "#d8576b"
             ],
             [
              0.6666666666666666,
              "#ed7953"
             ],
             [
              0.7777777777777778,
              "#fb9f3a"
             ],
             [
              0.8888888888888888,
              "#fdca26"
             ],
             [
              1,
              "#f0f921"
             ]
            ],
            "type": "histogram2dcontour"
           }
          ],
          "mesh3d": [
           {
            "colorbar": {
             "outlinewidth": 0,
             "ticks": ""
            },
            "type": "mesh3d"
           }
          ],
          "parcoords": [
           {
            "line": {
             "colorbar": {
              "outlinewidth": 0,
              "ticks": ""
             }
            },
            "type": "parcoords"
           }
          ],
          "pie": [
           {
            "automargin": true,
            "type": "pie"
           }
          ],
          "scatter": [
           {
            "marker": {
             "colorbar": {
              "outlinewidth": 0,
              "ticks": ""
             }
            },
            "type": "scatter"
           }
          ],
          "scatter3d": [
           {
            "line": {
             "colorbar": {
              "outlinewidth": 0,
              "ticks": ""
             }
            },
            "marker": {
             "colorbar": {
              "outlinewidth": 0,
              "ticks": ""
             }
            },
            "type": "scatter3d"
           }
          ],
          "scattercarpet": [
           {
            "marker": {
             "colorbar": {
              "outlinewidth": 0,
              "ticks": ""
             }
            },
            "type": "scattercarpet"
           }
          ],
          "scattergeo": [
           {
            "marker": {
             "colorbar": {
              "outlinewidth": 0,
              "ticks": ""
             }
            },
            "type": "scattergeo"
           }
          ],
          "scattergl": [
           {
            "marker": {
             "colorbar": {
              "outlinewidth": 0,
              "ticks": ""
             }
            },
            "type": "scattergl"
           }
          ],
          "scattermapbox": [
           {
            "marker": {
             "colorbar": {
              "outlinewidth": 0,
              "ticks": ""
             }
            },
            "type": "scattermapbox"
           }
          ],
          "scatterpolar": [
           {
            "marker": {
             "colorbar": {
              "outlinewidth": 0,
              "ticks": ""
             }
            },
            "type": "scatterpolar"
           }
          ],
          "scatterpolargl": [
           {
            "marker": {
             "colorbar": {
              "outlinewidth": 0,
              "ticks": ""
             }
            },
            "type": "scatterpolargl"
           }
          ],
          "scatterternary": [
           {
            "marker": {
             "colorbar": {
              "outlinewidth": 0,
              "ticks": ""
             }
            },
            "type": "scatterternary"
           }
          ],
          "surface": [
           {
            "colorbar": {
             "outlinewidth": 0,
             "ticks": ""
            },
            "colorscale": [
             [
              0,
              "#0d0887"
             ],
             [
              0.1111111111111111,
              "#46039f"
             ],
             [
              0.2222222222222222,
              "#7201a8"
             ],
             [
              0.3333333333333333,
              "#9c179e"
             ],
             [
              0.4444444444444444,
              "#bd3786"
             ],
             [
              0.5555555555555556,
              "#d8576b"
             ],
             [
              0.6666666666666666,
              "#ed7953"
             ],
             [
              0.7777777777777778,
              "#fb9f3a"
             ],
             [
              0.8888888888888888,
              "#fdca26"
             ],
             [
              1,
              "#f0f921"
             ]
            ],
            "type": "surface"
           }
          ],
          "table": [
           {
            "cells": {
             "fill": {
              "color": "#EBF0F8"
             },
             "line": {
              "color": "white"
             }
            },
            "header": {
             "fill": {
              "color": "#C8D4E3"
             },
             "line": {
              "color": "white"
             }
            },
            "type": "table"
           }
          ]
         },
         "layout": {
          "annotationdefaults": {
           "arrowcolor": "#2a3f5f",
           "arrowhead": 0,
           "arrowwidth": 1
          },
          "autotypenumbers": "strict",
          "coloraxis": {
           "colorbar": {
            "outlinewidth": 0,
            "ticks": ""
           }
          },
          "colorscale": {
           "diverging": [
            [
             0,
             "#8e0152"
            ],
            [
             0.1,
             "#c51b7d"
            ],
            [
             0.2,
             "#de77ae"
            ],
            [
             0.3,
             "#f1b6da"
            ],
            [
             0.4,
             "#fde0ef"
            ],
            [
             0.5,
             "#f7f7f7"
            ],
            [
             0.6,
             "#e6f5d0"
            ],
            [
             0.7,
             "#b8e186"
            ],
            [
             0.8,
             "#7fbc41"
            ],
            [
             0.9,
             "#4d9221"
            ],
            [
             1,
             "#276419"
            ]
           ],
           "sequential": [
            [
             0,
             "#0d0887"
            ],
            [
             0.1111111111111111,
             "#46039f"
            ],
            [
             0.2222222222222222,
             "#7201a8"
            ],
            [
             0.3333333333333333,
             "#9c179e"
            ],
            [
             0.4444444444444444,
             "#bd3786"
            ],
            [
             0.5555555555555556,
             "#d8576b"
            ],
            [
             0.6666666666666666,
             "#ed7953"
            ],
            [
             0.7777777777777778,
             "#fb9f3a"
            ],
            [
             0.8888888888888888,
             "#fdca26"
            ],
            [
             1,
             "#f0f921"
            ]
           ],
           "sequentialminus": [
            [
             0,
             "#0d0887"
            ],
            [
             0.1111111111111111,
             "#46039f"
            ],
            [
             0.2222222222222222,
             "#7201a8"
            ],
            [
             0.3333333333333333,
             "#9c179e"
            ],
            [
             0.4444444444444444,
             "#bd3786"
            ],
            [
             0.5555555555555556,
             "#d8576b"
            ],
            [
             0.6666666666666666,
             "#ed7953"
            ],
            [
             0.7777777777777778,
             "#fb9f3a"
            ],
            [
             0.8888888888888888,
             "#fdca26"
            ],
            [
             1,
             "#f0f921"
            ]
           ]
          },
          "colorway": [
           "#636efa",
           "#EF553B",
           "#00cc96",
           "#ab63fa",
           "#FFA15A",
           "#19d3f3",
           "#FF6692",
           "#B6E880",
           "#FF97FF",
           "#FECB52"
          ],
          "font": {
           "color": "#2a3f5f"
          },
          "geo": {
           "bgcolor": "white",
           "lakecolor": "white",
           "landcolor": "#E5ECF6",
           "showlakes": true,
           "showland": true,
           "subunitcolor": "white"
          },
          "hoverlabel": {
           "align": "left"
          },
          "hovermode": "closest",
          "mapbox": {
           "style": "light"
          },
          "paper_bgcolor": "white",
          "plot_bgcolor": "#E5ECF6",
          "polar": {
           "angularaxis": {
            "gridcolor": "white",
            "linecolor": "white",
            "ticks": ""
           },
           "bgcolor": "#E5ECF6",
           "radialaxis": {
            "gridcolor": "white",
            "linecolor": "white",
            "ticks": ""
           }
          },
          "scene": {
           "xaxis": {
            "backgroundcolor": "#E5ECF6",
            "gridcolor": "white",
            "gridwidth": 2,
            "linecolor": "white",
            "showbackground": true,
            "ticks": "",
            "zerolinecolor": "white"
           },
           "yaxis": {
            "backgroundcolor": "#E5ECF6",
            "gridcolor": "white",
            "gridwidth": 2,
            "linecolor": "white",
            "showbackground": true,
            "ticks": "",
            "zerolinecolor": "white"
           },
           "zaxis": {
            "backgroundcolor": "#E5ECF6",
            "gridcolor": "white",
            "gridwidth": 2,
            "linecolor": "white",
            "showbackground": true,
            "ticks": "",
            "zerolinecolor": "white"
           }
          },
          "shapedefaults": {
           "line": {
            "color": "#2a3f5f"
           }
          },
          "ternary": {
           "aaxis": {
            "gridcolor": "white",
            "linecolor": "white",
            "ticks": ""
           },
           "baxis": {
            "gridcolor": "white",
            "linecolor": "white",
            "ticks": ""
           },
           "bgcolor": "#E5ECF6",
           "caxis": {
            "gridcolor": "white",
            "linecolor": "white",
            "ticks": ""
           }
          },
          "title": {
           "x": 0.05
          },
          "xaxis": {
           "automargin": true,
           "gridcolor": "white",
           "linecolor": "white",
           "ticks": "",
           "title": {
            "standoff": 15
           },
           "zerolinecolor": "white",
           "zerolinewidth": 2
          },
          "yaxis": {
           "automargin": true,
           "gridcolor": "white",
           "linecolor": "white",
           "ticks": "",
           "title": {
            "standoff": 15
           },
           "zerolinecolor": "white",
           "zerolinewidth": 2
          }
         }
        },
        "title": {
         "text": "Hyperparameter Importances"
        },
        "xaxis": {
         "title": {
          "text": "Importance for Objective Value"
         }
        },
        "yaxis": {
         "title": {
          "text": "Hyperparameter"
         }
        }
       }
      }
     },
     "metadata": {}
    }
   ],
   "source": [
    "optuna.visualization.plot_param_importances(study)"
   ]
  },
  {
   "cell_type": "code",
   "execution_count": 14,
   "metadata": {},
   "outputs": [
    {
     "output_type": "display_data",
     "data": {
      "application/vnd.plotly.v1+json": {
       "config": {
        "plotlyServerURL": "https://plot.ly"
       },
       "data": [
        {
         "marker": {
          "maxdisplayed": 10
         },
         "mode": "lines+markers",
         "name": "Trial0",
         "type": "scatter",
         "x": [
          0,
          1,
          2,
          3,
          4,
          5,
          6
         ],
         "y": [
          0.6584498150428898,
          0.7027488423450209,
          0.7375045090939473,
          0.7238689377821588,
          0.713305632973773,
          0.6788377600002736,
          0.688978487057019
         ]
        },
        {
         "marker": {
          "maxdisplayed": 10
         },
         "mode": "lines+markers",
         "name": "Trial1",
         "type": "scatter",
         "x": [
          0,
          1,
          2,
          3,
          4,
          5,
          6
         ],
         "y": [
          0.638772867832485,
          0.5977993914011018,
          0.5529576468829489,
          0.5248559708818787,
          0.5186729193673164,
          0.5051485429112343,
          0.4924935514558502
         ]
        },
        {
         "marker": {
          "maxdisplayed": 10
         },
         "mode": "lines+markers",
         "name": "Trial2",
         "type": "scatter",
         "x": [
          0,
          1,
          2,
          3,
          4,
          5,
          6
         ],
         "y": [
          0.5,
          0.5,
          0.5,
          0.5,
          0.5,
          0.5,
          0.5
         ]
        },
        {
         "marker": {
          "maxdisplayed": 10
         },
         "mode": "lines+markers",
         "name": "Trial3",
         "type": "scatter",
         "x": [
          0,
          1,
          2,
          3,
          4,
          5,
          6,
          7
         ],
         "y": [
          0.4179106339333855,
          0.5693897016195529,
          0.5044515251806121,
          0.5025801457100952,
          0.5078452501733032,
          0.5093204177651616,
          0.5092108685377879,
          0.5099952717280204
         ]
        },
        {
         "marker": {
          "maxdisplayed": 10
         },
         "mode": "lines+markers",
         "name": "Trial4",
         "type": "scatter",
         "x": [
          0,
          1,
          2,
          3,
          4,
          5
         ],
         "y": [
          0.7495318242835677,
          0.7434648424937794,
          0.7014844072017802,
          0.6822010704349056,
          0.6554903486859438,
          0.6925696550682648
         ]
        },
        {
         "marker": {
          "maxdisplayed": 10
         },
         "mode": "lines+markers",
         "name": "Trial5",
         "type": "scatter",
         "x": [
          0,
          1,
          2,
          3,
          4,
          5,
          6,
          7,
          8,
          9,
          10,
          11,
          12,
          13,
          14,
          15,
          16,
          17,
          18,
          19
         ],
         "y": [
          0.5867949553393357,
          0.6674662838372059,
          0.7190005490675517,
          0.7447697699358476,
          0.7563636222022583,
          0.7573900223129405,
          0.7509091102565808,
          0.7421238201947729,
          0.7348078410966195,
          0.7325956712916531,
          0.7317248207919225,
          0.7331078661520459,
          0.7349540551085841,
          0.7348799505583418,
          0.7347935161566134,
          0.7338996881645267,
          0.733641520551291,
          0.7335443202111519,
          0.7324819085109122,
          0.7311023235118697
         ]
        },
        {
         "marker": {
          "maxdisplayed": 10
         },
         "mode": "lines+markers",
         "name": "Trial6",
         "type": "scatter",
         "x": [
          0,
          1,
          2,
          3,
          4,
          5
         ],
         "y": [
          0.5001144521384895,
          0.7657162321534207,
          0.4518545655840481,
          0.47999691262289257,
          0.27506611688406063,
          0.4343060750214406
         ]
        },
        {
         "marker": {
          "maxdisplayed": 10
         },
         "mode": "lines+markers",
         "name": "Trial7",
         "type": "scatter",
         "x": [
          0,
          1,
          2,
          3,
          4,
          5,
          6,
          7,
          8,
          9,
          10,
          11,
          12,
          13,
          14
         ],
         "y": [
          0.492005660363024,
          0.5298411557682363,
          0.4592350147127233,
          0.4842348948087313,
          0.5458521950206321,
          0.5246791526484383,
          0.5428736897327678,
          0.590127183595373,
          0.5989234931839845,
          0.6243082116693192,
          0.6371594886969452,
          0.49293712253489685,
          0.5638024952122536,
          0.57796482309956,
          0.5298117946717839
         ]
        },
        {
         "marker": {
          "maxdisplayed": 10
         },
         "mode": "lines+markers",
         "name": "Trial8",
         "type": "scatter",
         "x": [
          0,
          1,
          2,
          3
         ],
         "y": [
          0.4770256635101731,
          0.3853204379714904,
          0.4110530379860781,
          0.4070678972033626
         ]
        },
        {
         "marker": {
          "maxdisplayed": 10
         },
         "mode": "lines+markers",
         "name": "Trial9",
         "type": "scatter",
         "x": [
          0,
          1,
          2,
          3,
          4,
          5,
          6,
          7,
          8,
          9,
          10,
          11
         ],
         "y": [
          0.3300663759018144,
          0.6879329292660142,
          0.6036718205903263,
          0.7090685811897208,
          0.6748637263712217,
          0.6896923307034444,
          0.7128976176290172,
          0.5877173069460908,
          0.2689795830276427,
          0.6250527119895157,
          0.5341856765407945,
          0.49236575289455403
         ]
        },
        {
         "marker": {
          "maxdisplayed": 10
         },
         "mode": "lines+markers",
         "name": "Trial10",
         "type": "scatter",
         "x": [
          0,
          1,
          2,
          3,
          4,
          5
         ],
         "y": [
          0.62755161613065,
          0.6603979233703587,
          0.4105701682025546,
          0.3620643998309264,
          0.49064618907788554,
          0.4272999509322092
         ]
        },
        {
         "marker": {
          "maxdisplayed": 10
         },
         "mode": "lines+markers",
         "name": "Trial11",
         "type": "scatter",
         "x": [
          0,
          1,
          2,
          3,
          4,
          5,
          6,
          7,
          8,
          9,
          10,
          11,
          12,
          13,
          14,
          15,
          16,
          17,
          18,
          19,
          20,
          21,
          22,
          23,
          24,
          25,
          26,
          27
         ],
         "y": [
          0.592252001458545,
          0.6290228713971935,
          0.5229919353986647,
          0.3656025451608993,
          0.5993608832246465,
          0.4538960711048985,
          0.4913092344310373,
          0.4952709799115824,
          0.4581971367059847,
          0.5200169743224539,
          0.6504810008008881,
          0.4300817538090653,
          0.4584742118058104,
          0.4759227327752527,
          0.42565009941817045,
          0.44558774143966184,
          0.38124191461250456,
          0.676080592671787,
          0.3997876988518986,
          0.5691573154419948,
          0.39919057377865586,
          0.45414839666690665,
          0.47941170180691733,
          0.5890660724151278,
          0.41958916840043625,
          0.42178929605024873,
          0.4266768022127183,
          0.6143071740113117
         ]
        },
        {
         "marker": {
          "maxdisplayed": 10
         },
         "mode": "lines+markers",
         "name": "Trial12",
         "type": "scatter",
         "x": [
          0,
          1,
          2,
          3,
          4
         ],
         "y": [
          0.6695273946607775,
          0.710062336745601,
          0.70297445765824,
          0.6120122645733904,
          0.5924287944720469
         ]
        },
        {
         "marker": {
          "maxdisplayed": 10
         },
         "mode": "lines+markers",
         "name": "Trial13",
         "type": "scatter",
         "x": [
          0,
          1,
          2,
          3,
          4,
          5,
          6,
          7,
          8
         ],
         "y": [
          0.7186171627077106,
          0.5346061988972615,
          0.5422151252857362,
          0.5448146517315906,
          0.5185052126700144,
          0.5151421523068993,
          0.511904465953101,
          0.5132157356948013,
          0.5127128361774622
         ]
        },
        {
         "marker": {
          "maxdisplayed": 10
         },
         "mode": "lines+markers",
         "name": "Trial14",
         "type": "scatter",
         "x": [
          0,
          1,
          2,
          3,
          4,
          5,
          6
         ],
         "y": [
          0.6455510196962728,
          0.6000744370066888,
          0.5298572683639967,
          0.6637149248545064,
          0.5330898289516224,
          0.4663568168879797,
          0.3467488241237094
         ]
        },
        {
         "marker": {
          "maxdisplayed": 10
         },
         "mode": "lines+markers",
         "name": "Trial15",
         "type": "scatter",
         "x": [
          0,
          1,
          2,
          3,
          4,
          5,
          6,
          7,
          8,
          9
         ],
         "y": [
          0.6053690962009239,
          0.6328109511035378,
          0.33435175556643015,
          0.24349898643906476,
          0.4658589932454725,
          0.6776028310031548,
          0.6650696307142219,
          0.6203506463751087,
          0.5,
          0.5
         ]
        },
        {
         "marker": {
          "maxdisplayed": 10
         },
         "mode": "lines+markers",
         "name": "Trial16",
         "type": "scatter",
         "x": [
          0,
          1,
          2,
          3,
          4,
          5
         ],
         "y": [
          0.6025146069893258,
          0.5658113511626219,
          0.5550588202182845,
          0.5635517900752628,
          0.5859079760363562,
          0.5967807542784095
         ]
        },
        {
         "marker": {
          "maxdisplayed": 10
         },
         "mode": "lines+markers",
         "name": "Trial17",
         "type": "scatter",
         "x": [
          0,
          1,
          2,
          3,
          4,
          5,
          6,
          7,
          8
         ],
         "y": [
          0.6746027993470837,
          0.6516925952575893,
          0.6483998512471822,
          0.47981311869594057,
          0.5990382438079049,
          0.5959134401922708,
          0.4794475108595182,
          0.43094470223861264,
          0.5306852632708869
         ]
        },
        {
         "marker": {
          "maxdisplayed": 10
         },
         "mode": "lines+markers",
         "name": "Trial18",
         "type": "scatter",
         "x": [
          0,
          1,
          2,
          3,
          4,
          5,
          6,
          7,
          8,
          9,
          10,
          11,
          12,
          13,
          14,
          15,
          16,
          17,
          18,
          19,
          20,
          21,
          22
         ],
         "y": [
          0.49315236484644703,
          0.46889883667541954,
          0.470704295933609,
          0.47921168503708456,
          0.49001257216713434,
          0.49976935736279143,
          0.5092636908238017,
          0.5181707503422109,
          0.525529009292242,
          0.5321176010634387,
          0.5358843711287767,
          0.5394133673425044,
          0.542725322869225,
          0.5451615759937519,
          0.547636183297829,
          0.5488150605706623,
          0.5498000858644349,
          0.5498670837283695,
          0.548804910762798,
          0.5479429766386029,
          0.5469677509223909,
          0.5454981184216449,
          0.5432523662673978
         ]
        },
        {
         "marker": {
          "maxdisplayed": 10
         },
         "mode": "lines+markers",
         "name": "Trial19",
         "type": "scatter",
         "x": [
          0,
          1,
          2,
          3,
          4,
          5,
          6,
          7,
          8,
          9,
          10,
          11,
          12,
          13
         ],
         "y": [
          0.7024769319774372,
          0.6987879867712737,
          0.7022871840121878,
          0.6697887072583903,
          0.7263790664272,
          0.6867167049163737,
          0.7004911536181561,
          0.7145839088761212,
          0.7002750252624866,
          0.7130653927035283,
          0.7212744079136629,
          0.28900638565507386,
          0.33442562573730705,
          0.3746362029115495
         ]
        },
        {
         "marker": {
          "maxdisplayed": 10
         },
         "mode": "lines+markers",
         "name": "Trial20",
         "type": "scatter",
         "x": [
          0,
          1,
          2,
          3,
          4
         ],
         "y": [
          0.695261764260044,
          0.6715163339459179,
          0.6252560065725307,
          0.6320349039037038,
          0.6437477396275451
         ]
        },
        {
         "marker": {
          "maxdisplayed": 10
         },
         "mode": "lines+markers",
         "name": "Trial21",
         "type": "scatter",
         "x": [
          0,
          1,
          2,
          3,
          4,
          5,
          6,
          7,
          8
         ],
         "y": [
          0.3718491320068437,
          0.5308392385253959,
          0.5060240367296132,
          0.5005182092117987,
          0.5016020324154206,
          0.5003494272281105,
          0.5007220723671935,
          0.5026948915298756,
          0.5016984225857559
         ]
        },
        {
         "marker": {
          "maxdisplayed": 10
         },
         "mode": "lines+markers",
         "name": "Trial22",
         "type": "scatter",
         "x": [
          0,
          1,
          2,
          3,
          4
         ],
         "y": [
          0.599610368374456,
          0.6360811822913053,
          0.6139651142454581,
          0.6042200881583688,
          0.7305680682934587
         ]
        },
        {
         "marker": {
          "maxdisplayed": 10
         },
         "mode": "lines+markers",
         "name": "Trial23",
         "type": "scatter",
         "x": [
          0,
          1,
          2,
          3,
          4,
          5,
          6,
          7,
          8
         ],
         "y": [
          0.5669535262644914,
          0.5599660975588536,
          0.5292307055263289,
          0.5715020364561398,
          0.6215587380544375,
          0.6349333411197363,
          0.6506988825101442,
          0.6352337345529556,
          0.6093398294859833
         ]
        },
        {
         "marker": {
          "maxdisplayed": 10
         },
         "mode": "lines+markers",
         "name": "Trial24",
         "type": "scatter",
         "x": [
          0,
          1,
          2,
          3,
          4,
          5,
          6,
          7,
          8,
          9,
          10,
          11,
          12,
          13,
          14,
          15
         ],
         "y": [
          0.7120126376173312,
          0.6619395119985427,
          0.6909681942159561,
          0.7227157228898125,
          0.746608484277944,
          0.771127238272361,
          0.7739257274702381,
          0.7828834806820898,
          0.7741856096112668,
          0.7756141066851396,
          0.781753048659996,
          0.7862813169478369,
          0.7826300503320978,
          0.7766908332668705,
          0.7714378400254616,
          0.7725059813225955
         ]
        },
        {
         "marker": {
          "maxdisplayed": 10
         },
         "mode": "lines+markers",
         "name": "Trial25",
         "type": "scatter",
         "x": [
          0,
          1,
          2,
          3,
          4,
          5,
          6,
          7,
          8,
          9,
          10,
          11,
          12,
          13,
          14
         ],
         "y": [
          0.6586483575135482,
          0.5964138050822541,
          0.6367991634150344,
          0.6626438480540694,
          0.6876134672051792,
          0.7035300697218428,
          0.7297460979834329,
          0.7385335426797761,
          0.7525227394731363,
          0.7497117531721575,
          0.754030724968566,
          0.7593442631708894,
          0.7555624516221525,
          0.7570085173097314,
          0.751222179954318
         ]
        },
        {
         "marker": {
          "maxdisplayed": 10
         },
         "mode": "lines+markers",
         "name": "Trial26",
         "type": "scatter",
         "x": [
          0,
          1,
          2,
          3,
          4,
          5,
          6,
          7,
          8,
          9,
          10,
          11,
          12,
          13
         ],
         "y": [
          0.6863173844602376,
          0.6752716880857813,
          0.682653116528012,
          0.7135800657441557,
          0.7422694564681177,
          0.7580316970335566,
          0.7645823953562092,
          0.7643618335398161,
          0.7733010843960064,
          0.7753073724002479,
          0.7809381416246874,
          0.7762531185378333,
          0.7734039350593765,
          0.7730667175465098
         ]
        },
        {
         "marker": {
          "maxdisplayed": 10
         },
         "mode": "lines+markers",
         "name": "Trial27",
         "type": "scatter",
         "x": [
          0,
          1,
          2,
          3
         ],
         "y": [
          0.6991540022596998,
          0.6986577634466057,
          0.6295087581911977,
          0.5907758020531383
         ]
        },
        {
         "marker": {
          "maxdisplayed": 10
         },
         "mode": "lines+markers",
         "name": "Trial28",
         "type": "scatter",
         "x": [
          0,
          1,
          2,
          3,
          4,
          5,
          6,
          7,
          8,
          9,
          10,
          11,
          12,
          13,
          14,
          15,
          16,
          17,
          18,
          19,
          20,
          21,
          22,
          23,
          24,
          25
         ],
         "y": [
          0.41813407043578804,
          0.4251402396471127,
          0.42957764369898443,
          0.4425566186199529,
          0.44938676157367236,
          0.45497170994415626,
          0.4611480248492211,
          0.4642248537932222,
          0.4682246883613755,
          0.4725161036128761,
          0.47865806786233495,
          0.4852402078779085,
          0.48922940943623877,
          0.4924477908424174,
          0.49665891878323754,
          0.5012533525662547,
          0.5048250345889272,
          0.5082816671149777,
          0.5125949565343633,
          0.5150439895400228,
          0.5195239876030219,
          0.5229609057387701,
          0.5251057162778707,
          0.5275501870812364,
          0.5298948411408719,
          0.5346831795235734
         ]
        },
        {
         "marker": {
          "maxdisplayed": 10
         },
         "mode": "lines+markers",
         "name": "Trial29",
         "type": "scatter",
         "x": [
          0,
          1,
          2,
          3,
          4
         ],
         "y": [
          0.6687619713269297,
          0.7032161838645588,
          0.6983990046882865,
          0.6275457769008559,
          0.665949653131862
         ]
        },
        {
         "marker": {
          "maxdisplayed": 10
         },
         "mode": "lines+markers",
         "name": "Trial30",
         "type": "scatter",
         "x": [
          0,
          1,
          2,
          3,
          4,
          5,
          6,
          7,
          8,
          9,
          10,
          11,
          12
         ],
         "y": [
          0.6724962487754395,
          0.7290838009889665,
          0.7326074172919592,
          0.7075681660821983,
          0.7069573616093999,
          0.6832507653619119,
          0.6309431533053186,
          0.6867406298290152,
          0.6645473977555983,
          0.6393356679147855,
          0.6138501994085174,
          0.5769795923340981,
          0.5431372925383544
         ]
        },
        {
         "marker": {
          "maxdisplayed": 10
         },
         "mode": "lines+markers",
         "name": "Trial31",
         "type": "scatter",
         "x": [
          0,
          1,
          2,
          3,
          4
         ],
         "y": [
          0.5494847840532573,
          0.503623836869975,
          0.4889098260002557,
          0.4881506412205187,
          0.36005622082594596
         ]
        },
        {
         "marker": {
          "maxdisplayed": 10
         },
         "mode": "lines+markers",
         "name": "Trial32",
         "type": "scatter",
         "x": [
          0,
          1,
          2,
          3
         ],
         "y": [
          0.7261899901703273,
          0.6705149828239271,
          0.6638334355684916,
          0.6877793092881161
         ]
        },
        {
         "marker": {
          "maxdisplayed": 10
         },
         "mode": "lines+markers",
         "name": "Trial33",
         "type": "scatter",
         "x": [
          0,
          1,
          2,
          3,
          4,
          5,
          6,
          7,
          8
         ],
         "y": [
          0.5748341630384219,
          0.5983380264684537,
          0.6603913188848008,
          0.7018637796825478,
          0.7116865209470575,
          0.7161269182793347,
          0.6676493875403681,
          0.6137293558628378,
          0.5221709925713962
         ]
        },
        {
         "marker": {
          "maxdisplayed": 10
         },
         "mode": "lines+markers",
         "name": "Trial34",
         "type": "scatter",
         "x": [
          0,
          1,
          2,
          3,
          4,
          5,
          6,
          7,
          8,
          9,
          10,
          11,
          12
         ],
         "y": [
          0.6202225890474458,
          0.6581764415034304,
          0.7089515188425957,
          0.754844936549846,
          0.7699303472645482,
          0.7726922504710558,
          0.7800805144654385,
          0.767933836090303,
          0.7847647476538998,
          0.7807052192415229,
          0.7759638164947136,
          0.7636300116395288,
          0.7734178667384656
         ]
        },
        {
         "marker": {
          "maxdisplayed": 10
         },
         "mode": "lines+markers",
         "name": "Trial35",
         "type": "scatter",
         "x": [
          0,
          1,
          2,
          3,
          4,
          5,
          6,
          7,
          8,
          9
         ],
         "y": [
          0.5330819093861485,
          0.5372242141278338,
          0.5670324170030994,
          0.5902107196157075,
          0.6179740547038848,
          0.6463728657192654,
          0.6431007348996617,
          0.6335542530666185,
          0.6297548811730422,
          0.6364976838060417
         ]
        },
        {
         "marker": {
          "maxdisplayed": 10
         },
         "mode": "lines+markers",
         "name": "Trial36",
         "type": "scatter",
         "x": [
          0,
          1,
          2,
          3,
          4,
          5,
          6,
          7,
          8,
          9,
          10,
          11,
          12,
          13,
          14,
          15
         ],
         "y": [
          0.2878290061775206,
          0.27748801424246305,
          0.42497691259466386,
          0.47898030303081424,
          0.5264845138958868,
          0.5896854798448837,
          0.6221671434944296,
          0.6385898937574803,
          0.5852472033669792,
          0.6143898774216606,
          0.6427020132368323,
          0.6070596099169692,
          0.6543559458815593,
          0.6668893704191424,
          0.6569076744990997,
          0.7050614771519159
         ]
        },
        {
         "marker": {
          "maxdisplayed": 10
         },
         "mode": "lines+markers",
         "name": "Trial37",
         "type": "scatter",
         "x": [
          0,
          1,
          2,
          3,
          4,
          5,
          6,
          7,
          8,
          9,
          10,
          11,
          12
         ],
         "y": [
          0.6537092396167848,
          0.6944699897528747,
          0.5331893598488342,
          0.6160277346364045,
          0.6284628908865172,
          0.6752993284328623,
          0.7005531192436896,
          0.6687290824717493,
          0.5669571847772762,
          0.5781032074361643,
          0.6076134926205858,
          0.5615264787300118,
          0.37244353543129877
         ]
        },
        {
         "marker": {
          "maxdisplayed": 10
         },
         "mode": "lines+markers",
         "name": "Trial38",
         "type": "scatter",
         "x": [
          0,
          1,
          2,
          3,
          4,
          5,
          6,
          7,
          8
         ],
         "y": [
          0.5033635751865847,
          0.5689073669245506,
          0.6269454270564531,
          0.6358362239621569,
          0.6301557922560818,
          0.6200860845685113,
          0.6111249995083334,
          0.6030110136045099,
          0.5962724396954996
         ]
        },
        {
         "marker": {
          "maxdisplayed": 10
         },
         "mode": "lines+markers",
         "name": "Trial39",
         "type": "scatter",
         "x": [
          0,
          1,
          2,
          3,
          4,
          5
         ],
         "y": [
          0.523423001233888,
          0.7343225942976593,
          0.5000077356272047,
          0.5000154632860845,
          0.5000074985143763,
          0.5
         ]
        },
        {
         "marker": {
          "maxdisplayed": 10
         },
         "mode": "lines+markers",
         "name": "Trial40",
         "type": "scatter",
         "x": [
          0,
          1,
          2,
          3,
          4,
          5
         ],
         "y": [
          0.47821880912277687,
          0.4871810859486602,
          0.42039933801106494,
          0.35234816400831304,
          0.3497212149339869,
          0.3696210555524809
         ]
        },
        {
         "marker": {
          "maxdisplayed": 10
         },
         "mode": "lines+markers",
         "name": "Trial41",
         "type": "scatter",
         "x": [
          0,
          1,
          2,
          3,
          4,
          5,
          6
         ],
         "y": [
          0.6810578870415985,
          0.712256480457135,
          0.6798139425985057,
          0.5205883115459335,
          0.6137231846638922,
          0.4877338096651261,
          0.7015726629989844
         ]
        },
        {
         "marker": {
          "maxdisplayed": 10
         },
         "mode": "lines+markers",
         "name": "Trial42",
         "type": "scatter",
         "x": [
          0,
          1,
          2,
          3,
          4,
          5
         ],
         "y": [
          0.6664337671107657,
          0.7735821258480853,
          0.787915517626081,
          0.7868212516994678,
          0.7695718954729799,
          0.7830306706522441
         ]
        },
        {
         "marker": {
          "maxdisplayed": 10
         },
         "mode": "lines+markers",
         "name": "Trial43",
         "type": "scatter",
         "x": [
          0,
          1,
          2,
          3,
          4,
          5
         ],
         "y": [
          0.6365042591416965,
          0.6955306360873781,
          0.7046060334082351,
          0.7018777268070162,
          0.6993146779696756,
          0.689972804703333
         ]
        },
        {
         "marker": {
          "maxdisplayed": 10
         },
         "mode": "lines+markers",
         "name": "Trial44",
         "type": "scatter",
         "x": [
          0,
          1,
          2,
          3,
          4,
          5,
          6
         ],
         "y": [
          0.6379109139471358,
          0.6793283541165346,
          0.717578525631699,
          0.7091191445676466,
          0.7077404756887754,
          0.6896126911099613,
          0.7086189511949875
         ]
        },
        {
         "marker": {
          "maxdisplayed": 10
         },
         "mode": "lines+markers",
         "name": "Trial45",
         "type": "scatter",
         "x": [
          0,
          1,
          2,
          3
         ],
         "y": [
          0.6315280677232447,
          0.5838230947439819,
          0.5855455687344625,
          0.5481430306391428
         ]
        },
        {
         "marker": {
          "maxdisplayed": 10
         },
         "mode": "lines+markers",
         "name": "Trial46",
         "type": "scatter",
         "x": [
          0,
          1,
          2,
          3,
          4,
          5,
          6,
          7,
          8,
          9
         ],
         "y": [
          0.5882950157417951,
          0.6530621782118087,
          0.7171099144183446,
          0.7587691480989042,
          0.7717976139421076,
          0.7729703279300655,
          0.761566927153425,
          0.7724009961192712,
          0.7700385152046687,
          0.763439433707301
         ]
        },
        {
         "marker": {
          "maxdisplayed": 10
         },
         "mode": "lines+markers",
         "name": "Trial47",
         "type": "scatter",
         "x": [
          0,
          1,
          2,
          3,
          4,
          5,
          6,
          7,
          8,
          9,
          10,
          11
         ],
         "y": [
          0.5991269988617933,
          0.6403411931914845,
          0.6839489749819537,
          0.7261442963086095,
          0.738420164910061,
          0.7424227625948155,
          0.7361696967485186,
          0.73855499607942,
          0.7558420958556619,
          0.7468919669715156,
          0.7354353991403174,
          0.7286186090044763
         ]
        },
        {
         "marker": {
          "maxdisplayed": 10
         },
         "mode": "lines+markers",
         "name": "Trial48",
         "type": "scatter",
         "x": [
          0,
          1,
          2,
          3,
          4,
          5,
          6,
          7,
          8
         ],
         "y": [
          0.6395168966230976,
          0.7309579419917538,
          0.7604014544867156,
          0.7584707625388505,
          0.7752669804925297,
          0.7554169666158199,
          0.744455714595142,
          0.7498102327857985,
          0.7233701507964557
         ]
        },
        {
         "marker": {
          "maxdisplayed": 10
         },
         "mode": "lines+markers",
         "name": "Trial49",
         "type": "scatter",
         "x": [
          0,
          1,
          2,
          3,
          4,
          5,
          6
         ],
         "y": [
          0.6127708929456592,
          0.6739130560119545,
          0.6661207621683407,
          0.6333446728436789,
          0.5929044957369597,
          0.5667574760905908,
          0.558273749195129
         ]
        },
        {
         "marker": {
          "maxdisplayed": 10
         },
         "mode": "lines+markers",
         "name": "Trial50",
         "type": "scatter",
         "x": [
          0,
          1,
          2,
          3,
          4,
          5,
          6,
          7,
          8,
          9,
          10,
          11,
          12,
          13
         ],
         "y": [
          0.5367790134350413,
          0.4879815835766754,
          0.4898860091849632,
          0.5093662679903838,
          0.5328422434771483,
          0.5218367796306583,
          0.5722681523259836,
          0.7214194913150258,
          0.6806937199829709,
          0.6477824672741026,
          0.6335542365599415,
          0.6410511409307532,
          0.628385549223533,
          0.6165295165784996
         ]
        },
        {
         "marker": {
          "maxdisplayed": 10
         },
         "mode": "lines+markers",
         "name": "Trial51",
         "type": "scatter",
         "x": [
          0,
          1,
          2,
          3,
          4,
          5,
          6
         ],
         "y": [
          0.7557447787720423,
          0.772420773599537,
          0.7823547777015294,
          0.7413186714578497,
          0.7617681515916039,
          0.6563113186549117,
          0.6754006191747083
         ]
        },
        {
         "marker": {
          "maxdisplayed": 10
         },
         "mode": "lines+markers",
         "name": "Trial52",
         "type": "scatter",
         "x": [
          0,
          1,
          2,
          3,
          4,
          5,
          6,
          7
         ],
         "y": [
          0.7345384324502765,
          0.7534207940222005,
          0.7536955437605939,
          0.7736781005509697,
          0.7245388636819956,
          0.6965277316159172,
          0.6544519590828635,
          0.6596513250123597
         ]
        },
        {
         "marker": {
          "maxdisplayed": 10
         },
         "mode": "lines+markers",
         "name": "Trial53",
         "type": "scatter",
         "x": [
          0,
          1,
          2,
          3,
          4
         ],
         "y": [
          0.504567391124491,
          0.46399463782140377,
          0.4896672456518962,
          0.4832897272046248,
          0.4405074029844226
         ]
        },
        {
         "marker": {
          "maxdisplayed": 10
         },
         "mode": "lines+markers",
         "name": "Trial54",
         "type": "scatter",
         "x": [
          0,
          1,
          2,
          3
         ],
         "y": [
          0.8094738582561452,
          0.7545547684018906,
          0.6607968076776927,
          0.6533793715407499
         ]
        },
        {
         "marker": {
          "maxdisplayed": 10
         },
         "mode": "lines+markers",
         "name": "Trial55",
         "type": "scatter",
         "x": [
          0,
          1,
          2,
          3,
          4
         ],
         "y": [
          0.3687112443522537,
          0.3913452323913091,
          0.3287262075800648,
          0.32170599679102374,
          0.3813471597587123
         ]
        },
        {
         "marker": {
          "maxdisplayed": 10
         },
         "mode": "lines+markers",
         "name": "Trial56",
         "type": "scatter",
         "x": [
          0,
          1,
          2,
          3,
          4
         ],
         "y": [
          0.7691500125772992,
          0.7884939954508872,
          0.7715687120432576,
          0.676840870013769,
          0.674698806763279
         ]
        },
        {
         "marker": {
          "maxdisplayed": 10
         },
         "mode": "lines+markers",
         "name": "Trial57",
         "type": "scatter",
         "x": [
          0,
          1,
          2,
          3,
          4,
          5,
          6,
          7,
          8,
          9,
          10,
          11,
          12,
          13,
          14,
          15,
          16,
          17,
          18,
          19,
          20,
          21,
          22,
          23
         ],
         "y": [
          0.3187114800336372,
          0.3302374238100117,
          0.36007495539730267,
          0.39461361888826135,
          0.42433510552057757,
          0.4481583230588333,
          0.4679839737325736,
          0.48543219278900807,
          0.5016178684058235,
          0.5163502737894664,
          0.529055111193444,
          0.5401131122899594,
          0.5492588212846535,
          0.556893021359854,
          0.5632308813068564,
          0.5684092506855908,
          0.5728916857848492,
          0.5761804133481403,
          0.5793121085783177,
          0.5819267787914493,
          0.5836908747944966,
          0.5852515461808686,
          0.58605239834622,
          0.5869692130472782
         ]
        },
        {
         "marker": {
          "maxdisplayed": 10
         },
         "mode": "lines+markers",
         "name": "Trial58",
         "type": "scatter",
         "x": [
          0,
          1,
          2,
          3,
          4,
          5,
          6,
          7,
          8,
          9,
          10,
          11,
          12
         ],
         "y": [
          0.6323874487496344,
          0.642392010978933,
          0.669240763174526,
          0.6083071547001468,
          0.6953044509753986,
          0.6479493242537582,
          0.6901080676121739,
          0.6592551119822454,
          0.596036176124644,
          0.6286069933855012,
          0.6010923414404318,
          0.5165295579139648,
          0.5304047527139263
         ]
        },
        {
         "marker": {
          "maxdisplayed": 10
         },
         "mode": "lines+markers",
         "name": "Trial59",
         "type": "scatter",
         "x": [
          0,
          1,
          2,
          3
         ],
         "y": [
          0.6739337755768978,
          0.5096556014558978,
          0.5007599916721097,
          0.29536176671875675
         ]
        },
        {
         "marker": {
          "maxdisplayed": 10
         },
         "mode": "lines+markers",
         "name": "Trial60",
         "type": "scatter",
         "x": [
          0,
          1,
          2,
          3,
          4,
          5,
          6,
          7,
          8,
          9,
          10,
          11,
          12,
          13,
          14,
          15,
          16,
          17,
          18,
          19,
          20,
          21,
          22,
          23,
          24,
          25,
          26
         ],
         "y": [
          0.6725614550162835,
          0.6511401598205491,
          0.6726392647320999,
          0.6286739153165349,
          0.6738552946900407,
          0.6168287772118278,
          0.6782958287243013,
          0.6166463329865893,
          0.6024757165440771,
          0.6085732211924212,
          0.6723452646952693,
          0.6143833868854407,
          0.5857848516256408,
          0.6400587378895719,
          0.680812420553462,
          0.702130671700853,
          0.6008559380158371,
          0.694203548728465,
          0.6953214011953455,
          0.5985758403741259,
          0.6994386950932304,
          0.6259408851290017,
          0.6871545969746886,
          0.6686411766124991,
          0.7135457898558082,
          0.708447840568564,
          0.6629810820378002
         ]
        },
        {
         "marker": {
          "maxdisplayed": 10
         },
         "mode": "lines+markers",
         "name": "Trial61",
         "type": "scatter",
         "x": [
          0,
          1,
          2,
          3
         ],
         "y": [
          0.5887992139498675,
          0.5161484965303021,
          0.576853828237201,
          0.5401513029533673
         ]
        },
        {
         "marker": {
          "maxdisplayed": 10
         },
         "mode": "lines+markers",
         "name": "Trial62",
         "type": "scatter",
         "x": [
          0,
          1,
          2,
          3,
          4
         ],
         "y": [
          0.6995832510589841,
          0.7789619816556428,
          0.7377820619620901,
          0.7717795336780069,
          0.737602895804784
         ]
        },
        {
         "marker": {
          "maxdisplayed": 10
         },
         "mode": "lines+markers",
         "name": "Trial64",
         "type": "scatter",
         "x": [
          0,
          1,
          2,
          3,
          4
         ],
         "y": [
          0.7792110758879206,
          0.7855167999110049,
          0.7646809247592984,
          0.7622656214025668,
          0.7801862566784176
         ]
        },
        {
         "marker": {
          "maxdisplayed": 10
         },
         "mode": "lines+markers",
         "name": "Trial65",
         "type": "scatter",
         "x": [
          0,
          1,
          2,
          3,
          4,
          5,
          6,
          7,
          8,
          9,
          10,
          11,
          12,
          13,
          14,
          15,
          16,
          17,
          18,
          19,
          20
         ],
         "y": [
          0.6712423160032821,
          0.7019115889489599,
          0.7250265653108227,
          0.7099423091080984,
          0.7670374449751,
          0.7278674720806549,
          0.7768125169109305,
          0.7635376347908635,
          0.7968960939760851,
          0.779545756316354,
          0.7775777712844418,
          0.7593851032329396,
          0.8139395836378258,
          0.7805394184911749,
          0.8265970850234234,
          0.8243563677786236,
          0.8483484074752137,
          0.828495762842321,
          0.8191119453516723,
          0.7657120774434518,
          0.7859697412362809
         ]
        },
        {
         "marker": {
          "maxdisplayed": 10
         },
         "mode": "lines+markers",
         "name": "Trial66",
         "type": "scatter",
         "x": [
          0,
          1,
          2,
          3,
          4,
          5,
          6,
          7,
          8,
          9,
          10,
          11,
          12,
          13,
          14,
          15,
          16,
          17
         ],
         "y": [
          0.689677875211348,
          0.6779147224791884,
          0.6601493797324213,
          0.6664301244928601,
          0.6535923528236217,
          0.7336926617763163,
          0.7480283579576448,
          0.7550275321774428,
          0.7565677413678901,
          0.7655386049954538,
          0.7684276471889776,
          0.77112115178115,
          0.7712843497094559,
          0.7779626062099397,
          0.779053030715003,
          0.7752413843972631,
          0.7761741871025674,
          0.7717211701523623
         ]
        },
        {
         "marker": {
          "maxdisplayed": 10
         },
         "mode": "lines+markers",
         "name": "Trial67",
         "type": "scatter",
         "x": [
          0,
          1,
          2,
          3,
          4,
          5,
          6
         ],
         "y": [
          0.6918248993570468,
          0.7492758124686305,
          0.751487075814067,
          0.7514216586734489,
          0.7311163514771667,
          0.7379033204536539,
          0.7470465487400887
         ]
        },
        {
         "marker": {
          "maxdisplayed": 10
         },
         "mode": "lines+markers",
         "name": "Trial68",
         "type": "scatter",
         "x": [
          0,
          1,
          2,
          3,
          4,
          5,
          6,
          7,
          8,
          9,
          10,
          11,
          12,
          13,
          14
         ],
         "y": [
          0.34966879879237767,
          0.4549465595696195,
          0.5096960301906233,
          0.643224776380495,
          0.7116239180771765,
          0.6421942377087544,
          0.7932080021632318,
          0.7199747961267133,
          0.7751377374530011,
          0.8077156790189788,
          0.7070585632489725,
          0.7019361885051513,
          0.7617882249754608,
          0.7361084039708656,
          0.7535795157956715
         ]
        },
        {
         "marker": {
          "maxdisplayed": 10
         },
         "mode": "lines+markers",
         "name": "Trial69",
         "type": "scatter",
         "x": [
          0,
          1,
          2,
          3,
          4,
          5
         ],
         "y": [
          0.7634335979492188,
          0.7623719428299588,
          0.7334325646826135,
          0.7484422528339134,
          0.7201785985421769,
          0.707938243315554
         ]
        },
        {
         "marker": {
          "maxdisplayed": 10
         },
         "mode": "lines+markers",
         "name": "Trial70",
         "type": "scatter",
         "x": [
          0,
          1,
          2,
          3,
          4,
          5,
          6,
          7,
          8,
          9
         ],
         "y": [
          0.3816289664205035,
          0.41603895195931306,
          0.5069139844385121,
          0.5702468980725973,
          0.5955970639315662,
          0.38514271124111477,
          0.581516816838961,
          0.560162780390743,
          0.577904711172514,
          0.5062854318925962
         ]
        },
        {
         "marker": {
          "maxdisplayed": 10
         },
         "mode": "lines+markers",
         "name": "Trial71",
         "type": "scatter",
         "x": [
          0,
          1,
          2,
          3,
          4,
          5,
          6,
          7,
          8,
          9,
          10
         ],
         "y": [
          0.25519472355247685,
          0.39464106125533477,
          0.4956788970735488,
          0.5107496689858845,
          0.5670955856487354,
          0.5030296859657838,
          0.6256774435040111,
          0.6584551649711244,
          0.6337165259830323,
          0.616331245770318,
          0.6452583559360492
         ]
        },
        {
         "marker": {
          "maxdisplayed": 10
         },
         "mode": "lines+markers",
         "name": "Trial72",
         "type": "scatter",
         "x": [
          0,
          1,
          2,
          3,
          4,
          5,
          6,
          7,
          8,
          9
         ],
         "y": [
          0.7889980178105336,
          0.7807459698594933,
          0.8152531865874189,
          0.7883065923497933,
          0.7667209106697653,
          0.7943729737315418,
          0.7019965710764061,
          0.7268123309571773,
          0.6550115041710579,
          0.6580664957667769
         ]
        },
        {
         "marker": {
          "maxdisplayed": 10
         },
         "mode": "lines+markers",
         "name": "Trial73",
         "type": "scatter",
         "x": [
          0,
          1,
          2,
          3,
          4,
          5,
          6,
          7,
          8,
          9,
          10,
          11,
          12,
          13,
          14,
          15,
          16
         ],
         "y": [
          0.6357215668288756,
          0.681112969915228,
          0.701302034684333,
          0.7430002932438833,
          0.7447301978695646,
          0.7710829460242108,
          0.753178430255209,
          0.7778655042273104,
          0.8034714373774143,
          0.8122768312015576,
          0.7615641233408823,
          0.7437367169166653,
          0.7281850774377997,
          0.8064426723514483,
          0.7615126369875715,
          0.7749228610137417,
          0.776154740206697
         ]
        },
        {
         "marker": {
          "maxdisplayed": 10
         },
         "mode": "lines+markers",
         "name": "Trial74",
         "type": "scatter",
         "x": [
          0,
          1,
          2,
          3,
          4,
          5,
          6,
          7,
          8,
          9,
          10,
          11,
          12,
          13,
          14,
          15,
          16
         ],
         "y": [
          0.80432415001663,
          0.8119746054468506,
          0.8234646093081252,
          0.8146408541494271,
          0.8319255004195587,
          0.838028079740779,
          0.8167928422142463,
          0.8334432022776156,
          0.8254223759596969,
          0.8384501111656448,
          0.8130706851700599,
          0.80126943081159,
          0.7867737261127241,
          0.7801344816608615,
          0.7702394251239386,
          0.7874799414424878,
          0.8107550890501672
         ]
        },
        {
         "marker": {
          "maxdisplayed": 10
         },
         "mode": "lines+markers",
         "name": "Trial75",
         "type": "scatter",
         "x": [
          0,
          1,
          2,
          3,
          4,
          5,
          6,
          7,
          8,
          9,
          10,
          11,
          12
         ],
         "y": [
          0.7857987364268513,
          0.8288315288631526,
          0.8201766293882952,
          0.8359506994027199,
          0.8302254843368148,
          0.8457139960255813,
          0.8091552461422115,
          0.7953931911790983,
          0.786360531007221,
          0.7977165719756115,
          0.8065751759077741,
          0.7614845362682472,
          0.7761229278364474
         ]
        },
        {
         "marker": {
          "maxdisplayed": 10
         },
         "mode": "lines+markers",
         "name": "Trial76",
         "type": "scatter",
         "x": [
          0,
          1,
          2,
          3,
          4,
          5,
          6,
          7
         ],
         "y": [
          0.8025987853325217,
          0.8156840435597565,
          0.8108262668939997,
          0.7995257285359371,
          0.6876756508472176,
          0.7330214554827048,
          0.6746446982176869,
          0.6824908894854019
         ]
        },
        {
         "marker": {
          "maxdisplayed": 10
         },
         "mode": "lines+markers",
         "name": "Trial77",
         "type": "scatter",
         "x": [
          0,
          1,
          2,
          3,
          4,
          5,
          6,
          7,
          8,
          9,
          10,
          11,
          12
         ],
         "y": [
          0.7790973639448906,
          0.7781713162540305,
          0.754542411479287,
          0.7425782519074382,
          0.7908953021897556,
          0.7970922607677269,
          0.740865679631689,
          0.7357881123532211,
          0.7807755950431655,
          0.7509952064938936,
          0.8030439280364414,
          0.8377082751067266,
          0.7381408850725937
         ]
        },
        {
         "marker": {
          "maxdisplayed": 10
         },
         "mode": "lines+markers",
         "name": "Trial79",
         "type": "scatter",
         "x": [
          0,
          1,
          2,
          3,
          4,
          5,
          6,
          7,
          8,
          9,
          10
         ],
         "y": [
          0.7973073095900184,
          0.8051680839638161,
          0.8048053419508098,
          0.8477494432619669,
          0.8075569384070619,
          0.79627611210965,
          0.75630957348563,
          0.757390707070024,
          0.7443802073536753,
          0.7686400332325048,
          0.7734125984749192
         ]
        },
        {
         "marker": {
          "maxdisplayed": 10
         },
         "mode": "lines+markers",
         "name": "Trial80",
         "type": "scatter",
         "x": [
          0,
          1,
          2,
          3,
          4,
          5,
          6,
          7,
          8,
          9,
          10,
          11,
          12,
          13,
          14,
          15,
          16,
          17,
          18,
          19,
          20,
          21,
          22,
          23
         ],
         "y": [
          0.5440183630687041,
          0.6372777965423347,
          0.6864602604772657,
          0.7437646135295749,
          0.7333220343393541,
          0.7221655963927157,
          0.7087068628221037,
          0.7438635561382048,
          0.7812528373543821,
          0.6703843093784064,
          0.7067725997675544,
          0.7616273566905896,
          0.7365020387279559,
          0.657589358589942,
          0.7813941620369609,
          0.7769013107799863,
          0.7816990458978567,
          0.7194754654366824,
          0.7104283006440778,
          0.7145381998662064,
          0.6526326747818607,
          0.7461979792583956,
          0.6780239154388309,
          0.7091567714102275
         ]
        },
        {
         "marker": {
          "maxdisplayed": 10
         },
         "mode": "lines+markers",
         "name": "Trial81",
         "type": "scatter",
         "x": [
          0,
          1,
          2,
          3,
          4,
          5,
          6,
          7,
          8,
          9,
          10,
          11
         ],
         "y": [
          0.4909897861171344,
          0.43093801825801825,
          0.33728558283862675,
          0.6261162513214954,
          0.6517868182556946,
          0.5833160670224983,
          0.5141167498568442,
          0.5042564586330865,
          0.6232398468705507,
          0.5894410363899522,
          0.5160686627887474,
          0.4853115138101626
         ]
        },
        {
         "marker": {
          "maxdisplayed": 10
         },
         "mode": "lines+markers",
         "name": "Trial82",
         "type": "scatter",
         "x": [
          0,
          1,
          2,
          3,
          4,
          5,
          6,
          7
         ],
         "y": [
          0.7180838606350498,
          0.721938543935232,
          0.466608187558517,
          0.38134480024006306,
          0.6200461270213461,
          0.6965181408737039,
          0.5532782014909429,
          0.6557987133821338
         ]
        },
        {
         "marker": {
          "maxdisplayed": 10
         },
         "mode": "lines+markers",
         "name": "Trial83",
         "type": "scatter",
         "x": [
          0,
          1,
          2,
          3,
          4,
          5,
          6,
          7,
          8,
          9,
          10,
          11,
          12,
          13,
          14,
          15,
          16,
          17,
          18,
          19,
          20,
          21,
          22,
          23,
          24,
          25,
          26,
          27,
          28
         ],
         "y": [
          0.6389201849618349,
          0.7436313569702648,
          0.7357583117379762,
          0.7543477942980868,
          0.7574286188805578,
          0.7582243591734055,
          0.7574400952061906,
          0.7526253497228895,
          0.7587081251398481,
          0.7559475347637566,
          0.7450968922487387,
          0.7641690972426232,
          0.7638480866247922,
          0.7627607833576983,
          0.7654409616990921,
          0.76080280792769,
          0.7664916211926116,
          0.7693389128083621,
          0.7725359936836114,
          0.7812169237668191,
          0.7826343722344459,
          0.7709478646981252,
          0.7818376775618655,
          0.7841451936771037,
          0.7980268616248379,
          0.7927130179995343,
          0.8054736337756573,
          0.8078345394833079,
          0.8126650043504892
         ]
        },
        {
         "marker": {
          "maxdisplayed": 10
         },
         "mode": "lines+markers",
         "name": "Trial84",
         "type": "scatter",
         "x": [
          0,
          1,
          2,
          3,
          4,
          5,
          6,
          7,
          8,
          9,
          10,
          11,
          12,
          13,
          14,
          15
         ],
         "y": [
          0.40330887676278393,
          0.5019956421433553,
          0.4389449670259641,
          0.4159960600907987,
          0.500781508631541,
          0.5006385577368632,
          0.500362396552084,
          0.5071610144959047,
          0.5005049644211458,
          0.5001836520647325,
          0.5004385245090252,
          0.5002084180947219,
          0.5001957804561465,
          0.5001779080010734,
          0.5001599399979493,
          0.5005123087674472
         ]
        },
        {
         "marker": {
          "maxdisplayed": 10
         },
         "mode": "lines+markers",
         "name": "Trial85",
         "type": "scatter",
         "x": [
          0,
          1,
          2,
          3,
          4,
          5,
          6,
          7,
          8,
          9,
          10,
          11,
          12,
          13,
          14,
          15,
          16,
          17,
          18,
          19
         ],
         "y": [
          0.7331131071343895,
          0.7253707072911327,
          0.7439052494719336,
          0.7358523133679424,
          0.7410702256832054,
          0.7304001669706969,
          0.7451067419883235,
          0.7364755466487515,
          0.7493679385649104,
          0.7576371396019211,
          0.7576814428969415,
          0.7621949838164332,
          0.7606943788770701,
          0.7192279547663952,
          0.6880365921699378,
          0.7262890571830922,
          0.7291422235040961,
          0.6781382173894545,
          0.6863775994015415,
          0.7092823332357541
         ]
        },
        {
         "marker": {
          "maxdisplayed": 10
         },
         "mode": "lines+markers",
         "name": "Trial86",
         "type": "scatter",
         "x": [
          0,
          1,
          2,
          3,
          4,
          5,
          6,
          7,
          8,
          9
         ],
         "y": [
          0.8038789922819549,
          0.8012820740025536,
          0.821293285482163,
          0.7488237976345244,
          0.7681730368950863,
          0.746291191525946,
          0.7207797126909207,
          0.7633111632042572,
          0.6840926736171453,
          0.6469004922264728
         ]
        },
        {
         "marker": {
          "maxdisplayed": 10
         },
         "mode": "lines+markers",
         "name": "Trial87",
         "type": "scatter",
         "x": [
          0,
          1,
          2,
          3,
          4,
          5,
          6,
          7
         ],
         "y": [
          0.8019071987072302,
          0.8140812884533711,
          0.7670770674106691,
          0.6919999119594346,
          0.7136413512642874,
          0.7138463140210554,
          0.6940274462459082,
          0.6890046564268326
         ]
        },
        {
         "marker": {
          "maxdisplayed": 10
         },
         "mode": "lines+markers",
         "name": "Trial88",
         "type": "scatter",
         "x": [
          0,
          1,
          2,
          3,
          4,
          5,
          6,
          7,
          8,
          9
         ],
         "y": [
          0.8050712130421891,
          0.8449385060671676,
          0.8494973313112896,
          0.8724679230163345,
          0.8504415296150596,
          0.8488611774201831,
          0.8381609154185212,
          0.8544748811798472,
          0.8475905536804212,
          0.8313218655515341
         ]
        },
        {
         "marker": {
          "maxdisplayed": 10
         },
         "mode": "lines+markers",
         "name": "Trial89",
         "type": "scatter",
         "x": [
          0,
          1,
          2,
          3,
          4,
          5,
          6,
          7,
          8,
          9,
          10,
          11,
          12,
          13,
          14,
          15,
          16,
          17,
          18,
          19,
          20,
          21
         ],
         "y": [
          0.6978123902674876,
          0.6790882994284407,
          0.6811091629839685,
          0.7145533050472721,
          0.7355482632817218,
          0.727751477574795,
          0.7672754473372442,
          0.7608862293476246,
          0.7779886694308868,
          0.7669253191385026,
          0.76412737054634,
          0.7848989156423498,
          0.7749907950911535,
          0.7463762667321845,
          0.7617453875117763,
          0.7930582136607406,
          0.7663355144084877,
          0.7666022002188045,
          0.7652321608215009,
          0.7659796147643345,
          0.7600170609696716,
          0.7892059057289433
         ]
        },
        {
         "marker": {
          "maxdisplayed": 10
         },
         "mode": "lines+markers",
         "name": "Trial90",
         "type": "scatter",
         "x": [
          0,
          1,
          2,
          3,
          4,
          5,
          6,
          7,
          8,
          9,
          10,
          11
         ],
         "y": [
          0.788476437065641,
          0.8218188723335049,
          0.7759549802175921,
          0.7793549965082321,
          0.7559251659466351,
          0.8282909920047322,
          0.7286958486454749,
          0.7341148439009613,
          0.7977595087344649,
          0.7304667273304964,
          0.7044349663687657,
          0.6798361410681805
         ]
        },
        {
         "marker": {
          "maxdisplayed": 10
         },
         "mode": "lines+markers",
         "name": "Trial91",
         "type": "scatter",
         "x": [
          0,
          1,
          2,
          3,
          4,
          5,
          6,
          7,
          8,
          9,
          10,
          11,
          12,
          13,
          14
         ],
         "y": [
          0.824512184291332,
          0.8217211879958228,
          0.8324820914674365,
          0.8318015871552136,
          0.8306323054301865,
          0.8505698200947778,
          0.8344422708541971,
          0.852835353439249,
          0.8624218292677636,
          0.8389895226061387,
          0.8501185228693416,
          0.8389025136909383,
          0.8349253069725678,
          0.8235732904401818,
          0.8202607604422812
         ]
        },
        {
         "marker": {
          "maxdisplayed": 10
         },
         "mode": "lines+markers",
         "name": "Trial92",
         "type": "scatter",
         "x": [
          0,
          1,
          2,
          3,
          4,
          5,
          6,
          7,
          8,
          9
         ],
         "y": [
          0.7678621499785279,
          0.8266079676496346,
          0.8116858938617142,
          0.8381040826914308,
          0.8291543640522557,
          0.8349726711770263,
          0.8162277202310533,
          0.8115337631909807,
          0.7722626369475071,
          0.7982205033539531
         ]
        },
        {
         "marker": {
          "maxdisplayed": 10
         },
         "mode": "lines+markers",
         "name": "Trial93",
         "type": "scatter",
         "x": [
          0,
          1,
          2,
          3,
          4,
          5,
          6,
          7,
          8,
          9,
          10,
          11,
          12,
          13,
          14,
          15,
          16,
          17
         ],
         "y": [
          0.7642955926328895,
          0.7809989785960245,
          0.7899397634631944,
          0.8034997687793412,
          0.8106862090033244,
          0.8081586869142211,
          0.8027318274695142,
          0.7942686696158605,
          0.7735910611391003,
          0.8101628185383417,
          0.7863048613993463,
          0.8141943952736287,
          0.7443767510792335,
          0.7644416749495097,
          0.7288161161643179,
          0.7009588052737019,
          0.7784805662911499,
          0.7894053735242412
         ]
        },
        {
         "marker": {
          "maxdisplayed": 10
         },
         "mode": "lines+markers",
         "name": "Trial94",
         "type": "scatter",
         "x": [
          0,
          1,
          2,
          3,
          4,
          5,
          6,
          7,
          8,
          9,
          10,
          11,
          12,
          13,
          14,
          15
         ],
         "y": [
          0.8004303808807094,
          0.8208040032993756,
          0.8151626615867558,
          0.8310817959055975,
          0.8074150933204691,
          0.8127361787706988,
          0.832526965234519,
          0.8191840528605387,
          0.7796506915033724,
          0.8367709798709634,
          0.7922249225175653,
          0.8169533103796902,
          0.7575454165218158,
          0.7872711153806692,
          0.759312395704529,
          0.7710427701033913
         ]
        },
        {
         "marker": {
          "maxdisplayed": 10
         },
         "mode": "lines+markers",
         "name": "Trial95",
         "type": "scatter",
         "x": [
          0,
          1,
          2,
          3,
          4,
          5,
          6,
          7,
          8,
          9,
          10
         ],
         "y": [
          0.7907525360271774,
          0.8215524319327483,
          0.7998946514408625,
          0.8187204604123094,
          0.8253315136947396,
          0.7904663877785149,
          0.7071234380600245,
          0.7103620718257798,
          0.7519818392243359,
          0.677162108442317,
          0.6539937308605771
         ]
        },
        {
         "marker": {
          "maxdisplayed": 10
         },
         "mode": "lines+markers",
         "name": "Trial96",
         "type": "scatter",
         "x": [
          0,
          1,
          2,
          3,
          4,
          5,
          6,
          7,
          8,
          9
         ],
         "y": [
          0.794276761955813,
          0.828217541167776,
          0.8202390300979957,
          0.8266303763320992,
          0.8236040119935975,
          0.822073890456461,
          0.7931151653341119,
          0.8008603725239493,
          0.8053974239186374,
          0.8223943543732414
         ]
        },
        {
         "marker": {
          "maxdisplayed": 10
         },
         "mode": "lines+markers",
         "name": "Trial97",
         "type": "scatter",
         "x": [
          0,
          1,
          2,
          3,
          4,
          5,
          6,
          7,
          8,
          9,
          10,
          11,
          12,
          13
         ],
         "y": [
          0.7902668434049147,
          0.7157404727657423,
          0.7023307123556956,
          0.7559584047675111,
          0.8000338834641838,
          0.8246092149081106,
          0.8292828689826155,
          0.8565449708657737,
          0.8539470498793943,
          0.8452325348990981,
          0.8077785197980527,
          0.8451884395772823,
          0.8411690081270764,
          0.829342394973169
         ]
        },
        {
         "marker": {
          "maxdisplayed": 10
         },
         "mode": "lines+markers",
         "name": "Trial98",
         "type": "scatter",
         "x": [
          0,
          1,
          2,
          3,
          4,
          5,
          6,
          7,
          8,
          9,
          10
         ],
         "y": [
          0.800520233619187,
          0.7984566116540543,
          0.8054462921736593,
          0.8243797705212511,
          0.837410153772493,
          0.8377138982137466,
          0.825259780433763,
          0.8233461681829932,
          0.8157958988384436,
          0.822975408543685,
          0.8028484474541754
         ]
        },
        {
         "marker": {
          "maxdisplayed": 10
         },
         "mode": "lines+markers",
         "name": "Trial99",
         "type": "scatter",
         "x": [
          0,
          1,
          2,
          3,
          4,
          5,
          6,
          7,
          8,
          9
         ],
         "y": [
          0.7938682890671217,
          0.7331370250467244,
          0.8166775508454612,
          0.834626221969323,
          0.8169875481671985,
          0.8491192852984957,
          0.8146182618487278,
          0.8334391864789191,
          0.8003745074415244,
          0.8261717883418047
         ]
        },
        {
         "marker": {
          "maxdisplayed": 10
         },
         "mode": "lines+markers",
         "name": "Trial100",
         "type": "scatter",
         "x": [
          0,
          1,
          2,
          3,
          4,
          5,
          6,
          7,
          8,
          9,
          10,
          11
         ],
         "y": [
          0.7762724797412137,
          0.8345866800504682,
          0.8349427135058224,
          0.8395469080216559,
          0.8528947507641588,
          0.8149793206056206,
          0.8424147948629814,
          0.8040404145241442,
          0.789358559573446,
          0.7702878684905925,
          0.7530815650978493,
          0.7608530824795028
         ]
        },
        {
         "marker": {
          "maxdisplayed": 10
         },
         "mode": "lines+markers",
         "name": "Trial101",
         "type": "scatter",
         "x": [
          0,
          1,
          2,
          3,
          4,
          5,
          6,
          7,
          8,
          9,
          10,
          11,
          12,
          13
         ],
         "y": [
          0.7724680828175564,
          0.7929201947558104,
          0.8074845162893624,
          0.7960036191337506,
          0.8011410790136497,
          0.8131408900353214,
          0.8064340762320792,
          0.7867882370991632,
          0.7663262078463096,
          0.7764665240709475,
          0.7862666727838618,
          0.7392357420048086,
          0.771975455626629,
          0.7910423443614087
         ]
        }
       ],
       "layout": {
        "showlegend": false,
        "template": {
         "data": {
          "bar": [
           {
            "error_x": {
             "color": "#2a3f5f"
            },
            "error_y": {
             "color": "#2a3f5f"
            },
            "marker": {
             "line": {
              "color": "#E5ECF6",
              "width": 0.5
             }
            },
            "type": "bar"
           }
          ],
          "barpolar": [
           {
            "marker": {
             "line": {
              "color": "#E5ECF6",
              "width": 0.5
             }
            },
            "type": "barpolar"
           }
          ],
          "carpet": [
           {
            "aaxis": {
             "endlinecolor": "#2a3f5f",
             "gridcolor": "white",
             "linecolor": "white",
             "minorgridcolor": "white",
             "startlinecolor": "#2a3f5f"
            },
            "baxis": {
             "endlinecolor": "#2a3f5f",
             "gridcolor": "white",
             "linecolor": "white",
             "minorgridcolor": "white",
             "startlinecolor": "#2a3f5f"
            },
            "type": "carpet"
           }
          ],
          "choropleth": [
           {
            "colorbar": {
             "outlinewidth": 0,
             "ticks": ""
            },
            "type": "choropleth"
           }
          ],
          "contour": [
           {
            "colorbar": {
             "outlinewidth": 0,
             "ticks": ""
            },
            "colorscale": [
             [
              0,
              "#0d0887"
             ],
             [
              0.1111111111111111,
              "#46039f"
             ],
             [
              0.2222222222222222,
              "#7201a8"
             ],
             [
              0.3333333333333333,
              "#9c179e"
             ],
             [
              0.4444444444444444,
              "#bd3786"
             ],
             [
              0.5555555555555556,
              "#d8576b"
             ],
             [
              0.6666666666666666,
              "#ed7953"
             ],
             [
              0.7777777777777778,
              "#fb9f3a"
             ],
             [
              0.8888888888888888,
              "#fdca26"
             ],
             [
              1,
              "#f0f921"
             ]
            ],
            "type": "contour"
           }
          ],
          "contourcarpet": [
           {
            "colorbar": {
             "outlinewidth": 0,
             "ticks": ""
            },
            "type": "contourcarpet"
           }
          ],
          "heatmap": [
           {
            "colorbar": {
             "outlinewidth": 0,
             "ticks": ""
            },
            "colorscale": [
             [
              0,
              "#0d0887"
             ],
             [
              0.1111111111111111,
              "#46039f"
             ],
             [
              0.2222222222222222,
              "#7201a8"
             ],
             [
              0.3333333333333333,
              "#9c179e"
             ],
             [
              0.4444444444444444,
              "#bd3786"
             ],
             [
              0.5555555555555556,
              "#d8576b"
             ],
             [
              0.6666666666666666,
              "#ed7953"
             ],
             [
              0.7777777777777778,
              "#fb9f3a"
             ],
             [
              0.8888888888888888,
              "#fdca26"
             ],
             [
              1,
              "#f0f921"
             ]
            ],
            "type": "heatmap"
           }
          ],
          "heatmapgl": [
           {
            "colorbar": {
             "outlinewidth": 0,
             "ticks": ""
            },
            "colorscale": [
             [
              0,
              "#0d0887"
             ],
             [
              0.1111111111111111,
              "#46039f"
             ],
             [
              0.2222222222222222,
              "#7201a8"
             ],
             [
              0.3333333333333333,
              "#9c179e"
             ],
             [
              0.4444444444444444,
              "#bd3786"
             ],
             [
              0.5555555555555556,
              "#d8576b"
             ],
             [
              0.6666666666666666,
              "#ed7953"
             ],
             [
              0.7777777777777778,
              "#fb9f3a"
             ],
             [
              0.8888888888888888,
              "#fdca26"
             ],
             [
              1,
              "#f0f921"
             ]
            ],
            "type": "heatmapgl"
           }
          ],
          "histogram": [
           {
            "marker": {
             "colorbar": {
              "outlinewidth": 0,
              "ticks": ""
             }
            },
            "type": "histogram"
           }
          ],
          "histogram2d": [
           {
            "colorbar": {
             "outlinewidth": 0,
             "ticks": ""
            },
            "colorscale": [
             [
              0,
              "#0d0887"
             ],
             [
              0.1111111111111111,
              "#46039f"
             ],
             [
              0.2222222222222222,
              "#7201a8"
             ],
             [
              0.3333333333333333,
              "#9c179e"
             ],
             [
              0.4444444444444444,
              "#bd3786"
             ],
             [
              0.5555555555555556,
              "#d8576b"
             ],
             [
              0.6666666666666666,
              "#ed7953"
             ],
             [
              0.7777777777777778,
              "#fb9f3a"
             ],
             [
              0.8888888888888888,
              "#fdca26"
             ],
             [
              1,
              "#f0f921"
             ]
            ],
            "type": "histogram2d"
           }
          ],
          "histogram2dcontour": [
           {
            "colorbar": {
             "outlinewidth": 0,
             "ticks": ""
            },
            "colorscale": [
             [
              0,
              "#0d0887"
             ],
             [
              0.1111111111111111,
              "#46039f"
             ],
             [
              0.2222222222222222,
              "#7201a8"
             ],
             [
              0.3333333333333333,
              "#9c179e"
             ],
             [
              0.4444444444444444,
              "#bd3786"
             ],
             [
              0.5555555555555556,
              "#d8576b"
             ],
             [
              0.6666666666666666,
              "#ed7953"
             ],
             [
              0.7777777777777778,
              "#fb9f3a"
             ],
             [
              0.8888888888888888,
              "#fdca26"
             ],
             [
              1,
              "#f0f921"
             ]
            ],
            "type": "histogram2dcontour"
           }
          ],
          "mesh3d": [
           {
            "colorbar": {
             "outlinewidth": 0,
             "ticks": ""
            },
            "type": "mesh3d"
           }
          ],
          "parcoords": [
           {
            "line": {
             "colorbar": {
              "outlinewidth": 0,
              "ticks": ""
             }
            },
            "type": "parcoords"
           }
          ],
          "pie": [
           {
            "automargin": true,
            "type": "pie"
           }
          ],
          "scatter": [
           {
            "marker": {
             "colorbar": {
              "outlinewidth": 0,
              "ticks": ""
             }
            },
            "type": "scatter"
           }
          ],
          "scatter3d": [
           {
            "line": {
             "colorbar": {
              "outlinewidth": 0,
              "ticks": ""
             }
            },
            "marker": {
             "colorbar": {
              "outlinewidth": 0,
              "ticks": ""
             }
            },
            "type": "scatter3d"
           }
          ],
          "scattercarpet": [
           {
            "marker": {
             "colorbar": {
              "outlinewidth": 0,
              "ticks": ""
             }
            },
            "type": "scattercarpet"
           }
          ],
          "scattergeo": [
           {
            "marker": {
             "colorbar": {
              "outlinewidth": 0,
              "ticks": ""
             }
            },
            "type": "scattergeo"
           }
          ],
          "scattergl": [
           {
            "marker": {
             "colorbar": {
              "outlinewidth": 0,
              "ticks": ""
             }
            },
            "type": "scattergl"
           }
          ],
          "scattermapbox": [
           {
            "marker": {
             "colorbar": {
              "outlinewidth": 0,
              "ticks": ""
             }
            },
            "type": "scattermapbox"
           }
          ],
          "scatterpolar": [
           {
            "marker": {
             "colorbar": {
              "outlinewidth": 0,
              "ticks": ""
             }
            },
            "type": "scatterpolar"
           }
          ],
          "scatterpolargl": [
           {
            "marker": {
             "colorbar": {
              "outlinewidth": 0,
              "ticks": ""
             }
            },
            "type": "scatterpolargl"
           }
          ],
          "scatterternary": [
           {
            "marker": {
             "colorbar": {
              "outlinewidth": 0,
              "ticks": ""
             }
            },
            "type": "scatterternary"
           }
          ],
          "surface": [
           {
            "colorbar": {
             "outlinewidth": 0,
             "ticks": ""
            },
            "colorscale": [
             [
              0,
              "#0d0887"
             ],
             [
              0.1111111111111111,
              "#46039f"
             ],
             [
              0.2222222222222222,
              "#7201a8"
             ],
             [
              0.3333333333333333,
              "#9c179e"
             ],
             [
              0.4444444444444444,
              "#bd3786"
             ],
             [
              0.5555555555555556,
              "#d8576b"
             ],
             [
              0.6666666666666666,
              "#ed7953"
             ],
             [
              0.7777777777777778,
              "#fb9f3a"
             ],
             [
              0.8888888888888888,
              "#fdca26"
             ],
             [
              1,
              "#f0f921"
             ]
            ],
            "type": "surface"
           }
          ],
          "table": [
           {
            "cells": {
             "fill": {
              "color": "#EBF0F8"
             },
             "line": {
              "color": "white"
             }
            },
            "header": {
             "fill": {
              "color": "#C8D4E3"
             },
             "line": {
              "color": "white"
             }
            },
            "type": "table"
           }
          ]
         },
         "layout": {
          "annotationdefaults": {
           "arrowcolor": "#2a3f5f",
           "arrowhead": 0,
           "arrowwidth": 1
          },
          "autotypenumbers": "strict",
          "coloraxis": {
           "colorbar": {
            "outlinewidth": 0,
            "ticks": ""
           }
          },
          "colorscale": {
           "diverging": [
            [
             0,
             "#8e0152"
            ],
            [
             0.1,
             "#c51b7d"
            ],
            [
             0.2,
             "#de77ae"
            ],
            [
             0.3,
             "#f1b6da"
            ],
            [
             0.4,
             "#fde0ef"
            ],
            [
             0.5,
             "#f7f7f7"
            ],
            [
             0.6,
             "#e6f5d0"
            ],
            [
             0.7,
             "#b8e186"
            ],
            [
             0.8,
             "#7fbc41"
            ],
            [
             0.9,
             "#4d9221"
            ],
            [
             1,
             "#276419"
            ]
           ],
           "sequential": [
            [
             0,
             "#0d0887"
            ],
            [
             0.1111111111111111,
             "#46039f"
            ],
            [
             0.2222222222222222,
             "#7201a8"
            ],
            [
             0.3333333333333333,
             "#9c179e"
            ],
            [
             0.4444444444444444,
             "#bd3786"
            ],
            [
             0.5555555555555556,
             "#d8576b"
            ],
            [
             0.6666666666666666,
             "#ed7953"
            ],
            [
             0.7777777777777778,
             "#fb9f3a"
            ],
            [
             0.8888888888888888,
             "#fdca26"
            ],
            [
             1,
             "#f0f921"
            ]
           ],
           "sequentialminus": [
            [
             0,
             "#0d0887"
            ],
            [
             0.1111111111111111,
             "#46039f"
            ],
            [
             0.2222222222222222,
             "#7201a8"
            ],
            [
             0.3333333333333333,
             "#9c179e"
            ],
            [
             0.4444444444444444,
             "#bd3786"
            ],
            [
             0.5555555555555556,
             "#d8576b"
            ],
            [
             0.6666666666666666,
             "#ed7953"
            ],
            [
             0.7777777777777778,
             "#fb9f3a"
            ],
            [
             0.8888888888888888,
             "#fdca26"
            ],
            [
             1,
             "#f0f921"
            ]
           ]
          },
          "colorway": [
           "#636efa",
           "#EF553B",
           "#00cc96",
           "#ab63fa",
           "#FFA15A",
           "#19d3f3",
           "#FF6692",
           "#B6E880",
           "#FF97FF",
           "#FECB52"
          ],
          "font": {
           "color": "#2a3f5f"
          },
          "geo": {
           "bgcolor": "white",
           "lakecolor": "white",
           "landcolor": "#E5ECF6",
           "showlakes": true,
           "showland": true,
           "subunitcolor": "white"
          },
          "hoverlabel": {
           "align": "left"
          },
          "hovermode": "closest",
          "mapbox": {
           "style": "light"
          },
          "paper_bgcolor": "white",
          "plot_bgcolor": "#E5ECF6",
          "polar": {
           "angularaxis": {
            "gridcolor": "white",
            "linecolor": "white",
            "ticks": ""
           },
           "bgcolor": "#E5ECF6",
           "radialaxis": {
            "gridcolor": "white",
            "linecolor": "white",
            "ticks": ""
           }
          },
          "scene": {
           "xaxis": {
            "backgroundcolor": "#E5ECF6",
            "gridcolor": "white",
            "gridwidth": 2,
            "linecolor": "white",
            "showbackground": true,
            "ticks": "",
            "zerolinecolor": "white"
           },
           "yaxis": {
            "backgroundcolor": "#E5ECF6",
            "gridcolor": "white",
            "gridwidth": 2,
            "linecolor": "white",
            "showbackground": true,
            "ticks": "",
            "zerolinecolor": "white"
           },
           "zaxis": {
            "backgroundcolor": "#E5ECF6",
            "gridcolor": "white",
            "gridwidth": 2,
            "linecolor": "white",
            "showbackground": true,
            "ticks": "",
            "zerolinecolor": "white"
           }
          },
          "shapedefaults": {
           "line": {
            "color": "#2a3f5f"
           }
          },
          "ternary": {
           "aaxis": {
            "gridcolor": "white",
            "linecolor": "white",
            "ticks": ""
           },
           "baxis": {
            "gridcolor": "white",
            "linecolor": "white",
            "ticks": ""
           },
           "bgcolor": "#E5ECF6",
           "caxis": {
            "gridcolor": "white",
            "linecolor": "white",
            "ticks": ""
           }
          },
          "title": {
           "x": 0.05
          },
          "xaxis": {
           "automargin": true,
           "gridcolor": "white",
           "linecolor": "white",
           "ticks": "",
           "title": {
            "standoff": 15
           },
           "zerolinecolor": "white",
           "zerolinewidth": 2
          },
          "yaxis": {
           "automargin": true,
           "gridcolor": "white",
           "linecolor": "white",
           "ticks": "",
           "title": {
            "standoff": 15
           },
           "zerolinecolor": "white",
           "zerolinewidth": 2
          }
         }
        },
        "title": {
         "text": "Intermediate Values Plot"
        },
        "xaxis": {
         "title": {
          "text": "Step"
         }
        },
        "yaxis": {
         "title": {
          "text": "Intermediate Value"
         }
        }
       }
      }
     },
     "metadata": {}
    }
   ],
   "source": [
    "optuna.visualization.plot_intermediate_values(study)"
   ]
  },
  {
   "cell_type": "code",
   "execution_count": 15,
   "metadata": {},
   "outputs": [
    {
     "output_type": "display_data",
     "data": {
      "application/vnd.plotly.v1+json": {
       "config": {
        "plotlyServerURL": "https://plot.ly"
       },
       "data": [
        {
         "mode": "markers",
         "name": "Objective Value",
         "type": "scatter",
         "x": [
          0,
          1,
          2,
          3,
          4,
          5,
          6,
          7,
          9,
          10,
          11,
          12,
          13,
          14,
          15,
          16,
          17,
          18,
          19,
          20,
          21,
          22,
          23,
          24,
          25,
          26,
          27,
          28,
          29,
          30,
          31,
          32,
          33,
          34,
          35,
          36,
          37,
          38,
          39,
          40,
          41,
          42,
          43,
          44,
          45,
          46,
          47,
          48,
          49,
          50,
          51,
          52,
          53,
          54,
          55,
          56,
          57,
          58,
          59,
          60,
          61,
          62,
          64,
          65,
          66,
          67,
          68,
          69,
          70,
          71,
          72,
          73,
          74,
          75,
          79,
          80,
          81,
          82,
          83,
          84,
          85,
          86,
          87,
          88,
          89,
          90,
          91,
          92,
          93,
          94,
          95,
          96,
          97,
          98,
          99,
          100,
          101
         ],
         "y": [
          3.305008888244629,
          3.097545623779297,
          2.009999990463257,
          2.9087793827056885,
          3.319063425064087,
          3.2695870399475098,
          3.3614325523376465,
          3.104318857192993,
          2.879727363586426,
          3.1507959365844727,
          3.1821610927581787,
          3.250124454498291,
          3.2672343254089355,
          3.1574296951293945,
          3.1852054595947266,
          3.035029172897339,
          3.1792054176330566,
          2.929734230041504,
          3.1525487899780273,
          3.2205233573913574,
          2.8916783332824707,
          3.2911360263824463,
          3.1313977241516113,
          3.4025626182556152,
          3.3486886024475098,
          3.391876220703125,
          3.2283079624176025,
          2.839789628982544,
          3.2364323139190674,
          3.2952146530151367,
          2.928969383239746,
          3.2823798656463623,
          3.262253761291504,
          3.399529457092285,
          3.1227455139160156,
          3.2401227951049805,
          3.2311062812805176,
          3.0116724967956543,
          3.29864501953125,
          2.8043620586395264,
          3.2545127868652344,
          3.4058308601379395,
          3.2392120361328125,
          3.2651569843292236,
          3.0930562019348145,
          3.3759405612945557,
          3.341684103012085,
          3.3805339336395264,
          3.177825927734375,
          3.272839069366455,
          3.394709587097168,
          3.3773560523986816,
          2.829134702682495,
          3.4489476680755615,
          2.6126904487609863,
          3.4069879055023193,
          2.98738169670105,
          3.220608711242676,
          3.157867431640625,
          3.257091522216797,
          3.007598400115967,
          3.3779237270355225,
          3.401033401489258,
          3.496696710586548,
          3.3581061363220215,
          3.3329739570617676,
          3.4454312324523926,
          3.346867084503174,
          3.0011940002441406,
          3.1469101905822754,
          3.4605064392089844,
          3.4445536136627197,
          3.5069003105163574,
          3.5014278888702393,
          3.5054988861083984,
          3.3933980464935303,
          3.1035735607147217,
          3.086167573928833,
          3.445669174194336,
          2.8443219661712646,
          3.3543899059295654,
          3.3825864791870117,
          3.458162546157837,
          3.554935932159424,
          3.416116237640381,
          3.486581802368164,
          3.5348434448242188,
          3.5062079429626465,
          3.4383888244628906,
          3.503541946411133,
          3.4806628227233887,
          3.4832606315612793,
          3.5330898761749268,
          3.4348201751708984,
          3.299252510070801,
          3.51578950881958,
          3.432868003845215
         ]
        },
        {
         "name": "Best Value",
         "type": "scatter",
         "x": [
          0,
          1,
          2,
          3,
          4,
          5,
          6,
          7,
          9,
          10,
          11,
          12,
          13,
          14,
          15,
          16,
          17,
          18,
          19,
          20,
          21,
          22,
          23,
          24,
          25,
          26,
          27,
          28,
          29,
          30,
          31,
          32,
          33,
          34,
          35,
          36,
          37,
          38,
          39,
          40,
          41,
          42,
          43,
          44,
          45,
          46,
          47,
          48,
          49,
          50,
          51,
          52,
          53,
          54,
          55,
          56,
          57,
          58,
          59,
          60,
          61,
          62,
          64,
          65,
          66,
          67,
          68,
          69,
          70,
          71,
          72,
          73,
          74,
          75,
          79,
          80,
          81,
          82,
          83,
          84,
          85,
          86,
          87,
          88,
          89,
          90,
          91,
          92,
          93,
          94,
          95,
          96,
          97,
          98,
          99,
          100,
          101
         ],
         "y": [
          3.305008888244629,
          3.305008888244629,
          3.305008888244629,
          3.305008888244629,
          3.319063425064087,
          3.319063425064087,
          3.3614325523376465,
          3.3614325523376465,
          3.3614325523376465,
          3.3614325523376465,
          3.3614325523376465,
          3.3614325523376465,
          3.3614325523376465,
          3.3614325523376465,
          3.3614325523376465,
          3.3614325523376465,
          3.3614325523376465,
          3.3614325523376465,
          3.3614325523376465,
          3.3614325523376465,
          3.3614325523376465,
          3.3614325523376465,
          3.3614325523376465,
          3.4025626182556152,
          3.4025626182556152,
          3.4025626182556152,
          3.4025626182556152,
          3.4025626182556152,
          3.4025626182556152,
          3.4025626182556152,
          3.4025626182556152,
          3.4025626182556152,
          3.4025626182556152,
          3.4025626182556152,
          3.4025626182556152,
          3.4025626182556152,
          3.4025626182556152,
          3.4025626182556152,
          3.4025626182556152,
          3.4025626182556152,
          3.4025626182556152,
          3.4058308601379395,
          3.4058308601379395,
          3.4058308601379395,
          3.4058308601379395,
          3.4058308601379395,
          3.4058308601379395,
          3.4058308601379395,
          3.4058308601379395,
          3.4058308601379395,
          3.4058308601379395,
          3.4058308601379395,
          3.4058308601379395,
          3.4489476680755615,
          3.4489476680755615,
          3.4489476680755615,
          3.4489476680755615,
          3.4489476680755615,
          3.4489476680755615,
          3.4489476680755615,
          3.4489476680755615,
          3.4489476680755615,
          3.4489476680755615,
          3.496696710586548,
          3.496696710586548,
          3.496696710586548,
          3.496696710586548,
          3.496696710586548,
          3.496696710586548,
          3.496696710586548,
          3.496696710586548,
          3.496696710586548,
          3.5069003105163574,
          3.5069003105163574,
          3.5069003105163574,
          3.5069003105163574,
          3.5069003105163574,
          3.5069003105163574,
          3.5069003105163574,
          3.5069003105163574,
          3.5069003105163574,
          3.5069003105163574,
          3.5069003105163574,
          3.554935932159424,
          3.554935932159424,
          3.554935932159424,
          3.554935932159424,
          3.554935932159424,
          3.554935932159424,
          3.554935932159424,
          3.554935932159424,
          3.554935932159424,
          3.554935932159424,
          3.554935932159424,
          3.554935932159424,
          3.554935932159424,
          3.554935932159424
         ]
        }
       ],
       "layout": {
        "template": {
         "data": {
          "bar": [
           {
            "error_x": {
             "color": "#2a3f5f"
            },
            "error_y": {
             "color": "#2a3f5f"
            },
            "marker": {
             "line": {
              "color": "#E5ECF6",
              "width": 0.5
             }
            },
            "type": "bar"
           }
          ],
          "barpolar": [
           {
            "marker": {
             "line": {
              "color": "#E5ECF6",
              "width": 0.5
             }
            },
            "type": "barpolar"
           }
          ],
          "carpet": [
           {
            "aaxis": {
             "endlinecolor": "#2a3f5f",
             "gridcolor": "white",
             "linecolor": "white",
             "minorgridcolor": "white",
             "startlinecolor": "#2a3f5f"
            },
            "baxis": {
             "endlinecolor": "#2a3f5f",
             "gridcolor": "white",
             "linecolor": "white",
             "minorgridcolor": "white",
             "startlinecolor": "#2a3f5f"
            },
            "type": "carpet"
           }
          ],
          "choropleth": [
           {
            "colorbar": {
             "outlinewidth": 0,
             "ticks": ""
            },
            "type": "choropleth"
           }
          ],
          "contour": [
           {
            "colorbar": {
             "outlinewidth": 0,
             "ticks": ""
            },
            "colorscale": [
             [
              0,
              "#0d0887"
             ],
             [
              0.1111111111111111,
              "#46039f"
             ],
             [
              0.2222222222222222,
              "#7201a8"
             ],
             [
              0.3333333333333333,
              "#9c179e"
             ],
             [
              0.4444444444444444,
              "#bd3786"
             ],
             [
              0.5555555555555556,
              "#d8576b"
             ],
             [
              0.6666666666666666,
              "#ed7953"
             ],
             [
              0.7777777777777778,
              "#fb9f3a"
             ],
             [
              0.8888888888888888,
              "#fdca26"
             ],
             [
              1,
              "#f0f921"
             ]
            ],
            "type": "contour"
           }
          ],
          "contourcarpet": [
           {
            "colorbar": {
             "outlinewidth": 0,
             "ticks": ""
            },
            "type": "contourcarpet"
           }
          ],
          "heatmap": [
           {
            "colorbar": {
             "outlinewidth": 0,
             "ticks": ""
            },
            "colorscale": [
             [
              0,
              "#0d0887"
             ],
             [
              0.1111111111111111,
              "#46039f"
             ],
             [
              0.2222222222222222,
              "#7201a8"
             ],
             [
              0.3333333333333333,
              "#9c179e"
             ],
             [
              0.4444444444444444,
              "#bd3786"
             ],
             [
              0.5555555555555556,
              "#d8576b"
             ],
             [
              0.6666666666666666,
              "#ed7953"
             ],
             [
              0.7777777777777778,
              "#fb9f3a"
             ],
             [
              0.8888888888888888,
              "#fdca26"
             ],
             [
              1,
              "#f0f921"
             ]
            ],
            "type": "heatmap"
           }
          ],
          "heatmapgl": [
           {
            "colorbar": {
             "outlinewidth": 0,
             "ticks": ""
            },
            "colorscale": [
             [
              0,
              "#0d0887"
             ],
             [
              0.1111111111111111,
              "#46039f"
             ],
             [
              0.2222222222222222,
              "#7201a8"
             ],
             [
              0.3333333333333333,
              "#9c179e"
             ],
             [
              0.4444444444444444,
              "#bd3786"
             ],
             [
              0.5555555555555556,
              "#d8576b"
             ],
             [
              0.6666666666666666,
              "#ed7953"
             ],
             [
              0.7777777777777778,
              "#fb9f3a"
             ],
             [
              0.8888888888888888,
              "#fdca26"
             ],
             [
              1,
              "#f0f921"
             ]
            ],
            "type": "heatmapgl"
           }
          ],
          "histogram": [
           {
            "marker": {
             "colorbar": {
              "outlinewidth": 0,
              "ticks": ""
             }
            },
            "type": "histogram"
           }
          ],
          "histogram2d": [
           {
            "colorbar": {
             "outlinewidth": 0,
             "ticks": ""
            },
            "colorscale": [
             [
              0,
              "#0d0887"
             ],
             [
              0.1111111111111111,
              "#46039f"
             ],
             [
              0.2222222222222222,
              "#7201a8"
             ],
             [
              0.3333333333333333,
              "#9c179e"
             ],
             [
              0.4444444444444444,
              "#bd3786"
             ],
             [
              0.5555555555555556,
              "#d8576b"
             ],
             [
              0.6666666666666666,
              "#ed7953"
             ],
             [
              0.7777777777777778,
              "#fb9f3a"
             ],
             [
              0.8888888888888888,
              "#fdca26"
             ],
             [
              1,
              "#f0f921"
             ]
            ],
            "type": "histogram2d"
           }
          ],
          "histogram2dcontour": [
           {
            "colorbar": {
             "outlinewidth": 0,
             "ticks": ""
            },
            "colorscale": [
             [
              0,
              "#0d0887"
             ],
             [
              0.1111111111111111,
              "#46039f"
             ],
             [
              0.2222222222222222,
              "#7201a8"
             ],
             [
              0.3333333333333333,
              "#9c179e"
             ],
             [
              0.4444444444444444,
              "#bd3786"
             ],
             [
              0.5555555555555556,
              "#d8576b"
             ],
             [
              0.6666666666666666,
              "#ed7953"
             ],
             [
              0.7777777777777778,
              "#fb9f3a"
             ],
             [
              0.8888888888888888,
              "#fdca26"
             ],
             [
              1,
              "#f0f921"
             ]
            ],
            "type": "histogram2dcontour"
           }
          ],
          "mesh3d": [
           {
            "colorbar": {
             "outlinewidth": 0,
             "ticks": ""
            },
            "type": "mesh3d"
           }
          ],
          "parcoords": [
           {
            "line": {
             "colorbar": {
              "outlinewidth": 0,
              "ticks": ""
             }
            },
            "type": "parcoords"
           }
          ],
          "pie": [
           {
            "automargin": true,
            "type": "pie"
           }
          ],
          "scatter": [
           {
            "marker": {
             "colorbar": {
              "outlinewidth": 0,
              "ticks": ""
             }
            },
            "type": "scatter"
           }
          ],
          "scatter3d": [
           {
            "line": {
             "colorbar": {
              "outlinewidth": 0,
              "ticks": ""
             }
            },
            "marker": {
             "colorbar": {
              "outlinewidth": 0,
              "ticks": ""
             }
            },
            "type": "scatter3d"
           }
          ],
          "scattercarpet": [
           {
            "marker": {
             "colorbar": {
              "outlinewidth": 0,
              "ticks": ""
             }
            },
            "type": "scattercarpet"
           }
          ],
          "scattergeo": [
           {
            "marker": {
             "colorbar": {
              "outlinewidth": 0,
              "ticks": ""
             }
            },
            "type": "scattergeo"
           }
          ],
          "scattergl": [
           {
            "marker": {
             "colorbar": {
              "outlinewidth": 0,
              "ticks": ""
             }
            },
            "type": "scattergl"
           }
          ],
          "scattermapbox": [
           {
            "marker": {
             "colorbar": {
              "outlinewidth": 0,
              "ticks": ""
             }
            },
            "type": "scattermapbox"
           }
          ],
          "scatterpolar": [
           {
            "marker": {
             "colorbar": {
              "outlinewidth": 0,
              "ticks": ""
             }
            },
            "type": "scatterpolar"
           }
          ],
          "scatterpolargl": [
           {
            "marker": {
             "colorbar": {
              "outlinewidth": 0,
              "ticks": ""
             }
            },
            "type": "scatterpolargl"
           }
          ],
          "scatterternary": [
           {
            "marker": {
             "colorbar": {
              "outlinewidth": 0,
              "ticks": ""
             }
            },
            "type": "scatterternary"
           }
          ],
          "surface": [
           {
            "colorbar": {
             "outlinewidth": 0,
             "ticks": ""
            },
            "colorscale": [
             [
              0,
              "#0d0887"
             ],
             [
              0.1111111111111111,
              "#46039f"
             ],
             [
              0.2222222222222222,
              "#7201a8"
             ],
             [
              0.3333333333333333,
              "#9c179e"
             ],
             [
              0.4444444444444444,
              "#bd3786"
             ],
             [
              0.5555555555555556,
              "#d8576b"
             ],
             [
              0.6666666666666666,
              "#ed7953"
             ],
             [
              0.7777777777777778,
              "#fb9f3a"
             ],
             [
              0.8888888888888888,
              "#fdca26"
             ],
             [
              1,
              "#f0f921"
             ]
            ],
            "type": "surface"
           }
          ],
          "table": [
           {
            "cells": {
             "fill": {
              "color": "#EBF0F8"
             },
             "line": {
              "color": "white"
             }
            },
            "header": {
             "fill": {
              "color": "#C8D4E3"
             },
             "line": {
              "color": "white"
             }
            },
            "type": "table"
           }
          ]
         },
         "layout": {
          "annotationdefaults": {
           "arrowcolor": "#2a3f5f",
           "arrowhead": 0,
           "arrowwidth": 1
          },
          "autotypenumbers": "strict",
          "coloraxis": {
           "colorbar": {
            "outlinewidth": 0,
            "ticks": ""
           }
          },
          "colorscale": {
           "diverging": [
            [
             0,
             "#8e0152"
            ],
            [
             0.1,
             "#c51b7d"
            ],
            [
             0.2,
             "#de77ae"
            ],
            [
             0.3,
             "#f1b6da"
            ],
            [
             0.4,
             "#fde0ef"
            ],
            [
             0.5,
             "#f7f7f7"
            ],
            [
             0.6,
             "#e6f5d0"
            ],
            [
             0.7,
             "#b8e186"
            ],
            [
             0.8,
             "#7fbc41"
            ],
            [
             0.9,
             "#4d9221"
            ],
            [
             1,
             "#276419"
            ]
           ],
           "sequential": [
            [
             0,
             "#0d0887"
            ],
            [
             0.1111111111111111,
             "#46039f"
            ],
            [
             0.2222222222222222,
             "#7201a8"
            ],
            [
             0.3333333333333333,
             "#9c179e"
            ],
            [
             0.4444444444444444,
             "#bd3786"
            ],
            [
             0.5555555555555556,
             "#d8576b"
            ],
            [
             0.6666666666666666,
             "#ed7953"
            ],
            [
             0.7777777777777778,
             "#fb9f3a"
            ],
            [
             0.8888888888888888,
             "#fdca26"
            ],
            [
             1,
             "#f0f921"
            ]
           ],
           "sequentialminus": [
            [
             0,
             "#0d0887"
            ],
            [
             0.1111111111111111,
             "#46039f"
            ],
            [
             0.2222222222222222,
             "#7201a8"
            ],
            [
             0.3333333333333333,
             "#9c179e"
            ],
            [
             0.4444444444444444,
             "#bd3786"
            ],
            [
             0.5555555555555556,
             "#d8576b"
            ],
            [
             0.6666666666666666,
             "#ed7953"
            ],
            [
             0.7777777777777778,
             "#fb9f3a"
            ],
            [
             0.8888888888888888,
             "#fdca26"
            ],
            [
             1,
             "#f0f921"
            ]
           ]
          },
          "colorway": [
           "#636efa",
           "#EF553B",
           "#00cc96",
           "#ab63fa",
           "#FFA15A",
           "#19d3f3",
           "#FF6692",
           "#B6E880",
           "#FF97FF",
           "#FECB52"
          ],
          "font": {
           "color": "#2a3f5f"
          },
          "geo": {
           "bgcolor": "white",
           "lakecolor": "white",
           "landcolor": "#E5ECF6",
           "showlakes": true,
           "showland": true,
           "subunitcolor": "white"
          },
          "hoverlabel": {
           "align": "left"
          },
          "hovermode": "closest",
          "mapbox": {
           "style": "light"
          },
          "paper_bgcolor": "white",
          "plot_bgcolor": "#E5ECF6",
          "polar": {
           "angularaxis": {
            "gridcolor": "white",
            "linecolor": "white",
            "ticks": ""
           },
           "bgcolor": "#E5ECF6",
           "radialaxis": {
            "gridcolor": "white",
            "linecolor": "white",
            "ticks": ""
           }
          },
          "scene": {
           "xaxis": {
            "backgroundcolor": "#E5ECF6",
            "gridcolor": "white",
            "gridwidth": 2,
            "linecolor": "white",
            "showbackground": true,
            "ticks": "",
            "zerolinecolor": "white"
           },
           "yaxis": {
            "backgroundcolor": "#E5ECF6",
            "gridcolor": "white",
            "gridwidth": 2,
            "linecolor": "white",
            "showbackground": true,
            "ticks": "",
            "zerolinecolor": "white"
           },
           "zaxis": {
            "backgroundcolor": "#E5ECF6",
            "gridcolor": "white",
            "gridwidth": 2,
            "linecolor": "white",
            "showbackground": true,
            "ticks": "",
            "zerolinecolor": "white"
           }
          },
          "shapedefaults": {
           "line": {
            "color": "#2a3f5f"
           }
          },
          "ternary": {
           "aaxis": {
            "gridcolor": "white",
            "linecolor": "white",
            "ticks": ""
           },
           "baxis": {
            "gridcolor": "white",
            "linecolor": "white",
            "ticks": ""
           },
           "bgcolor": "#E5ECF6",
           "caxis": {
            "gridcolor": "white",
            "linecolor": "white",
            "ticks": ""
           }
          },
          "title": {
           "x": 0.05
          },
          "xaxis": {
           "automargin": true,
           "gridcolor": "white",
           "linecolor": "white",
           "ticks": "",
           "title": {
            "standoff": 15
           },
           "zerolinecolor": "white",
           "zerolinewidth": 2
          },
          "yaxis": {
           "automargin": true,
           "gridcolor": "white",
           "linecolor": "white",
           "ticks": "",
           "title": {
            "standoff": 15
           },
           "zerolinecolor": "white",
           "zerolinewidth": 2
          }
         }
        },
        "title": {
         "text": "Optimization History Plot"
        },
        "xaxis": {
         "title": {
          "text": "#Trials"
         }
        },
        "yaxis": {
         "title": {
          "text": "Objective Value"
         }
        }
       }
      }
     },
     "metadata": {}
    }
   ],
   "source": [
    "optuna.visualization.plot_optimization_history(study)"
   ]
  },
  {
   "cell_type": "code",
   "execution_count": 16,
   "metadata": {},
   "outputs": [
    {
     "output_type": "display_data",
     "data": {
      "application/vnd.plotly.v1+json": {
       "config": {
        "plotlyServerURL": "https://plot.ly"
       },
       "data": [
        {
         "dimensions": [
          {
           "label": "Objective Value",
           "range": [
            2.009999990463257,
            3.554935932159424
           ],
           "values": [
            3.305008888244629,
            3.097545623779297,
            2.009999990463257,
            2.9087793827056885,
            3.319063425064087,
            3.2695870399475098,
            3.3614325523376465,
            3.104318857192993,
            2.879727363586426,
            3.1507959365844727,
            3.1821610927581787,
            3.250124454498291,
            3.2672343254089355,
            3.1574296951293945,
            3.1852054595947266,
            3.035029172897339,
            3.1792054176330566,
            2.929734230041504,
            3.1525487899780273,
            3.2205233573913574,
            2.8916783332824707,
            3.2911360263824463,
            3.1313977241516113,
            3.4025626182556152,
            3.3486886024475098,
            3.391876220703125,
            3.2283079624176025,
            2.839789628982544,
            3.2364323139190674,
            3.2952146530151367,
            2.928969383239746,
            3.2823798656463623,
            3.262253761291504,
            3.399529457092285,
            3.1227455139160156,
            3.2401227951049805,
            3.2311062812805176,
            3.0116724967956543,
            3.29864501953125,
            2.8043620586395264,
            3.2545127868652344,
            3.4058308601379395,
            3.2392120361328125,
            3.2651569843292236,
            3.0930562019348145,
            3.3759405612945557,
            3.341684103012085,
            3.3805339336395264,
            3.177825927734375,
            3.272839069366455,
            3.394709587097168,
            3.3773560523986816,
            2.829134702682495,
            3.4489476680755615,
            2.6126904487609863,
            3.4069879055023193,
            2.98738169670105,
            3.220608711242676,
            3.157867431640625,
            3.257091522216797,
            3.007598400115967,
            3.3779237270355225,
            3.401033401489258,
            3.496696710586548,
            3.3581061363220215,
            3.3329739570617676,
            3.4454312324523926,
            3.346867084503174,
            3.0011940002441406,
            3.1469101905822754,
            3.4605064392089844,
            3.4445536136627197,
            3.5069003105163574,
            3.5014278888702393,
            3.5054988861083984,
            3.3933980464935303,
            3.1035735607147217,
            3.086167573928833,
            3.445669174194336,
            2.8443219661712646,
            3.3543899059295654,
            3.3825864791870117,
            3.458162546157837,
            3.554935932159424,
            3.416116237640381,
            3.486581802368164,
            3.5348434448242188,
            3.5062079429626465,
            3.4383888244628906,
            3.503541946411133,
            3.4806628227233887,
            3.4832606315612793,
            3.5330898761749268,
            3.4348201751708984,
            3.299252510070801,
            3.51578950881958,
            3.432868003845215
           ]
          },
          {
           "label": "NOISE_DIM",
           "range": [
            113,
            300
           ],
           "values": [
            256,
            275,
            219,
            221,
            204,
            242,
            173,
            276,
            156,
            203,
            113,
            164,
            171,
            124,
            189,
            137,
            189,
            143,
            228,
            178,
            200,
            251,
            287,
            257,
            236,
            298,
            298,
            300,
            265,
            254,
            286,
            248,
            230,
            237,
            270,
            221,
            266,
            284,
            243,
            213,
            213,
            238,
            258,
            192,
            235,
            156,
            211,
            276,
            277,
            296,
            261,
            277,
            263,
            244,
            242,
            227,
            227,
            247,
            236,
            258,
            221,
            242,
            253,
            253,
            234,
            251,
            226,
            226,
            208,
            254,
            270,
            270,
            269,
            270,
            289,
            292,
            273,
            283,
            269,
            267,
            290,
            280,
            270,
            270,
            271,
            281,
            292,
            294,
            293,
            282,
            288,
            288,
            283,
            282,
            295,
            300,
            299
           ]
          },
          {
           "label": "activation_disc",
           "range": [
            0,
            2
           ],
           "ticktext": [
            [
             "LeakyReLU",
             0
            ],
            [
             "ReLU",
             1
            ],
            [
             "Tanh",
             2
            ]
           ],
           "tickvals": [
            0,
            1,
            2
           ],
           "values": [
            0,
            1,
            1,
            1,
            2,
            1,
            1,
            0,
            2,
            1,
            2,
            2,
            2,
            2,
            1,
            0,
            2,
            1,
            2,
            2,
            1,
            0,
            0,
            0,
            0,
            0,
            0,
            0,
            0,
            0,
            0,
            0,
            0,
            0,
            0,
            0,
            1,
            0,
            1,
            0,
            1,
            0,
            0,
            0,
            0,
            0,
            0,
            0,
            0,
            0,
            0,
            0,
            0,
            0,
            0,
            0,
            0,
            0,
            0,
            0,
            0,
            0,
            0,
            0,
            0,
            0,
            0,
            2,
            0,
            0,
            0,
            0,
            0,
            0,
            0,
            0,
            0,
            0,
            0,
            2,
            0,
            0,
            0,
            0,
            0,
            0,
            0,
            0,
            0,
            0,
            0,
            0,
            0,
            0,
            1,
            0,
            0
           ]
          },
          {
           "label": "activation_gen",
           "range": [
            0,
            2
           ],
           "ticktext": [
            [
             "ReLU",
             0
            ],
            [
             "Tanh",
             1
            ],
            [
             "LeakyReLU",
             2
            ]
           ],
           "tickvals": [
            0,
            1,
            2
           ],
           "values": [
            0,
            1,
            2,
            2,
            2,
            1,
            1,
            0,
            2,
            0,
            1,
            1,
            2,
            1,
            2,
            2,
            1,
            1,
            2,
            2,
            1,
            0,
            0,
            0,
            0,
            0,
            0,
            0,
            0,
            0,
            0,
            0,
            0,
            0,
            0,
            0,
            0,
            1,
            0,
            0,
            1,
            0,
            0,
            0,
            0,
            0,
            0,
            0,
            0,
            0,
            0,
            0,
            0,
            0,
            0,
            0,
            0,
            0,
            0,
            0,
            0,
            0,
            0,
            0,
            0,
            2,
            0,
            0,
            0,
            0,
            0,
            0,
            0,
            0,
            0,
            0,
            2,
            0,
            0,
            0,
            0,
            0,
            0,
            0,
            0,
            0,
            0,
            1,
            1,
            1,
            1,
            1,
            1,
            1,
            1,
            1,
            1
           ]
          },
          {
           "label": "disc_dropout_disc...",
           "range": [
            0.10502651828323392,
            0.6995724026388421
           ],
           "values": [
            0.3664751035741908,
            0.5592291010407904,
            0.13141075933734894,
            0.6276515822131767,
            0.5068373315775645,
            0.6995724026388421,
            0.19909166484493027,
            0.5261728599687623,
            0.4954660030452104,
            0.1286009503043444,
            0.27832123779926327,
            0.28654848867881133,
            0.44122566697952775,
            0.22952984572605595,
            0.39702508100950396,
            0.6128610983080468,
            0.3522005622853205,
            0.19926851840295542,
            0.44683701815170324,
            0.6622620324541342,
            0.5561833392561344,
            0.3486901221220996,
            0.19357825225352587,
            0.4707785908341317,
            0.4598258258671143,
            0.44661164913619134,
            0.4062511663213061,
            0.47591938849251986,
            0.3103334534374447,
            0.40560108594564354,
            0.5639458658386606,
            0.439529545489213,
            0.45248943304330314,
            0.3756304070927324,
            0.10502651828323392,
            0.38228109013073436,
            0.5551200204288571,
            0.3384521007966422,
            0.5158623830440326,
            0.16405202769476415,
            0.25137085045492813,
            0.46993136990424045,
            0.48549534167713604,
            0.42399117905647865,
            0.5284822628058493,
            0.37553912550879354,
            0.3211362909795712,
            0.3785554654727946,
            0.4206742140822435,
            0.37423083302131355,
            0.591470308606274,
            0.5774523186793669,
            0.5906244971480528,
            0.6979177322109684,
            0.6922745247456012,
            0.6473484031207886,
            0.6617383050573513,
            0.6355276518525921,
            0.6925847823251962,
            0.609630056114342,
            0.6630920317264039,
            0.5006734743939778,
            0.6414002430135568,
            0.639084960185844,
            0.6200401379957228,
            0.6458410510300351,
            0.6853340259418274,
            0.675677028232696,
            0.6431823414052666,
            0.69865048856373,
            0.6779000097761824,
            0.6721300974540855,
            0.6707040062947176,
            0.6800710527969476,
            0.6782038258474162,
            0.6773998490864322,
            0.6801224626009101,
            0.6979145488014712,
            0.6634444742002574,
            0.6233841788747825,
            0.6036700723568013,
            0.6611183642600849,
            0.6797124563291007,
            0.6876584891243757,
            0.6986674944458706,
            0.6553087656082499,
            0.6306767305316846,
            0.6283205973526549,
            0.6245052729759253,
            0.6522547709298151,
            0.5928777858122796,
            0.6029453624318281,
            0.6507801712668032,
            0.6485913355419032,
            0.6525138676774636,
            0.6318597287614248,
            0.5734533287903398
           ]
          },
          {
           "label": "disc_dropout_disc...",
           "range": [
            0.10161496902894307,
            0.6986538947722097
           ],
           "values": [
            0.6658418778763696,
            0.14026512336667826,
            0.4408937978190104,
            0.33769717011069966,
            0.5796966960030853,
            0.11633374019433551,
            0.6339872539034425,
            0.6778783949007755,
            0.16370521348711967,
            0.1242527929196285,
            0.5471639230225106,
            0.5743149616980536,
            0.5734210848407336,
            0.4663512730305927,
            0.694811989994033,
            0.33676367149850756,
            0.6200728905980705,
            0.5036206743837622,
            0.6544228153387558,
            0.6986538947722097,
            0.22839284811591967,
            0.35245512618580443,
            0.26223326545767456,
            0.41146201918046094,
            0.5066655219993678,
            0.6242266805855484,
            0.25516961013659556,
            0.3728072470241301,
            0.29375359740304774,
            0.18432753195197848,
            0.4753502147835002,
            0.427035373863489,
            0.2033723473824194,
            0.32453450986934146,
            0.10161496902894307,
            0.45250661803810394,
            0.15273010548635052,
            0.3858367113073777,
            0.29182806193081967,
            0.5411469895414057,
            0.5477054508064874,
            0.5080942471784741,
            0.5996205725815893,
            0.6637020612831032,
            0.6540989238614802,
            0.667882840772426,
            0.540781838962078,
            0.6021814171760504,
            0.5884317691638572,
            0.6069246490331341,
            0.6880286877588708
           ]
          },
          {
           "label": "disc_dropout_disc...",
           "range": [
            0.10070842955118281,
            0.6911347025893189
           ],
           "values": [
            0.6911347025893189,
            0.6079982711579321,
            0.377894074583758,
            0.17799413616916404,
            0.48363681748441956,
            0.5295503423051671,
            0.455475176698073,
            0.6883571134325127,
            0.2808896651594836,
            0.33429592659078383,
            0.11155673667748012,
            0.46997174338230413,
            0.5405124260545813,
            0.24872731043123145,
            0.6109304771032446,
            0.40911900353345,
            0.604856961988639,
            0.511797278048734,
            0.10070842955118281,
            0.3143027115531166,
            0.21120058324241714,
            0.16273476662151093,
            0.6632747320214856,
            0.40402324190051536,
            0.14162802894484294,
            0.21139302324338274,
            0.3342421941897491
           ]
          },
          {
           "label": "disc_dropout_disc...",
           "range": [
            0.1344993470642328,
            0.6918061449632744
           ],
           "values": [
            0.21741626703515354,
            0.16364560289860833,
            0.44308254873529707,
            0.38949982339345124,
            0.1344993470642328,
            0.27199160300163966,
            0.25175925644211006,
            0.6819748431633654,
            0.6918061449632744,
            0.5723731376413614,
            0.5280091634957156,
            0.3534504076649943,
            0.5816640248558018,
            0.4786388534004935,
            0.6462024732620291,
            0.32264533878991664
           ]
          },
          {
           "label": "disc_dropout_disc...",
           "range": [
            0.11682727436416407,
            0.6954625625972832
           ],
           "values": [
            0.5245725662961187,
            0.15454963599473473,
            0.6788858474593314,
            0.5749868438911242,
            0.3343853662904255,
            0.4859257242770456,
            0.282259487050058,
            0.11682727436416407,
            0.6954625625972832,
            0.24225032006471736,
            0.4165273185245302,
            0.6330619171203372
           ]
          },
          {
           "label": "disc_dropout_disc...",
           "range": [
            0.10557384693426536,
            0.6966198747047517
           ],
           "values": [
            0.3036502287347946,
            0.5278482883560693,
            0.5388252132323035,
            0.2646603798361777,
            0.4994548637355616,
            0.6966198747047517,
            0.12890677068675427,
            0.10557384693426536,
            0.6539669479615068
           ]
          },
          {
           "label": "disc_dropout_disc...",
           "range": [
            0.12769293617888788,
            0.6728235888546453
           ],
           "values": [
            0.4726577176662733,
            0.46997500121510316,
            0.5510517941586281,
            0.5186625141814555,
            0.6728235888546453,
            0.12769293617888788,
            0.18933968312317992
           ]
          },
          {
           "label": "disc_dropout_disc...",
           "range": [
            0.10445679357885856,
            0.5051755588592052
           ],
           "values": [
            0.4888617119191503,
            0.5051755588592052,
            0.3956184740010198,
            0.10445679357885856,
            0.12755240577601923
           ]
          },
          {
           "label": "disc_dropout_disc...",
           "range": [
            0.2835952368189152,
            0.662970151857397
           ],
           "values": [
            0.36312663281773006,
            0.2835952368189152,
            0.662970151857397
           ]
          },
          {
           "label": "disc_dropout_disc...",
           "range": [
            0.12459532352386937,
            0.6721888189951712
           ],
           "values": [
            0.6721888189951712,
            0.12459532352386937
           ]
          },
          {
           "label": "disc_n_units_l0",
           "range": [
            5,
            125
           ],
           "values": [
            50,
            32,
            91,
            33,
            68,
            101,
            69,
            93,
            63,
            47,
            16,
            78,
            125,
            71,
            111,
            59,
            80,
            40,
            17,
            58,
            86,
            50,
            71,
            51,
            66,
            26,
            24,
            5,
            7,
            43,
            54,
            35,
            77,
            61,
            52,
            23,
            40,
            31,
            61,
            94,
            86,
            65,
            72,
            65,
            50,
            56,
            56,
            33,
            28,
            45,
            36,
            35,
            15,
            38,
            41,
            46,
            46,
            38,
            47,
            65,
            60,
            27,
            20,
            11,
            12,
            74,
            20,
            19,
            8,
            22,
            19,
            11,
            13,
            11,
            11,
            12,
            10,
            5,
            15,
            16,
            14,
            5,
            19,
            19,
            30,
            18,
            8,
            9,
            8,
            25,
            24,
            24,
            9,
            9,
            5,
            13,
            11
           ]
          },
          {
           "label": "disc_n_units_l1",
           "range": [
            5,
            128
           ],
           "values": [
            122,
            79,
            126,
            75,
            65,
            117,
            54,
            89,
            7,
            106,
            38,
            46,
            49,
            20,
            60,
            30,
            62,
            94,
            59,
            73,
            5,
            19,
            87,
            103,
            46,
            26,
            13,
            33,
            52,
            117,
            81,
            128,
            101,
            111,
            69,
            39,
            125,
            80,
            94,
            117,
            120,
            113,
            97,
            85,
            86,
            108,
            74,
            122,
            125,
            116,
            121
           ]
          },
          {
           "label": "disc_n_units_l2",
           "range": [
            7,
            127
           ],
           "values": [
            86,
            98,
            15,
            95,
            116,
            82,
            101,
            69,
            124,
            33,
            127,
            44,
            116,
            53,
            110,
            7,
            66,
            127,
            23,
            74,
            58,
            34,
            9,
            26,
            49,
            42,
            60
           ]
          },
          {
           "label": "disc_n_units_l3",
           "range": [
            10,
            126
           ],
           "values": [
            92,
            14,
            20,
            65,
            10,
            106,
            97,
            52,
            126,
            42,
            122,
            35,
            79,
            70,
            115,
            25
           ]
          },
          {
           "label": "disc_n_units_l4",
           "range": [
            8,
            128
           ],
           "values": [
            75,
            128,
            49,
            41,
            117,
            112,
            10,
            8,
            82,
            101,
            28,
            92
           ]
          },
          {
           "label": "disc_n_units_l5",
           "range": [
            15,
            127
           ],
           "values": [
            71,
            15,
            29,
            61,
            80,
            127,
            110,
            39,
            103
           ]
          },
          {
           "label": "disc_n_units_l6",
           "range": [
            6,
            125
           ],
           "values": [
            43,
            111,
            26,
            116,
            125,
            75,
            6
           ]
          },
          {
           "label": "disc_n_units_l7",
           "range": [
            13,
            122
           ],
           "values": [
            97,
            122,
            103,
            13,
            14
           ]
          },
          {
           "label": "disc_n_units_l8",
           "range": [
            8,
            98
           ],
           "values": [
            16,
            98,
            8
           ]
          },
          {
           "label": "disc_n_units_l9",
           "range": [
            39,
            104
           ],
           "values": [
            39,
            104
           ]
          },
          {
           "label": "early_stoping",
           "range": [
            3,
            10
           ],
           "values": [
            4,
            6,
            6,
            6,
            5,
            5,
            4,
            4,
            7,
            6,
            10,
            3,
            8,
            3,
            4,
            5,
            8,
            5,
            3,
            4,
            7,
            4,
            5,
            4,
            3,
            3,
            3,
            4,
            3,
            10,
            4,
            3,
            3,
            4,
            4,
            5,
            6,
            5,
            4,
            4,
            5,
            3,
            3,
            4,
            3,
            4,
            3,
            4,
            5,
            6,
            4,
            4,
            4,
            3,
            3,
            3,
            3,
            8,
            3,
            9,
            3,
            3,
            3,
            4,
            3,
            4,
            5,
            5,
            5,
            3,
            7,
            7,
            7,
            7,
            7,
            7,
            7,
            7,
            8,
            8,
            8,
            7,
            6,
            6,
            6,
            6,
            6,
            6,
            6,
            6,
            6,
            6,
            6,
            6,
            6,
            7,
            7
           ]
          },
          {
           "label": "gen_activation_last",
           "range": [
            0,
            3
           ],
           "ticktext": [
            [
             "LeakyReLU",
             0
            ],
            [
             "Tanh",
             1
            ],
            [
             "_",
             2
            ],
            [
             "ReLU",
             3
            ]
           ],
           "tickvals": [
            0,
            1,
            2,
            3
           ],
           "values": [
            0,
            1,
            2,
            3,
            3,
            1,
            1,
            1,
            1,
            2,
            0,
            3,
            3,
            3,
            3,
            1,
            2,
            0,
            1,
            3,
            3,
            0,
            0,
            0,
            0,
            0,
            0,
            0,
            0,
            0,
            0,
            0,
            0,
            0,
            1,
            0,
            2,
            1,
            0,
            1,
            0,
            0,
            0,
            0,
            0,
            1,
            0,
            1,
            2,
            0,
            0,
            0,
            0,
            0,
            0,
            0,
            0,
            0,
            0,
            0,
            0,
            0,
            0,
            0,
            0,
            0,
            0,
            2,
            0,
            3,
            0,
            0,
            0,
            0,
            0,
            0,
            0,
            0,
            0,
            0,
            0,
            0,
            0,
            0,
            0,
            3,
            3,
            3,
            3,
            3,
            3,
            3,
            3,
            3,
            3,
            3,
            3
           ]
          },
          {
           "label": "gen_dropout_l0",
           "range": [
            0.10379862813488147,
            0.6972438547742058
           ],
           "values": [
            0.13573548836263022,
            0.5326484481797353,
            0.3495299732520506,
            0.1783482899043402,
            0.4754653781664919,
            0.42358640753731436,
            0.14348150413071112,
            0.6145183178090257,
            0.23431942556626228,
            0.4461012151882209,
            0.2795473566634672,
            0.5562654304358711,
            0.6831000136646198,
            0.3455843688934644,
            0.47894041188010367,
            0.35194443123079905,
            0.6613890551800712,
            0.10466952789249809,
            0.5256799602348026,
            0.28211905533791387,
            0.5938731870800864,
            0.13417567162677735,
            0.18426115866237386,
            0.14982223382871676,
            0.47150100437106374,
            0.21922431844235385,
            0.2098159663732982,
            0.10379862813488147,
            0.2643623109387627,
            0.1465344082578233,
            0.14419015038954375,
            0.10718229403256471,
            0.3771281890355179,
            0.23110105858022414,
            0.23328935086333505,
            0.3149321662539827,
            0.18116325798591001,
            0.21435916549129314,
            0.15186640303841092,
            0.24886989335296705,
            0.3051927446209081,
            0.41508032478225854,
            0.4065366822293109,
            0.19833966885109683,
            0.16665809923222102,
            0.12643766772726767,
            0.11855128203641382,
            0.38838035704652163,
            0.422557390268251,
            0.3830398709531014,
            0.3328935715679313,
            0.3494077877502888,
            0.43872404513902213,
            0.32341697249798984,
            0.30188309846377637,
            0.3296744868547537,
            0.3268717299720729,
            0.3611806397373571,
            0.284126640458255,
            0.3298168392615562,
            0.2657651974722175,
            0.4080653289102823,
            0.46140867206373604,
            0.5083991347339172,
            0.5097135211414271,
            0.4789081246726711,
            0.562907572423036,
            0.5660759943480402,
            0.5007507041126134,
            0.6403136651065463,
            0.5519648487295722,
            0.5548491880847947,
            0.5624024939478489,
            0.5629631780085108,
            0.5850404564699342,
            0.5567688178583474,
            0.5773355506415182,
            0.6083596943686251,
            0.5349448932571045,
            0.5352244431921689,
            0.6268593140028734,
            0.5391416689717452,
            0.588447259840744,
            0.5893463852398063,
            0.6612573844927949,
            0.58278850664885,
            0.5889219370046718,
            0.5903594643653325,
            0.6020772194244605,
            0.631517426457632,
            0.6287037359441356,
            0.6551220621628541,
            0.6888359892542462,
            0.6972438547742058,
            0.6812334440069383,
            0.5866356987346901,
            0.6193587823977471
           ]
          },
          {
           "label": "gen_dropout_l1",
           "range": [
            0.10157194013733259,
            0.6973157890314758
           ],
           "values": [
            0.1269403965449067,
            0.5192901766860782,
            0.410739292272856,
            0.20238048722921323,
            0.10886800692788162,
            0.17070737893151822,
            0.1074777370708599,
            0.6069119041763887,
            0.5939852995459213,
            0.24780234855569372,
            0.10172959135470874,
            0.3269772126125877,
            0.10157194013733259,
            0.27346191065918635,
            0.40302795481647186,
            0.6908984003933065,
            0.18080505325557536,
            0.32854391191242105,
            0.14275975191561985,
            0.11891325454562002,
            0.2230176255147731,
            0.10289566281778767,
            0.29321173016995106,
            0.4547456205665976,
            0.35107623715434244,
            0.23232173723063138,
            0.2790230200504769,
            0.16786948031235926,
            0.4869144131680949,
            0.14443511007045584,
            0.5618333148543377,
            0.36863557342981756,
            0.2907116294966703,
            0.4312406838583008,
            0.2050798049091996,
            0.14373458438000103,
            0.2588347038928629,
            0.6973157890314758,
            0.6528325047028903,
            0.5316537219778427,
            0.5187600365665221,
            0.5774097976642507,
            0.5321196272988157,
            0.45228278722502097,
            0.6198685298771731,
            0.38021343039683264,
            0.39131342112272893,
            0.3028073305922876,
            0.48863054313239906,
            0.4932924562407078,
            0.4797298396407513,
            0.5469520140589709,
            0.4387632937027363,
            0.43583295219990503,
            0.42647384182253967,
            0.42268696960038926,
            0.4190144085890918,
            0.42757610035614807,
            0.36987371467503327,
            0.45342657093457595,
            0.4131657060200942,
            0.39890348967886347,
            0.4141286885899341,
            0.37972312209260956,
            0.42594341212891507,
            0.34073833758719385,
            0.34867385887505314,
            0.32426361752520094,
            0.3475716792588174,
            0.3161981013420024,
            0.31612146496305105,
            0.3306630358798373,
            0.336375118743272,
            0.34624991589830345,
            0.343534238964107,
            0.3117459012565617,
            0.3723048535585426,
            0.3303910493292571,
            0.3629150819762643
           ]
          },
          {
           "label": "gen_dropout_l2",
           "range": [
            0.11047482019925359,
            0.6996838326723109
           ],
           "values": [
            0.4438910926874543,
            0.26299669875908516,
            0.6921622305769526,
            0.30168898924170295,
            0.4962587059384924,
            0.5473201939033008,
            0.17412967129028106,
            0.1629181943614777,
            0.6513465347865541,
            0.5634217359042397,
            0.5602148499739238,
            0.35872326776091046,
            0.6225500995839874,
            0.43639450561328863,
            0.5197458688411216,
            0.3716922676433585,
            0.45821984021245626,
            0.6011944121041528,
            0.6902248923700449,
            0.2680007596515579,
            0.11637620109280189,
            0.5309692451386548,
            0.33252375685005997,
            0.6996838326723109,
            0.4822116618236785,
            0.1959019717928851,
            0.4044295256460862,
            0.11047482019925359,
            0.23144835545053988,
            0.40965405596121424,
            0.2811177817797526,
            0.22569756218147677,
            0.22968338160849291,
            0.20809704888989,
            0.234593142008281,
            0.21802283375432976,
            0.22404240797849495,
            0.23765830490311038,
            0.14669665570202897,
            0.314495731278544,
            0.3086950426487496,
            0.18374327650452418,
            0.19886301137676338,
            0.251579361285563,
            0.2546205579689943,
            0.2975975085635409,
            0.2585558182621623,
            0.2582332173840759,
            0.2531116796892881,
            0.21090815858480386,
            0.1530957101733968,
            0.14974796892947395,
            0.16575299212715894,
            0.26425750846501267,
            0.2736082980417422,
            0.25480728241018574,
            0.2558592553880598,
            0.2886990414640856
           ]
          },
          {
           "label": "gen_dropout_l3",
           "range": [
            0.11259807101436808,
            0.6976791758045955
           ],
           "values": [
            0.6728631204327354,
            0.6404809135965861,
            0.6956345639886866,
            0.6533003204114064,
            0.2371105867741776,
            0.5647571761344949,
            0.49893785168984184,
            0.15636368769300346,
            0.24867601409122747,
            0.33040240696756107,
            0.11302870742515536,
            0.3572271076822587,
            0.21157622345185467,
            0.4413141906387674,
            0.26026763799682723,
            0.30472062792149307,
            0.11259807101436808,
            0.43194729755153016,
            0.18560267405847933,
            0.5680640379554925,
            0.5104004472288444,
            0.5698806937425546,
            0.5724089224940755,
            0.5771042082922148,
            0.5861034153763173,
            0.580208497282176,
            0.5218436980244591,
            0.6096880590899802,
            0.5092802296099909,
            0.5066709909389138,
            0.46897362967126893,
            0.5349792763385249,
            0.6124960495801923,
            0.6171907644423773,
            0.6179955999062785,
            0.6122025743972411,
            0.6828639094625575,
            0.695878579248437,
            0.6950247395224354,
            0.6731032168504768,
            0.6556364439048864,
            0.6686149234493441,
            0.6951134941592031,
            0.6976791758045955,
            0.640955317117005,
            0.6934622769451946,
            0.6938209686080259
           ]
          },
          {
           "label": "gen_dropout_l4",
           "range": [
            0.10026488491920336,
            0.678786903149937
           ],
           "values": [
            0.42414328160145265,
            0.6075987948125409,
            0.5134891153681588,
            0.26280042088774613,
            0.4912164564875222,
            0.6753531192271764,
            0.11787220683571292,
            0.5448558948913726,
            0.2998696924845575,
            0.678786903149937,
            0.35049430235410917,
            0.21003410603118317,
            0.43569059055112186,
            0.5736488408052985,
            0.17716156751504694,
            0.10026488491920336,
            0.10112349257361936,
            0.10411101091123037,
            0.1031914995911623,
            0.1142276836513695,
            0.16289475318416574,
            0.10300838561409233,
            0.1749166329755137,
            0.19335947357500427,
            0.15776848028683613,
            0.10063774536666055,
            0.15233530923576388,
            0.1602953197253108,
            0.16129190174780367,
            0.22647774148481647,
            0.23679529009036154,
            0.2470598144318617,
            0.24438364510956623,
            0.23004025199456224,
            0.22983464664871697,
            0.24575731110227816,
            0.2570089294034847,
            0.2740924121382279,
            0.29928168663192695,
            0.21412501109642912,
            0.12889554603823916
           ]
          },
          {
           "label": "gen_dropout_l5",
           "range": [
            0.10319357613606728,
            0.6999188789925666
           ],
           "values": [
            0.595206490440969,
            0.17831789006821608,
            0.3226784019512944,
            0.6822037201296327,
            0.2932530422791303,
            0.44660520218849176,
            0.40278503820461503,
            0.10319357613606728,
            0.22096583268203027,
            0.5038203074336635,
            0.3180631527563123,
            0.30592322405349925,
            0.686102349470654,
            0.6999188789925666,
            0.6948367716042639,
            0.6992294863639988,
            0.6911544650720152,
            0.6254018199264797,
            0.69888742340609,
            0.6023405850425753,
            0.6827283154854912,
            0.6968396689503832,
            0.6432138641951932,
            0.6387238135138076,
            0.5466520023223701,
            0.564688403682915,
            0.5398382603932409,
            0.5539719025070384,
            0.552515225002161,
            0.5466965618391735,
            0.49118833224713176,
            0.47123336003073923,
            0.5653510479856826,
            0.6435863777425757,
            0.6486792922400979
           ]
          },
          {
           "label": "gen_dropout_l6",
           "range": [
            0.10111829957342844,
            0.6993680683668414
           ],
           "values": [
            0.21506931340953922,
            0.5735893523563064,
            0.528554305463778,
            0.30450394706812245,
            0.6993680683668414,
            0.5145499860189154,
            0.48780931040932635,
            0.6923256863831797,
            0.10111829957342844,
            0.37558654129689384,
            0.1390228528112783,
            0.25649730535811643,
            0.6371427915584102,
            0.6495699049852193,
            0.6141691233244447,
            0.6154880372443039,
            0.607781232692353,
            0.4419882646772857,
            0.41407011646223524,
            0.42440863031649534,
            0.4333375529732069,
            0.6081375068080128,
            0.4644403404554595,
            0.5694995777031027,
            0.5738959819131493
           ]
          },
          {
           "label": "gen_dropout_l7",
           "range": [
            0.11799271673448769,
            0.6912829321810012
           ],
           "values": [
            0.372960092786635,
            0.13370153519801992,
            0.1766802534994865,
            0.6348342572109843,
            0.11799271673448769,
            0.3161054237338841,
            0.24222216104349972,
            0.5871472117949058,
            0.6006806205991861,
            0.6083649961289936,
            0.6004190181283683,
            0.518320699360805,
            0.5417085153167065,
            0.520211761345902,
            0.5023868189526765,
            0.49123006111025164,
            0.6912829321810012,
            0.598011561162788,
            0.5940301805251378
           ]
          },
          {
           "label": "gen_dropout_l8",
           "range": [
            0.12244779280901745,
            0.6996634943945172
           ],
           "values": [
            0.35457708781344544,
            0.45363801110290525,
            0.12827888535493343,
            0.31339046102320783,
            0.12244779280901745,
            0.6996634943945172,
            0.6947182411012052,
            0.675679031672986,
            0.556728880571132,
            0.5840156473608392
           ]
          },
          {
           "label": "gen_dropout_l9",
           "range": [
            0.5066626490920962,
            0.6892014293627856
           ],
           "values": [
            0.5066626490920962,
            0.5100800892145909,
            0.6892014293627856
           ]
          },
          {
           "label": "gen_n_units_l0",
           "range": [
            5,
            127
           ],
           "values": [
            23,
            86,
            41,
            111,
            104,
            64,
            50,
            32,
            124,
            48,
            11,
            91,
            71,
            101,
            63,
            127,
            79,
            54,
            112,
            98,
            5,
            22,
            24,
            44,
            45,
            41,
            33,
            55,
            35,
            17,
            54,
            42,
            46,
            28,
            27,
            36,
            70,
            58,
            15,
            39,
            29,
            49,
            48,
            61,
            41,
            50,
            78,
            53,
            66,
            38,
            19,
            5,
            21,
            32,
            11,
            28,
            29,
            17,
            25,
            10,
            35,
            30,
            19,
            20,
            14,
            24,
            33,
            32,
            44,
            8,
            20,
            21,
            23,
            24,
            21,
            14,
            21,
            7,
            24,
            24,
            13,
            18,
            26,
            32,
            27,
            32,
            32,
            37,
            36,
            39,
            38,
            30,
            30,
            39,
            34,
            42,
            42
           ]
          },
          {
           "label": "gen_n_units_l1",
           "range": [
            5,
            128
           ],
           "values": [
            63,
            103,
            43,
            58,
            93,
            54,
            36,
            80,
            55,
            5,
            128,
            20,
            98,
            28,
            85,
            128,
            111,
            78,
            28,
            69,
            42,
            91,
            93,
            112,
            14,
            41,
            88,
            72,
            6,
            63,
            119,
            48,
            101,
            106,
            121,
            104,
            101,
            94,
            75,
            86,
            87,
            64,
            82,
            111,
            118,
            98,
            97,
            106,
            89,
            91,
            99,
            83,
            89,
            79,
            89,
            78,
            78,
            79,
            79,
            73,
            70,
            64,
            70,
            59,
            76,
            76,
            75,
            69,
            67,
            57,
            51,
            60,
            59,
            57,
            55,
            51,
            66,
            67,
            60
           ]
          },
          {
           "label": "gen_n_units_l2",
           "range": [
            5,
            128
           ],
           "values": [
            49,
            55,
            111,
            98,
            92,
            122,
            94,
            103,
            128,
            9,
            24,
            126,
            73,
            75,
            28,
            117,
            48,
            43,
            81,
            64,
            113,
            85,
            128,
            5,
            61,
            16,
            31,
            40,
            37,
            56,
            12,
            20,
            19,
            20,
            18,
            19,
            18,
            22,
            5,
            31,
            33,
            13,
            23,
            19,
            27,
            28,
            9,
            9,
            9,
            8,
            12,
            12,
            12,
            5,
            6,
            15,
            9,
            26
           ]
          },
          {
           "label": "gen_n_units_l3",
           "range": [
            5,
            128
           ],
           "values": [
            83,
            88,
            73,
            49,
            122,
            73,
            120,
            7,
            119,
            33,
            104,
            128,
            6,
            100,
            52,
            25,
            106,
            52,
            124,
            22,
            38,
            38,
            41,
            40,
            39,
            41,
            38,
            23,
            57,
            61,
            60,
            44,
            29,
            31,
            32,
            15,
            13,
            15,
            14,
            15,
            15,
            14,
            14,
            18,
            5,
            11,
            9
           ]
          },
          {
           "label": "gen_n_units_l4",
           "range": [
            7,
            128
           ],
           "values": [
            110,
            95,
            48,
            20,
            103,
            33,
            56,
            61,
            7,
            45,
            83,
            70,
            32,
            128,
            125,
            126,
            128,
            127,
            128,
            128,
            117,
            127,
            120,
            117,
            117,
            127,
            126,
            117,
            118,
            128,
            128,
            128,
            128,
            108,
            110,
            107,
            107,
            98,
            112,
            121,
            112
           ]
          },
          {
           "label": "gen_n_units_l5",
           "range": [
            6,
            128
           ],
           "values": [
            53,
            19,
            34,
            93,
            6,
            47,
            121,
            31,
            80,
            6,
            36,
            66,
            124,
            121,
            114,
            128,
            128,
            110,
            109,
            106,
            119,
            104,
            104,
            101,
            91,
            89,
            83,
            91,
            91,
            89,
            84,
            72,
            96,
            115,
            116
           ]
          },
          {
           "label": "gen_n_units_l6",
           "range": [
            6,
            124
           ],
           "values": [
            77,
            10,
            18,
            50,
            6,
            124,
            44,
            93,
            27,
            116,
            99,
            69,
            42,
            40,
            59,
            57,
            57,
            33,
            30,
            37,
            57,
            58,
            70,
            58,
            55
           ]
          },
          {
           "label": "gen_n_units_l7",
           "range": [
            5,
            124
           ],
           "values": [
            122,
            96,
            94,
            6,
            52,
            71,
            124,
            12,
            10,
            11,
            6,
            30,
            23,
            26,
            28,
            21,
            34,
            5,
            5
           ]
          },
          {
           "label": "gen_n_units_l8",
           "range": [
            9,
            127
           ],
           "values": [
            49,
            50,
            62,
            70,
            121,
            9,
            124,
            127,
            100,
            97
           ]
          },
          {
           "label": "gen_n_units_l9",
           "range": [
            101,
            126
           ],
           "values": [
            126,
            125,
            101
           ]
          },
          {
           "label": "lr_disc",
           "range": [
            -4.9986056243914625,
            -1.017270529423687
           ],
           "ticktext": [
            "1e-05",
            "0.0001",
            "0.001",
            "0.01",
            "0.0961"
           ],
           "tickvals": [
            -4.9986056243914625,
            -4,
            -3,
            -2,
            -1.017270529423687
           ],
           "values": [
            -4.342954122342641,
            -2.668345971030851,
            -1.6858664866846707,
            -2.546180735647118,
            -1.2700764092171795,
            -4.516638588794811,
            -2.9548257581826745,
            -3.778584314558377,
            -1.1929364486813587,
            -3.485013551474949,
            -2.2224607930135116,
            -1.2758256915421338,
            -1.8616633364867297,
            -3.3427841710693866,
            -2.999081251506946,
            -4.945005077703386,
            -1.615727125013969,
            -4.059007777261087,
            -1.017270529423687,
            -2.16948385232799,
            -2.8056301395270586,
            -4.406322762629836,
            -4.525517371024512,
            -4.944946559728677,
            -4.986641079087654,
            -4.970177060355309,
            -3.2996275664772075,
            -4.810541613123949,
            -3.774345307786294,
            -4.097783086624337,
            -4.7977013637794945,
            -4.958400103876511,
            -4.9986056243914625,
            -4.685396390752084,
            -4.655332716845425,
            -4.208409785816787,
            -2.6619473623519934,
            -3.852530770448357,
            -3.0285421913411508,
            -4.720222174667317,
            -2.397161526299733,
            -4.335055054085601,
            -4.239817200064265,
            -4.463082912143441,
            -3.53685257918758,
            -4.562445958452192,
            -4.575273099760718,
            -4.291046804657261,
            -4.3366330395544415,
            -4.732749140225751,
            -3.9577638292377406,
            -3.944081754188522,
            -4.291944399789458,
            -3.621631753347327,
            -3.665501166523548,
            -4.024448431904457,
            -4.04449943882643,
            -3.2024261609332427,
            -3.4811073641337096,
            -3.711035461691962,
            -3.9440929516717764,
            -4.138460274709834,
            -4.888327100600524,
            -3.9481495510220985,
            -4.852670966702911,
            -4.382204147557934,
            -3.631534600099934,
            -3.531867004254503,
            -3.5961407079283427,
            -3.3917641939183567,
            -3.8469715631526156,
            -3.8255746182592816,
            -3.8253132810582953,
            -3.8179762373896837,
            -3.868030204027073,
            -3.8287463515761826,
            -3.7500985625648102,
            -3.301520999906705,
            -3.871564913224879,
            -3.0898801889277787,
            -3.4402763399071428,
            -3.6372019280931824,
            -3.8815145006525777,
            -4.1445020604818605,
            -4.179058245491523,
            -3.9043166684749306,
            -4.114253515626454,
            -4.096006549161213,
            -4.1000062696577055,
            -4.134906942006648,
            -4.001221235797839,
            -4.0209874973761215,
            -4.4493063201474214,
            -4.462507835988032,
            -4.237670891921999,
            -4.1458658150289605,
            -4.202023349965168
           ]
          },
          {
           "label": "lr_gen",
           "range": [
            -4.994731873951415,
            -1.0236353534843206
           ],
           "ticktext": [
            "1.01e-05",
            "0.0001",
            "0.001",
            "0.01",
            "0.0947"
           ],
           "tickvals": [
            -4.994731873951415,
            -4,
            -3,
            -2,
            -1.0236353534843206
           ],
           "values": [
            -3.880806295103513,
            -2.8696138814039758,
            -3.8725705780451296,
            -2.8451799456566556,
            -4.975146261779423,
            -1.8781630588101181,
            -3.701316831081308,
            -4.429500954472703,
            -3.283101938894864,
            -1.0236353534843206,
            -2.0796229571475786,
            -4.992562161662166,
            -4.918896113662132,
            -4.18786089281051,
            -3.457166521823527,
            -4.635293489814362,
            -2.326988366228294,
            -4.001701355029056,
            -3.566870719708064,
            -4.6265572308449565,
            -1.1435827695637406,
            -3.7712804536714972,
            -3.139197334889921,
            -4.282175619372019,
            -4.296037009874201,
            -4.278443755818696,
            -4.603351527039698,
            -3.564640905585279,
            -4.096031493918235,
            -3.864558926955244,
            -4.411973488478379,
            -4.272950144068666,
            -4.746621048187657,
            -3.7199172055366345,
            -2.791312856407363,
            -3.750641689735733,
            -3.2420189953196323,
            -2.6162054092249947,
            -3.633286053755599,
            -4.041407609868958,
            -3.3657274806931223,
            -4.4760188946328725,
            -4.437534645262239,
            -3.937561155323955,
            -4.799151668000935,
            -4.377628708534855,
            -4.471712106006787,
            -4.219230169290276,
            -4.123023558341796,
            -4.813172316452834,
            -4.97694377398508,
            -4.961020087219917,
            -4.529645212624816,
            -4.742524948196993,
            -4.717527186066216,
            -4.977975927136231,
            -4.931049158973734,
            -4.845005521015933,
            -4.6469867002695695,
            -4.994731873951415,
            -4.557640368974243,
            -4.301188516698243,
            -3.8574670683166232,
            -3.8129608852300656,
            -3.994926211335847,
            -3.4604393820668005,
            -3.90162747844451,
            -4.143489936137116,
            -3.913586058763963,
            -3.847050093874141,
            -3.0947558025188866,
            -2.904378062047368,
            -3.093298881955098,
            -3.0360384962762574,
            -2.960809392773964,
            -3.041242514158436,
            -2.747137148959013,
            -2.9739722022186363,
            -2.560272874925949,
            -2.441630008333883,
            -1.993452204236,
            -2.615948655011488,
            -3.181332906666394,
            -3.165584659713483,
            -3.1621766247498306,
            -3.3111948059136975,
            -3.139806637099053,
            -3.318471972679148,
            -3.397502448327211,
            -3.070894792328419,
            -2.87959194040658,
            -3.2649680628345803,
            -3.245948624285202,
            -2.989924560805827,
            -3.3491813739549134,
            -3.466571951239572,
            -3.4479659210643816
           ]
          },
          {
           "label": "n_epochs",
           "range": [
            5,
            40
           ],
           "values": [
            8,
            34,
            19,
            8,
            18,
            23,
            18,
            15,
            21,
            6,
            29,
            15,
            27,
            14,
            25,
            18,
            11,
            40,
            31,
            12,
            18,
            5,
            9,
            22,
            22,
            22,
            24,
            26,
            34,
            20,
            28,
            22,
            22,
            17,
            17,
            16,
            20,
            14,
            24,
            12,
            19,
            21,
            20,
            17,
            23,
            21,
            25,
            21,
            29,
            16,
            26,
            27,
            31,
            24,
            24,
            26,
            30,
            25,
            33,
            27,
            37,
            19,
            26,
            26,
            28,
            26,
            23,
            25,
            23,
            24,
            28,
            28,
            29,
            31,
            33,
            33,
            35,
            31,
            29,
            30,
            32,
            28,
            29,
            30,
            30,
            29,
            36,
            36,
            37,
            36,
            36,
            36,
            40,
            38,
            40,
            39,
            39
           ]
          },
          {
           "label": "n_layers_disc",
           "range": [
            1,
            10
           ],
           "values": [
            2,
            5,
            7,
            7,
            2,
            5,
            3,
            8,
            9,
            10,
            1,
            3,
            3,
            1,
            3,
            4,
            1,
            2,
            4,
            2,
            4,
            2,
            2,
            1,
            1,
            1,
            1,
            3,
            6,
            1,
            3,
            1,
            2,
            1,
            1,
            4,
            2,
            6,
            5,
            3,
            2,
            1,
            1,
            1,
            2,
            1,
            1,
            1,
            2,
            8,
            1,
            1,
            2,
            1,
            2,
            1,
            2,
            1,
            3,
            1,
            2,
            1,
            1,
            1,
            10,
            1,
            2,
            2,
            3,
            2,
            1,
            1,
            1,
            1,
            2,
            2,
            3,
            2,
            2,
            3,
            2,
            2,
            1,
            1,
            1,
            1,
            1,
            1,
            1,
            1,
            1,
            1,
            1,
            1,
            1,
            1,
            1
           ]
          },
          {
           "label": "n_layers_gen",
           "range": [
            1,
            10
           ],
           "values": [
            4,
            4,
            3,
            9,
            2,
            10,
            10,
            9,
            5,
            1,
            7,
            1,
            7,
            2,
            7,
            6,
            10,
            2,
            5,
            8,
            3,
            4,
            3,
            2,
            2,
            1,
            1,
            1,
            6,
            3,
            4,
            2,
            2,
            1,
            1,
            1,
            3,
            9,
            2,
            1,
            4,
            2,
            3,
            2,
            1,
            2,
            2,
            1,
            1,
            1,
            1,
            1,
            2,
            1,
            3,
            2,
            3,
            2,
            2,
            4,
            3,
            1,
            1,
            2,
            2,
            2,
            2,
            3,
            3,
            2,
            5,
            6,
            6,
            6,
            6,
            6,
            7,
            5,
            6,
            5,
            7,
            6,
            6,
            8,
            7,
            5,
            8,
            8,
            8,
            8,
            8,
            8,
            9,
            9,
            9,
            8,
            9
           ]
          },
          {
           "label": "optimizer_disc",
           "range": [
            0,
            3
           ],
           "ticktext": [
            [
             "Adam",
             0
            ],
            [
             "SGD",
             1
            ],
            [
             "RMSprop",
             2
            ],
            [
             "AdamW",
             3
            ]
           ],
           "tickvals": [
            0,
            1,
            2,
            3
           ],
           "values": [
            0,
            1,
            0,
            2,
            0,
            1,
            0,
            0,
            2,
            3,
            3,
            0,
            0,
            0,
            0,
            0,
            0,
            1,
            2,
            3,
            0,
            0,
            0,
            0,
            0,
            0,
            0,
            1,
            0,
            2,
            3,
            0,
            0,
            0,
            0,
            0,
            0,
            1,
            0,
            0,
            2,
            0,
            0,
            0,
            0,
            0,
            0,
            0,
            3,
            0,
            0,
            0,
            0,
            0,
            0,
            0,
            1,
            0,
            2,
            0,
            0,
            0,
            0,
            0,
            0,
            0,
            3,
            3,
            3,
            3,
            3,
            3,
            3,
            3,
            3,
            3,
            3,
            3,
            3,
            3,
            3,
            3,
            3,
            3,
            3,
            3,
            3,
            3,
            3,
            3,
            3,
            3,
            3,
            3,
            3,
            3,
            3
           ]
          },
          {
           "label": "optimizer_gen",
           "range": [
            0,
            3
           ],
           "ticktext": [
            [
             "Adam",
             0
            ],
            [
             "RMSprop",
             1
            ],
            [
             "AdamW",
             2
            ],
            [
             "SGD",
             3
            ]
           ],
           "tickvals": [
            0,
            1,
            2,
            3
           ],
           "values": [
            0,
            0,
            1,
            0,
            0,
            2,
            2,
            3,
            2,
            2,
            2,
            0,
            3,
            1,
            2,
            0,
            2,
            1,
            3,
            0,
            2,
            0,
            0,
            0,
            0,
            0,
            0,
            2,
            0,
            3,
            1,
            0,
            0,
            0,
            0,
            0,
            0,
            0,
            0,
            2,
            1,
            0,
            0,
            0,
            0,
            0,
            0,
            0,
            0,
            0,
            0,
            0,
            0,
            0,
            0,
            0,
            3,
            0,
            0,
            0,
            0,
            0,
            0,
            0,
            0,
            1,
            0,
            3,
            0,
            0,
            0,
            0,
            0,
            0,
            0,
            0,
            0,
            0,
            0,
            1,
            0,
            0,
            0,
            0,
            0,
            0,
            2,
            2,
            2,
            2,
            2,
            2,
            2,
            2,
            2,
            2,
            2
           ]
          }
         ],
         "labelangle": 30,
         "labelside": "bottom",
         "line": {
          "color": [
           3.305008888244629,
           3.097545623779297,
           2.009999990463257,
           2.9087793827056885,
           3.319063425064087,
           3.2695870399475098,
           3.3614325523376465,
           3.104318857192993,
           2.879727363586426,
           3.1507959365844727,
           3.1821610927581787,
           3.250124454498291,
           3.2672343254089355,
           3.1574296951293945,
           3.1852054595947266,
           3.035029172897339,
           3.1792054176330566,
           2.929734230041504,
           3.1525487899780273,
           3.2205233573913574,
           2.8916783332824707,
           3.2911360263824463,
           3.1313977241516113,
           3.4025626182556152,
           3.3486886024475098,
           3.391876220703125,
           3.2283079624176025,
           2.839789628982544,
           3.2364323139190674,
           3.2952146530151367,
           2.928969383239746,
           3.2823798656463623,
           3.262253761291504,
           3.399529457092285,
           3.1227455139160156,
           3.2401227951049805,
           3.2311062812805176,
           3.0116724967956543,
           3.29864501953125,
           2.8043620586395264,
           3.2545127868652344,
           3.4058308601379395,
           3.2392120361328125,
           3.2651569843292236,
           3.0930562019348145,
           3.3759405612945557,
           3.341684103012085,
           3.3805339336395264,
           3.177825927734375,
           3.272839069366455,
           3.394709587097168,
           3.3773560523986816,
           2.829134702682495,
           3.4489476680755615,
           2.6126904487609863,
           3.4069879055023193,
           2.98738169670105,
           3.220608711242676,
           3.157867431640625,
           3.257091522216797,
           3.007598400115967,
           3.3779237270355225,
           3.401033401489258,
           3.496696710586548,
           3.3581061363220215,
           3.3329739570617676,
           3.4454312324523926,
           3.346867084503174,
           3.0011940002441406,
           3.1469101905822754,
           3.4605064392089844,
           3.4445536136627197,
           3.5069003105163574,
           3.5014278888702393,
           3.5054988861083984,
           3.3933980464935303,
           3.1035735607147217,
           3.086167573928833,
           3.445669174194336,
           2.8443219661712646,
           3.3543899059295654,
           3.3825864791870117,
           3.458162546157837,
           3.554935932159424,
           3.416116237640381,
           3.486581802368164,
           3.5348434448242188,
           3.5062079429626465,
           3.4383888244628906,
           3.503541946411133,
           3.4806628227233887,
           3.4832606315612793,
           3.5330898761749268,
           3.4348201751708984,
           3.299252510070801,
           3.51578950881958,
           3.432868003845215
          ],
          "colorbar": {
           "title": {
            "text": "Objective Value"
           }
          },
          "colorscale": [
           [
            0,
            "rgb(247,251,255)"
           ],
           [
            0.125,
            "rgb(222,235,247)"
           ],
           [
            0.25,
            "rgb(198,219,239)"
           ],
           [
            0.375,
            "rgb(158,202,225)"
           ],
           [
            0.5,
            "rgb(107,174,214)"
           ],
           [
            0.625,
            "rgb(66,146,198)"
           ],
           [
            0.75,
            "rgb(33,113,181)"
           ],
           [
            0.875,
            "rgb(8,81,156)"
           ],
           [
            1,
            "rgb(8,48,107)"
           ]
          ],
          "reversescale": false,
          "showscale": true
         },
         "type": "parcoords"
        }
       ],
       "layout": {
        "template": {
         "data": {
          "bar": [
           {
            "error_x": {
             "color": "#2a3f5f"
            },
            "error_y": {
             "color": "#2a3f5f"
            },
            "marker": {
             "line": {
              "color": "#E5ECF6",
              "width": 0.5
             }
            },
            "type": "bar"
           }
          ],
          "barpolar": [
           {
            "marker": {
             "line": {
              "color": "#E5ECF6",
              "width": 0.5
             }
            },
            "type": "barpolar"
           }
          ],
          "carpet": [
           {
            "aaxis": {
             "endlinecolor": "#2a3f5f",
             "gridcolor": "white",
             "linecolor": "white",
             "minorgridcolor": "white",
             "startlinecolor": "#2a3f5f"
            },
            "baxis": {
             "endlinecolor": "#2a3f5f",
             "gridcolor": "white",
             "linecolor": "white",
             "minorgridcolor": "white",
             "startlinecolor": "#2a3f5f"
            },
            "type": "carpet"
           }
          ],
          "choropleth": [
           {
            "colorbar": {
             "outlinewidth": 0,
             "ticks": ""
            },
            "type": "choropleth"
           }
          ],
          "contour": [
           {
            "colorbar": {
             "outlinewidth": 0,
             "ticks": ""
            },
            "colorscale": [
             [
              0,
              "#0d0887"
             ],
             [
              0.1111111111111111,
              "#46039f"
             ],
             [
              0.2222222222222222,
              "#7201a8"
             ],
             [
              0.3333333333333333,
              "#9c179e"
             ],
             [
              0.4444444444444444,
              "#bd3786"
             ],
             [
              0.5555555555555556,
              "#d8576b"
             ],
             [
              0.6666666666666666,
              "#ed7953"
             ],
             [
              0.7777777777777778,
              "#fb9f3a"
             ],
             [
              0.8888888888888888,
              "#fdca26"
             ],
             [
              1,
              "#f0f921"
             ]
            ],
            "type": "contour"
           }
          ],
          "contourcarpet": [
           {
            "colorbar": {
             "outlinewidth": 0,
             "ticks": ""
            },
            "type": "contourcarpet"
           }
          ],
          "heatmap": [
           {
            "colorbar": {
             "outlinewidth": 0,
             "ticks": ""
            },
            "colorscale": [
             [
              0,
              "#0d0887"
             ],
             [
              0.1111111111111111,
              "#46039f"
             ],
             [
              0.2222222222222222,
              "#7201a8"
             ],
             [
              0.3333333333333333,
              "#9c179e"
             ],
             [
              0.4444444444444444,
              "#bd3786"
             ],
             [
              0.5555555555555556,
              "#d8576b"
             ],
             [
              0.6666666666666666,
              "#ed7953"
             ],
             [
              0.7777777777777778,
              "#fb9f3a"
             ],
             [
              0.8888888888888888,
              "#fdca26"
             ],
             [
              1,
              "#f0f921"
             ]
            ],
            "type": "heatmap"
           }
          ],
          "heatmapgl": [
           {
            "colorbar": {
             "outlinewidth": 0,
             "ticks": ""
            },
            "colorscale": [
             [
              0,
              "#0d0887"
             ],
             [
              0.1111111111111111,
              "#46039f"
             ],
             [
              0.2222222222222222,
              "#7201a8"
             ],
             [
              0.3333333333333333,
              "#9c179e"
             ],
             [
              0.4444444444444444,
              "#bd3786"
             ],
             [
              0.5555555555555556,
              "#d8576b"
             ],
             [
              0.6666666666666666,
              "#ed7953"
             ],
             [
              0.7777777777777778,
              "#fb9f3a"
             ],
             [
              0.8888888888888888,
              "#fdca26"
             ],
             [
              1,
              "#f0f921"
             ]
            ],
            "type": "heatmapgl"
           }
          ],
          "histogram": [
           {
            "marker": {
             "colorbar": {
              "outlinewidth": 0,
              "ticks": ""
             }
            },
            "type": "histogram"
           }
          ],
          "histogram2d": [
           {
            "colorbar": {
             "outlinewidth": 0,
             "ticks": ""
            },
            "colorscale": [
             [
              0,
              "#0d0887"
             ],
             [
              0.1111111111111111,
              "#46039f"
             ],
             [
              0.2222222222222222,
              "#7201a8"
             ],
             [
              0.3333333333333333,
              "#9c179e"
             ],
             [
              0.4444444444444444,
              "#bd3786"
             ],
             [
              0.5555555555555556,
              "#d8576b"
             ],
             [
              0.6666666666666666,
              "#ed7953"
             ],
             [
              0.7777777777777778,
              "#fb9f3a"
             ],
             [
              0.8888888888888888,
              "#fdca26"
             ],
             [
              1,
              "#f0f921"
             ]
            ],
            "type": "histogram2d"
           }
          ],
          "histogram2dcontour": [
           {
            "colorbar": {
             "outlinewidth": 0,
             "ticks": ""
            },
            "colorscale": [
             [
              0,
              "#0d0887"
             ],
             [
              0.1111111111111111,
              "#46039f"
             ],
             [
              0.2222222222222222,
              "#7201a8"
             ],
             [
              0.3333333333333333,
              "#9c179e"
             ],
             [
              0.4444444444444444,
              "#bd3786"
             ],
             [
              0.5555555555555556,
              "#d8576b"
             ],
             [
              0.6666666666666666,
              "#ed7953"
             ],
             [
              0.7777777777777778,
              "#fb9f3a"
             ],
             [
              0.8888888888888888,
              "#fdca26"
             ],
             [
              1,
              "#f0f921"
             ]
            ],
            "type": "histogram2dcontour"
           }
          ],
          "mesh3d": [
           {
            "colorbar": {
             "outlinewidth": 0,
             "ticks": ""
            },
            "type": "mesh3d"
           }
          ],
          "parcoords": [
           {
            "line": {
             "colorbar": {
              "outlinewidth": 0,
              "ticks": ""
             }
            },
            "type": "parcoords"
           }
          ],
          "pie": [
           {
            "automargin": true,
            "type": "pie"
           }
          ],
          "scatter": [
           {
            "marker": {
             "colorbar": {
              "outlinewidth": 0,
              "ticks": ""
             }
            },
            "type": "scatter"
           }
          ],
          "scatter3d": [
           {
            "line": {
             "colorbar": {
              "outlinewidth": 0,
              "ticks": ""
             }
            },
            "marker": {
             "colorbar": {
              "outlinewidth": 0,
              "ticks": ""
             }
            },
            "type": "scatter3d"
           }
          ],
          "scattercarpet": [
           {
            "marker": {
             "colorbar": {
              "outlinewidth": 0,
              "ticks": ""
             }
            },
            "type": "scattercarpet"
           }
          ],
          "scattergeo": [
           {
            "marker": {
             "colorbar": {
              "outlinewidth": 0,
              "ticks": ""
             }
            },
            "type": "scattergeo"
           }
          ],
          "scattergl": [
           {
            "marker": {
             "colorbar": {
              "outlinewidth": 0,
              "ticks": ""
             }
            },
            "type": "scattergl"
           }
          ],
          "scattermapbox": [
           {
            "marker": {
             "colorbar": {
              "outlinewidth": 0,
              "ticks": ""
             }
            },
            "type": "scattermapbox"
           }
          ],
          "scatterpolar": [
           {
            "marker": {
             "colorbar": {
              "outlinewidth": 0,
              "ticks": ""
             }
            },
            "type": "scatterpolar"
           }
          ],
          "scatterpolargl": [
           {
            "marker": {
             "colorbar": {
              "outlinewidth": 0,
              "ticks": ""
             }
            },
            "type": "scatterpolargl"
           }
          ],
          "scatterternary": [
           {
            "marker": {
             "colorbar": {
              "outlinewidth": 0,
              "ticks": ""
             }
            },
            "type": "scatterternary"
           }
          ],
          "surface": [
           {
            "colorbar": {
             "outlinewidth": 0,
             "ticks": ""
            },
            "colorscale": [
             [
              0,
              "#0d0887"
             ],
             [
              0.1111111111111111,
              "#46039f"
             ],
             [
              0.2222222222222222,
              "#7201a8"
             ],
             [
              0.3333333333333333,
              "#9c179e"
             ],
             [
              0.4444444444444444,
              "#bd3786"
             ],
             [
              0.5555555555555556,
              "#d8576b"
             ],
             [
              0.6666666666666666,
              "#ed7953"
             ],
             [
              0.7777777777777778,
              "#fb9f3a"
             ],
             [
              0.8888888888888888,
              "#fdca26"
             ],
             [
              1,
              "#f0f921"
             ]
            ],
            "type": "surface"
           }
          ],
          "table": [
           {
            "cells": {
             "fill": {
              "color": "#EBF0F8"
             },
             "line": {
              "color": "white"
             }
            },
            "header": {
             "fill": {
              "color": "#C8D4E3"
             },
             "line": {
              "color": "white"
             }
            },
            "type": "table"
           }
          ]
         },
         "layout": {
          "annotationdefaults": {
           "arrowcolor": "#2a3f5f",
           "arrowhead": 0,
           "arrowwidth": 1
          },
          "autotypenumbers": "strict",
          "coloraxis": {
           "colorbar": {
            "outlinewidth": 0,
            "ticks": ""
           }
          },
          "colorscale": {
           "diverging": [
            [
             0,
             "#8e0152"
            ],
            [
             0.1,
             "#c51b7d"
            ],
            [
             0.2,
             "#de77ae"
            ],
            [
             0.3,
             "#f1b6da"
            ],
            [
             0.4,
             "#fde0ef"
            ],
            [
             0.5,
             "#f7f7f7"
            ],
            [
             0.6,
             "#e6f5d0"
            ],
            [
             0.7,
             "#b8e186"
            ],
            [
             0.8,
             "#7fbc41"
            ],
            [
             0.9,
             "#4d9221"
            ],
            [
             1,
             "#276419"
            ]
           ],
           "sequential": [
            [
             0,
             "#0d0887"
            ],
            [
             0.1111111111111111,
             "#46039f"
            ],
            [
             0.2222222222222222,
             "#7201a8"
            ],
            [
             0.3333333333333333,
             "#9c179e"
            ],
            [
             0.4444444444444444,
             "#bd3786"
            ],
            [
             0.5555555555555556,
             "#d8576b"
            ],
            [
             0.6666666666666666,
             "#ed7953"
            ],
            [
             0.7777777777777778,
             "#fb9f3a"
            ],
            [
             0.8888888888888888,
             "#fdca26"
            ],
            [
             1,
             "#f0f921"
            ]
           ],
           "sequentialminus": [
            [
             0,
             "#0d0887"
            ],
            [
             0.1111111111111111,
             "#46039f"
            ],
            [
             0.2222222222222222,
             "#7201a8"
            ],
            [
             0.3333333333333333,
             "#9c179e"
            ],
            [
             0.4444444444444444,
             "#bd3786"
            ],
            [
             0.5555555555555556,
             "#d8576b"
            ],
            [
             0.6666666666666666,
             "#ed7953"
            ],
            [
             0.7777777777777778,
             "#fb9f3a"
            ],
            [
             0.8888888888888888,
             "#fdca26"
            ],
            [
             1,
             "#f0f921"
            ]
           ]
          },
          "colorway": [
           "#636efa",
           "#EF553B",
           "#00cc96",
           "#ab63fa",
           "#FFA15A",
           "#19d3f3",
           "#FF6692",
           "#B6E880",
           "#FF97FF",
           "#FECB52"
          ],
          "font": {
           "color": "#2a3f5f"
          },
          "geo": {
           "bgcolor": "white",
           "lakecolor": "white",
           "landcolor": "#E5ECF6",
           "showlakes": true,
           "showland": true,
           "subunitcolor": "white"
          },
          "hoverlabel": {
           "align": "left"
          },
          "hovermode": "closest",
          "mapbox": {
           "style": "light"
          },
          "paper_bgcolor": "white",
          "plot_bgcolor": "#E5ECF6",
          "polar": {
           "angularaxis": {
            "gridcolor": "white",
            "linecolor": "white",
            "ticks": ""
           },
           "bgcolor": "#E5ECF6",
           "radialaxis": {
            "gridcolor": "white",
            "linecolor": "white",
            "ticks": ""
           }
          },
          "scene": {
           "xaxis": {
            "backgroundcolor": "#E5ECF6",
            "gridcolor": "white",
            "gridwidth": 2,
            "linecolor": "white",
            "showbackground": true,
            "ticks": "",
            "zerolinecolor": "white"
           },
           "yaxis": {
            "backgroundcolor": "#E5ECF6",
            "gridcolor": "white",
            "gridwidth": 2,
            "linecolor": "white",
            "showbackground": true,
            "ticks": "",
            "zerolinecolor": "white"
           },
           "zaxis": {
            "backgroundcolor": "#E5ECF6",
            "gridcolor": "white",
            "gridwidth": 2,
            "linecolor": "white",
            "showbackground": true,
            "ticks": "",
            "zerolinecolor": "white"
           }
          },
          "shapedefaults": {
           "line": {
            "color": "#2a3f5f"
           }
          },
          "ternary": {
           "aaxis": {
            "gridcolor": "white",
            "linecolor": "white",
            "ticks": ""
           },
           "baxis": {
            "gridcolor": "white",
            "linecolor": "white",
            "ticks": ""
           },
           "bgcolor": "#E5ECF6",
           "caxis": {
            "gridcolor": "white",
            "linecolor": "white",
            "ticks": ""
           }
          },
          "title": {
           "x": 0.05
          },
          "xaxis": {
           "automargin": true,
           "gridcolor": "white",
           "linecolor": "white",
           "ticks": "",
           "title": {
            "standoff": 15
           },
           "zerolinecolor": "white",
           "zerolinewidth": 2
          },
          "yaxis": {
           "automargin": true,
           "gridcolor": "white",
           "linecolor": "white",
           "ticks": "",
           "title": {
            "standoff": 15
           },
           "zerolinecolor": "white",
           "zerolinewidth": 2
          }
         }
        },
        "title": {
         "text": "Parallel Coordinate Plot"
        }
       }
      }
     },
     "metadata": {}
    }
   ],
   "source": [
    "optuna.visualization.plot_parallel_coordinate(study)"
   ]
  },
  {
   "source": [
    "# Testing the model out"
   ],
   "cell_type": "markdown",
   "metadata": {}
  },
  {
   "cell_type": "code",
   "execution_count": 1,
   "metadata": {},
   "outputs": [],
   "source": [
    "import joblib\n",
    "import optuna, plotly\n",
    "import torch\n",
    "from os.path import join\n",
    "from aux import *\n",
    "from architecture import *\n",
    "import pandas as pd \n",
    "import numpy as np \n",
    "from sklearn.metrics import confusion_matrix\n",
    "from sklearn.metrics import roc_auc_score\n",
    "\n"
   ]
  },
  {
   "cell_type": "code",
   "execution_count": 2,
   "metadata": {},
   "outputs": [],
   "source": [
    "study = optuna.load_study(study_name=\"Optimizing Discriminators 2\",storage=\"sqlite:///optuna_optim.db\")\n",
    "trial = study.best_trial"
   ]
  },
  {
   "cell_type": "code",
   "execution_count": 3,
   "metadata": {},
   "outputs": [
    {
     "output_type": "stream",
     "name": "stdout",
     "text": [
      "  Value:  3.554935932159424\n  Params: \n    NOISE_DIM: 270\n    activation_disc: LeakyReLU\n    activation_gen: ReLU\n    disc_dropout_disc_l0: 0.6876584891243757\n    disc_n_units_l0: 19\n    early_stoping: 6\n    gen_activation_last: LeakyReLU\n    gen_dropout_l0: 0.5893463852398063\n    gen_dropout_l1: 0.34073833758719385\n    gen_dropout_l2: 0.2546205579689943\n    gen_dropout_l3: 0.6171907644423773\n    gen_dropout_l4: 0.1602953197253108\n    gen_dropout_l5: 0.6432138641951932\n    gen_dropout_l6: 0.6371427915584102\n    gen_dropout_l7: 0.5871472117949058\n    gen_n_units_l0: 32\n    gen_n_units_l1: 76\n    gen_n_units_l2: 27\n    gen_n_units_l3: 31\n    gen_n_units_l4: 117\n    gen_n_units_l5: 104\n    gen_n_units_l6: 42\n    gen_n_units_l7: 12\n    lr_disc: 7.169649739787664e-05\n    lr_gen: 0.0006829915652251441\n    n_epochs: 30\n    n_layers_disc: 1\n    n_layers_gen: 8\n    optimizer_disc: AdamW\n    optimizer_gen: Adam\n"
     ]
    }
   ],
   "source": [
    "print(\"  Value: \", trial.value)\n",
    "\n",
    "print(\"  Params: \")\n",
    "for key, value in trial.params.items():\n",
    "    print(\"    {}: {}\".format(key, value))"
   ]
  },
  {
   "cell_type": "code",
   "execution_count": 4,
   "metadata": {},
   "outputs": [
    {
     "output_type": "execute_result",
     "data": {
      "text/plain": [
       "Sequential(\n",
       "  (0): Linear(in_features=68, out_features=19, bias=True)\n",
       "  (1): LeakyReLU(negative_slope=0.01)\n",
       "  (2): Dropout(p=0.6876584891243757, inplace=False)\n",
       "  (3): Linear(in_features=19, out_features=1, bias=True)\n",
       "  (4): Sigmoid()\n",
       ")"
      ]
     },
     "metadata": {},
     "execution_count": 4
    }
   ],
   "source": [
    "# Set some things for evaluation\n",
    "device = torch.device('cpu')\n",
    "torch.set_grad_enabled(False)\n",
    "\n",
    "# Define network architecture \n",
    "disc = define_Discriminator(trial).to(device)\n",
    "\n",
    "# Load weights\n",
    "disc.load_state_dict(torch.load(join(os.getcwd(),\"disc.plk\")))\n",
    "disc.eval()"
   ]
  },
  {
   "cell_type": "code",
   "execution_count": 5,
   "metadata": {},
   "outputs": [
    {
     "output_type": "stream",
     "name": "stdout",
     "text": [
      "[+] Loading Data..\n",
      "[+] Data Loaded in 7 seconds!\n"
     ]
    }
   ],
   "source": [
    "data = data_loader(data='test')\n",
    "_, Features, Label, _, _  = next(create_batch(data, size=data.shape[0], device=device))\n",
    "del data"
   ]
  },
  {
   "cell_type": "code",
   "execution_count": 6,
   "metadata": {},
   "outputs": [],
   "source": [
    "# Pass data\n",
    "predictions = disc(Features)"
   ]
  },
  {
   "cell_type": "code",
   "execution_count": 7,
   "metadata": {},
   "outputs": [],
   "source": [
    "predictions = predictions.reshape(-1)"
   ]
  },
  {
   "cell_type": "code",
   "execution_count": 8,
   "metadata": {},
   "outputs": [
    {
     "output_type": "execute_result",
     "data": {
      "text/plain": [
       "array([[1443021,     273],\n",
       "       [  65614,     964]])"
      ]
     },
     "metadata": {},
     "execution_count": 8
    }
   ],
   "source": [
    "confusion_matrix(Label, predictions.round())"
   ]
  },
  {
   "cell_type": "code",
   "execution_count": 9,
   "metadata": {},
   "outputs": [
    {
     "output_type": "execute_result",
     "data": {
      "text/plain": [
       "0.8637918842340545"
      ]
     },
     "metadata": {},
     "execution_count": 9
    }
   ],
   "source": [
    "roc_auc_score(Label, predictions)#, sample_weight=val_weights)"
   ]
  },
  {
   "cell_type": "code",
   "execution_count": 10,
   "metadata": {},
   "outputs": [
    {
     "output_type": "display_data",
     "data": {
      "text/plain": "<Figure size 432x288 with 1 Axes>",
      "image/svg+xml": "<?xml version=\"1.0\" encoding=\"utf-8\" standalone=\"no\"?>\n<!DOCTYPE svg PUBLIC \"-//W3C//DTD SVG 1.1//EN\"\n  \"http://www.w3.org/Graphics/SVG/1.1/DTD/svg11.dtd\">\n<!-- Created with matplotlib (https://matplotlib.org/) -->\n<svg height=\"248.518125pt\" version=\"1.1\" viewBox=\"0 0 372.103125 248.518125\" width=\"372.103125pt\" xmlns=\"http://www.w3.org/2000/svg\" xmlns:xlink=\"http://www.w3.org/1999/xlink\">\n <metadata>\n  <rdf:RDF xmlns:cc=\"http://creativecommons.org/ns#\" xmlns:dc=\"http://purl.org/dc/elements/1.1/\" xmlns:rdf=\"http://www.w3.org/1999/02/22-rdf-syntax-ns#\">\n   <cc:Work>\n    <dc:type rdf:resource=\"http://purl.org/dc/dcmitype/StillImage\"/>\n    <dc:date>2021-03-10T10:59:12.464370</dc:date>\n    <dc:format>image/svg+xml</dc:format>\n    <dc:creator>\n     <cc:Agent>\n      <dc:title>Matplotlib v3.3.4, https://matplotlib.org/</dc:title>\n     </cc:Agent>\n    </dc:creator>\n   </cc:Work>\n  </rdf:RDF>\n </metadata>\n <defs>\n  <style type=\"text/css\">*{stroke-linecap:butt;stroke-linejoin:round;}</style>\n </defs>\n <g id=\"figure_1\">\n  <g id=\"patch_1\">\n   <path d=\"M 0 248.518125 \nL 372.103125 248.518125 \nL 372.103125 0 \nL 0 0 \nz\n\" style=\"fill:none;\"/>\n  </g>\n  <g id=\"axes_1\">\n   <g id=\"patch_2\">\n    <path d=\"M 30.103125 224.64 \nL 364.903125 224.64 \nL 364.903125 7.2 \nL 30.103125 7.2 \nz\n\" style=\"fill:#ffffff;\"/>\n   </g>\n   <g id=\"matplotlib.axis_1\">\n    <g id=\"xtick_1\">\n     <g id=\"line2d_1\">\n      <defs>\n       <path d=\"M 0 0 \nL 0 3.5 \n\" id=\"mf40054385d\" style=\"stroke:#000000;stroke-width:0.8;\"/>\n      </defs>\n      <g>\n       <use style=\"stroke:#000000;stroke-width:0.8;\" x=\"45.321307\" xlink:href=\"#mf40054385d\" y=\"224.64\"/>\n      </g>\n     </g>\n     <g id=\"text_1\">\n      <!-- 0.0 -->\n      <g transform=\"translate(37.369744 239.238437)scale(0.1 -0.1)\">\n       <defs>\n        <path d=\"M 31.78125 66.40625 \nQ 24.171875 66.40625 20.328125 58.90625 \nQ 16.5 51.421875 16.5 36.375 \nQ 16.5 21.390625 20.328125 13.890625 \nQ 24.171875 6.390625 31.78125 6.390625 \nQ 39.453125 6.390625 43.28125 13.890625 \nQ 47.125 21.390625 47.125 36.375 \nQ 47.125 51.421875 43.28125 58.90625 \nQ 39.453125 66.40625 31.78125 66.40625 \nz\nM 31.78125 74.21875 \nQ 44.046875 74.21875 50.515625 64.515625 \nQ 56.984375 54.828125 56.984375 36.375 \nQ 56.984375 17.96875 50.515625 8.265625 \nQ 44.046875 -1.421875 31.78125 -1.421875 \nQ 19.53125 -1.421875 13.0625 8.265625 \nQ 6.59375 17.96875 6.59375 36.375 \nQ 6.59375 54.828125 13.0625 64.515625 \nQ 19.53125 74.21875 31.78125 74.21875 \nz\n\" id=\"DejaVuSans-48\"/>\n        <path d=\"M 10.6875 12.40625 \nL 21 12.40625 \nL 21 0 \nL 10.6875 0 \nz\n\" id=\"DejaVuSans-46\"/>\n       </defs>\n       <use xlink:href=\"#DejaVuSans-48\"/>\n       <use x=\"63.623047\" xlink:href=\"#DejaVuSans-46\"/>\n       <use x=\"95.410156\" xlink:href=\"#DejaVuSans-48\"/>\n      </g>\n     </g>\n    </g>\n    <g id=\"xtick_2\">\n     <g id=\"line2d_2\">\n      <g>\n       <use style=\"stroke:#000000;stroke-width:0.8;\" x=\"106.194034\" xlink:href=\"#mf40054385d\" y=\"224.64\"/>\n      </g>\n     </g>\n     <g id=\"text_2\">\n      <!-- 0.2 -->\n      <g transform=\"translate(98.242472 239.238437)scale(0.1 -0.1)\">\n       <defs>\n        <path d=\"M 19.1875 8.296875 \nL 53.609375 8.296875 \nL 53.609375 0 \nL 7.328125 0 \nL 7.328125 8.296875 \nQ 12.9375 14.109375 22.625 23.890625 \nQ 32.328125 33.6875 34.8125 36.53125 \nQ 39.546875 41.84375 41.421875 45.53125 \nQ 43.3125 49.21875 43.3125 52.78125 \nQ 43.3125 58.59375 39.234375 62.25 \nQ 35.15625 65.921875 28.609375 65.921875 \nQ 23.96875 65.921875 18.8125 64.3125 \nQ 13.671875 62.703125 7.8125 59.421875 \nL 7.8125 69.390625 \nQ 13.765625 71.78125 18.9375 73 \nQ 24.125 74.21875 28.421875 74.21875 \nQ 39.75 74.21875 46.484375 68.546875 \nQ 53.21875 62.890625 53.21875 53.421875 \nQ 53.21875 48.921875 51.53125 44.890625 \nQ 49.859375 40.875 45.40625 35.40625 \nQ 44.1875 33.984375 37.640625 27.21875 \nQ 31.109375 20.453125 19.1875 8.296875 \nz\n\" id=\"DejaVuSans-50\"/>\n       </defs>\n       <use xlink:href=\"#DejaVuSans-48\"/>\n       <use x=\"63.623047\" xlink:href=\"#DejaVuSans-46\"/>\n       <use x=\"95.410156\" xlink:href=\"#DejaVuSans-50\"/>\n      </g>\n     </g>\n    </g>\n    <g id=\"xtick_3\">\n     <g id=\"line2d_3\">\n      <g>\n       <use style=\"stroke:#000000;stroke-width:0.8;\" x=\"167.066761\" xlink:href=\"#mf40054385d\" y=\"224.64\"/>\n      </g>\n     </g>\n     <g id=\"text_3\">\n      <!-- 0.4 -->\n      <g transform=\"translate(159.115199 239.238437)scale(0.1 -0.1)\">\n       <defs>\n        <path d=\"M 37.796875 64.3125 \nL 12.890625 25.390625 \nL 37.796875 25.390625 \nz\nM 35.203125 72.90625 \nL 47.609375 72.90625 \nL 47.609375 25.390625 \nL 58.015625 25.390625 \nL 58.015625 17.1875 \nL 47.609375 17.1875 \nL 47.609375 0 \nL 37.796875 0 \nL 37.796875 17.1875 \nL 4.890625 17.1875 \nL 4.890625 26.703125 \nz\n\" id=\"DejaVuSans-52\"/>\n       </defs>\n       <use xlink:href=\"#DejaVuSans-48\"/>\n       <use x=\"63.623047\" xlink:href=\"#DejaVuSans-46\"/>\n       <use x=\"95.410156\" xlink:href=\"#DejaVuSans-52\"/>\n      </g>\n     </g>\n    </g>\n    <g id=\"xtick_4\">\n     <g id=\"line2d_4\">\n      <g>\n       <use style=\"stroke:#000000;stroke-width:0.8;\" x=\"227.939489\" xlink:href=\"#mf40054385d\" y=\"224.64\"/>\n      </g>\n     </g>\n     <g id=\"text_4\">\n      <!-- 0.6 -->\n      <g transform=\"translate(219.987926 239.238437)scale(0.1 -0.1)\">\n       <defs>\n        <path d=\"M 33.015625 40.375 \nQ 26.375 40.375 22.484375 35.828125 \nQ 18.609375 31.296875 18.609375 23.390625 \nQ 18.609375 15.53125 22.484375 10.953125 \nQ 26.375 6.390625 33.015625 6.390625 \nQ 39.65625 6.390625 43.53125 10.953125 \nQ 47.40625 15.53125 47.40625 23.390625 \nQ 47.40625 31.296875 43.53125 35.828125 \nQ 39.65625 40.375 33.015625 40.375 \nz\nM 52.59375 71.296875 \nL 52.59375 62.3125 \nQ 48.875 64.0625 45.09375 64.984375 \nQ 41.3125 65.921875 37.59375 65.921875 \nQ 27.828125 65.921875 22.671875 59.328125 \nQ 17.53125 52.734375 16.796875 39.40625 \nQ 19.671875 43.65625 24.015625 45.921875 \nQ 28.375 48.1875 33.59375 48.1875 \nQ 44.578125 48.1875 50.953125 41.515625 \nQ 57.328125 34.859375 57.328125 23.390625 \nQ 57.328125 12.15625 50.6875 5.359375 \nQ 44.046875 -1.421875 33.015625 -1.421875 \nQ 20.359375 -1.421875 13.671875 8.265625 \nQ 6.984375 17.96875 6.984375 36.375 \nQ 6.984375 53.65625 15.1875 63.9375 \nQ 23.390625 74.21875 37.203125 74.21875 \nQ 40.921875 74.21875 44.703125 73.484375 \nQ 48.484375 72.75 52.59375 71.296875 \nz\n\" id=\"DejaVuSans-54\"/>\n       </defs>\n       <use xlink:href=\"#DejaVuSans-48\"/>\n       <use x=\"63.623047\" xlink:href=\"#DejaVuSans-46\"/>\n       <use x=\"95.410156\" xlink:href=\"#DejaVuSans-54\"/>\n      </g>\n     </g>\n    </g>\n    <g id=\"xtick_5\">\n     <g id=\"line2d_5\">\n      <g>\n       <use style=\"stroke:#000000;stroke-width:0.8;\" x=\"288.812216\" xlink:href=\"#mf40054385d\" y=\"224.64\"/>\n      </g>\n     </g>\n     <g id=\"text_5\">\n      <!-- 0.8 -->\n      <g transform=\"translate(280.860653 239.238437)scale(0.1 -0.1)\">\n       <defs>\n        <path d=\"M 31.78125 34.625 \nQ 24.75 34.625 20.71875 30.859375 \nQ 16.703125 27.09375 16.703125 20.515625 \nQ 16.703125 13.921875 20.71875 10.15625 \nQ 24.75 6.390625 31.78125 6.390625 \nQ 38.8125 6.390625 42.859375 10.171875 \nQ 46.921875 13.96875 46.921875 20.515625 \nQ 46.921875 27.09375 42.890625 30.859375 \nQ 38.875 34.625 31.78125 34.625 \nz\nM 21.921875 38.8125 \nQ 15.578125 40.375 12.03125 44.71875 \nQ 8.5 49.078125 8.5 55.328125 \nQ 8.5 64.0625 14.71875 69.140625 \nQ 20.953125 74.21875 31.78125 74.21875 \nQ 42.671875 74.21875 48.875 69.140625 \nQ 55.078125 64.0625 55.078125 55.328125 \nQ 55.078125 49.078125 51.53125 44.71875 \nQ 48 40.375 41.703125 38.8125 \nQ 48.828125 37.15625 52.796875 32.3125 \nQ 56.78125 27.484375 56.78125 20.515625 \nQ 56.78125 9.90625 50.3125 4.234375 \nQ 43.84375 -1.421875 31.78125 -1.421875 \nQ 19.734375 -1.421875 13.25 4.234375 \nQ 6.78125 9.90625 6.78125 20.515625 \nQ 6.78125 27.484375 10.78125 32.3125 \nQ 14.796875 37.15625 21.921875 38.8125 \nz\nM 18.3125 54.390625 \nQ 18.3125 48.734375 21.84375 45.5625 \nQ 25.390625 42.390625 31.78125 42.390625 \nQ 38.140625 42.390625 41.71875 45.5625 \nQ 45.3125 48.734375 45.3125 54.390625 \nQ 45.3125 60.0625 41.71875 63.234375 \nQ 38.140625 66.40625 31.78125 66.40625 \nQ 25.390625 66.40625 21.84375 63.234375 \nQ 18.3125 60.0625 18.3125 54.390625 \nz\n\" id=\"DejaVuSans-56\"/>\n       </defs>\n       <use xlink:href=\"#DejaVuSans-48\"/>\n       <use x=\"63.623047\" xlink:href=\"#DejaVuSans-46\"/>\n       <use x=\"95.410156\" xlink:href=\"#DejaVuSans-56\"/>\n      </g>\n     </g>\n    </g>\n    <g id=\"xtick_6\">\n     <g id=\"line2d_6\">\n      <g>\n       <use style=\"stroke:#000000;stroke-width:0.8;\" x=\"349.684943\" xlink:href=\"#mf40054385d\" y=\"224.64\"/>\n      </g>\n     </g>\n     <g id=\"text_6\">\n      <!-- 1.0 -->\n      <g transform=\"translate(341.733381 239.238437)scale(0.1 -0.1)\">\n       <defs>\n        <path d=\"M 12.40625 8.296875 \nL 28.515625 8.296875 \nL 28.515625 63.921875 \nL 10.984375 60.40625 \nL 10.984375 69.390625 \nL 28.421875 72.90625 \nL 38.28125 72.90625 \nL 38.28125 8.296875 \nL 54.390625 8.296875 \nL 54.390625 0 \nL 12.40625 0 \nz\n\" id=\"DejaVuSans-49\"/>\n       </defs>\n       <use xlink:href=\"#DejaVuSans-49\"/>\n       <use x=\"63.623047\" xlink:href=\"#DejaVuSans-46\"/>\n       <use x=\"95.410156\" xlink:href=\"#DejaVuSans-48\"/>\n      </g>\n     </g>\n    </g>\n   </g>\n   <g id=\"matplotlib.axis_2\">\n    <g id=\"ytick_1\">\n     <g id=\"line2d_7\">\n      <defs>\n       <path d=\"M 0 0 \nL -3.5 0 \n\" id=\"m00db1f12ad\" style=\"stroke:#000000;stroke-width:0.8;\"/>\n      </defs>\n      <g>\n       <use style=\"stroke:#000000;stroke-width:0.8;\" x=\"30.103125\" xlink:href=\"#m00db1f12ad\" y=\"214.756364\"/>\n      </g>\n     </g>\n     <g id=\"text_7\">\n      <!-- 0.0 -->\n      <g transform=\"translate(7.2 218.555582)scale(0.1 -0.1)\">\n       <use xlink:href=\"#DejaVuSans-48\"/>\n       <use x=\"63.623047\" xlink:href=\"#DejaVuSans-46\"/>\n       <use x=\"95.410156\" xlink:href=\"#DejaVuSans-48\"/>\n      </g>\n     </g>\n    </g>\n    <g id=\"ytick_2\">\n     <g id=\"line2d_8\">\n      <g>\n       <use style=\"stroke:#000000;stroke-width:0.8;\" x=\"30.103125\" xlink:href=\"#m00db1f12ad\" y=\"175.221818\"/>\n      </g>\n     </g>\n     <g id=\"text_8\">\n      <!-- 0.2 -->\n      <g transform=\"translate(7.2 179.021037)scale(0.1 -0.1)\">\n       <use xlink:href=\"#DejaVuSans-48\"/>\n       <use x=\"63.623047\" xlink:href=\"#DejaVuSans-46\"/>\n       <use x=\"95.410156\" xlink:href=\"#DejaVuSans-50\"/>\n      </g>\n     </g>\n    </g>\n    <g id=\"ytick_3\">\n     <g id=\"line2d_9\">\n      <g>\n       <use style=\"stroke:#000000;stroke-width:0.8;\" x=\"30.103125\" xlink:href=\"#m00db1f12ad\" y=\"135.687273\"/>\n      </g>\n     </g>\n     <g id=\"text_9\">\n      <!-- 0.4 -->\n      <g transform=\"translate(7.2 139.486491)scale(0.1 -0.1)\">\n       <use xlink:href=\"#DejaVuSans-48\"/>\n       <use x=\"63.623047\" xlink:href=\"#DejaVuSans-46\"/>\n       <use x=\"95.410156\" xlink:href=\"#DejaVuSans-52\"/>\n      </g>\n     </g>\n    </g>\n    <g id=\"ytick_4\">\n     <g id=\"line2d_10\">\n      <g>\n       <use style=\"stroke:#000000;stroke-width:0.8;\" x=\"30.103125\" xlink:href=\"#m00db1f12ad\" y=\"96.152727\"/>\n      </g>\n     </g>\n     <g id=\"text_10\">\n      <!-- 0.6 -->\n      <g transform=\"translate(7.2 99.951946)scale(0.1 -0.1)\">\n       <use xlink:href=\"#DejaVuSans-48\"/>\n       <use x=\"63.623047\" xlink:href=\"#DejaVuSans-46\"/>\n       <use x=\"95.410156\" xlink:href=\"#DejaVuSans-54\"/>\n      </g>\n     </g>\n    </g>\n    <g id=\"ytick_5\">\n     <g id=\"line2d_11\">\n      <g>\n       <use style=\"stroke:#000000;stroke-width:0.8;\" x=\"30.103125\" xlink:href=\"#m00db1f12ad\" y=\"56.618182\"/>\n      </g>\n     </g>\n     <g id=\"text_11\">\n      <!-- 0.8 -->\n      <g transform=\"translate(7.2 60.417401)scale(0.1 -0.1)\">\n       <use xlink:href=\"#DejaVuSans-48\"/>\n       <use x=\"63.623047\" xlink:href=\"#DejaVuSans-46\"/>\n       <use x=\"95.410156\" xlink:href=\"#DejaVuSans-56\"/>\n      </g>\n     </g>\n    </g>\n    <g id=\"ytick_6\">\n     <g id=\"line2d_12\">\n      <g>\n       <use style=\"stroke:#000000;stroke-width:0.8;\" x=\"30.103125\" xlink:href=\"#m00db1f12ad\" y=\"17.083636\"/>\n      </g>\n     </g>\n     <g id=\"text_12\">\n      <!-- 1.0 -->\n      <g transform=\"translate(7.2 20.882855)scale(0.1 -0.1)\">\n       <use xlink:href=\"#DejaVuSans-49\"/>\n       <use x=\"63.623047\" xlink:href=\"#DejaVuSans-46\"/>\n       <use x=\"95.410156\" xlink:href=\"#DejaVuSans-48\"/>\n      </g>\n     </g>\n    </g>\n   </g>\n   <g id=\"line2d_13\">\n    <path clip-path=\"url(#p7961aa552d)\" d=\"M 45.321307 214.756364 \nL 45.368333 212.550367 \nL 45.479257 195.816859 \nL 45.47989 195.712943 \nL 45.590813 169.398344 \nL 45.591657 169.294427 \nL 45.702158 155.426043 \nL 45.704267 155.348848 \nL 45.815191 147.650128 \nL 45.817932 147.543242 \nL 45.928856 142.982797 \nL 45.931808 142.88185 \nL 46.042521 139.992974 \nL 46.04948 139.886089 \nL 46.159771 137.430693 \nL 46.16441 137.332715 \nL 46.275123 134.924823 \nL 46.281871 134.823876 \nL 46.392794 132.377387 \nL 46.398699 132.270502 \nL 46.509623 129.268803 \nL 46.512364 129.1827 \nL 46.623288 125.952385 \nL 46.62624 125.848469 \nL 46.736953 121.991686 \nL 46.747708 121.884801 \nL 46.858209 121.098005 \nL 46.85842 121.098005 \nL 46.8774 120.988151 \nL 46.988112 120.415126 \nL 47.023962 120.305272 \nL 47.134886 119.791628 \nL 47.166729 119.684742 \nL 47.277652 119.340334 \nL 47.316243 119.230479 \nL 47.427167 118.942482 \nL 47.477989 118.838566 \nL 47.58828 118.586198 \nL 47.588702 118.586198 \nL 47.681068 118.479312 \nL 47.791359 118.30117 \nL 47.884357 118.191315 \nL 47.993805 118.045832 \nL 48.093973 117.935978 \nL 48.197727 117.820185 \nL 48.320038 117.710331 \nL 48.429696 117.55891 \nL 48.649856 117.449055 \nL 48.760147 117.37186 \nL 48.97862 117.262006 \nL 49.081319 117.220439 \nL 49.0887 117.220439 \nL 49.241378 117.110585 \nL 49.345765 117.036359 \nL 49.544204 116.926504 \nL 49.654916 116.852278 \nL 49.929273 116.742424 \nL 50.038931 116.688981 \nL 50.262044 116.579127 \nL 50.369171 116.510839 \nL 50.370858 116.510839 \nL 50.736948 116.400984 \nL 50.836273 116.356449 \nL 50.843232 116.356449 \nL 51.030917 116.246594 \nL 51.136779 116.19909 \nL 51.141207 116.19909 \nL 51.436441 116.089235 \nL 51.551161 116.038762 \nL 51.776593 115.928907 \nL 51.891101 115.869526 \nL 52.15175 115.759672 \nL 52.262041 115.700291 \nL 52.420202 115.590437 \nL 52.531126 115.51918 \nL 52.684858 115.409325 \nL 52.794095 115.272749 \nL 52.900379 115.162895 \nL 53.005819 115.029288 \nL 53.006874 115.029288 \nL 53.121171 114.919434 \nL 53.231041 114.794734 \nL 53.232095 114.794734 \nL 53.380977 114.536427 \nL 53.452044 114.426573 \nL 53.556219 114.236554 \nL 53.557274 114.236554 \nL 53.609783 114.1267 \nL 53.720707 113.871363 \nL 53.766679 113.761508 \nL 53.876548 113.461635 \nL 53.877181 113.461635 \nL 53.927792 113.351781 \nL 54.038083 113.114257 \nL 54.074355 113.010341 \nL 54.185067 112.636242 \nL 54.215434 112.526388 \nL 54.325514 112.170103 \nL 54.325936 112.170103 \nL 54.355038 112.060248 \nL 54.464696 111.608954 \nL 54.507083 111.4991 \nL 54.669462 110.777623 \nL 54.690761 110.667769 \nL 54.801051 110.163032 \nL 54.801684 110.163032 \nL 54.967015 109.402958 \nL 54.996749 109.293103 \nL 55.106197 108.764614 \nL 55.107673 108.764614 \nL 55.125809 108.65476 \nL 55.235256 108.12924 \nL 55.236521 108.12924 \nL 55.254446 108.019385 \nL 55.365159 107.431515 \nL 55.381608 107.321661 \nL 55.490211 106.73676 \nL 55.509823 106.635813 \nL 55.509823 106.626906 \nL 55.619692 106.021222 \nL 55.620747 106.021222 \nL 55.644366 105.911367 \nL 55.755289 105.246302 \nL 55.774268 105.136448 \nL 55.884559 104.444661 \nL 55.885192 104.444661 \nL 55.904804 104.334807 \nL 56.110413 103.001708 \nL 56.127705 102.891854 \nL 56.318131 101.772526 \nL 56.343226 101.662671 \nL 56.45415 100.95604 \nL 56.466592 100.846185 \nL 56.577093 100.053452 \nL 56.593542 99.943597 \nL 56.704255 99.242904 \nL 56.704466 99.242904 \nL 56.71754 99.153833 \nL 56.71754 99.133049 \nL 56.919775 97.853393 \nL 56.94002 97.743539 \nL 57.0501 97.019093 \nL 57.050733 97.019093 \nL 57.06444 96.912208 \nL 57.06444 96.909239 \nL 57.257185 95.751313 \nL 57.27743 95.644428 \nL 57.388143 95.009053 \nL 57.388353 95.009053 \nL 57.404591 94.899199 \nL 57.515304 94.263824 \nL 57.529222 94.15397 \nL 57.639935 93.426555 \nL 57.657227 93.328577 \nL 57.657227 93.316701 \nL 57.767729 92.696171 \nL 57.790926 92.589286 \nL 57.901849 91.98954 \nL 57.919985 91.879685 \nL 58.030909 91.279939 \nL 58.046303 91.170085 \nL 58.157016 90.573308 \nL 58.180423 90.463453 \nL 58.290925 89.848862 \nL 58.316653 89.739008 \nL 58.426944 89.243178 \nL 58.458365 89.136293 \nL 58.569078 88.563268 \nL 58.589322 88.456382 \nL 58.589322 88.453413 \nL 58.700246 87.966491 \nL 58.732721 87.856636 \nL 58.863046 87.313302 \nL 58.884556 87.203448 \nL 58.992527 86.766999 \nL 58.993792 86.766999 \nL 59.0172 86.660113 \nL 59.127491 86.193974 \nL 59.155749 86.08412 \nL 59.264986 85.644702 \nL 59.266673 85.644702 \nL 59.297672 85.534847 \nL 59.406698 85.101368 \nL 59.408596 85.101368 \nL 59.438119 84.991513 \nL 59.547567 84.656012 \nL 59.549043 84.656012 \nL 59.685483 84.302696 \nL 59.712687 84.19878 \nL 59.817495 83.910783 \nL 59.82361 83.910783 \nL 59.86916 83.800928 \nL 59.978819 83.5159 \nL 60.028165 83.406046 \nL 60.138878 83.109142 \nL 60.188224 82.999287 \nL 60.298726 82.776609 \nL 60.348915 82.666755 \nL 60.456676 82.444077 \nL 60.457941 82.444077 \nL 60.512559 82.334223 \nL 60.623483 82.132328 \nL 60.690121 82.025442 \nL 60.818126 81.787919 \nL 60.878649 81.678065 \nL 60.989151 81.511799 \nL 61.075823 81.401944 \nL 61.198345 81.241616 \nL 61.280378 81.131761 \nL 61.378648 80.989248 \nL 61.389825 80.989248 \nL 61.509184 80.879393 \nL 61.616522 80.802198 \nL 61.619897 80.802198 \nL 61.769411 80.692344 \nL 61.876117 80.615149 \nL 61.880124 80.615149 \nL 61.996109 80.505294 \nL 62.112937 80.422161 \nL 62.275948 80.312306 \nL 62.385185 80.205421 \nL 62.38645 80.205421 \nL 62.573291 80.095567 \nL 62.68084 80.033217 \nL 62.683582 80.033217 \nL 62.879068 79.923362 \nL 62.988938 79.855074 \nL 62.989992 79.855074 \nL 63.195179 79.74522 \nL 63.304416 79.68287 \nL 63.305259 79.68287 \nL 63.612935 79.573016 \nL 63.709519 79.516604 \nL 63.722383 79.516604 \nL 63.978603 79.406749 \nL 64.092901 79.365183 \nL 64.383284 79.255328 \nL 64.497371 79.207824 \nL 64.768775 79.097969 \nL 64.877168 79.062341 \nL 64.879699 79.062341 \nL 65.15047 78.952486 \nL 65.246421 78.928734 \nL 65.261394 78.928734 \nL 65.544607 78.81888 \nL 65.664177 78.765437 \nL 65.929887 78.655582 \nL 66.04292 78.628861 \nL 66.397411 78.519006 \nL 66.504117 78.480409 \nL 66.505593 78.480409 \nL 66.805466 78.373524 \nL 66.805466 78.370555 \nL 66.927777 78.293359 \nL 67.173243 78.183505 \nL 67.283956 78.133031 \nL 67.54102 78.023177 \nL 67.655529 77.975672 \nL 67.928198 77.865818 \nL 68.049877 77.824251 \nL 68.387708 77.714397 \nL 68.501584 77.67283 \nL 68.770036 77.562976 \nL 68.879273 77.521409 \nL 68.880749 77.521409 \nL 69.19454 77.411555 \nL 69.292389 77.378895 \nL 69.305253 77.378895 \nL 69.486611 77.269041 \nL 69.600697 77.212629 \nL 69.856918 77.102775 \nL 69.924822 77.064177 \nL 69.967842 77.064177 \nL 70.243252 76.954323 \nL 70.353332 76.909787 \nL 70.353754 76.909787 \nL 70.612084 76.799932 \nL 70.731021 76.74649 \nL 70.935365 76.639604 \nL 70.935365 76.636635 \nL 71.051349 76.562409 \nL 71.291543 76.452555 \nL 71.423344 76.363484 \nL 71.725748 76.253629 \nL 71.816637 76.209094 \nL 71.836038 76.209094 \nL 72.03511 76.099239 \nL 72.149619 76.054704 \nL 72.3915 75.944849 \nL 72.506219 75.894375 \nL 72.797657 75.784521 \nL 72.912587 75.734047 \nL 73.148142 75.624193 \nL 73.251895 75.558874 \nL 73.259065 75.558874 \nL 73.439158 75.449019 \nL 73.54987 75.377762 \nL 73.550081 75.377762 \nL 73.785425 75.267908 \nL 73.899722 75.226341 \nL 74.123467 75.116487 \nL 74.245989 75.039292 \nL 74.48534 74.929437 \nL 74.583399 74.881933 \nL 74.596263 74.881933 \nL 74.772771 74.772078 \nL 74.877157 74.718636 \nL 74.883483 74.718636 \nL 75.103011 74.608781 \nL 75.217941 74.552369 \nL 75.454339 74.442515 \nL 75.575385 74.377196 \nL 75.838565 74.267342 \nL 75.952862 74.213899 \nL 76.220892 74.104044 \nL 76.330972 74.026849 \nL 76.331605 74.026849 \nL 76.516126 73.916995 \nL 76.623675 73.821986 \nL 76.627049 73.821986 \nL 76.884325 73.712131 \nL 77.006214 73.643843 \nL 77.229959 73.533989 \nL 77.332447 73.477577 \nL 77.339828 73.477577 \nL 77.528356 73.367723 \nL 77.642443 73.317249 \nL 77.868929 73.207394 \nL 78.000097 73.121292 \nL 78.255685 73.011438 \nL 78.382425 72.907521 \nL 78.605959 72.797667 \nL 78.731644 72.735317 \nL 78.976899 72.625463 \nL 79.076435 72.574989 \nL 79.087823 72.574989 \nL 79.270657 72.465134 \nL 79.387274 72.390908 \nL 79.629366 72.281054 \nL 79.752099 72.206828 \nL 79.962347 72.096974 \nL 80.077067 72.040562 \nL 80.311988 71.930707 \nL 80.420803 71.865388 \nL 80.422701 71.865388 \nL 80.660153 71.755534 \nL 80.775084 71.70506 \nL 80.984278 71.595206 \nL 81.106167 71.55067 \nL 81.378415 71.440816 \nL 81.4944 71.372528 \nL 81.637799 71.298302 \nL 81.806293 71.188447 \nL 81.926284 71.129067 \nL 82.195158 71.019212 \nL 82.306081 70.965769 \nL 82.495242 70.855915 \nL 82.605111 70.80841 \nL 82.606165 70.80841 \nL 82.827591 70.698556 \nL 82.94716 70.645113 \nL 83.201694 70.535259 \nL 83.323162 70.466971 \nL 83.519914 70.357116 \nL 83.626409 70.294766 \nL 83.630837 70.294766 \nL 83.932398 70.184912 \nL 84.041634 70.131469 \nL 84.043321 70.131469 \nL 84.247243 70.021615 \nL 84.363439 69.938482 \nL 84.650026 69.828627 \nL 84.768331 69.75737 \nL 85.062721 69.647516 \nL 85.188828 69.549537 \nL 85.3162 69.484219 \nL 85.501987 69.374364 \nL 85.640957 69.291231 \nL 85.850152 69.181377 \nL 85.970143 69.124965 \nL 86.217718 69.01511 \nL 86.333491 68.95276 \nL 86.599834 68.842906 \nL 86.745343 68.783525 \nL 86.987223 68.673671 \nL 87.115017 68.605383 \nL 87.370395 68.495528 \nL 87.531086 68.400519 \nL 87.757994 68.290665 \nL 87.872081 68.249098 \nL 88.090132 68.139244 \nL 88.21645 68.076894 \nL 88.385155 67.967039 \nL 88.496079 67.925473 \nL 88.621342 67.866092 \nL 88.932603 67.756237 \nL 89.059132 67.690919 \nL 89.310713 67.581064 \nL 89.435555 67.545436 \nL 89.722775 67.435581 \nL 89.889371 67.367293 \nL 90.116912 67.260408 \nL 90.243019 67.183213 \nL 90.516532 67.073358 \nL 90.651918 67.022885 \nL 90.907084 66.91303 \nL 91.022436 66.88334 \nL 91.262208 66.776454 \nL 91.378403 66.705197 \nL 91.595611 66.595343 \nL 91.701684 66.530024 \nL 91.705902 66.530024 \nL 92.081482 66.42017 \nL 92.201473 66.360789 \nL 92.46402 66.250934 \nL 92.584855 66.215306 \nL 92.794893 66.105451 \nL 92.914462 66.052009 \nL 93.149806 65.942154 \nL 93.284559 65.873866 \nL 93.556596 65.764012 \nL 93.675111 65.716507 \nL 93.836224 65.606653 \nL 93.957903 65.538365 \nL 94.153812 65.42851 \nL 94.278653 65.375068 \nL 94.538881 65.265213 \nL 94.659083 65.232554 \nL 94.949466 65.122699 \nL 95.074519 65.066287 \nL 95.324624 64.956433 \nL 95.458323 64.891114 \nL 95.670469 64.78126 \nL 95.786032 64.721879 \nL 96.041199 64.612024 \nL 96.177006 64.561551 \nL 96.462329 64.451696 \nL 96.621544 64.380439 \nL 96.923104 64.270585 \nL 97.041198 64.229018 \nL 97.164141 64.184483 \nL 97.438076 64.074628 \nL 97.552585 64.036031 \nL 97.839172 63.926176 \nL 97.964647 63.869764 \nL 98.220445 63.75991 \nL 98.33411 63.718343 \nL 98.618168 63.608489 \nL 98.737737 63.569891 \nL 99.06861 63.460037 \nL 99.18839 63.400656 \nL 99.484468 63.290802 \nL 99.603194 63.23439 \nL 99.908339 63.124535 \nL 100.063126 63.077031 \nL 100.283918 62.967176 \nL 100.414454 62.913734 \nL 100.661818 62.806848 \nL 100.775272 62.753406 \nL 101.122804 62.643551 \nL 101.245326 62.61683 \nL 101.488472 62.506975 \nL 101.613103 62.453533 \nL 101.95452 62.343678 \nL 102.067341 62.281328 \nL 102.246168 62.189288 \nL 102.591381 62.079434 \nL 102.731828 62.014115 \nL 103.070292 61.90426 \nL 103.200617 61.850817 \nL 103.469701 61.740963 \nL 103.60087 61.714242 \nL 103.850342 61.604387 \nL 103.972021 61.536099 \nL 104.21601 61.429214 \nL 104.334315 61.37874 \nL 104.687962 61.268886 \nL 104.818498 61.212474 \nL 105.179316 61.102619 \nL 105.305844 61.04027 \nL 105.441019 61.004641 \nL 105.795932 60.897756 \nL 105.91255 60.859158 \nL 106.177628 60.752273 \nL 106.292769 60.719613 \nL 106.624696 60.609759 \nL 106.76936 60.553347 \nL 107.048778 60.443493 \nL 107.175939 60.378174 \nL 107.4465 60.268319 \nL 107.582308 60.211908 \nL 107.902636 60.102053 \nL 108.067967 60.01892 \nL 108.312378 59.909065 \nL 108.459152 59.846716 \nL 108.759447 59.736861 \nL 108.8942 59.668573 \nL 109.040762 59.606223 \nL 109.328404 59.496369 \nL 109.519884 59.43105 \nL 109.81554 59.321196 \nL 109.942912 59.27666 \nL 110.200609 59.169775 \nL 110.333886 59.113363 \nL 110.655269 59.003508 \nL 110.784961 58.953035 \nL 111.11731 58.84318 \nL 111.233084 58.807552 \nL 111.519671 58.697697 \nL 111.632914 58.647224 \nL 111.85687 58.537369 \nL 111.978338 58.507679 \nL 112.350122 58.397824 \nL 112.482766 58.335474 \nL 112.848223 58.22562 \nL 112.98635 58.166239 \nL 113.330298 58.056385 \nL 113.457248 58.014818 \nL 113.885759 57.904964 \nL 114.027471 57.869335 \nL 114.375214 57.759481 \nL 114.501532 57.720883 \nL 114.782215 57.613998 \nL 114.911063 57.563524 \nL 115.211991 57.45367 \nL 115.353914 57.385382 \nL 115.785166 57.275527 \nL 115.914647 57.222084 \nL 116.127426 57.130044 \nL 116.419708 57.02019 \nL 116.598113 56.945964 \nL 116.983183 56.836109 \nL 117.102752 56.797512 \nL 117.412748 56.687657 \nL 117.534848 56.640153 \nL 117.865299 56.533267 \nL 118.008698 56.479825 \nL 118.312578 56.36997 \nL 118.439318 56.328404 \nL 118.706504 56.218549 \nL 118.848849 56.147292 \nL 119.206925 56.037438 \nL 119.335985 56.004778 \nL 119.634803 55.894924 \nL 119.782842 55.859295 \nL 120.149564 55.749441 \nL 120.305827 55.695998 \nL 120.66538 55.586144 \nL 120.815949 55.556453 \nL 121.097687 55.449568 \nL 121.224637 55.408001 \nL 121.569217 55.298147 \nL 121.71831 55.244704 \nL 122.032101 55.13485 \nL 122.159052 55.093283 \nL 122.48887 54.983429 \nL 122.6445 54.932955 \nL 123.071113 54.826069 \nL 123.206288 54.775596 \nL 123.552133 54.665741 \nL 123.673601 54.627144 \nL 123.950277 54.517289 \nL 124.083765 54.48463 \nL 124.44142 54.374775 \nL 124.597261 54.324302 \nL 124.919487 54.214447 \nL 125.115185 54.155066 \nL 125.542852 54.045212 \nL 125.684354 54.009584 \nL 126.182033 53.899729 \nL 126.307086 53.861132 \nL 126.697427 53.751277 \nL 126.900928 53.671113 \nL 127.376254 53.561259 \nL 127.494136 53.519692 \nL 127.795064 53.409837 \nL 127.935089 53.362333 \nL 128.338505 53.252478 \nL 128.472415 53.204974 \nL 128.824797 53.095119 \nL 128.95955 53.041677 \nL 129.358538 52.931822 \nL 129.488651 52.90807 \nL 129.931713 52.798215 \nL 130.066466 52.750711 \nL 130.466297 52.640856 \nL 130.601472 52.590383 \nL 130.997085 52.480528 \nL 131.110117 52.4449 \nL 131.485908 52.335045 \nL 131.716401 52.269726 \nL 132.199951 52.159872 \nL 132.342507 52.13315 \nL 132.754147 52.023296 \nL 132.903662 51.984698 \nL 133.244025 51.874844 \nL 133.422219 51.815463 \nL 133.818043 51.705609 \nL 133.950688 51.664042 \nL 134.407456 51.554188 \nL 134.554441 51.506683 \nL 135.028502 51.396829 \nL 135.172323 51.355262 \nL 135.517957 51.245408 \nL 135.665574 51.209779 \nL 136.09071 51.099925 \nL 136.214076 51.061327 \nL 136.71281 50.951473 \nL 136.852203 50.915844 \nL 137.292734 50.808959 \nL 137.419051 50.77333 \nL 137.988642 50.663476 \nL 138.134782 50.61894 \nL 138.628244 50.509086 \nL 138.794419 50.437829 \nL 139.284085 50.330943 \nL 139.411879 50.295315 \nL 139.816139 50.18546 \nL 139.934654 50.137956 \nL 140.338702 50.028101 \nL 140.498972 49.965751 \nL 140.897538 49.855897 \nL 141.041148 49.826207 \nL 141.521957 49.716352 \nL 141.674213 49.671816 \nL 142.112424 49.561962 \nL 142.232205 49.517426 \nL 142.70964 49.407572 \nL 142.8581 49.368974 \nL 143.232204 49.25912 \nL 143.400909 49.211615 \nL 143.927479 49.101761 \nL 144.06645 49.080978 \nL 144.456369 48.971123 \nL 144.589646 48.923618 \nL 145.046415 48.813764 \nL 145.176951 48.778136 \nL 145.578047 48.668281 \nL 145.695508 48.629684 \nL 146.146794 48.519829 \nL 146.273111 48.493108 \nL 146.776485 48.383253 \nL 146.979353 48.326841 \nL 147.272899 48.216987 \nL 147.39268 48.196204 \nL 147.749702 48.086349 \nL 147.895632 48.062597 \nL 148.333843 47.952742 \nL 148.459528 47.896331 \nL 148.877706 47.786476 \nL 149.020683 47.756786 \nL 149.357671 47.646931 \nL 149.488207 47.638024 \nL 149.97724 47.52817 \nL 150.138565 47.498479 \nL 150.632659 47.388625 \nL 150.804738 47.338151 \nL 151.315915 47.228297 \nL 151.455307 47.195637 \nL 152.017306 47.085783 \nL 152.181582 47.03234 \nL 152.586896 46.922486 \nL 152.751594 46.889826 \nL 153.151214 46.779972 \nL 153.344381 46.72356 \nL 153.759185 46.613706 \nL 153.902162 46.584015 \nL 154.513507 46.474161 \nL 154.694443 46.432594 \nL 155.35661 46.32274 \nL 155.511397 46.275235 \nL 156.159013 46.165381 \nL 156.331514 46.132721 \nL 156.690434 46.022867 \nL 156.87854 45.972393 \nL 157.379805 45.862538 \nL 157.540075 45.818003 \nL 157.919239 45.708148 \nL 158.051251 45.681427 \nL 158.539441 45.571573 \nL 158.690643 45.530006 \nL 159.162173 45.420152 \nL 159.310001 45.378585 \nL 159.861877 45.268731 \nL 159.99895 45.230133 \nL 160.359768 45.120279 \nL 160.486507 45.102464 \nL 160.913542 44.99261 \nL 161.04956 44.954012 \nL 161.766767 44.844158 \nL 161.95171 44.796653 \nL 162.377479 44.686799 \nL 162.54745 44.639294 \nL 163.108605 44.52944 \nL 163.263181 44.508656 \nL 163.819064 44.398802 \nL 163.994517 44.351297 \nL 164.637283 44.241443 \nL 164.779417 44.214721 \nL 165.39266 44.104867 \nL 165.523195 44.078146 \nL 166.020242 43.968291 \nL 166.137281 43.944539 \nL 166.579288 43.834684 \nL 166.710878 43.807963 \nL 167.241666 43.698109 \nL 167.358705 43.677325 \nL 167.782366 43.567471 \nL 167.972581 43.514028 \nL 168.502314 43.404174 \nL 168.625469 43.374483 \nL 169.242929 43.264629 \nL 169.374941 43.220093 \nL 170.061781 43.110239 \nL 170.206024 43.080548 \nL 170.603113 42.970694 \nL 170.753893 42.949911 \nL 171.297124 42.840056 \nL 171.49493 42.798489 \nL 172.06916 42.688635 \nL 172.217831 42.670821 \nL 172.824115 42.560966 \nL 172.948745 42.54909 \nL 173.652245 42.439236 \nL 173.841195 42.388762 \nL 174.39518 42.278908 \nL 174.644442 42.237341 \nL 175.227739 42.127487 \nL 175.42175 42.079982 \nL 175.948742 41.970127 \nL 176.145916 41.919654 \nL 176.693364 41.809799 \nL 176.838872 41.774171 \nL 177.363755 41.664316 \nL 177.520862 41.62275 \nL 177.959284 41.512895 \nL 178.0972 41.483205 \nL 178.643593 41.37335 \nL 178.761687 41.352567 \nL 179.314618 41.242713 \nL 179.44452 41.227867 \nL 180.010315 41.118013 \nL 180.187666 41.088323 \nL 180.799222 40.978468 \nL 180.927016 40.948778 \nL 181.509891 40.838923 \nL 181.710229 40.794388 \nL 182.217187 40.684533 \nL 182.355947 40.66375 \nL 182.781294 40.553895 \nL 182.942619 40.518267 \nL 183.551011 40.411382 \nL 183.695465 40.366846 \nL 184.52465 40.256991 \nL 184.699681 40.221363 \nL 185.303434 40.111509 \nL 185.468554 40.066973 \nL 185.96286 39.957118 \nL 186.144428 39.912583 \nL 186.892002 39.802728 \nL 187.076102 39.7671 \nL 187.645903 39.657245 \nL 187.865641 39.618648 \nL 188.44936 39.508793 \nL 188.600351 39.48801 \nL 189.368592 39.378156 \nL 189.529705 39.342527 \nL 190.156444 39.232673 \nL 190.349822 39.194075 \nL 191.098872 39.084221 \nL 191.226877 39.051561 \nL 191.883562 38.941707 \nL 192.026117 38.914986 \nL 192.629027 38.805131 \nL 192.817344 38.763564 \nL 193.427634 38.65371 \nL 193.562387 38.629958 \nL 194.189337 38.520103 \nL 194.374913 38.481506 \nL 195.209791 38.371651 \nL 195.36985 38.34493 \nL 196.027378 38.235075 \nL 196.16656 38.214292 \nL 196.841591 38.104438 \nL 197.001017 38.071778 \nL 197.678367 37.964893 \nL 197.814807 37.923326 \nL 198.583891 37.813472 \nL 198.720964 37.774874 \nL 199.372798 37.66502 \nL 199.506075 37.641267 \nL 200.129018 37.534382 \nL 200.243738 37.51063 \nL 200.878068 37.400775 \nL 201.032223 37.382961 \nL 201.611724 37.273107 \nL 201.728342 37.26123 \nL 202.269463 37.151376 \nL 202.414338 37.130593 \nL 202.892406 37.020738 \nL 203.095063 36.982141 \nL 203.625218 36.872286 \nL 203.769039 36.842596 \nL 204.461995 36.732741 \nL 204.646727 36.703051 \nL 205.187216 36.593196 \nL 205.333567 36.560537 \nL 206.058999 36.450683 \nL 206.23635 36.420992 \nL 206.800036 36.311138 \nL 206.934367 36.278478 \nL 207.095058 36.239881 \nL 207.852122 36.130026 \nL 207.99995 36.097367 \nL 208.594002 35.987512 \nL 208.733606 35.96376 \nL 209.499316 35.856875 \nL 209.63913 35.821246 \nL 210.355915 35.711392 \nL 210.540014 35.675763 \nL 211.166754 35.565909 \nL 211.290119 35.548094 \nL 211.768819 35.43824 \nL 211.944273 35.402612 \nL 212.569746 35.292757 \nL 212.763335 35.245252 \nL 213.219472 35.135398 \nL 213.387755 35.099769 \nL 213.897455 34.989915 \nL 214.073962 34.960225 \nL 214.765653 34.85037 \nL 214.925923 34.823649 \nL 215.641021 34.713794 \nL 215.783577 34.69598 \nL 216.421492 34.586126 \nL 216.57417 34.562373 \nL 217.13891 34.455488 \nL 217.271766 34.425797 \nL 217.412845 34.407983 \nL 218.234438 34.298129 \nL 218.420436 34.259531 \nL 219.07944 34.149677 \nL 219.238655 34.117017 \nL 220.186355 34.007163 \nL 220.406726 33.959658 \nL 220.930344 33.849804 \nL 221.068261 33.82902 \nL 221.77872 33.719166 \nL 221.897024 33.70729 \nL 222.059824 33.677599 \nL 222.820473 33.567745 \nL 222.983906 33.546962 \nL 223.816465 33.437107 \nL 223.999932 33.392572 \nL 224.703432 33.282717 \nL 224.90651 33.24412 \nL 225.563616 33.134265 \nL 225.728525 33.110513 \nL 226.598832 33.000658 \nL 226.734218 32.976906 \nL 227.273441 32.867052 \nL 227.406718 32.837361 \nL 228.129197 32.727507 \nL 228.255726 32.709692 \nL 229.115911 32.599838 \nL 229.270487 32.587962 \nL 230.025231 32.478107 \nL 230.149229 32.460293 \nL 230.942986 32.350439 \nL 231.07563 32.329655 \nL 231.950787 32.219801 \nL 232.074364 32.207925 \nL 232.718817 32.09807 \nL 232.911562 32.06838 \nL 233.838385 31.958525 \nL 233.986002 31.931804 \nL 234.899118 31.82195 \nL 235.070143 31.783352 \nL 235.717337 31.673498 \nL 235.888995 31.655683 \nL 236.732941 31.545829 \nL 236.853987 31.507231 \nL 237.542936 31.397377 \nL 237.713961 31.358779 \nL 238.472501 31.251894 \nL 238.593757 31.228142 \nL 239.232095 31.118287 \nL 239.418725 31.07969 \nL 239.962588 30.969835 \nL 240.094388 30.946083 \nL 240.750862 30.836228 \nL 240.915982 30.803569 \nL 241.633189 30.693714 \nL 241.754235 30.684807 \nL 242.615263 30.574953 \nL 242.733567 30.551201 \nL 243.591643 30.441346 \nL 243.733988 30.423532 \nL 244.3544 30.313677 \nL 244.496113 30.30477 \nL 245.259503 30.194916 \nL 245.461316 30.156318 \nL 246.446553 30.046464 \nL 246.590163 30.034588 \nL 247.495477 29.924733 \nL 247.643515 29.906919 \nL 248.352287 29.800034 \nL 248.484931 29.767374 \nL 249.363041 29.65752 \nL 249.490413 29.639705 \nL 250.101758 29.529851 \nL 250.251062 29.509068 \nL 251.160171 29.399213 \nL 251.304625 29.37843 \nL 251.998424 29.268575 \nL 252.120102 29.25373 \nL 252.920186 29.143876 \nL 253.085095 29.120123 \nL 253.947177 29.010269 \nL 254.066747 29.001362 \nL 255.135071 28.891507 \nL 255.255906 28.879631 \nL 256.100064 28.769777 \nL 256.258436 28.746024 \nL 257.069063 28.63617 \nL 257.204027 28.621325 \nL 258.016553 28.51147 \nL 258.194747 28.48178 \nL 258.897193 28.371925 \nL 259.014865 28.35708 \nL 259.972055 28.247226 \nL 260.121148 28.217535 \nL 261.072011 28.107681 \nL 261.209295 28.095805 \nL 261.97859 27.98595 \nL 262.120302 27.947353 \nL 263.162688 27.837498 \nL 263.303978 27.813746 \nL 264.163952 27.703891 \nL 264.299549 27.689046 \nL 265.162264 27.579192 \nL 265.325697 27.549501 \nL 266.522448 27.439647 \nL 266.680609 27.424802 \nL 267.635268 27.314947 \nL 267.754627 27.294164 \nL 268.502201 27.18431 \nL 268.618607 27.172433 \nL 269.531934 27.062579 \nL 269.675333 27.032889 \nL 270.650237 26.923034 \nL 270.797854 26.896313 \nL 271.939144 26.786458 \nL 272.060822 26.768644 \nL 273.331803 26.658789 \nL 273.459176 26.640975 \nL 274.390005 26.531121 \nL 274.539309 26.510338 \nL 275.442303 26.400483 \nL 275.569042 26.382669 \nL 276.459594 26.272814 \nL 276.609952 26.249062 \nL 277.692827 26.139208 \nL 277.842131 26.118424 \nL 278.704003 26.00857 \nL 278.839389 25.972941 \nL 279.821252 25.863087 \nL 279.95959 25.833396 \nL 280.81155 25.723542 \nL 280.977725 25.690883 \nL 281.757142 25.581028 \nL 281.909187 25.548369 \nL 282.983416 25.438514 \nL 283.122598 25.423669 \nL 283.955157 25.313815 \nL 284.100665 25.298969 \nL 284.918462 25.189115 \nL 285.050896 25.171301 \nL 286.016099 25.061446 \nL 286.185226 25.031756 \nL 287.428371 24.921901 \nL 287.561226 24.904087 \nL 288.400955 24.794233 \nL 288.526008 24.791264 \nL 288.712005 24.761573 \nL 289.621114 24.654688 \nL 289.743425 24.636873 \nL 290.657174 24.527019 \nL 290.78075 24.509205 \nL 292.017358 24.39935 \nL 292.14705 24.393412 \nL 293.05405 24.283558 \nL 293.170246 24.262774 \nL 294.075137 24.15292 \nL 294.191965 24.141044 \nL 295.489939 24.031189 \nL 295.621107 24.016344 \nL 296.41381 23.90649 \nL 296.582937 23.885706 \nL 297.456618 23.775852 \nL 297.574922 23.763976 \nL 298.275891 23.654121 \nL 298.392509 23.645214 \nL 299.635443 23.53536 \nL 299.746366 23.523484 \nL 300.800983 23.413629 \nL 300.91507 23.395815 \nL 302.127216 23.28596 \nL 302.246996 23.277053 \nL 303.295076 23.167199 \nL 303.4157 23.146415 \nL 304.356863 23.036561 \nL 304.47348 23.021716 \nL 304.606546 23.00984 \nL 305.641341 22.899985 \nL 305.756904 22.894047 \nL 306.765759 22.784193 \nL 306.884486 22.778255 \nL 307.6968 22.671369 \nL 307.809832 22.656524 \nL 309.095786 22.546669 \nL 309.218308 22.540731 \nL 310.081234 22.430877 \nL 310.228008 22.407125 \nL 311.390596 22.29727 \nL 311.507002 22.282425 \nL 312.654618 22.17257 \nL 312.771657 22.148818 \nL 313.852635 22.038964 \nL 313.965456 22.01818 \nL 315.228213 21.908326 \nL 315.346728 21.89645 \nL 316.515221 21.786595 \nL 316.628675 21.77175 \nL 317.800964 21.661896 \nL 317.921377 21.644081 \nL 318.851153 21.534227 \nL 318.965872 21.516413 \nL 319.081224 21.504537 \nL 320.342083 21.394682 \nL 320.454905 21.373899 \nL 321.514794 21.264044 \nL 321.6312 21.24623 \nL 322.498555 21.136376 \nL 322.61939 21.124499 \nL 323.631198 21.014645 \nL 323.753087 21.002769 \nL 324.86654 20.892914 \nL 324.981049 20.8751 \nL 326.11791 20.765246 \nL 326.249499 20.726648 \nL 327.313606 20.616794 \nL 327.427693 20.598979 \nL 328.646165 20.489125 \nL 328.764047 20.465373 \nL 329.502132 20.355518 \nL 329.61411 20.343642 \nL 330.647639 20.233788 \nL 330.762147 20.210035 \nL 331.622754 20.100181 \nL 331.736419 20.088305 \nL 332.67948 19.97845 \nL 332.792723 19.966574 \nL 333.471339 19.856719 \nL 333.526168 19.847812 \nL 333.582262 19.847812 \nL 334.65375 19.737958 \nL 334.773109 19.720144 \nL 335.745904 19.610289 \nL 335.858303 19.595444 \nL 336.710475 19.48559 \nL 336.807058 19.464806 \nL 336.821187 19.464806 \nL 337.715956 19.354952 \nL 337.823084 19.340107 \nL 337.82688 19.340107 \nL 338.784913 19.230252 \nL 338.898789 19.218376 \nL 339.63603 19.108521 \nL 339.749906 19.075862 \nL 340.355346 18.966008 \nL 340.450664 18.933348 \nL 340.466059 18.933348 \nL 341.063063 18.823494 \nL 341.156695 18.799741 \nL 341.171456 18.799741 \nL 341.641722 18.692856 \nL 341.641722 18.689887 \nL 341.755176 18.657227 \nL 342.224808 18.547373 \nL 342.327507 18.508775 \nL 342.335521 18.508775 \nL 342.663863 18.398921 \nL 342.771834 18.354385 \nL 342.774154 18.354385 \nL 343.197393 18.244531 \nL 343.309792 18.197026 \nL 343.64425 18.087172 \nL 343.700344 18.051543 \nL 343.75433 18.051543 \nL 343.986721 17.941689 \nL 344.085624 17.914967 \nL 344.096801 17.914967 \nL 344.465843 17.805113 \nL 344.576345 17.763546 \nL 344.899415 17.653692 \nL 345.006543 17.62994 \nL 345.010339 17.62994 \nL 345.4437 17.520085 \nL 345.550195 17.47555 \nL 346.192117 17.365695 \nL 346.265715 17.353819 \nL 346.298823 17.353819 \nL 347.210884 17.243965 \nL 347.309366 17.22615 \nL 347.320543 17.22615 \nL 349.503374 17.116296 \nL 349.59553 17.107389 \nL 349.614087 17.107389 \nL 349.684943 17.083636 \nL 349.684943 17.083636 \n\" style=\"fill:none;stroke:#1f77b4;stroke-linecap:square;stroke-width:1.5;\"/>\n   </g>\n   <g id=\"line2d_14\">\n    <path clip-path=\"url(#p7961aa552d)\" d=\"M 45.321307 214.756364 \nL 349.684943 17.083636 \n\" style=\"fill:none;stroke:#000000;stroke-dasharray:5.55,2.4;stroke-dashoffset:0;stroke-width:1.5;\"/>\n   </g>\n   <g id=\"patch_3\">\n    <path d=\"M 30.103125 224.64 \nL 30.103125 7.2 \n\" style=\"fill:none;stroke:#000000;stroke-linecap:square;stroke-linejoin:miter;stroke-width:0.8;\"/>\n   </g>\n   <g id=\"patch_4\">\n    <path d=\"M 364.903125 224.64 \nL 364.903125 7.2 \n\" style=\"fill:none;stroke:#000000;stroke-linecap:square;stroke-linejoin:miter;stroke-width:0.8;\"/>\n   </g>\n   <g id=\"patch_5\">\n    <path d=\"M 30.103125 224.64 \nL 364.903125 224.64 \n\" style=\"fill:none;stroke:#000000;stroke-linecap:square;stroke-linejoin:miter;stroke-width:0.8;\"/>\n   </g>\n   <g id=\"patch_6\">\n    <path d=\"M 30.103125 7.2 \nL 364.903125 7.2 \n\" style=\"fill:none;stroke:#000000;stroke-linecap:square;stroke-linejoin:miter;stroke-width:0.8;\"/>\n   </g>\n  </g>\n </g>\n <defs>\n  <clipPath id=\"p7961aa552d\">\n   <rect height=\"217.44\" width=\"334.8\" x=\"30.103125\" y=\"7.2\"/>\n  </clipPath>\n </defs>\n</svg>\n",
      "image/png": "[encoded data removed]"
     },
     "metadata": {
      "needs_background": "light"
     }
    }
   ],
   "source": [
    "from sklearn.metrics import roc_curve\n",
    "import matplotlib.pyplot as plt\n",
    "\n",
    "# fpr = False positive rate\n",
    "# tpr = True positive rate\n",
    "fpr, tpr, thr = roc_curve(Label , predictions)#, sample_weight=test_data[\"Weights\"])\n",
    "plt.plot(fpr, tpr, label='ROC')\n",
    "plt.plot([0,1],[0,1], 'k--')\n",
    "plt.show()"
   ]
  },
  {
   "cell_type": "code",
   "execution_count": null,
   "metadata": {},
   "outputs": [],
   "source": []
  }
 ]
}